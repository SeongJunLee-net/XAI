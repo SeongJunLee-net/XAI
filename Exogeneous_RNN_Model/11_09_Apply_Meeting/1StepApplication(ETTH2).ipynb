{
 "cells": [
  {
   "cell_type": "code",
   "execution_count": 1,
   "id": "49e7e228",
   "metadata": {},
   "outputs": [],
   "source": [
    "import pandas as pd\n",
    "import numpy as np\n",
    "import random\n",
    "import copy"
   ]
  },
  {
   "cell_type": "code",
   "execution_count": 2,
   "id": "96fd2e41",
   "metadata": {},
   "outputs": [],
   "source": [
    "seed = 42"
   ]
  },
  {
   "cell_type": "code",
   "execution_count": 3,
   "id": "16a31083",
   "metadata": {
    "scrolled": true
   },
   "outputs": [
    {
     "data": {
      "text/html": [
       "<div>\n",
       "<style scoped>\n",
       "    .dataframe tbody tr th:only-of-type {\n",
       "        vertical-align: middle;\n",
       "    }\n",
       "\n",
       "    .dataframe tbody tr th {\n",
       "        vertical-align: top;\n",
       "    }\n",
       "\n",
       "    .dataframe thead th {\n",
       "        text-align: right;\n",
       "    }\n",
       "</style>\n",
       "<table border=\"1\" class=\"dataframe\">\n",
       "  <thead>\n",
       "    <tr style=\"text-align: right;\">\n",
       "      <th></th>\n",
       "      <th>date</th>\n",
       "      <th>HUFL</th>\n",
       "      <th>HULL</th>\n",
       "      <th>MUFL</th>\n",
       "      <th>MULL</th>\n",
       "      <th>LUFL</th>\n",
       "      <th>LULL</th>\n",
       "      <th>OT</th>\n",
       "    </tr>\n",
       "  </thead>\n",
       "  <tbody>\n",
       "    <tr>\n",
       "      <th>0</th>\n",
       "      <td>2016-07-01 00:00:00</td>\n",
       "      <td>41.130001</td>\n",
       "      <td>12.481</td>\n",
       "      <td>36.535999</td>\n",
       "      <td>9.355</td>\n",
       "      <td>4.424</td>\n",
       "      <td>1.311</td>\n",
       "      <td>38.661999</td>\n",
       "    </tr>\n",
       "    <tr>\n",
       "      <th>1</th>\n",
       "      <td>2016-07-01 01:00:00</td>\n",
       "      <td>37.528000</td>\n",
       "      <td>10.136</td>\n",
       "      <td>33.936001</td>\n",
       "      <td>7.532</td>\n",
       "      <td>4.435</td>\n",
       "      <td>1.215</td>\n",
       "      <td>37.124001</td>\n",
       "    </tr>\n",
       "    <tr>\n",
       "      <th>2</th>\n",
       "      <td>2016-07-01 02:00:00</td>\n",
       "      <td>37.946999</td>\n",
       "      <td>11.309</td>\n",
       "      <td>35.330002</td>\n",
       "      <td>9.007</td>\n",
       "      <td>2.100</td>\n",
       "      <td>0.000</td>\n",
       "      <td>36.465000</td>\n",
       "    </tr>\n",
       "    <tr>\n",
       "      <th>3</th>\n",
       "      <td>2016-07-01 03:00:00</td>\n",
       "      <td>38.952000</td>\n",
       "      <td>11.895</td>\n",
       "      <td>35.543999</td>\n",
       "      <td>9.436</td>\n",
       "      <td>3.380</td>\n",
       "      <td>1.215</td>\n",
       "      <td>33.608501</td>\n",
       "    </tr>\n",
       "    <tr>\n",
       "      <th>4</th>\n",
       "      <td>2016-07-01 04:00:00</td>\n",
       "      <td>38.113998</td>\n",
       "      <td>11.476</td>\n",
       "      <td>35.410000</td>\n",
       "      <td>9.623</td>\n",
       "      <td>2.036</td>\n",
       "      <td>0.000</td>\n",
       "      <td>31.850500</td>\n",
       "    </tr>\n",
       "    <tr>\n",
       "      <th>...</th>\n",
       "      <td>...</td>\n",
       "      <td>...</td>\n",
       "      <td>...</td>\n",
       "      <td>...</td>\n",
       "      <td>...</td>\n",
       "      <td>...</td>\n",
       "      <td>...</td>\n",
       "      <td>...</td>\n",
       "    </tr>\n",
       "    <tr>\n",
       "      <th>17415</th>\n",
       "      <td>2018-06-26 15:00:00</td>\n",
       "      <td>39.202999</td>\n",
       "      <td>11.392</td>\n",
       "      <td>49.644001</td>\n",
       "      <td>11.929</td>\n",
       "      <td>-10.331</td>\n",
       "      <td>-1.258</td>\n",
       "      <td>47.084999</td>\n",
       "    </tr>\n",
       "    <tr>\n",
       "      <th>17416</th>\n",
       "      <td>2018-06-26 16:00:00</td>\n",
       "      <td>38.113998</td>\n",
       "      <td>10.974</td>\n",
       "      <td>48.759998</td>\n",
       "      <td>11.366</td>\n",
       "      <td>-10.331</td>\n",
       "      <td>-1.290</td>\n",
       "      <td>48.183498</td>\n",
       "    </tr>\n",
       "    <tr>\n",
       "      <th>17417</th>\n",
       "      <td>2018-06-26 17:00:00</td>\n",
       "      <td>39.622002</td>\n",
       "      <td>10.974</td>\n",
       "      <td>50.609001</td>\n",
       "      <td>11.661</td>\n",
       "      <td>-11.557</td>\n",
       "      <td>-1.418</td>\n",
       "      <td>48.183498</td>\n",
       "    </tr>\n",
       "    <tr>\n",
       "      <th>17418</th>\n",
       "      <td>2018-06-26 18:00:00</td>\n",
       "      <td>43.643002</td>\n",
       "      <td>13.403</td>\n",
       "      <td>54.737000</td>\n",
       "      <td>13.778</td>\n",
       "      <td>-10.299</td>\n",
       "      <td>-1.418</td>\n",
       "      <td>46.865501</td>\n",
       "    </tr>\n",
       "    <tr>\n",
       "      <th>17419</th>\n",
       "      <td>2018-06-26 19:00:00</td>\n",
       "      <td>38.868000</td>\n",
       "      <td>10.052</td>\n",
       "      <td>49.859001</td>\n",
       "      <td>10.669</td>\n",
       "      <td>-11.525</td>\n",
       "      <td>-1.418</td>\n",
       "      <td>45.986500</td>\n",
       "    </tr>\n",
       "  </tbody>\n",
       "</table>\n",
       "<p>17420 rows × 8 columns</p>\n",
       "</div>"
      ],
      "text/plain": [
       "                      date       HUFL    HULL       MUFL    MULL    LUFL  \\\n",
       "0      2016-07-01 00:00:00  41.130001  12.481  36.535999   9.355   4.424   \n",
       "1      2016-07-01 01:00:00  37.528000  10.136  33.936001   7.532   4.435   \n",
       "2      2016-07-01 02:00:00  37.946999  11.309  35.330002   9.007   2.100   \n",
       "3      2016-07-01 03:00:00  38.952000  11.895  35.543999   9.436   3.380   \n",
       "4      2016-07-01 04:00:00  38.113998  11.476  35.410000   9.623   2.036   \n",
       "...                    ...        ...     ...        ...     ...     ...   \n",
       "17415  2018-06-26 15:00:00  39.202999  11.392  49.644001  11.929 -10.331   \n",
       "17416  2018-06-26 16:00:00  38.113998  10.974  48.759998  11.366 -10.331   \n",
       "17417  2018-06-26 17:00:00  39.622002  10.974  50.609001  11.661 -11.557   \n",
       "17418  2018-06-26 18:00:00  43.643002  13.403  54.737000  13.778 -10.299   \n",
       "17419  2018-06-26 19:00:00  38.868000  10.052  49.859001  10.669 -11.525   \n",
       "\n",
       "        LULL         OT  \n",
       "0      1.311  38.661999  \n",
       "1      1.215  37.124001  \n",
       "2      0.000  36.465000  \n",
       "3      1.215  33.608501  \n",
       "4      0.000  31.850500  \n",
       "...      ...        ...  \n",
       "17415 -1.258  47.084999  \n",
       "17416 -1.290  48.183498  \n",
       "17417 -1.418  48.183498  \n",
       "17418 -1.418  46.865501  \n",
       "17419 -1.418  45.986500  \n",
       "\n",
       "[17420 rows x 8 columns]"
      ]
     },
     "execution_count": 3,
     "metadata": {},
     "output_type": "execute_result"
    }
   ],
   "source": [
    "data = pd.read_csv('../GeneralData/ETTh2.csv')\n",
    "data"
   ]
  },
  {
   "cell_type": "code",
   "execution_count": 4,
   "id": "94c0a6f4",
   "metadata": {},
   "outputs": [
    {
     "name": "stderr",
     "output_type": "stream",
     "text": [
      "/home/sjlee/sj_virtual/lib/python3.8/site-packages/tqdm/auto.py:22: TqdmWarning: IProgress not found. Please update jupyter and ipywidgets. See https://ipywidgets.readthedocs.io/en/stable/user_install.html\n",
      "  from .autonotebook import tqdm as notebook_tqdm\n"
     ]
    }
   ],
   "source": [
    "import torch.nn as nn"
   ]
  },
  {
   "cell_type": "code",
   "execution_count": 5,
   "id": "c697a81d",
   "metadata": {},
   "outputs": [],
   "source": [
    "feature_size = 7"
   ]
  },
  {
   "cell_type": "code",
   "execution_count": 6,
   "id": "09ac4e1e",
   "metadata": {},
   "outputs": [],
   "source": [
    "# LSTM은 Encoder와 Decoder를 각각 구현해야 한다.\n",
    "class LSTM(nn.Module):\n",
    "    def __init__(self):\n",
    "        super().__init__()\n",
    "        self.hidden_size = 14\n",
    "        self.input_size = feature_size\n",
    "        self.encoder = nn.LSTM(input_size = self.input_size,\n",
    "                       hidden_size = self.hidden_size,\n",
    "                       num_layers = 1,\n",
    "                       batch_first = True).to(device)\n",
    "        # batch_first = True로 인해서 (batch,seq,feature)순으로 입력 받는다.\n",
    "        # 그 당시에 알고 있는 정보가 없으므로 input_size = 0\n",
    "        self.decoder = nn.LSTM(input_size = self.input_size,\n",
    "                       hidden_size = self.hidden_size,\n",
    "                       num_layers = 1,\n",
    "                       batch_first = True).to(device)\n",
    "        \n",
    "        \n",
    "        self.output_layer = nn.Linear(self.hidden_size, 1).to(device)\n",
    "    def forward(self,x):\n",
    "        x = x.to(device)\n",
    "        self.encoder.flatten_parameters()\n",
    "        self.decoder.flatten_parameters()\n",
    "        outputs,(hidden,cell) = self.encoder(x)\n",
    "        \n",
    "        # 현재 prediction_length = 1이기 때문에, 반복문을 돌리지 않아도 됨\n",
    "        # but 길어진다면 반복문을 돌려서 output값을 얻어야 한다.\n",
    "        # 기본적으로 output = hidden state이기에 output을 생성할\n",
    "        # Fully Connected Layer가 필요하게 된다.\n",
    "        # 이때 decoder_output의 사이즈는 (batch,seq,hidden) 이다\n",
    "        # 중간에 seq가 들어오게 되는 이유는 입력 크기 만큼 lstm이 반복되기 때문에\n",
    "        # seq=1 이기 때문에 squeeze를 수행\n",
    "        \n",
    "        hidden = hidden.to(device)\n",
    "        cell = cell.to(device)\n",
    "        decoder_input = torch.zeros([x.size(0),1,x.size(2)]).to(device)\n",
    "        decoder_out,(hidden,cell) = self.decoder(decoder_input,(hidden,cell))\n",
    "        decoder_out = decoder_out.squeeze(1)\n",
    "        \n",
    "        out = self.output_layer(decoder_out)\n",
    "        \n",
    "        return out"
   ]
  },
  {
   "cell_type": "code",
   "execution_count": 7,
   "id": "40cabdd4",
   "metadata": {},
   "outputs": [],
   "source": [
    "from torch.utils.data import TensorDataset\n",
    "from torch.utils.data import DataLoader\n",
    "import torch"
   ]
  },
  {
   "cell_type": "code",
   "execution_count": 8,
   "id": "d7ca231d",
   "metadata": {},
   "outputs": [],
   "source": [
    "device = torch.device(\"cuda:0\")"
   ]
  },
  {
   "cell_type": "code",
   "execution_count": 9,
   "id": "2c99b1b4",
   "metadata": {},
   "outputs": [],
   "source": [
    "sequence_length = 168 # 24*7 1주일\n",
    "pred_length = 1 # 1시간\n",
    "split = int(len(data)*0.8)"
   ]
  },
  {
   "cell_type": "code",
   "execution_count": 10,
   "id": "2cdf5edd",
   "metadata": {},
   "outputs": [],
   "source": [
    "def seq_data(x,sequence_length,pred_len):\n",
    "    seq_list = []\n",
    "    target_list = []\n",
    "    device = torch.device(\"cuda:0\")\n",
    "    for i in range(0,len(x)-sequence_length):\n",
    "        # 시간데이터를 제외하고 추출\n",
    "        seq_list.append(x.iloc[i:i+sequence_length,1:].values)\n",
    "        # OT만 추출\n",
    "        target_list.append(x.iloc[i+sequence_length,-1])\n",
    "        \n",
    "    return torch.FloatTensor(seq_list).view(-1,sequence_length,7).to(device), torch.FloatTensor(target_list).view(-1,pred_len,1).to(device)"
   ]
  },
  {
   "cell_type": "code",
   "execution_count": 11,
   "id": "efa8f205",
   "metadata": {
    "scrolled": false
   },
   "outputs": [
    {
     "name": "stderr",
     "output_type": "stream",
     "text": [
      "/tmp/ipykernel_1130934/2507691695.py:11: UserWarning: Creating a tensor from a list of numpy.ndarrays is extremely slow. Please consider converting the list to a single numpy.ndarray with numpy.array() before converting to a tensor. (Triggered internally at ../torch/csrc/utils/tensor_new.cpp:230.)\n",
      "  return torch.FloatTensor(seq_list).view(-1,sequence_length,7).to(device), torch.FloatTensor(target_list).view(-1,pred_len,1).to(device)\n"
     ]
    }
   ],
   "source": [
    "train = data.iloc[:split]\n",
    "val = data.iloc[split:]\n",
    "\n",
    "X_train, y_train = seq_data(train,sequence_length,pred_length)\n",
    "X_val, y_val = seq_data(val,sequence_length,pred_length)\n",
    "\n",
    "tr_dataset = TensorDataset(X_train, y_train)\n",
    "val_dataset = TensorDataset(X_val,y_val)\n",
    "\n",
    "training =  DataLoader(tr_dataset,batch_size = 64)\n",
    "validation = DataLoader(val_dataset,batch_size = 64)"
   ]
  },
  {
   "cell_type": "code",
   "execution_count": 12,
   "id": "72d7da90",
   "metadata": {},
   "outputs": [
    {
     "data": {
      "text/plain": [
       "True"
      ]
     },
     "execution_count": 12,
     "metadata": {},
     "output_type": "execute_result"
    }
   ],
   "source": [
    "torch.cuda.is_available()"
   ]
  },
  {
   "cell_type": "code",
   "execution_count": 13,
   "id": "65b333ef",
   "metadata": {},
   "outputs": [
    {
     "data": {
      "text/plain": [
       "torch.Size([13768, 168, 7])"
      ]
     },
     "execution_count": 13,
     "metadata": {},
     "output_type": "execute_result"
    }
   ],
   "source": [
    "X_train.size() # 168개의 sequence_length 7개의 Feature"
   ]
  },
  {
   "cell_type": "markdown",
   "id": "33adcbfd",
   "metadata": {},
   "source": [
    "* 잘 데이터가 구성된 걸 확인 가능"
   ]
  },
  {
   "cell_type": "code",
   "execution_count": 14,
   "id": "e85b07c9",
   "metadata": {},
   "outputs": [
    {
     "data": {
      "text/html": [
       "<div>\n",
       "<style scoped>\n",
       "    .dataframe tbody tr th:only-of-type {\n",
       "        vertical-align: middle;\n",
       "    }\n",
       "\n",
       "    .dataframe tbody tr th {\n",
       "        vertical-align: top;\n",
       "    }\n",
       "\n",
       "    .dataframe thead th {\n",
       "        text-align: right;\n",
       "    }\n",
       "</style>\n",
       "<table border=\"1\" class=\"dataframe\">\n",
       "  <thead>\n",
       "    <tr style=\"text-align: right;\">\n",
       "      <th></th>\n",
       "      <th>date</th>\n",
       "      <th>HUFL</th>\n",
       "      <th>HULL</th>\n",
       "      <th>MUFL</th>\n",
       "      <th>MULL</th>\n",
       "      <th>LUFL</th>\n",
       "      <th>LULL</th>\n",
       "      <th>OT</th>\n",
       "    </tr>\n",
       "  </thead>\n",
       "  <tbody>\n",
       "    <tr>\n",
       "      <th>0</th>\n",
       "      <td>2016-07-01 00:00:00</td>\n",
       "      <td>41.130001</td>\n",
       "      <td>12.481</td>\n",
       "      <td>36.535999</td>\n",
       "      <td>9.355</td>\n",
       "      <td>4.424</td>\n",
       "      <td>1.311</td>\n",
       "      <td>38.661999</td>\n",
       "    </tr>\n",
       "    <tr>\n",
       "      <th>1</th>\n",
       "      <td>2016-07-01 01:00:00</td>\n",
       "      <td>37.528000</td>\n",
       "      <td>10.136</td>\n",
       "      <td>33.936001</td>\n",
       "      <td>7.532</td>\n",
       "      <td>4.435</td>\n",
       "      <td>1.215</td>\n",
       "      <td>37.124001</td>\n",
       "    </tr>\n",
       "    <tr>\n",
       "      <th>2</th>\n",
       "      <td>2016-07-01 02:00:00</td>\n",
       "      <td>37.946999</td>\n",
       "      <td>11.309</td>\n",
       "      <td>35.330002</td>\n",
       "      <td>9.007</td>\n",
       "      <td>2.100</td>\n",
       "      <td>0.000</td>\n",
       "      <td>36.465000</td>\n",
       "    </tr>\n",
       "    <tr>\n",
       "      <th>3</th>\n",
       "      <td>2016-07-01 03:00:00</td>\n",
       "      <td>38.952000</td>\n",
       "      <td>11.895</td>\n",
       "      <td>35.543999</td>\n",
       "      <td>9.436</td>\n",
       "      <td>3.380</td>\n",
       "      <td>1.215</td>\n",
       "      <td>33.608501</td>\n",
       "    </tr>\n",
       "    <tr>\n",
       "      <th>4</th>\n",
       "      <td>2016-07-01 04:00:00</td>\n",
       "      <td>38.113998</td>\n",
       "      <td>11.476</td>\n",
       "      <td>35.410000</td>\n",
       "      <td>9.623</td>\n",
       "      <td>2.036</td>\n",
       "      <td>0.000</td>\n",
       "      <td>31.850500</td>\n",
       "    </tr>\n",
       "    <tr>\n",
       "      <th>...</th>\n",
       "      <td>...</td>\n",
       "      <td>...</td>\n",
       "      <td>...</td>\n",
       "      <td>...</td>\n",
       "      <td>...</td>\n",
       "      <td>...</td>\n",
       "      <td>...</td>\n",
       "      <td>...</td>\n",
       "    </tr>\n",
       "    <tr>\n",
       "      <th>164</th>\n",
       "      <td>2016-07-07 20:00:00</td>\n",
       "      <td>46.155998</td>\n",
       "      <td>12.900</td>\n",
       "      <td>42.112000</td>\n",
       "      <td>10.079</td>\n",
       "      <td>3.497</td>\n",
       "      <td>0.000</td>\n",
       "      <td>41.299000</td>\n",
       "    </tr>\n",
       "    <tr>\n",
       "      <th>165</th>\n",
       "      <td>2016-07-07 21:00:00</td>\n",
       "      <td>50.008999</td>\n",
       "      <td>14.659</td>\n",
       "      <td>45.865002</td>\n",
       "      <td>11.205</td>\n",
       "      <td>3.753</td>\n",
       "      <td>1.237</td>\n",
       "      <td>40.200500</td>\n",
       "    </tr>\n",
       "    <tr>\n",
       "      <th>166</th>\n",
       "      <td>2016-07-07 22:00:00</td>\n",
       "      <td>46.826000</td>\n",
       "      <td>14.743</td>\n",
       "      <td>44.417000</td>\n",
       "      <td>12.223</td>\n",
       "      <td>2.580</td>\n",
       "      <td>0.000</td>\n",
       "      <td>39.321499</td>\n",
       "    </tr>\n",
       "    <tr>\n",
       "      <th>167</th>\n",
       "      <td>2016-07-07 23:00:00</td>\n",
       "      <td>45.235001</td>\n",
       "      <td>13.905</td>\n",
       "      <td>43.022999</td>\n",
       "      <td>11.714</td>\n",
       "      <td>2.665</td>\n",
       "      <td>0.000</td>\n",
       "      <td>38.881500</td>\n",
       "    </tr>\n",
       "    <tr>\n",
       "      <th>168</th>\n",
       "      <td>2016-07-08 00:00:00</td>\n",
       "      <td>44.731998</td>\n",
       "      <td>13.905</td>\n",
       "      <td>42.433998</td>\n",
       "      <td>11.741</td>\n",
       "      <td>1.311</td>\n",
       "      <td>0.000</td>\n",
       "      <td>38.223000</td>\n",
       "    </tr>\n",
       "  </tbody>\n",
       "</table>\n",
       "<p>169 rows × 8 columns</p>\n",
       "</div>"
      ],
      "text/plain": [
       "                    date       HUFL    HULL       MUFL    MULL   LUFL   LULL  \\\n",
       "0    2016-07-01 00:00:00  41.130001  12.481  36.535999   9.355  4.424  1.311   \n",
       "1    2016-07-01 01:00:00  37.528000  10.136  33.936001   7.532  4.435  1.215   \n",
       "2    2016-07-01 02:00:00  37.946999  11.309  35.330002   9.007  2.100  0.000   \n",
       "3    2016-07-01 03:00:00  38.952000  11.895  35.543999   9.436  3.380  1.215   \n",
       "4    2016-07-01 04:00:00  38.113998  11.476  35.410000   9.623  2.036  0.000   \n",
       "..                   ...        ...     ...        ...     ...    ...    ...   \n",
       "164  2016-07-07 20:00:00  46.155998  12.900  42.112000  10.079  3.497  0.000   \n",
       "165  2016-07-07 21:00:00  50.008999  14.659  45.865002  11.205  3.753  1.237   \n",
       "166  2016-07-07 22:00:00  46.826000  14.743  44.417000  12.223  2.580  0.000   \n",
       "167  2016-07-07 23:00:00  45.235001  13.905  43.022999  11.714  2.665  0.000   \n",
       "168  2016-07-08 00:00:00  44.731998  13.905  42.433998  11.741  1.311  0.000   \n",
       "\n",
       "            OT  \n",
       "0    38.661999  \n",
       "1    37.124001  \n",
       "2    36.465000  \n",
       "3    33.608501  \n",
       "4    31.850500  \n",
       "..         ...  \n",
       "164  41.299000  \n",
       "165  40.200500  \n",
       "166  39.321499  \n",
       "167  38.881500  \n",
       "168  38.223000  \n",
       "\n",
       "[169 rows x 8 columns]"
      ]
     },
     "execution_count": 14,
     "metadata": {},
     "output_type": "execute_result"
    }
   ],
   "source": [
    "train.iloc[:169]"
   ]
  },
  {
   "cell_type": "code",
   "execution_count": 15,
   "id": "61d18200",
   "metadata": {
    "scrolled": true
   },
   "outputs": [
    {
     "data": {
      "text/plain": [
       "tensor([[[41.1300, 12.4810, 36.5360,  ...,  4.4240,  1.3110, 38.6620],\n",
       "         [37.5280, 10.1360, 33.9360,  ...,  4.4350,  1.2150, 37.1240],\n",
       "         [37.9470, 11.3090, 35.3300,  ...,  2.1000,  0.0000, 36.4650],\n",
       "         ...,\n",
       "         [50.0090, 14.6590, 45.8650,  ...,  3.7530,  1.2370, 40.2005],\n",
       "         [46.8260, 14.7430, 44.4170,  ...,  2.5800,  0.0000, 39.3215],\n",
       "         [45.2350, 13.9050, 43.0230,  ...,  2.6650,  0.0000, 38.8815]],\n",
       "\n",
       "        [[37.5280, 10.1360, 33.9360,  ...,  4.4350,  1.2150, 37.1240],\n",
       "         [37.9470, 11.3090, 35.3300,  ...,  2.1000,  0.0000, 36.4650],\n",
       "         [38.9520, 11.8950, 35.5440,  ...,  3.3800,  1.2150, 33.6085],\n",
       "         ...,\n",
       "         [46.8260, 14.7430, 44.4170,  ...,  2.5800,  0.0000, 39.3215],\n",
       "         [45.2350, 13.9050, 43.0230,  ...,  2.6650,  0.0000, 38.8815],\n",
       "         [44.7320, 13.9050, 42.4340,  ...,  1.3110,  0.0000, 38.2230]],\n",
       "\n",
       "        [[37.9470, 11.3090, 35.3300,  ...,  2.1000,  0.0000, 36.4650],\n",
       "         [38.9520, 11.8950, 35.5440,  ...,  3.3800,  1.2150, 33.6085],\n",
       "         [38.1140, 11.4760, 35.4100,  ...,  2.0360,  0.0000, 31.8505],\n",
       "         ...,\n",
       "         [45.2350, 13.9050, 43.0230,  ...,  2.6650,  0.0000, 38.8815],\n",
       "         [44.7320, 13.9050, 42.4340,  ...,  1.3110,  0.0000, 38.2230],\n",
       "         [41.8000, 12.5650, 40.8520,  ...,  0.0000,  0.0000, 38.0030]],\n",
       "\n",
       "        ...,\n",
       "\n",
       "        [[44.9000,  0.0000, 48.5180,  ..., -4.1900,  0.0000,  1.7485],\n",
       "         [47.2450,  0.0000, 50.9310,  ..., -3.0070,  0.0000,  1.7485],\n",
       "         [53.9470,  5.4450, 56.4800,  ..., -2.8680,  0.0000,  1.7485],\n",
       "         ...,\n",
       "         [45.8210,  0.0000, 49.6440,  ..., -2.9640, -1.2150,  5.0440],\n",
       "         [48.6690,  0.0000, 52.6200,  ..., -3.8380, -1.2690,  9.8780],\n",
       "         [44.6480,  0.0000, 48.8400,  ..., -3.8380, -1.2470, 13.8330]],\n",
       "\n",
       "        [[47.2450,  0.0000, 50.9310,  ..., -3.0070,  0.0000,  1.7485],\n",
       "         [53.9470,  5.4450, 56.4800,  ..., -2.8680,  0.0000,  1.7485],\n",
       "         [48.0830,  0.0000, 50.4220,  ..., -1.5890,  0.0000,  2.1875],\n",
       "         ...,\n",
       "         [48.6690,  0.0000, 52.6200,  ..., -3.8380, -1.2690,  9.8780],\n",
       "         [44.6480,  0.0000, 48.8400,  ..., -3.8380, -1.2470, 13.8330],\n",
       "         [47.6640,  5.2770, 51.4940,  ..., -3.8380, -1.2470, 15.5910]],\n",
       "\n",
       "        [[53.9470,  5.4450, 56.4800,  ..., -2.8680,  0.0000,  1.7485],\n",
       "         [48.0830,  0.0000, 50.4220,  ..., -1.5890,  0.0000,  2.1875],\n",
       "         [47.4960,  0.0000, 49.9930,  ..., -2.9640,  0.0000,  2.1875],\n",
       "         ...,\n",
       "         [44.6480,  0.0000, 48.8400,  ..., -3.8380, -1.2470, 13.8330],\n",
       "         [47.6640,  5.2770, 51.4940,  ..., -3.8380, -1.2470, 15.5910],\n",
       "         [47.7480,  5.4450, 51.8690,  ..., -3.9870, -1.2470, 15.8105]]],\n",
       "       device='cuda:0')"
      ]
     },
     "execution_count": 15,
     "metadata": {},
     "output_type": "execute_result"
    }
   ],
   "source": [
    "X_train"
   ]
  },
  {
   "cell_type": "code",
   "execution_count": 16,
   "id": "4a6236e1",
   "metadata": {
    "scrolled": true
   },
   "outputs": [
    {
     "data": {
      "text/plain": [
       "tensor([[[38.2230]],\n",
       "\n",
       "        [[38.0030]],\n",
       "\n",
       "        [[37.5635]],\n",
       "\n",
       "        ...,\n",
       "\n",
       "        [[15.5910]],\n",
       "\n",
       "        [[15.8105]],\n",
       "\n",
       "        [[15.1515]]], device='cuda:0')"
      ]
     },
     "execution_count": 16,
     "metadata": {},
     "output_type": "execute_result"
    }
   ],
   "source": [
    "y_train"
   ]
  },
  {
   "cell_type": "code",
   "execution_count": 17,
   "id": "dc60cdc4",
   "metadata": {},
   "outputs": [],
   "source": [
    "from torch.optim import Adam"
   ]
  },
  {
   "cell_type": "code",
   "execution_count": 18,
   "id": "89a1e0ea",
   "metadata": {},
   "outputs": [],
   "source": [
    "random.seed(seed)\n",
    "np.random.seed(seed)\n",
    "torch.manual_seed(seed) # 난수 선언(원래는 cnt선언 위에 있었다)\n",
    "model = LSTM().to(device)\n",
    "optimizer = Adam(model.parameters(),lr = 1e-4)\n",
    "num_epochs = 200\n",
    "n = len(training)"
   ]
  },
  {
   "cell_type": "code",
   "execution_count": 19,
   "id": "740a413f",
   "metadata": {},
   "outputs": [],
   "source": [
    "def MSE(pred,target):\n",
    "    return torch.mean((pred-target)**2,dim = 0) # reduction까지 취해줌"
   ]
  },
  {
   "cell_type": "code",
   "execution_count": 20,
   "id": "9e4d7125",
   "metadata": {
    "scrolled": true
   },
   "outputs": [
    {
     "name": "stdout",
     "output_type": "stream",
     "text": [
      "Epoch [1]/[200] running accumulative loss across all batches: 869.021\n",
      "changed\n",
      "Epoch [2]/[200] running accumulative loss across all batches: 859.793\n",
      "changed\n",
      "Epoch [3]/[200] running accumulative loss across all batches: 846.626\n",
      "changed\n",
      "Epoch [4]/[200] running accumulative loss across all batches: 829.433\n",
      "changed\n",
      "Epoch [5]/[200] running accumulative loss across all batches: 809.352\n",
      "changed\n",
      "Epoch [6]/[200] running accumulative loss across all batches: 783.139\n",
      "changed\n",
      "Epoch [7]/[200] running accumulative loss across all batches: 761.134\n",
      "changed\n",
      "Epoch [8]/[200] running accumulative loss across all batches: 740.211\n",
      "changed\n",
      "Epoch [9]/[200] running accumulative loss across all batches: 720.916\n",
      "changed\n",
      "Epoch [10]/[200] running accumulative loss across all batches: 704.162\n",
      "changed\n",
      "Epoch [11]/[200] running accumulative loss across all batches: 688.206\n",
      "changed\n",
      "Epoch [12]/[200] running accumulative loss across all batches: 671.672\n",
      "changed\n",
      "Epoch [13]/[200] running accumulative loss across all batches: 655.089\n",
      "changed\n",
      "Epoch [14]/[200] running accumulative loss across all batches: 639.260\n",
      "changed\n",
      "Epoch [15]/[200] running accumulative loss across all batches: 622.143\n",
      "changed\n",
      "Epoch [16]/[200] running accumulative loss across all batches: 606.223\n",
      "changed\n",
      "Epoch [17]/[200] running accumulative loss across all batches: 593.547\n",
      "changed\n",
      "Epoch [18]/[200] running accumulative loss across all batches: 581.465\n",
      "changed\n",
      "Epoch [19]/[200] running accumulative loss across all batches: 569.906\n",
      "changed\n",
      "Epoch [20]/[200] running accumulative loss across all batches: 558.827\n",
      "changed\n",
      "Epoch [21]/[200] running accumulative loss across all batches: 548.078\n",
      "changed\n",
      "Epoch [22]/[200] running accumulative loss across all batches: 537.612\n",
      "changed\n",
      "Epoch [23]/[200] running accumulative loss across all batches: 527.453\n",
      "changed\n",
      "Epoch [24]/[200] running accumulative loss across all batches: 517.546\n",
      "changed\n",
      "Epoch [25]/[200] running accumulative loss across all batches: 507.855\n",
      "changed\n",
      "Epoch [26]/[200] running accumulative loss across all batches: 498.346\n",
      "changed\n",
      "Epoch [27]/[200] running accumulative loss across all batches: 489.048\n",
      "changed\n",
      "Epoch [28]/[200] running accumulative loss across all batches: 479.979\n",
      "changed\n",
      "Epoch [29]/[200] running accumulative loss across all batches: 471.111\n",
      "changed\n",
      "Epoch [30]/[200] running accumulative loss across all batches: 462.418\n",
      "changed\n",
      "Epoch [31]/[200] running accumulative loss across all batches: 453.779\n",
      "changed\n",
      "Epoch [32]/[200] running accumulative loss across all batches: 445.379\n",
      "changed\n",
      "Epoch [33]/[200] running accumulative loss across all batches: 437.093\n",
      "changed\n",
      "Epoch [34]/[200] running accumulative loss across all batches: 428.866\n",
      "changed\n",
      "Epoch [35]/[200] running accumulative loss across all batches: 420.567\n",
      "changed\n",
      "Epoch [36]/[200] running accumulative loss across all batches: 411.980\n",
      "changed\n",
      "Epoch [37]/[200] running accumulative loss across all batches: 403.092\n",
      "changed\n",
      "Epoch [38]/[200] running accumulative loss across all batches: 394.190\n",
      "changed\n",
      "Epoch [39]/[200] running accumulative loss across all batches: 385.518\n",
      "changed\n",
      "Epoch [40]/[200] running accumulative loss across all batches: 377.215\n",
      "changed\n",
      "Epoch [41]/[200] running accumulative loss across all batches: 369.190\n",
      "changed\n",
      "Epoch [42]/[200] running accumulative loss across all batches: 361.124\n",
      "changed\n",
      "Epoch [43]/[200] running accumulative loss across all batches: 353.606\n",
      "changed\n",
      "Epoch [44]/[200] running accumulative loss across all batches: 346.256\n",
      "changed\n",
      "Epoch [45]/[200] running accumulative loss across all batches: 339.149\n",
      "changed\n",
      "Epoch [46]/[200] running accumulative loss across all batches: 332.228\n",
      "changed\n",
      "Epoch [47]/[200] running accumulative loss across all batches: 325.500\n",
      "changed\n",
      "Epoch [48]/[200] running accumulative loss across all batches: 318.936\n",
      "changed\n",
      "Epoch [49]/[200] running accumulative loss across all batches: 312.490\n",
      "changed\n",
      "Epoch [50]/[200] running accumulative loss across all batches: 306.434\n",
      "changed\n",
      "Epoch [51]/[200] running accumulative loss across all batches: 300.102\n",
      "changed\n",
      "Epoch [52]/[200] running accumulative loss across all batches: 294.075\n",
      "changed\n",
      "Epoch [53]/[200] running accumulative loss across all batches: 288.156\n",
      "changed\n",
      "Epoch [54]/[200] running accumulative loss across all batches: 282.343\n",
      "changed\n",
      "Epoch [55]/[200] running accumulative loss across all batches: 276.755\n",
      "changed\n",
      "Epoch [56]/[200] running accumulative loss across all batches: 271.042\n",
      "changed\n",
      "Epoch [57]/[200] running accumulative loss across all batches: 265.503\n",
      "changed\n",
      "Epoch [58]/[200] running accumulative loss across all batches: 260.090\n",
      "changed\n",
      "Epoch [59]/[200] running accumulative loss across all batches: 254.881\n",
      "changed\n",
      "Epoch [60]/[200] running accumulative loss across all batches: 249.607\n",
      "changed\n",
      "Epoch [61]/[200] running accumulative loss across all batches: 244.494\n",
      "changed\n",
      "Epoch [62]/[200] running accumulative loss across all batches: 239.462\n",
      "changed\n",
      "Epoch [63]/[200] running accumulative loss across all batches: 234.485\n",
      "changed\n",
      "Epoch [64]/[200] running accumulative loss across all batches: 229.556\n",
      "changed\n",
      "Epoch [65]/[200] running accumulative loss across all batches: 224.709\n",
      "changed\n",
      "Epoch [66]/[200] running accumulative loss across all batches: 220.018\n",
      "changed\n",
      "Epoch [67]/[200] running accumulative loss across all batches: 215.340\n",
      "changed\n",
      "Epoch [68]/[200] running accumulative loss across all batches: 210.783\n",
      "changed\n",
      "Epoch [69]/[200] running accumulative loss across all batches: 206.319\n",
      "changed\n",
      "Epoch [70]/[200] running accumulative loss across all batches: 201.942\n",
      "changed\n",
      "Epoch [71]/[200] running accumulative loss across all batches: 197.643\n",
      "changed\n",
      "Epoch [72]/[200] running accumulative loss across all batches: 193.420\n",
      "changed\n",
      "Epoch [73]/[200] running accumulative loss across all batches: 189.262\n",
      "changed\n",
      "Epoch [74]/[200] running accumulative loss across all batches: 185.178\n",
      "changed\n",
      "Epoch [75]/[200] running accumulative loss across all batches: 181.181\n",
      "changed\n",
      "Epoch [76]/[200] running accumulative loss across all batches: 177.275\n",
      "changed\n",
      "Epoch [77]/[200] running accumulative loss across all batches: 173.489\n",
      "changed\n",
      "Epoch [78]/[200] running accumulative loss across all batches: 169.720\n",
      "changed\n",
      "Epoch [79]/[200] running accumulative loss across all batches: 166.038\n",
      "changed\n",
      "Epoch [80]/[200] running accumulative loss across all batches: 162.429\n",
      "changed\n",
      "Epoch [81]/[200] running accumulative loss across all batches: 158.893\n",
      "changed\n",
      "Epoch [82]/[200] running accumulative loss across all batches: 155.426\n",
      "changed\n",
      "Epoch [83]/[200] running accumulative loss across all batches: 152.025\n",
      "changed\n",
      "Epoch [84]/[200] running accumulative loss across all batches: 148.740\n",
      "changed\n",
      "Epoch [85]/[200] running accumulative loss across all batches: 145.402\n",
      "changed\n",
      "Epoch [86]/[200] running accumulative loss across all batches: 142.178\n",
      "changed\n",
      "Epoch [87]/[200] running accumulative loss across all batches: 139.005\n",
      "changed\n",
      "Epoch [88]/[200] running accumulative loss across all batches: 135.911\n",
      "changed\n",
      "Epoch [89]/[200] running accumulative loss across all batches: 132.878\n",
      "changed\n",
      "Epoch [90]/[200] running accumulative loss across all batches: 129.902\n",
      "changed\n",
      "Epoch [91]/[200] running accumulative loss across all batches: 126.986\n",
      "changed\n",
      "Epoch [92]/[200] running accumulative loss across all batches: 124.130\n",
      "changed\n",
      "Epoch [93]/[200] running accumulative loss across all batches: 121.334\n",
      "changed\n",
      "Epoch [94]/[200] running accumulative loss across all batches: 118.597\n",
      "changed\n",
      "Epoch [95]/[200] running accumulative loss across all batches: 115.917\n",
      "changed\n",
      "Epoch [96]/[200] running accumulative loss across all batches: 113.292\n",
      "changed\n",
      "Epoch [97]/[200] running accumulative loss across all batches: 110.719\n",
      "changed\n",
      "Epoch [98]/[200] running accumulative loss across all batches: 108.200\n",
      "changed\n",
      "Epoch [99]/[200] running accumulative loss across all batches: 105.732\n",
      "changed\n",
      "Epoch [100]/[200] running accumulative loss across all batches: 103.316\n",
      "changed\n",
      "Epoch [101]/[200] running accumulative loss across all batches: 100.951\n",
      "changed\n",
      "Epoch [102]/[200] running accumulative loss across all batches: 98.635\n",
      "changed\n",
      "Epoch [103]/[200] running accumulative loss across all batches: 96.367\n",
      "changed\n",
      "Epoch [104]/[200] running accumulative loss across all batches: 94.147\n",
      "changed\n"
     ]
    },
    {
     "name": "stdout",
     "output_type": "stream",
     "text": [
      "Epoch [105]/[200] running accumulative loss across all batches: 91.972\n",
      "changed\n",
      "Epoch [106]/[200] running accumulative loss across all batches: 89.842\n",
      "changed\n",
      "Epoch [107]/[200] running accumulative loss across all batches: 87.755\n",
      "changed\n",
      "Epoch [108]/[200] running accumulative loss across all batches: 85.712\n",
      "changed\n",
      "Epoch [109]/[200] running accumulative loss across all batches: 83.709\n",
      "changed\n",
      "Epoch [110]/[200] running accumulative loss across all batches: 81.746\n",
      "changed\n",
      "Epoch [111]/[200] running accumulative loss across all batches: 79.820\n",
      "changed\n",
      "Epoch [112]/[200] running accumulative loss across all batches: 77.936\n",
      "changed\n",
      "Epoch [113]/[200] running accumulative loss across all batches: 76.092\n",
      "changed\n",
      "Epoch [114]/[200] running accumulative loss across all batches: 74.291\n",
      "changed\n",
      "Epoch [115]/[200] running accumulative loss across all batches: 72.519\n",
      "changed\n",
      "Epoch [116]/[200] running accumulative loss across all batches: 70.785\n",
      "changed\n",
      "Epoch [117]/[200] running accumulative loss across all batches: 69.087\n",
      "changed\n",
      "Epoch [118]/[200] running accumulative loss across all batches: 67.430\n",
      "changed\n",
      "Epoch [119]/[200] running accumulative loss across all batches: 65.814\n",
      "changed\n",
      "Epoch [120]/[200] running accumulative loss across all batches: 64.241\n",
      "changed\n",
      "Epoch [121]/[200] running accumulative loss across all batches: 62.708\n",
      "changed\n",
      "Epoch [122]/[200] running accumulative loss across all batches: 61.212\n",
      "changed\n",
      "Epoch [123]/[200] running accumulative loss across all batches: 59.753\n",
      "changed\n",
      "Epoch [124]/[200] running accumulative loss across all batches: 58.326\n",
      "changed\n",
      "Epoch [125]/[200] running accumulative loss across all batches: 56.928\n",
      "changed\n",
      "Epoch [126]/[200] running accumulative loss across all batches: 55.557\n",
      "changed\n",
      "Epoch [127]/[200] running accumulative loss across all batches: 54.211\n",
      "changed\n",
      "Epoch [128]/[200] running accumulative loss across all batches: 52.891\n",
      "changed\n",
      "Epoch [129]/[200] running accumulative loss across all batches: 51.597\n",
      "changed\n",
      "Epoch [130]/[200] running accumulative loss across all batches: 50.332\n",
      "changed\n",
      "Epoch [131]/[200] running accumulative loss across all batches: 49.098\n",
      "changed\n",
      "Epoch [132]/[200] running accumulative loss across all batches: 47.895\n",
      "changed\n",
      "Epoch [133]/[200] running accumulative loss across all batches: 46.723\n",
      "changed\n",
      "Epoch [134]/[200] running accumulative loss across all batches: 45.580\n",
      "changed\n",
      "Epoch [135]/[200] running accumulative loss across all batches: 44.466\n",
      "changed\n",
      "Epoch [136]/[200] running accumulative loss across all batches: 43.381\n",
      "changed\n",
      "Epoch [137]/[200] running accumulative loss across all batches: 42.323\n",
      "changed\n",
      "Epoch [138]/[200] running accumulative loss across all batches: 41.292\n",
      "changed\n",
      "Epoch [139]/[200] running accumulative loss across all batches: 40.288\n",
      "changed\n",
      "Epoch [140]/[200] running accumulative loss across all batches: 39.309\n",
      "changed\n",
      "Epoch [141]/[200] running accumulative loss across all batches: 38.355\n",
      "changed\n",
      "Epoch [142]/[200] running accumulative loss across all batches: 37.426\n",
      "changed\n",
      "Epoch [143]/[200] running accumulative loss across all batches: 36.521\n",
      "changed\n",
      "Epoch [144]/[200] running accumulative loss across all batches: 35.639\n",
      "changed\n",
      "Epoch [145]/[200] running accumulative loss across all batches: 34.779\n",
      "changed\n",
      "Epoch [146]/[200] running accumulative loss across all batches: 33.942\n",
      "changed\n",
      "Epoch [147]/[200] running accumulative loss across all batches: 33.125\n",
      "changed\n",
      "Epoch [148]/[200] running accumulative loss across all batches: 32.329\n",
      "changed\n",
      "Epoch [149]/[200] running accumulative loss across all batches: 31.552\n",
      "changed\n",
      "Epoch [150]/[200] running accumulative loss across all batches: 30.796\n",
      "changed\n",
      "Epoch [151]/[200] running accumulative loss across all batches: 30.057\n",
      "changed\n",
      "Epoch [152]/[200] running accumulative loss across all batches: 29.338\n",
      "changed\n",
      "Epoch [153]/[200] running accumulative loss across all batches: 28.634\n",
      "changed\n",
      "Epoch [154]/[200] running accumulative loss across all batches: 27.949\n",
      "changed\n",
      "Epoch [155]/[200] running accumulative loss across all batches: 27.277\n",
      "changed\n",
      "Epoch [156]/[200] running accumulative loss across all batches: 26.622\n",
      "changed\n",
      "Epoch [157]/[200] running accumulative loss across all batches: 25.981\n",
      "changed\n",
      "Epoch [158]/[200] running accumulative loss across all batches: 25.355\n",
      "changed\n",
      "Epoch [159]/[200] running accumulative loss across all batches: 24.745\n",
      "changed\n",
      "Epoch [160]/[200] running accumulative loss across all batches: 24.151\n",
      "changed\n",
      "Epoch [161]/[200] running accumulative loss across all batches: 23.573\n",
      "changed\n",
      "Epoch [162]/[200] running accumulative loss across all batches: 23.011\n",
      "changed\n",
      "Epoch [163]/[200] running accumulative loss across all batches: 22.464\n",
      "changed\n",
      "Epoch [164]/[200] running accumulative loss across all batches: 21.932\n",
      "changed\n",
      "Epoch [165]/[200] running accumulative loss across all batches: 21.413\n",
      "changed\n",
      "Epoch [166]/[200] running accumulative loss across all batches: 20.909\n",
      "changed\n",
      "Epoch [167]/[200] running accumulative loss across all batches: 20.418\n",
      "changed\n",
      "Epoch [168]/[200] running accumulative loss across all batches: 19.940\n",
      "changed\n",
      "Epoch [169]/[200] running accumulative loss across all batches: 19.473\n",
      "changed\n",
      "Epoch [170]/[200] running accumulative loss across all batches: 19.030\n",
      "changed\n",
      "Epoch [171]/[200] running accumulative loss across all batches: 18.584\n",
      "changed\n",
      "Epoch [172]/[200] running accumulative loss across all batches: 18.144\n",
      "changed\n",
      "Epoch [173]/[200] running accumulative loss across all batches: 17.722\n",
      "changed\n",
      "Epoch [174]/[200] running accumulative loss across all batches: 17.314\n",
      "changed\n",
      "Epoch [175]/[200] running accumulative loss across all batches: 16.916\n",
      "changed\n",
      "Epoch [176]/[200] running accumulative loss across all batches: 16.528\n",
      "changed\n",
      "Epoch [177]/[200] running accumulative loss across all batches: 16.151\n",
      "changed\n",
      "Epoch [178]/[200] running accumulative loss across all batches: 15.783\n",
      "changed\n",
      "Epoch [179]/[200] running accumulative loss across all batches: 15.424\n",
      "changed\n",
      "Epoch [180]/[200] running accumulative loss across all batches: 15.074\n",
      "changed\n",
      "Epoch [181]/[200] running accumulative loss across all batches: 14.733\n",
      "changed\n",
      "Epoch [182]/[200] running accumulative loss across all batches: 14.400\n",
      "changed\n",
      "Epoch [183]/[200] running accumulative loss across all batches: 14.075\n",
      "changed\n",
      "Epoch [184]/[200] running accumulative loss across all batches: 13.758\n",
      "changed\n",
      "Epoch [185]/[200] running accumulative loss across all batches: 13.449\n",
      "changed\n",
      "Epoch [186]/[200] running accumulative loss across all batches: 13.147\n",
      "changed\n",
      "Epoch [187]/[200] running accumulative loss across all batches: 12.859\n",
      "changed\n",
      "Epoch [188]/[200] running accumulative loss across all batches: 12.594\n",
      "changed\n",
      "Epoch [189]/[200] running accumulative loss across all batches: 12.302\n",
      "changed\n",
      "Epoch [190]/[200] running accumulative loss across all batches: 12.012\n",
      "changed\n",
      "Epoch [191]/[200] running accumulative loss across all batches: 11.744\n",
      "changed\n",
      "Epoch [192]/[200] running accumulative loss across all batches: 11.483\n",
      "changed\n",
      "Epoch [193]/[200] running accumulative loss across all batches: 11.232\n",
      "changed\n",
      "Epoch [194]/[200] running accumulative loss across all batches: 10.984\n",
      "changed\n",
      "Epoch [195]/[200] running accumulative loss across all batches: 10.744\n",
      "changed\n",
      "Epoch [196]/[200] running accumulative loss across all batches: 10.507\n",
      "changed\n",
      "Epoch [197]/[200] running accumulative loss across all batches: 10.278\n",
      "changed\n",
      "Epoch [198]/[200] running accumulative loss across all batches: 10.052\n",
      "changed\n",
      "Epoch [199]/[200] running accumulative loss across all batches: 9.834\n",
      "changed\n",
      "Epoch [200]/[200] running accumulative loss across all batches: 9.618\n",
      "changed\n"
     ]
    }
   ],
   "source": [
    "random.seed(seed)\n",
    "np.random.seed(seed)\n",
    "torch.manual_seed(seed)\n",
    "minimal_loss=np.inf\n",
    "for epoch in range(num_epochs):  # loop over the dataset multiple times\n",
    "    running_loss = 0.0\n",
    "    for inputs, labels in training:\n",
    "        # forward pass\n",
    "        inputs = inputs\n",
    "        outputs = model(inputs)\n",
    "#         print(outputs.size())\n",
    "        outputs = outputs.view(-1,1)    \n",
    "        labels = labels.view(-1,1)\n",
    "        \n",
    "        # defining loss\n",
    "        loss = MSE(outputs, labels)\n",
    "        # zero the parameter gradients\n",
    "        optimizer.zero_grad()\n",
    "        # computing gradients\n",
    "        loss.backward()\n",
    "        # accumulating running loss\n",
    "        running_loss += loss.item()\n",
    "        # updated weights based on computed gradients\n",
    "        optimizer.step()\n",
    "    print('Epoch [%d]/[%d] running accumulative loss across all batches: %.3f' %(epoch + 1, num_epochs, (running_loss/n)))\n",
    "    if (running_loss/n)*100<minimal_loss:\n",
    "        best_model = copy.deepcopy(model)\n",
    "        minimal_loss = (running_loss/n)*100\n",
    "        print(\"changed\")\n",
    "\n",
    "model = best_model"
   ]
  },
  {
   "cell_type": "code",
   "execution_count": 21,
   "id": "16fabeb0",
   "metadata": {},
   "outputs": [],
   "source": [
    "from captum.attr import IntegratedGradients,NoiseTunnel"
   ]
  },
  {
   "cell_type": "code",
   "execution_count": 22,
   "id": "90bc847c",
   "metadata": {
    "scrolled": true
   },
   "outputs": [
    {
     "name": "stdout",
     "output_type": "stream",
     "text": [
      "torch.Size([64, 168, 7])\n",
      "torch.Size([64, 168, 7])\n",
      "torch.Size([64, 168, 7])\n",
      "torch.Size([64, 168, 7])\n",
      "torch.Size([64, 168, 7])\n",
      "torch.Size([64, 168, 7])\n",
      "torch.Size([64, 168, 7])\n",
      "torch.Size([64, 168, 7])\n",
      "torch.Size([64, 168, 7])\n",
      "torch.Size([64, 168, 7])\n",
      "torch.Size([64, 168, 7])\n",
      "torch.Size([64, 168, 7])\n",
      "torch.Size([64, 168, 7])\n",
      "torch.Size([64, 168, 7])\n",
      "torch.Size([64, 168, 7])\n",
      "torch.Size([64, 168, 7])\n",
      "torch.Size([64, 168, 7])\n",
      "torch.Size([64, 168, 7])\n",
      "torch.Size([64, 168, 7])\n",
      "torch.Size([64, 168, 7])\n",
      "torch.Size([64, 168, 7])\n",
      "torch.Size([64, 168, 7])\n",
      "torch.Size([64, 168, 7])\n",
      "torch.Size([64, 168, 7])\n",
      "torch.Size([64, 168, 7])\n",
      "torch.Size([64, 168, 7])\n",
      "torch.Size([64, 168, 7])\n",
      "torch.Size([64, 168, 7])\n",
      "torch.Size([64, 168, 7])\n",
      "torch.Size([64, 168, 7])\n",
      "torch.Size([64, 168, 7])\n",
      "torch.Size([64, 168, 7])\n",
      "torch.Size([64, 168, 7])\n",
      "torch.Size([64, 168, 7])\n",
      "torch.Size([64, 168, 7])\n",
      "torch.Size([64, 168, 7])\n",
      "torch.Size([64, 168, 7])\n",
      "torch.Size([64, 168, 7])\n",
      "torch.Size([64, 168, 7])\n",
      "torch.Size([64, 168, 7])\n",
      "torch.Size([64, 168, 7])\n",
      "torch.Size([64, 168, 7])\n",
      "torch.Size([64, 168, 7])\n",
      "torch.Size([64, 168, 7])\n",
      "torch.Size([64, 168, 7])\n",
      "torch.Size([64, 168, 7])\n",
      "torch.Size([64, 168, 7])\n",
      "torch.Size([64, 168, 7])\n",
      "torch.Size([64, 168, 7])\n",
      "torch.Size([64, 168, 7])\n",
      "torch.Size([64, 168, 7])\n",
      "torch.Size([52, 168, 7])\n"
     ]
    }
   ],
   "source": [
    "for val in validation:\n",
    "    print(val[0].size())"
   ]
  },
  {
   "cell_type": "code",
   "execution_count": 23,
   "id": "168ef6c4",
   "metadata": {},
   "outputs": [
    {
     "data": {
      "text/plain": [
       "torch.Size([1, 168, 7])"
      ]
     },
     "execution_count": 23,
     "metadata": {},
     "output_type": "execute_result"
    }
   ],
   "source": [
    "test = next(iter(validation))[0][0] # 하나의 sample에 대해서 진행\n",
    "test = test.unsqueeze(0)\n",
    "test.size()"
   ]
  },
  {
   "cell_type": "code",
   "execution_count": 24,
   "id": "ee29805d",
   "metadata": {},
   "outputs": [
    {
     "data": {
      "text/plain": [
       "tensor([[[-4.7319e-07, -4.8340e-07,  8.8445e-06,  ...,  1.7483e-07,\n",
       "           8.6509e-08,  6.9891e-09],\n",
       "         [-7.7676e-06, -1.0732e-07, -1.0658e-05,  ...,  1.2951e-06,\n",
       "           4.1827e-08,  6.3521e-06],\n",
       "         [-4.2961e-06,  6.9485e-07, -2.0916e-05,  ...,  1.1798e-06,\n",
       "           2.0510e-07,  6.9097e-06],\n",
       "         ...,\n",
       "         [ 1.5952e+00, -2.1180e-01,  1.1793e-01,  ...,  7.1550e-01,\n",
       "           3.3638e-01, -4.5896e+00],\n",
       "         [-1.2969e-01,  1.1133e+00,  1.8364e+00,  ..., -8.2841e-01,\n",
       "          -1.7868e-01, -2.8817e+00],\n",
       "         [-5.4680e+00, -9.6478e-03,  4.1110e-01,  ..., -1.0317e+00,\n",
       "          -5.4023e-01,  2.6450e+01]]], device='cuda:0', dtype=torch.float64)"
      ]
     },
     "execution_count": 24,
     "metadata": {},
     "output_type": "execute_result"
    }
   ],
   "source": [
    "ig = IntegratedGradients(model)\n",
    "nt_ig = NoiseTunnel(ig)\n",
    "attr_score = nt_ig.attribute(test)\n",
    "attr_score"
   ]
  },
  {
   "cell_type": "code",
   "execution_count": 25,
   "id": "aabf0606",
   "metadata": {},
   "outputs": [
    {
     "data": {
      "text/plain": [
       "torch.Size([1, 168, 7])"
      ]
     },
     "execution_count": 25,
     "metadata": {},
     "output_type": "execute_result"
    }
   ],
   "source": [
    "attr_score.size()"
   ]
  },
  {
   "cell_type": "code",
   "execution_count": 26,
   "id": "deba0ab8",
   "metadata": {},
   "outputs": [
    {
     "data": {
      "text/plain": [
       "tensor([[[-4.7319e-07, -4.8340e-07,  8.8445e-06,  ...,  1.7483e-07,\n",
       "           8.6509e-08,  6.9891e-09],\n",
       "         [-7.7676e-06, -1.0732e-07, -1.0658e-05,  ...,  1.2951e-06,\n",
       "           4.1827e-08,  6.3521e-06],\n",
       "         [-4.2961e-06,  6.9485e-07, -2.0916e-05,  ...,  1.1798e-06,\n",
       "           2.0510e-07,  6.9097e-06],\n",
       "         ...,\n",
       "         [ 1.5952e+00, -2.1180e-01,  1.1793e-01,  ...,  7.1550e-01,\n",
       "           3.3638e-01, -4.5896e+00],\n",
       "         [-1.2969e-01,  1.1133e+00,  1.8364e+00,  ..., -8.2841e-01,\n",
       "          -1.7868e-01, -2.8817e+00],\n",
       "         [-5.4680e+00, -9.6478e-03,  4.1110e-01,  ..., -1.0317e+00,\n",
       "          -5.4023e-01,  2.6450e+01]]], dtype=torch.float64)"
      ]
     },
     "execution_count": 26,
     "metadata": {},
     "output_type": "execute_result"
    }
   ],
   "source": [
    "attr_score.to(\"cpu\")"
   ]
  },
  {
   "cell_type": "code",
   "execution_count": 27,
   "id": "d868c396",
   "metadata": {},
   "outputs": [
    {
     "data": {
      "text/plain": [
       "array([[[-4.73193864e-07, -4.83397936e-07,  8.84447677e-06, ...,\n",
       "          1.74826183e-07,  8.65090968e-08,  6.98907557e-09],\n",
       "        [-7.76763038e-06, -1.07324479e-07, -1.06578999e-05, ...,\n",
       "          1.29510203e-06,  4.18273755e-08,  6.35214350e-06],\n",
       "        [-4.29614200e-06,  6.94852533e-07, -2.09162461e-05, ...,\n",
       "          1.17981865e-06,  2.05103677e-07,  6.90967496e-06],\n",
       "        ...,\n",
       "        [ 1.59515323e+00, -2.11802857e-01,  1.17926879e-01, ...,\n",
       "          7.15497233e-01,  3.36384445e-01, -4.58960438e+00],\n",
       "        [-1.29693233e-01,  1.11332654e+00,  1.83640671e+00, ...,\n",
       "         -8.28406563e-01, -1.78682984e-01, -2.88172908e+00],\n",
       "        [-5.46804222e+00, -9.64776461e-03,  4.11103141e-01, ...,\n",
       "         -1.03167306e+00, -5.40233298e-01,  2.64498224e+01]]])"
      ]
     },
     "execution_count": 27,
     "metadata": {},
     "output_type": "execute_result"
    }
   ],
   "source": [
    "plot_attribution = attr_score.to(\"cpu\").detach().numpy()\n",
    "plot_attribution"
   ]
  },
  {
   "cell_type": "code",
   "execution_count": 28,
   "id": "31926d2f",
   "metadata": {},
   "outputs": [],
   "source": [
    "plot_attribution = plot_attribution.reshape(-1,7)"
   ]
  },
  {
   "cell_type": "code",
   "execution_count": 29,
   "id": "15782df1",
   "metadata": {},
   "outputs": [
    {
     "data": {
      "text/plain": [
       "Index(['HUFL', 'HULL', 'MUFL', 'MULL', 'LUFL', 'LULL', 'OT'], dtype='object')"
      ]
     },
     "execution_count": 29,
     "metadata": {},
     "output_type": "execute_result"
    }
   ],
   "source": [
    "column = data.columns[1:]\n",
    "column"
   ]
  },
  {
   "cell_type": "code",
   "execution_count": 30,
   "id": "ac23ea50",
   "metadata": {},
   "outputs": [],
   "source": [
    "attr_df = pd.DataFrame(plot_attribution,columns=column)"
   ]
  },
  {
   "cell_type": "code",
   "execution_count": 31,
   "id": "c2b8ff9d",
   "metadata": {},
   "outputs": [
    {
     "data": {
      "text/html": [
       "<div>\n",
       "<style scoped>\n",
       "    .dataframe tbody tr th:only-of-type {\n",
       "        vertical-align: middle;\n",
       "    }\n",
       "\n",
       "    .dataframe tbody tr th {\n",
       "        vertical-align: top;\n",
       "    }\n",
       "\n",
       "    .dataframe thead th {\n",
       "        text-align: right;\n",
       "    }\n",
       "</style>\n",
       "<table border=\"1\" class=\"dataframe\">\n",
       "  <thead>\n",
       "    <tr style=\"text-align: right;\">\n",
       "      <th></th>\n",
       "      <th>HUFL</th>\n",
       "      <th>HULL</th>\n",
       "      <th>MUFL</th>\n",
       "      <th>MULL</th>\n",
       "      <th>LUFL</th>\n",
       "      <th>LULL</th>\n",
       "      <th>OT</th>\n",
       "    </tr>\n",
       "  </thead>\n",
       "  <tbody>\n",
       "    <tr>\n",
       "      <th>0</th>\n",
       "      <td>-4.731939e-07</td>\n",
       "      <td>-4.833979e-07</td>\n",
       "      <td>0.000009</td>\n",
       "      <td>-6.390437e-07</td>\n",
       "      <td>1.748262e-07</td>\n",
       "      <td>8.650910e-08</td>\n",
       "      <td>6.989076e-09</td>\n",
       "    </tr>\n",
       "    <tr>\n",
       "      <th>1</th>\n",
       "      <td>-7.767630e-06</td>\n",
       "      <td>-1.073245e-07</td>\n",
       "      <td>-0.000011</td>\n",
       "      <td>-1.024114e-07</td>\n",
       "      <td>1.295102e-06</td>\n",
       "      <td>4.182738e-08</td>\n",
       "      <td>6.352143e-06</td>\n",
       "    </tr>\n",
       "    <tr>\n",
       "      <th>2</th>\n",
       "      <td>-4.296142e-06</td>\n",
       "      <td>6.948525e-07</td>\n",
       "      <td>-0.000021</td>\n",
       "      <td>-4.864123e-07</td>\n",
       "      <td>1.179819e-06</td>\n",
       "      <td>2.051037e-07</td>\n",
       "      <td>6.909675e-06</td>\n",
       "    </tr>\n",
       "    <tr>\n",
       "      <th>3</th>\n",
       "      <td>-7.095590e-07</td>\n",
       "      <td>-9.704780e-08</td>\n",
       "      <td>-0.000015</td>\n",
       "      <td>-5.101150e-07</td>\n",
       "      <td>1.462743e-06</td>\n",
       "      <td>2.896949e-07</td>\n",
       "      <td>3.173990e-06</td>\n",
       "    </tr>\n",
       "    <tr>\n",
       "      <th>4</th>\n",
       "      <td>1.816277e-07</td>\n",
       "      <td>-1.968095e-07</td>\n",
       "      <td>-0.000010</td>\n",
       "      <td>-8.104314e-07</td>\n",
       "      <td>6.843534e-07</td>\n",
       "      <td>-1.108364e-07</td>\n",
       "      <td>2.565513e-06</td>\n",
       "    </tr>\n",
       "    <tr>\n",
       "      <th>...</th>\n",
       "      <td>...</td>\n",
       "      <td>...</td>\n",
       "      <td>...</td>\n",
       "      <td>...</td>\n",
       "      <td>...</td>\n",
       "      <td>...</td>\n",
       "      <td>...</td>\n",
       "    </tr>\n",
       "    <tr>\n",
       "      <th>163</th>\n",
       "      <td>4.104379e-02</td>\n",
       "      <td>3.253689e-04</td>\n",
       "      <td>0.658723</td>\n",
       "      <td>-1.238983e-01</td>\n",
       "      <td>9.520990e-02</td>\n",
       "      <td>-3.101303e-02</td>\n",
       "      <td>4.476152e-01</td>\n",
       "    </tr>\n",
       "    <tr>\n",
       "      <th>164</th>\n",
       "      <td>3.860417e-01</td>\n",
       "      <td>-4.078756e-01</td>\n",
       "      <td>0.376412</td>\n",
       "      <td>-2.313479e-01</td>\n",
       "      <td>3.238414e-01</td>\n",
       "      <td>6.860014e-02</td>\n",
       "      <td>5.269259e-01</td>\n",
       "    </tr>\n",
       "    <tr>\n",
       "      <th>165</th>\n",
       "      <td>1.595153e+00</td>\n",
       "      <td>-2.118029e-01</td>\n",
       "      <td>0.117927</td>\n",
       "      <td>3.128804e-01</td>\n",
       "      <td>7.154972e-01</td>\n",
       "      <td>3.363844e-01</td>\n",
       "      <td>-4.589604e+00</td>\n",
       "    </tr>\n",
       "    <tr>\n",
       "      <th>166</th>\n",
       "      <td>-1.296932e-01</td>\n",
       "      <td>1.113327e+00</td>\n",
       "      <td>1.836407</td>\n",
       "      <td>3.743812e-01</td>\n",
       "      <td>-8.284066e-01</td>\n",
       "      <td>-1.786830e-01</td>\n",
       "      <td>-2.881729e+00</td>\n",
       "    </tr>\n",
       "    <tr>\n",
       "      <th>167</th>\n",
       "      <td>-5.468042e+00</td>\n",
       "      <td>-9.647765e-03</td>\n",
       "      <td>0.411103</td>\n",
       "      <td>-2.225399e+00</td>\n",
       "      <td>-1.031673e+00</td>\n",
       "      <td>-5.402333e-01</td>\n",
       "      <td>2.644982e+01</td>\n",
       "    </tr>\n",
       "  </tbody>\n",
       "</table>\n",
       "<p>168 rows × 7 columns</p>\n",
       "</div>"
      ],
      "text/plain": [
       "             HUFL          HULL      MUFL          MULL          LUFL  \\\n",
       "0   -4.731939e-07 -4.833979e-07  0.000009 -6.390437e-07  1.748262e-07   \n",
       "1   -7.767630e-06 -1.073245e-07 -0.000011 -1.024114e-07  1.295102e-06   \n",
       "2   -4.296142e-06  6.948525e-07 -0.000021 -4.864123e-07  1.179819e-06   \n",
       "3   -7.095590e-07 -9.704780e-08 -0.000015 -5.101150e-07  1.462743e-06   \n",
       "4    1.816277e-07 -1.968095e-07 -0.000010 -8.104314e-07  6.843534e-07   \n",
       "..            ...           ...       ...           ...           ...   \n",
       "163  4.104379e-02  3.253689e-04  0.658723 -1.238983e-01  9.520990e-02   \n",
       "164  3.860417e-01 -4.078756e-01  0.376412 -2.313479e-01  3.238414e-01   \n",
       "165  1.595153e+00 -2.118029e-01  0.117927  3.128804e-01  7.154972e-01   \n",
       "166 -1.296932e-01  1.113327e+00  1.836407  3.743812e-01 -8.284066e-01   \n",
       "167 -5.468042e+00 -9.647765e-03  0.411103 -2.225399e+00 -1.031673e+00   \n",
       "\n",
       "             LULL            OT  \n",
       "0    8.650910e-08  6.989076e-09  \n",
       "1    4.182738e-08  6.352143e-06  \n",
       "2    2.051037e-07  6.909675e-06  \n",
       "3    2.896949e-07  3.173990e-06  \n",
       "4   -1.108364e-07  2.565513e-06  \n",
       "..            ...           ...  \n",
       "163 -3.101303e-02  4.476152e-01  \n",
       "164  6.860014e-02  5.269259e-01  \n",
       "165  3.363844e-01 -4.589604e+00  \n",
       "166 -1.786830e-01 -2.881729e+00  \n",
       "167 -5.402333e-01  2.644982e+01  \n",
       "\n",
       "[168 rows x 7 columns]"
      ]
     },
     "execution_count": 31,
     "metadata": {},
     "output_type": "execute_result"
    }
   ],
   "source": [
    "attr_df"
   ]
  },
  {
   "cell_type": "markdown",
   "id": "31d55f91",
   "metadata": {},
   "source": [
    "# 특징 관찰\n",
    "\n",
    "### our goal -> 특정 시간대를 추출해내는 방법을 고안"
   ]
  },
  {
   "cell_type": "code",
   "execution_count": 32,
   "id": "81b09007",
   "metadata": {},
   "outputs": [
    {
     "data": {
      "text/plain": [
       "tensor([[18.0080]], device='cuda:0')"
      ]
     },
     "execution_count": 32,
     "metadata": {},
     "output_type": "execute_result"
    }
   ],
   "source": [
    "next(iter(validation))[1][0]"
   ]
  },
  {
   "cell_type": "markdown",
   "id": "f501eed2",
   "metadata": {},
   "source": [
    "* 전체 Attribution DataFrame이 예측값을 나눈것으로 보임\n",
    "    * 현재 하나의 Sample Batch의 첫번째 Sample에 대해서 Attribution을 구했는데\n",
    "    하나의 DataFrame이 나왔음"
   ]
  },
  {
   "cell_type": "code",
   "execution_count": 33,
   "id": "9a060f7e",
   "metadata": {},
   "outputs": [
    {
     "data": {
      "text/plain": [
       "20.62622830861664"
      ]
     },
     "execution_count": 33,
     "metadata": {},
     "output_type": "execute_result"
    }
   ],
   "source": [
    "attr_df.sum(axis=0).sum()"
   ]
  },
  {
   "cell_type": "markdown",
   "id": "401e58f1",
   "metadata": {},
   "source": [
    "## 전체 피쳐의 평균 영향\n",
    "* 각 피쳐가 미치는 영향도를 구할 수 있음"
   ]
  },
  {
   "cell_type": "code",
   "execution_count": 34,
   "id": "a1a4829d",
   "metadata": {
    "scrolled": false
   },
   "outputs": [
    {
     "data": {
      "text/plain": [
       "<AxesSubplot: >"
      ]
     },
     "execution_count": 34,
     "metadata": {},
     "output_type": "execute_result"
    },
    {
     "data": {
      "image/png": "[encoded data removed]",
      "text/plain": [
       "<Figure size 640x480 with 1 Axes>"
      ]
     },
     "metadata": {},
     "output_type": "display_data"
    }
   ],
   "source": [
    "attr_df.abs().mean(axis=0).plot()"
   ]
  },
  {
   "cell_type": "markdown",
   "id": "e3219921",
   "metadata": {},
   "source": [
    "## 각 시간 별 영향 추이\n",
    "* 각 시간별로 중요한 정도를 계산할 수 있음"
   ]
  },
  {
   "cell_type": "code",
   "execution_count": 35,
   "id": "d5685dfd",
   "metadata": {},
   "outputs": [
    {
     "data": {
      "text/plain": [
       "<AxesSubplot: >"
      ]
     },
     "execution_count": 35,
     "metadata": {},
     "output_type": "execute_result"
    },
    {
     "data": {
      "image/png": "[encoded data removed]",
      "text/plain": [
       "<Figure size 640x480 with 1 Axes>"
      ]
     },
     "metadata": {},
     "output_type": "display_data"
    }
   ],
   "source": [
    "attr_df.abs().mean(axis = 1).plot()"
   ]
  },
  {
   "cell_type": "markdown",
   "id": "10da23f2",
   "metadata": {},
   "source": [
    "## 각 피쳐별로 시간에 따른 영향 추이"
   ]
  },
  {
   "cell_type": "code",
   "execution_count": 36,
   "id": "c514e305",
   "metadata": {},
   "outputs": [
    {
     "data": {
      "text/plain": [
       "<AxesSubplot: >"
      ]
     },
     "execution_count": 36,
     "metadata": {},
     "output_type": "execute_result"
    },
    {
     "data": {
      "image/png": "[encoded data removed]",
      "text/plain": [
       "<Figure size 640x480 with 1 Axes>"
      ]
     },
     "metadata": {},
     "output_type": "display_data"
    }
   ],
   "source": [
    "attr_df['HUFL'].abs().plot()"
   ]
  },
  {
   "cell_type": "code",
   "execution_count": 37,
   "id": "4397171c",
   "metadata": {},
   "outputs": [
    {
     "data": {
      "text/plain": [
       "<AxesSubplot: >"
      ]
     },
     "execution_count": 37,
     "metadata": {},
     "output_type": "execute_result"
    },
    {
     "data": {
      "image/png": "[encoded data removed]",
      "text/plain": [
       "<Figure size 640x480 with 1 Axes>"
      ]
     },
     "metadata": {},
     "output_type": "display_data"
    }
   ],
   "source": [
    "attr_df['HULL'].abs().plot()"
   ]
  },
  {
   "cell_type": "code",
   "execution_count": 38,
   "id": "a5750508",
   "metadata": {},
   "outputs": [
    {
     "data": {
      "text/plain": [
       "<AxesSubplot: >"
      ]
     },
     "execution_count": 38,
     "metadata": {},
     "output_type": "execute_result"
    },
    {
     "data": {
      "image/png": "[encoded data removed]",
      "text/plain": [
       "<Figure size 640x480 with 1 Axes>"
      ]
     },
     "metadata": {},
     "output_type": "display_data"
    }
   ],
   "source": [
    "attr_df['MUFL'].abs().plot()"
   ]
  },
  {
   "cell_type": "code",
   "execution_count": 39,
   "id": "c688b56b",
   "metadata": {},
   "outputs": [
    {
     "data": {
      "text/plain": [
       "<AxesSubplot: >"
      ]
     },
     "execution_count": 39,
     "metadata": {},
     "output_type": "execute_result"
    },
    {
     "data": {
      "image/png": "[encoded data removed]",
      "text/plain": [
       "<Figure size 640x480 with 1 Axes>"
      ]
     },
     "metadata": {},
     "output_type": "display_data"
    }
   ],
   "source": [
    "attr_df['MULL'].abs().plot()"
   ]
  },
  {
   "cell_type": "code",
   "execution_count": 40,
   "id": "5d8fcfb0",
   "metadata": {},
   "outputs": [
    {
     "data": {
      "text/plain": [
       "<AxesSubplot: >"
      ]
     },
     "execution_count": 40,
     "metadata": {},
     "output_type": "execute_result"
    },
    {
     "data": {
      "image/png": "[encoded data removed]",
      "text/plain": [
       "<Figure size 640x480 with 1 Axes>"
      ]
     },
     "metadata": {},
     "output_type": "display_data"
    }
   ],
   "source": [
    "attr_df['LUFL'].abs().plot()"
   ]
  },
  {
   "cell_type": "code",
   "execution_count": 41,
   "id": "6b11f9b5",
   "metadata": {},
   "outputs": [
    {
     "data": {
      "text/plain": [
       "<AxesSubplot: >"
      ]
     },
     "execution_count": 41,
     "metadata": {},
     "output_type": "execute_result"
    },
    {
     "data": {
      "image/png": "[encoded data removed]",
      "text/plain": [
       "<Figure size 640x480 with 1 Axes>"
      ]
     },
     "metadata": {},
     "output_type": "display_data"
    }
   ],
   "source": [
    "attr_df['LULL'].abs().plot()"
   ]
  },
  {
   "cell_type": "code",
   "execution_count": 42,
   "id": "0acde1d7",
   "metadata": {},
   "outputs": [
    {
     "data": {
      "text/plain": [
       "<AxesSubplot: >"
      ]
     },
     "execution_count": 42,
     "metadata": {},
     "output_type": "execute_result"
    },
    {
     "data": {
      "image/png": "[encoded data removed]",
      "text/plain": [
       "<Figure size 640x480 with 1 Axes>"
      ]
     },
     "metadata": {},
     "output_type": "display_data"
    }
   ],
   "source": [
    "attr_df['OT'].abs().plot()"
   ]
  },
  {
   "attachments": {
    "image.png": {
     "image/png": "[encoded data removed]"
    }
   },
   "cell_type": "markdown",
   "id": "aa47809a",
   "metadata": {},
   "source": [
    "![image.png](attachment:image.png)"
   ]
  },
  {
   "cell_type": "code",
   "execution_count": 43,
   "id": "361477a0",
   "metadata": {},
   "outputs": [
    {
     "data": {
      "text/plain": [
       "168"
      ]
     },
     "execution_count": 43,
     "metadata": {},
     "output_type": "execute_result"
    }
   ],
   "source": [
    "sequence_length"
   ]
  },
  {
   "cell_type": "code",
   "execution_count": null,
   "id": "8c1f4b9f",
   "metadata": {},
   "outputs": [],
   "source": []
  },
  {
   "cell_type": "code",
   "execution_count": 44,
   "id": "e454ae01",
   "metadata": {},
   "outputs": [],
   "source": [
    "cnt = 0\n",
    "ig = IntegratedGradients(model)\n",
    "nt_ig = NoiseTunnel(ig)\n",
    "nt_ig_attr_score = np.zeros((1,sequence_length))\n",
    "for val_batch in validation:\n",
    "    temp_n = val_batch[0].size(0)\n",
    "    for val in val_batch[0]: # 하나의 배치에 대해서 for문\n",
    "        val = val.unsqueeze(0)\n",
    "        temp = nt_ig.attribute(val).abs()\n",
    "        # 각 attribution score의 절대값을 합한다.\n",
    "        # 이로써 각 시간별로 영향도를 구함\n",
    "        # 이 부분이 abs를 씌우는게 절대적인 영향을 반영하는데에 맞는 것 같다.\n",
    "        # 이전까진 씌우지 않았음\n",
    "        temp = temp.to(\"cpu\").detach().numpy().reshape(-1,feature_size)\n",
    "        temp = temp.sum(axis=1) \n",
    "        nt_ig_attr_score = nt_ig_attr_score+temp\n",
    "    cnt = cnt + temp_n\n",
    "nt_ig_attr_score = nt_ig_attr_score/cnt"
   ]
  },
  {
   "cell_type": "code",
   "execution_count": 45,
   "id": "2f2454ca",
   "metadata": {
    "scrolled": true
   },
   "outputs": [
    {
     "data": {
      "text/plain": [
       "array([3.88250571e-04, 4.27960284e-04, 4.32867634e-04, 4.32780595e-04,\n",
       "       4.37798117e-04, 4.46739607e-04, 4.55981410e-04, 4.72474456e-04,\n",
       "       4.78157009e-04, 4.89847198e-04, 5.00957596e-04, 5.19324207e-04,\n",
       "       5.30032212e-04, 5.44023234e-04, 5.64060842e-04, 5.80576265e-04,\n",
       "       6.01093986e-04, 6.19175007e-04, 6.36779906e-04, 6.61505199e-04,\n",
       "       6.81177794e-04, 7.00991320e-04, 7.27572654e-04, 7.43373340e-04,\n",
       "       7.60702985e-04, 7.79101507e-04, 7.88327943e-04, 8.06840361e-04,\n",
       "       8.15953519e-04, 8.24017865e-04, 8.40037436e-04, 8.46300482e-04,\n",
       "       8.63651485e-04, 8.77467511e-04, 8.89244227e-04, 9.17517930e-04,\n",
       "       9.45745874e-04, 9.73588262e-04, 9.99167880e-04, 1.03942538e-03,\n",
       "       1.07129689e-03, 1.10808730e-03, 1.13816450e-03, 1.18011488e-03,\n",
       "       1.22020777e-03, 1.26800121e-03, 1.31251937e-03, 1.35656489e-03,\n",
       "       1.37811940e-03, 1.40216903e-03, 1.42482258e-03, 1.44458064e-03,\n",
       "       1.46497865e-03, 1.48160006e-03, 1.50610266e-03, 1.54546771e-03,\n",
       "       1.58816121e-03, 1.62966002e-03, 1.67664626e-03, 1.73709071e-03,\n",
       "       1.80839989e-03, 1.88639001e-03, 1.95366251e-03, 2.02939292e-03,\n",
       "       2.08835067e-03, 2.15838787e-03, 2.23689339e-03, 2.31725849e-03,\n",
       "       2.41095951e-03, 2.51612122e-03, 2.62727806e-03, 2.74510937e-03,\n",
       "       2.82636713e-03, 2.83670269e-03, 2.87051201e-03, 2.89308558e-03,\n",
       "       2.92682874e-03, 2.98244045e-03, 3.04479434e-03, 3.13141821e-03,\n",
       "       3.24202329e-03, 3.35130644e-03, 3.50653179e-03, 3.64760401e-03,\n",
       "       3.81621665e-03, 3.97761780e-03, 4.17700235e-03, 4.33581363e-03,\n",
       "       4.55797387e-03, 4.74000589e-03, 4.96104449e-03, 5.20171312e-03,\n",
       "       5.45852644e-03, 5.67031844e-03, 5.88706998e-03, 6.13134104e-03,\n",
       "       6.21927187e-03, 6.37628871e-03, 6.48690315e-03, 6.62696266e-03,\n",
       "       6.79929345e-03, 6.99905250e-03, 7.17843841e-03, 7.46143620e-03,\n",
       "       7.71872794e-03, 8.04037932e-03, 8.41841888e-03, 8.80894023e-03,\n",
       "       9.29866937e-03, 9.82298519e-03, 1.02611881e-02, 1.08174711e-02,\n",
       "       1.14325899e-02, 1.20611025e-02, 1.26550814e-02, 1.33905199e-02,\n",
       "       1.40795478e-02, 1.47631630e-02, 1.56198662e-02, 1.62117488e-02,\n",
       "       1.68701784e-02, 1.74632624e-02, 1.80310883e-02, 1.86851092e-02,\n",
       "       1.93620677e-02, 2.02795868e-02, 2.13193298e-02, 2.25157221e-02,\n",
       "       2.38106207e-02, 2.53091986e-02, 2.67309567e-02, 2.84832561e-02,\n",
       "       3.01653401e-02, 3.24994065e-02, 3.49087317e-02, 3.73365920e-02,\n",
       "       3.99359969e-02, 4.28162619e-02, 4.62218076e-02, 5.00004151e-02,\n",
       "       5.40741398e-02, 5.82111420e-02, 6.25596095e-02, 6.74002157e-02,\n",
       "       7.20406192e-02, 7.71579459e-02, 8.28544228e-02, 8.93102830e-02,\n",
       "       9.70679492e-02, 1.05568364e-01, 1.16359822e-01, 1.29200299e-01,\n",
       "       1.44646363e-01, 1.63200641e-01, 1.85117807e-01, 2.10924110e-01,\n",
       "       2.41536554e-01, 2.78557156e-01, 3.23507145e-01, 3.77791396e-01,\n",
       "       4.41669380e-01, 5.36584302e-01, 6.84364199e-01, 9.24081644e-01,\n",
       "       1.61449026e+00, 5.76609751e+00, 1.14163241e+01, 4.40147736e+01])"
      ]
     },
     "execution_count": 45,
     "metadata": {},
     "output_type": "execute_result"
    }
   ],
   "source": [
    "nt_ig_attr_score.reshape(-1)"
   ]
  },
  {
   "cell_type": "code",
   "execution_count": 46,
   "id": "aa42cc97",
   "metadata": {},
   "outputs": [
    {
     "data": {
      "text/plain": [
       "<AxesSubplot: >"
      ]
     },
     "execution_count": 46,
     "metadata": {},
     "output_type": "execute_result"
    },
    {
     "data": {
      "image/png": "[encoded data removed]",
      "text/plain": [
       "<Figure size 640x480 with 1 Axes>"
      ]
     },
     "metadata": {},
     "output_type": "display_data"
    }
   ],
   "source": [
    "total_mean_attr_df = pd.DataFrame({\"attr\":nt_ig_attr_score.reshape(-1)})\n",
    "total_mean_attr_df.plot()"
   ]
  },
  {
   "cell_type": "code",
   "execution_count": 47,
   "id": "29c96103",
   "metadata": {},
   "outputs": [
    {
     "ename": "TypeError",
     "evalue": "'int' object is not callable",
     "output_type": "error",
     "traceback": [
      "\u001b[0;31m---------------------------------------------------------------------------\u001b[0m",
      "\u001b[0;31mTypeError\u001b[0m                                 Traceback (most recent call last)",
      "Cell \u001b[0;32mIn[47], line 1\u001b[0m\n\u001b[0;32m----> 1\u001b[0m \u001b[43mtemp\u001b[49m\u001b[38;5;241;43m.\u001b[39;49m\u001b[43msize\u001b[49m\u001b[43m(\u001b[49m\u001b[43m)\u001b[49m\n",
      "\u001b[0;31mTypeError\u001b[0m: 'int' object is not callable"
     ]
    }
   ],
   "source": [
    "temp.size()"
   ]
  },
  {
   "cell_type": "code",
   "execution_count": null,
   "id": "817bccc5",
   "metadata": {},
   "outputs": [],
   "source": [
    "for val_batch in validation:\n",
    "    print(val_batch[0])\n",
    "    for val in val_batch[0]:\n",
    "        print(val)"
   ]
  },
  {
   "cell_type": "code",
   "execution_count": null,
   "id": "6ec61c62",
   "metadata": {},
   "outputs": [],
   "source": []
  }
 ],
 "metadata": {
  "kernelspec": {
   "display_name": "sj_virtual",
   "language": "python",
   "name": "myvenv"
  },
  "language_info": {
   "codemirror_mode": {
    "name": "ipython",
    "version": 3
   },
   "file_extension": ".py",
   "mimetype": "text/x-python",
   "name": "python",
   "nbconvert_exporter": "python",
   "pygments_lexer": "ipython3",
   "version": "3.8.10"
  },
  "varInspector": {
   "cols": {
    "lenName": 16,
    "lenType": 16,
    "lenVar": 40
   },
   "kernels_config": {
    "python": {
     "delete_cmd_postfix": "",
     "delete_cmd_prefix": "del ",
     "library": "var_list.py",
     "varRefreshCmd": "print(var_dic_list())"
    },
    "r": {
     "delete_cmd_postfix": ") ",
     "delete_cmd_prefix": "rm(",
     "library": "var_list.r",
     "varRefreshCmd": "cat(var_dic_list()) "
    }
   },
   "types_to_exclude": [
    "module",
    "function",
    "builtin_function_or_method",
    "instance",
    "_Feature"
   ],
   "window_display": false
  }
 },
 "nbformat": 4,
 "nbformat_minor": 5
}
