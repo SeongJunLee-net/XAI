{
 "cells": [
  {
   "cell_type": "code",
   "execution_count": 1,
   "id": "49e7e228",
   "metadata": {},
   "outputs": [
    {
     "name": "stderr",
     "output_type": "stream",
     "text": [
      "/home/sjlee/sj_virtual/lib/python3.8/site-packages/tqdm/auto.py:22: TqdmWarning: IProgress not found. Please update jupyter and ipywidgets. See https://ipywidgets.readthedocs.io/en/stable/user_install.html\n",
      "  from .autonotebook import tqdm as notebook_tqdm\n"
     ]
    }
   ],
   "source": [
    "import pandas as pd\n",
    "import numpy as np\n",
    "import random\n",
    "import copy\n",
    "import torch"
   ]
  },
  {
   "cell_type": "code",
   "execution_count": 2,
   "id": "96fd2e41",
   "metadata": {},
   "outputs": [],
   "source": [
    "seed = 42"
   ]
  },
  {
   "cell_type": "code",
   "execution_count": 3,
   "id": "16a31083",
   "metadata": {
    "scrolled": true
   },
   "outputs": [
    {
     "data": {
      "text/html": [
       "<div>\n",
       "<style scoped>\n",
       "    .dataframe tbody tr th:only-of-type {\n",
       "        vertical-align: middle;\n",
       "    }\n",
       "\n",
       "    .dataframe tbody tr th {\n",
       "        vertical-align: top;\n",
       "    }\n",
       "\n",
       "    .dataframe thead th {\n",
       "        text-align: right;\n",
       "    }\n",
       "</style>\n",
       "<table border=\"1\" class=\"dataframe\">\n",
       "  <thead>\n",
       "    <tr style=\"text-align: right;\">\n",
       "      <th></th>\n",
       "      <th>date</th>\n",
       "      <th>HUFL</th>\n",
       "      <th>HULL</th>\n",
       "      <th>MUFL</th>\n",
       "      <th>MULL</th>\n",
       "      <th>LUFL</th>\n",
       "      <th>LULL</th>\n",
       "      <th>OT</th>\n",
       "    </tr>\n",
       "  </thead>\n",
       "  <tbody>\n",
       "    <tr>\n",
       "      <th>0</th>\n",
       "      <td>2016-07-01 00:00:00</td>\n",
       "      <td>41.130001</td>\n",
       "      <td>12.481</td>\n",
       "      <td>36.535999</td>\n",
       "      <td>9.355</td>\n",
       "      <td>4.424</td>\n",
       "      <td>1.311</td>\n",
       "      <td>38.661999</td>\n",
       "    </tr>\n",
       "    <tr>\n",
       "      <th>1</th>\n",
       "      <td>2016-07-01 00:15:00</td>\n",
       "      <td>39.622002</td>\n",
       "      <td>11.309</td>\n",
       "      <td>35.543999</td>\n",
       "      <td>8.551</td>\n",
       "      <td>3.209</td>\n",
       "      <td>1.258</td>\n",
       "      <td>38.223000</td>\n",
       "    </tr>\n",
       "    <tr>\n",
       "      <th>2</th>\n",
       "      <td>2016-07-01 00:30:00</td>\n",
       "      <td>38.868000</td>\n",
       "      <td>10.555</td>\n",
       "      <td>34.365002</td>\n",
       "      <td>7.586</td>\n",
       "      <td>4.435</td>\n",
       "      <td>1.258</td>\n",
       "      <td>37.344002</td>\n",
       "    </tr>\n",
       "    <tr>\n",
       "      <th>3</th>\n",
       "      <td>2016-07-01 00:45:00</td>\n",
       "      <td>35.518002</td>\n",
       "      <td>9.214</td>\n",
       "      <td>32.569000</td>\n",
       "      <td>8.712</td>\n",
       "      <td>4.435</td>\n",
       "      <td>1.215</td>\n",
       "      <td>37.124001</td>\n",
       "    </tr>\n",
       "    <tr>\n",
       "      <th>4</th>\n",
       "      <td>2016-07-01 01:00:00</td>\n",
       "      <td>37.528000</td>\n",
       "      <td>10.136</td>\n",
       "      <td>33.936001</td>\n",
       "      <td>7.532</td>\n",
       "      <td>4.435</td>\n",
       "      <td>1.215</td>\n",
       "      <td>37.124001</td>\n",
       "    </tr>\n",
       "    <tr>\n",
       "      <th>...</th>\n",
       "      <td>...</td>\n",
       "      <td>...</td>\n",
       "      <td>...</td>\n",
       "      <td>...</td>\n",
       "      <td>...</td>\n",
       "      <td>...</td>\n",
       "      <td>...</td>\n",
       "      <td>...</td>\n",
       "    </tr>\n",
       "    <tr>\n",
       "      <th>69675</th>\n",
       "      <td>2018-06-26 18:45:00</td>\n",
       "      <td>42.722000</td>\n",
       "      <td>12.230</td>\n",
       "      <td>54.014000</td>\n",
       "      <td>12.652</td>\n",
       "      <td>-11.525</td>\n",
       "      <td>-1.418</td>\n",
       "      <td>45.986500</td>\n",
       "    </tr>\n",
       "    <tr>\n",
       "      <th>69676</th>\n",
       "      <td>2018-06-26 19:00:00</td>\n",
       "      <td>38.868000</td>\n",
       "      <td>10.052</td>\n",
       "      <td>49.859001</td>\n",
       "      <td>10.669</td>\n",
       "      <td>-11.525</td>\n",
       "      <td>-1.418</td>\n",
       "      <td>45.986500</td>\n",
       "    </tr>\n",
       "    <tr>\n",
       "      <th>69677</th>\n",
       "      <td>2018-06-26 19:15:00</td>\n",
       "      <td>39.622002</td>\n",
       "      <td>11.057</td>\n",
       "      <td>50.448002</td>\n",
       "      <td>11.795</td>\n",
       "      <td>-10.299</td>\n",
       "      <td>-1.418</td>\n",
       "      <td>45.546501</td>\n",
       "    </tr>\n",
       "    <tr>\n",
       "      <th>69678</th>\n",
       "      <td>2018-06-26 19:30:00</td>\n",
       "      <td>40.459999</td>\n",
       "      <td>11.392</td>\n",
       "      <td>51.841999</td>\n",
       "      <td>11.929</td>\n",
       "      <td>-11.536</td>\n",
       "      <td>-1.418</td>\n",
       "      <td>45.546501</td>\n",
       "    </tr>\n",
       "    <tr>\n",
       "      <th>69679</th>\n",
       "      <td>2018-06-26 19:45:00</td>\n",
       "      <td>43.223999</td>\n",
       "      <td>12.146</td>\n",
       "      <td>54.737000</td>\n",
       "      <td>12.679</td>\n",
       "      <td>-11.536</td>\n",
       "      <td>-1.418</td>\n",
       "      <td>45.327000</td>\n",
       "    </tr>\n",
       "  </tbody>\n",
       "</table>\n",
       "<p>69680 rows × 8 columns</p>\n",
       "</div>"
      ],
      "text/plain": [
       "                      date       HUFL    HULL       MUFL    MULL    LUFL  \\\n",
       "0      2016-07-01 00:00:00  41.130001  12.481  36.535999   9.355   4.424   \n",
       "1      2016-07-01 00:15:00  39.622002  11.309  35.543999   8.551   3.209   \n",
       "2      2016-07-01 00:30:00  38.868000  10.555  34.365002   7.586   4.435   \n",
       "3      2016-07-01 00:45:00  35.518002   9.214  32.569000   8.712   4.435   \n",
       "4      2016-07-01 01:00:00  37.528000  10.136  33.936001   7.532   4.435   \n",
       "...                    ...        ...     ...        ...     ...     ...   \n",
       "69675  2018-06-26 18:45:00  42.722000  12.230  54.014000  12.652 -11.525   \n",
       "69676  2018-06-26 19:00:00  38.868000  10.052  49.859001  10.669 -11.525   \n",
       "69677  2018-06-26 19:15:00  39.622002  11.057  50.448002  11.795 -10.299   \n",
       "69678  2018-06-26 19:30:00  40.459999  11.392  51.841999  11.929 -11.536   \n",
       "69679  2018-06-26 19:45:00  43.223999  12.146  54.737000  12.679 -11.536   \n",
       "\n",
       "        LULL         OT  \n",
       "0      1.311  38.661999  \n",
       "1      1.258  38.223000  \n",
       "2      1.258  37.344002  \n",
       "3      1.215  37.124001  \n",
       "4      1.215  37.124001  \n",
       "...      ...        ...  \n",
       "69675 -1.418  45.986500  \n",
       "69676 -1.418  45.986500  \n",
       "69677 -1.418  45.546501  \n",
       "69678 -1.418  45.546501  \n",
       "69679 -1.418  45.327000  \n",
       "\n",
       "[69680 rows x 8 columns]"
      ]
     },
     "execution_count": 3,
     "metadata": {},
     "output_type": "execute_result"
    }
   ],
   "source": [
    "data = pd.read_csv('../../GeneralData/ETTm2.csv')\n",
    "data"
   ]
  },
  {
   "cell_type": "code",
   "execution_count": 4,
   "id": "94c0a6f4",
   "metadata": {},
   "outputs": [],
   "source": [
    "import torch.nn as nn"
   ]
  },
  {
   "cell_type": "code",
   "execution_count": 5,
   "id": "c697a81d",
   "metadata": {},
   "outputs": [],
   "source": [
    "feature_size = 7"
   ]
  },
  {
   "cell_type": "code",
   "execution_count": 6,
   "id": "09ac4e1e",
   "metadata": {},
   "outputs": [],
   "source": [
    "# LSTM은 Encoder와 Decoder를 각각 구현해야 한다.\n",
    "class LSTM(nn.Module):\n",
    "    def __init__(self):\n",
    "        super().__init__()\n",
    "        self.hidden_size = 14\n",
    "        self.input_size = feature_size\n",
    "        self.encoder = nn.LSTM(input_size = self.input_size,\n",
    "                       hidden_size = self.hidden_size,\n",
    "                       num_layers = 1,\n",
    "                       batch_first = True).to(device)\n",
    "        # batch_first = True로 인해서 (batch,seq,feature)순으로 입력 받는다.\n",
    "        # 그 당시에 알고 있는 정보가 없으므로 input_size = 0\n",
    "        self.decoder = nn.LSTM(input_size = self.input_size,\n",
    "                       hidden_size = self.hidden_size,\n",
    "                       num_layers = 1,\n",
    "                       batch_first = True).to(device)\n",
    "        \n",
    "        \n",
    "        self.output_layer = nn.Linear(self.hidden_size, 1).to(device)\n",
    "    def forward(self,x):\n",
    "        x = x.to(device)\n",
    "        self.encoder.flatten_parameters()\n",
    "        self.decoder.flatten_parameters()\n",
    "        outputs,(hidden,cell) = self.encoder(x)\n",
    "        \n",
    "        # 현재 prediction_length = 1이기 때문에, 반복문을 돌리지 않아도 됨\n",
    "        # but 길어진다면 반복문을 돌려서 output값을 얻어야 한다.\n",
    "        # 기본적으로 output = hidden state이기에 output을 생성할\n",
    "        # Fully Connected Layer가 필요하게 된다.\n",
    "        # 이때 decoder_output의 사이즈는 (batch,seq,hidden) 이다\n",
    "        # 중간에 seq가 들어오게 되는 이유는 입력 크기 만큼 lstm이 반복되기 때문에\n",
    "        # seq=1 이기 때문에 squeeze를 수행\n",
    "        \n",
    "        hidden = hidden.to(device)\n",
    "        cell = cell.to(device)\n",
    "        decoder_input = torch.zeros([x.size(0),1,x.size(2)]).to(device)\n",
    "        decoder_out,(hidden,cell) = self.decoder(decoder_input,(hidden,cell))\n",
    "        decoder_out = decoder_out.squeeze(1)\n",
    "        \n",
    "        out = self.output_layer(decoder_out)\n",
    "        \n",
    "        return out"
   ]
  },
  {
   "cell_type": "code",
   "execution_count": 7,
   "id": "d63ecc9a",
   "metadata": {},
   "outputs": [
    {
     "data": {
      "text/plain": [
       "3"
      ]
     },
     "execution_count": 7,
     "metadata": {},
     "output_type": "execute_result"
    }
   ],
   "source": [
    "a = np.array([1,2,3])\n",
    "a.shape[0]"
   ]
  },
  {
   "cell_type": "code",
   "execution_count": 8,
   "id": "112c6db4",
   "metadata": {},
   "outputs": [
    {
     "data": {
      "text/plain": [
       "tensor([[[ 1.,  0.],\n",
       "         [ 0.,  4.]],\n",
       "\n",
       "        [[ 5.,  0.],\n",
       "         [ 0.,  8.]],\n",
       "\n",
       "        [[ 9.,  0.],\n",
       "         [ 0., 12.]]])"
      ]
     },
     "execution_count": 8,
     "metadata": {},
     "output_type": "execute_result"
    }
   ],
   "source": [
    "lst = [i for i in range(1,13)]\n",
    "A = torch.FloatTensor(lst).view(3,2,2)\n",
    "B = torch.zeros((2,2))\n",
    "B[0,0] = 1\n",
    "B[1,1] = 1\n",
    "A*B # BroadCasting"
   ]
  },
  {
   "cell_type": "code",
   "execution_count": 9,
   "id": "e80807a1",
   "metadata": {},
   "outputs": [],
   "source": [
    "class Filter(nn.Module):\n",
    "    def __init__(self):\n",
    "        super().__init__()\n",
    "        self.model = LSTM()\n",
    "    def forward(self,x,train_index_matrix=[]):\n",
    "        # 2차원 인덱스 리스트가 들어온다.\n",
    "        # train_index_matrix = 2차원\n",
    "        # 행은 time 열은 Feature를 의미\n",
    "        if len(train_index_matrix)==0:\n",
    "            return self.model(x)\n",
    "        filters = torch.FloatTensor(np.zeros((x.shape[1],x.shape[2])))\n",
    "        filters = filters.to(device)\n",
    "        for i in range(len(train_index_matrix)):\n",
    "            for train_idx in train_index_matrix[i]:\n",
    "                filters[train_idx,i] = 1\n",
    "        x = x*filters\n",
    "        out = self.model(x)\n",
    "        return out"
   ]
  },
  {
   "cell_type": "code",
   "execution_count": 10,
   "id": "40cabdd4",
   "metadata": {},
   "outputs": [],
   "source": [
    "from torch.utils.data import TensorDataset\n",
    "from torch.utils.data import DataLoader\n",
    "import torch"
   ]
  },
  {
   "cell_type": "code",
   "execution_count": 11,
   "id": "d7ca231d",
   "metadata": {},
   "outputs": [],
   "source": [
    "device = torch.device(\"cuda:0\")"
   ]
  },
  {
   "cell_type": "code",
   "execution_count": 12,
   "id": "2c99b1b4",
   "metadata": {},
   "outputs": [],
   "source": [
    "sequence_length = 1440 # 24*60 60일\n",
    "pred_length = 1 # 1시간\n",
    "split = int(len(data)*0.8)"
   ]
  },
  {
   "cell_type": "code",
   "execution_count": 13,
   "id": "2cdf5edd",
   "metadata": {},
   "outputs": [],
   "source": [
    "def seq_data(x,sequence_length,pred_len):\n",
    "    seq_list = []\n",
    "    target_list = []\n",
    "    device = torch.device(\"cuda:0\")\n",
    "    for i in range(0,len(x)-sequence_length):\n",
    "        # 시간데이터를 제외하고 추출\n",
    "        seq_list.append(x.iloc[i:i+sequence_length,1:].values)\n",
    "        # OT만 추출\n",
    "        target_list.append(x.iloc[i+sequence_length,-1])\n",
    "        \n",
    "    return torch.FloatTensor(seq_list).view(-1,sequence_length,7).to(device), torch.FloatTensor(target_list).view(-1,pred_len,1).to(device)"
   ]
  },
  {
   "cell_type": "code",
   "execution_count": null,
   "id": "efa8f205",
   "metadata": {
    "scrolled": false
   },
   "outputs": [
    {
     "name": "stderr",
     "output_type": "stream",
     "text": [
      "/tmp/ipykernel_1310630/2507691695.py:11: UserWarning: Creating a tensor from a list of numpy.ndarrays is extremely slow. Please consider converting the list to a single numpy.ndarray with numpy.array() before converting to a tensor. (Triggered internally at ../torch/csrc/utils/tensor_new.cpp:230.)\n",
      "  return torch.FloatTensor(seq_list).view(-1,sequence_length,7).to(device), torch.FloatTensor(target_list).view(-1,pred_len,1).to(device)\n"
     ]
    }
   ],
   "source": [
    "train = data.iloc[:split]\n",
    "val = data.iloc[split:]\n",
    "\n",
    "X_train, y_train = seq_data(train,sequence_length,pred_length)\n",
    "X_val, y_val = seq_data(val,sequence_length,pred_length)\n",
    "\n",
    "tr_dataset = TensorDataset(X_train, y_train)\n",
    "val_dataset = TensorDataset(X_val,y_val)\n",
    "\n",
    "training =  DataLoader(tr_dataset,batch_size = 64)\n",
    "validation = DataLoader(val_dataset,batch_size = 64)"
   ]
  },
  {
   "cell_type": "code",
   "execution_count": null,
   "id": "72d7da90",
   "metadata": {},
   "outputs": [],
   "source": [
    "torch.cuda.is_available()"
   ]
  },
  {
   "cell_type": "code",
   "execution_count": null,
   "id": "65b333ef",
   "metadata": {},
   "outputs": [],
   "source": [
    "X_train.size() # 168개의 sequence_length 7개의 Feature"
   ]
  },
  {
   "cell_type": "markdown",
   "id": "33adcbfd",
   "metadata": {},
   "source": [
    "* 잘 데이터가 구성된 걸 확인 가능"
   ]
  },
  {
   "cell_type": "code",
   "execution_count": null,
   "id": "e85b07c9",
   "metadata": {
    "scrolled": true
   },
   "outputs": [],
   "source": [
    "train.iloc[:169]"
   ]
  },
  {
   "cell_type": "code",
   "execution_count": null,
   "id": "61d18200",
   "metadata": {
    "scrolled": true
   },
   "outputs": [],
   "source": [
    "X_train"
   ]
  },
  {
   "cell_type": "code",
   "execution_count": null,
   "id": "4a6236e1",
   "metadata": {
    "scrolled": true
   },
   "outputs": [],
   "source": [
    "y_train"
   ]
  },
  {
   "cell_type": "code",
   "execution_count": null,
   "id": "dc60cdc4",
   "metadata": {},
   "outputs": [],
   "source": [
    "from torch.optim import Adam"
   ]
  },
  {
   "cell_type": "code",
   "execution_count": null,
   "id": "89a1e0ea",
   "metadata": {},
   "outputs": [],
   "source": [
    "random.seed(seed)\n",
    "np.random.seed(seed)\n",
    "torch.manual_seed(seed) # 난수 선언(원래는 cnt선언 위에 있었다)\n",
    "model = Filter().to(device)\n",
    "optimizer = Adam(model.parameters(),lr = 1e-4)\n",
    "num_epochs = 200\n",
    "n = len(training)"
   ]
  },
  {
   "cell_type": "code",
   "execution_count": null,
   "id": "740a413f",
   "metadata": {},
   "outputs": [],
   "source": [
    "def MSE(pred,target):\n",
    "    return torch.mean((pred-target)**2,dim = 0) # reduction까지 취해줌"
   ]
  },
  {
   "cell_type": "code",
   "execution_count": null,
   "id": "55798ba9",
   "metadata": {},
   "outputs": [],
   "source": [
    "model.named_parameters"
   ]
  },
  {
   "cell_type": "code",
   "execution_count": null,
   "id": "9e4d7125",
   "metadata": {
    "scrolled": true
   },
   "outputs": [],
   "source": [
    "random.seed(seed)\n",
    "np.random.seed(seed)\n",
    "torch.manual_seed(seed)\n",
    "minimal_loss=np.inf\n",
    "for epoch in range(num_epochs):  # loop over the dataset multiple times\n",
    "    running_loss = 0.0\n",
    "    for inputs, labels in training:\n",
    "        # forward pass\n",
    "        inputs = inputs\n",
    "        outputs = model(inputs)\n",
    "#         print(outputs.size())\n",
    "        outputs = outputs.view(-1,1)    \n",
    "        labels = labels.view(-1,1)\n",
    "        \n",
    "        # defining loss\n",
    "        loss = MSE(outputs, labels)\n",
    "        # zero the parameter gradients\n",
    "        optimizer.zero_grad()\n",
    "        # computing gradients\n",
    "        loss.backward()\n",
    "        # accumulating running loss\n",
    "        running_loss += loss.item()\n",
    "        # updated weights based on computed gradients\n",
    "        optimizer.step()\n",
    "    print('Epoch [%d]/[%d] running accumulative loss across all batches: %.3f' %(epoch + 1, num_epochs, (running_loss/n)))\n",
    "    if (running_loss/n)*100<minimal_loss:\n",
    "        best_model = copy.deepcopy(model)\n",
    "        minimal_loss = (running_loss/n)*100\n",
    "        print(\"changed\")\n",
    "\n",
    "model = best_model"
   ]
  },
  {
   "cell_type": "code",
   "execution_count": null,
   "id": "16fabeb0",
   "metadata": {},
   "outputs": [],
   "source": [
    "from captum.attr import IntegratedGradients,NoiseTunnel"
   ]
  },
  {
   "cell_type": "code",
   "execution_count": null,
   "id": "90bc847c",
   "metadata": {
    "scrolled": true
   },
   "outputs": [],
   "source": [
    "for val in validation:\n",
    "    print(val[0].size())"
   ]
  },
  {
   "cell_type": "code",
   "execution_count": null,
   "id": "168ef6c4",
   "metadata": {},
   "outputs": [],
   "source": [
    "test = next(iter(validation))[0][0] # 하나의 sample에 대해서 진행\n",
    "test = test.unsqueeze(0)\n",
    "test.size()"
   ]
  },
  {
   "cell_type": "code",
   "execution_count": null,
   "id": "ee29805d",
   "metadata": {},
   "outputs": [],
   "source": [
    "ig = IntegratedGradients(model)\n",
    "attr_score = ig.attribute(test,return_convergence_delta=True)\n",
    "attr_score"
   ]
  },
  {
   "cell_type": "code",
   "execution_count": null,
   "id": "aabf0606",
   "metadata": {},
   "outputs": [],
   "source": [
    "attr_score[0].size()"
   ]
  },
  {
   "cell_type": "code",
   "execution_count": null,
   "id": "594485bd",
   "metadata": {},
   "outputs": [],
   "source": [
    "delta = attr_score[1]"
   ]
  },
  {
   "cell_type": "code",
   "execution_count": null,
   "id": "8f8cbba6",
   "metadata": {},
   "outputs": [],
   "source": [
    "attr_score = attr_score[0]"
   ]
  },
  {
   "cell_type": "code",
   "execution_count": null,
   "id": "deba0ab8",
   "metadata": {},
   "outputs": [],
   "source": [
    "attr_score.to(\"cpu\")"
   ]
  },
  {
   "cell_type": "code",
   "execution_count": null,
   "id": "d868c396",
   "metadata": {
    "scrolled": false
   },
   "outputs": [],
   "source": [
    "plot_attribution = attr_score.to(\"cpu\").detach().numpy()\n",
    "plot_attribution"
   ]
  },
  {
   "cell_type": "code",
   "execution_count": null,
   "id": "31926d2f",
   "metadata": {},
   "outputs": [],
   "source": [
    "plot_attribution = plot_attribution.reshape(-1,7)"
   ]
  },
  {
   "cell_type": "code",
   "execution_count": null,
   "id": "15782df1",
   "metadata": {},
   "outputs": [],
   "source": [
    "column = data.columns[1:]\n",
    "column"
   ]
  },
  {
   "cell_type": "code",
   "execution_count": null,
   "id": "ac23ea50",
   "metadata": {},
   "outputs": [],
   "source": [
    "attr_df = pd.DataFrame(plot_attribution,columns=column)"
   ]
  },
  {
   "cell_type": "code",
   "execution_count": null,
   "id": "c2b8ff9d",
   "metadata": {},
   "outputs": [],
   "source": [
    "attr_df"
   ]
  },
  {
   "cell_type": "markdown",
   "id": "31d55f91",
   "metadata": {},
   "source": [
    "# 특징 관찰\n",
    "\n",
    "### our goal -> 특정 시간대를 추출해내는 방법을 고안"
   ]
  },
  {
   "cell_type": "code",
   "execution_count": null,
   "id": "81b09007",
   "metadata": {},
   "outputs": [],
   "source": [
    "next(iter(validation))[1][0]"
   ]
  },
  {
   "cell_type": "markdown",
   "id": "f501eed2",
   "metadata": {},
   "source": [
    "* 전체 Attribution DataFrame이 예측값을 나눈것으로 보임\n",
    "    * 현재 하나의 Sample Batch의 첫번째 Sample에 대해서 Attribution을 구했는데\n",
    "    하나의 DataFrame이 나왔음"
   ]
  },
  {
   "cell_type": "code",
   "execution_count": null,
   "id": "9a060f7e",
   "metadata": {},
   "outputs": [],
   "source": [
    "attr_df.sum(axis=0).sum()"
   ]
  },
  {
   "cell_type": "markdown",
   "id": "b77f4e46",
   "metadata": {},
   "source": [
    "1. delta가 attribution 유의미하게 작은지 확인\n",
    "2. baseline vector 넣었을떄 0인지"
   ]
  },
  {
   "cell_type": "markdown",
   "id": "5bf19dd9",
   "metadata": {},
   "source": [
    "### 1의 답"
   ]
  },
  {
   "cell_type": "code",
   "execution_count": null,
   "id": "f9512a03",
   "metadata": {},
   "outputs": [],
   "source": [
    "delta"
   ]
  },
  {
   "cell_type": "code",
   "execution_count": null,
   "id": "9fcc3025",
   "metadata": {},
   "outputs": [],
   "source": [
    "test_baseline = torch.FloatTensor(np.zeros((1,sequence_length,7)))\n",
    "base_pred = model(test_baseline)\n",
    "base_pred"
   ]
  },
  {
   "cell_type": "markdown",
   "id": "7983b830",
   "metadata": {},
   "source": [
    "### 2의 답"
   ]
  },
  {
   "attachments": {
    "image-2.png": {
     "image/png": "[encoded data removed]"
    },
    "image.png": {
     "image/png": "[encoded data removed]"
    }
   },
   "cell_type": "markdown",
   "id": "a51d3917",
   "metadata": {},
   "source": [
    "![image-2.png](attachment:image-2.png)\n",
    "![image.png](attachment:image.png)\n",
    "\n",
    "<font color = blue><font size = 5> what is CuDNN Compatibility?</font></font>"
   ]
  },
  {
   "cell_type": "markdown",
   "id": "c72c8d96",
   "metadata": {},
   "source": [
    "https://pytorch.org/docs/stable/_modules/torch/nn/modules/rnn.html"
   ]
  },
  {
   "attachments": {
    "image.png": {
     "image/png": "[encoded data removed]"
    }
   },
   "cell_type": "markdown",
   "id": "11f2d453",
   "metadata": {},
   "source": [
    "![image.png](attachment:image.png)"
   ]
  },
  {
   "cell_type": "markdown",
   "id": "b74dfdf1",
   "metadata": {},
   "source": [
    "* **LSTM의 bias는 4개가 존재하고 따라서 4*hiddensize만큼의 bias element갯수가 존재한다.**"
   ]
  },
  {
   "cell_type": "code",
   "execution_count": null,
   "id": "f692b098",
   "metadata": {},
   "outputs": [],
   "source": [
    "bias1 = model.model.encoder.bias_hh_l0\n",
    "bias1"
   ]
  },
  {
   "cell_type": "code",
   "execution_count": null,
   "id": "1a55adb8",
   "metadata": {},
   "outputs": [],
   "source": [
    "bias1.sum(axis=0)"
   ]
  },
  {
   "cell_type": "code",
   "execution_count": null,
   "id": "5c4197df",
   "metadata": {},
   "outputs": [],
   "source": [
    "model.model.encoder.bias_hh_l0.size()"
   ]
  },
  {
   "cell_type": "code",
   "execution_count": null,
   "id": "d7a22446",
   "metadata": {},
   "outputs": [],
   "source": [
    "bias2 = model.model.encoder.bias_ih_l0\n",
    "bias2"
   ]
  },
  {
   "cell_type": "code",
   "execution_count": null,
   "id": "86ed59ad",
   "metadata": {
    "scrolled": false
   },
   "outputs": [],
   "source": [
    "bias2.sum(axis = 0)"
   ]
  },
  {
   "cell_type": "markdown",
   "id": "fb47e4c1",
   "metadata": {},
   "source": [
    "* 하나의 샘플은 모두 (168,7)의 동일한 크기를 갖는다."
   ]
  },
  {
   "cell_type": "code",
   "execution_count": null,
   "id": "e454ae01",
   "metadata": {},
   "outputs": [],
   "source": [
    "cnt = 0\n",
    "ig = IntegratedGradients(model)\n",
    "ig_attr_score = np.zeros((sequence_length,feature_size))\n",
    "for val_batch in validation:\n",
    "    temp_n = val_batch[0].size(0)\n",
    "    for val in val_batch[0]: # 하나의 배치에 대해서 for문\n",
    "        val = val.unsqueeze(0)\n",
    "        temp = ig.attribute(val).abs()\n",
    "        # 각 attribution score의 절대값을 합한다.\n",
    "        # 이로써 각 시간별로 영향도를 구함\n",
    "        # 이 부분이 abs를 씌우는게 절대적인 영향을 반영하는데에 맞는 것 같다.\n",
    "        # 이전까진 씌우지 않았음\n",
    "        temp = temp.squeeze(0)\n",
    "        temp = temp.to(\"cpu\").detach().numpy()   \n",
    "        ig_attr_score = ig_attr_score+temp\n",
    "    cnt = cnt + temp_n\n",
    "ig_attr_score = ig_attr_score/cnt"
   ]
  },
  {
   "cell_type": "code",
   "execution_count": null,
   "id": "52415fc1",
   "metadata": {},
   "outputs": [],
   "source": [
    "data.columns[1:]"
   ]
  },
  {
   "cell_type": "code",
   "execution_count": null,
   "id": "115f7690",
   "metadata": {
    "scrolled": true
   },
   "outputs": [],
   "source": [
    "ig_attr_score[:,0]"
   ]
  },
  {
   "cell_type": "code",
   "execution_count": null,
   "id": "da8d1643",
   "metadata": {},
   "outputs": [],
   "source": [
    "np"
   ]
  },
  {
   "cell_type": "code",
   "execution_count": null,
   "id": "d44b4f1d",
   "metadata": {
    "scrolled": true
   },
   "outputs": [],
   "source": [
    "sub_attr_df = []\n",
    "for cnt,column in enumerate(list(data.columns[1:])):\n",
    "    attr_df = pd.DataFrame(ig_attr_score[:,0],columns = [column])\n",
    "    sub_attr_df.append(attr_df)\n",
    "sub_attr_df"
   ]
  },
  {
   "cell_type": "code",
   "execution_count": null,
   "id": "3b349261",
   "metadata": {
    "scrolled": true
   },
   "outputs": [],
   "source": [
    "candidate_sub_attr_df = []\n",
    "for attr_df in sub_attr_df:\n",
    "    IQR = 1.5*(attr_df.quantile(0.75)-attr_df.quantile(0.25))\n",
    "    outlier_max = attr_df.quantile(0.75)+IQR\n",
    "    outlier_min = attr_df.quantile(0.25)-IQR\n",
    "    candidate_attr = attr_df[(attr_df>=outlier_min) & (attr_df<=outlier_max)]\n",
    "    candidate_attr = candidate_attr.dropna()\n",
    "    candidate_sub_attr_df.append(candidate_attr)\n",
    "candidate_sub_attr_df"
   ]
  },
  {
   "cell_type": "code",
   "execution_count": null,
   "id": "87ef607a",
   "metadata": {},
   "outputs": [],
   "source": [
    "import matplotlib.pyplot as plt"
   ]
  },
  {
   "cell_type": "code",
   "execution_count": null,
   "id": "bdcf890c",
   "metadata": {},
   "outputs": [],
   "source": [
    "from sklearn.preprocessing import MinMaxScaler,StandardScaler\n",
    "filtering_attr_list = [] # scaling한 attribution dataframe을 저장\n",
    "fig,ax = plt.subplots(7,1,figsize = (10,20))\n",
    "for cnt,candidate_attr in enumerate(candidate_sub_attr_df):\n",
    "    scaler = MinMaxScaler()\n",
    "    scaler.fit(candidate_attr.values)\n",
    "    m_attr_df = scaler.transform(candidate_attr.values)\n",
    "    m_attr_df = pd.DataFrame({\"attr\":m_attr_df.reshape(-1)})\n",
    "    filtering_attr_list.append(m_attr_df)\n",
    "    ax[cnt].plot(m_attr_df)\n",
    "    ax[cnt].set_title(candidate_attr.columns.item())\n",
    "filtering_attr_list"
   ]
  },
  {
   "cell_type": "code",
   "execution_count": null,
   "id": "36a9af2a",
   "metadata": {},
   "outputs": [],
   "source": [
    "total_index_list = [] # train할 index를 저장해두는 리스트이다.\n",
    "for hyper_para in np.arange(0.00,1.00,0.01):\n",
    "    index_list = []\n",
    "    # filtering index를 만든다.\n",
    "    for m_attr_df in filtering_attr_list:\n",
    "        append_idx = list(m_attr_df[(m_attr_df['attr']>=hyper_para)].index)\n",
    "        index_list.append(append_idx)\n",
    "    total_index_list.append(index_list)\n",
    "len(total_index_list) "
   ]
  },
  {
   "cell_type": "code",
   "execution_count": null,
   "id": "f025d3be",
   "metadata": {},
   "outputs": [],
   "source": [
    "from pytorch_forecasting.metrics import SMAPE,MAE,RMSE"
   ]
  },
  {
   "cell_type": "code",
   "execution_count": null,
   "id": "cfd287d6",
   "metadata": {
    "scrolled": true
   },
   "outputs": [],
   "source": [
    "### 원래 난수가 선언된 위치\n",
    "m = len(validation)\n",
    "n = len(training)\n",
    "cnt = 0\n",
    "num_epochs = 100\n",
    "mse_out_list = []\n",
    "mae_out_list = []\n",
    "smape_out_list = []\n",
    "rmse_out_list = []\n",
    "for sub_index_list in total_index_list: #0.01~1.00 100개의 index에 대해서 수행\n",
    "    random.seed(seed)\n",
    "    np.random.seed(seed)\n",
    "    torch.manual_seed(seed) # 난수 선언(원래는 cnt선언 위에 있었다)\n",
    "    train_idx = sub_index_list\n",
    "    minimal_loss=np.inf\n",
    "    model = Filter().to(device) # 모델 초기화\n",
    "    optimizer = torch.optim.Adam(model.parameters(), lr=1e-4) # optimizer 초기화\n",
    "    result = 0\n",
    "    for epoch in range(num_epochs):  # loop over the dataset multiple times\n",
    "        running_loss = 0.0\n",
    "        for inputs, labels in training:\n",
    "            # forward pass\n",
    "            inputs = inputs\n",
    "            \n",
    "            outputs = model(inputs,train_idx)\n",
    "            outputs = outputs.view(-1,1)\n",
    "            labels = labels.view(-1,1)            \n",
    "            # defining loss\n",
    "            loss = MSE(outputs, labels)\n",
    "            # zero the parameter gradients\n",
    "            optimizer.zero_grad()\n",
    "            # computing gradients\n",
    "            loss.backward()\n",
    "            # accumulating running loss\n",
    "            running_loss += loss.item()\n",
    "            # updated weights based on computed gradients\n",
    "            optimizer.step()\n",
    "        if epoch == 99:    \n",
    "            print(f'{cnt}번째 모델 Training 완료 마지막 Epoch loss:{(running_loss/n)*100}')\n",
    "        \n",
    "        if (running_loss/n)*100<minimal_loss:\n",
    "            best_model = copy.deepcopy(model)\n",
    "            minimal_loss = (running_loss/n)*100\n",
    "            print(\"changed\")\n",
    "\n",
    "    model = best_model\n",
    "    cnt+=1\n",
    "    # 모델 Fully-Training 완료\n",
    "    \n",
    "    pred = torch.FloatTensor().to(device)\n",
    "    val_target = torch.FloatTensor().to(device)\n",
    "    for val_x,val_y in validation:\n",
    "        tmp_pred = model(val_x)\n",
    "        pred = torch.concat([pred,tmp_pred], dim=0)\n",
    "        val_target = torch.concat([val_target,val_y],dim = 0)\n",
    "    pred = pred.view(-1,1)\n",
    "    val_target = val_target.view(-1,1)\n",
    "    result = MSE(pred,val_target).item()\n",
    "    mse_out_list.append(result)\n",
    "    mae_out_list.append(MAE()(pred,val_target).item())\n",
    "    rmse_out_list.append(RMSE()(pred,val_target).item())\n",
    "    smape_out_list.append(SMAPE()(pred,val_target).item()*100)"
   ]
  },
  {
   "cell_type": "code",
   "execution_count": null,
   "id": "efa0c5cc",
   "metadata": {},
   "outputs": [],
   "source": [
    "len(mse_out_list)"
   ]
  },
  {
   "cell_type": "code",
   "execution_count": null,
   "id": "e9190690",
   "metadata": {},
   "outputs": [],
   "source": [
    "plt.plot(mse_out_list)"
   ]
  },
  {
   "cell_type": "code",
   "execution_count": null,
   "id": "e962aa43",
   "metadata": {},
   "outputs": [],
   "source": [
    "plt.plot(mae_out_list)"
   ]
  },
  {
   "cell_type": "code",
   "execution_count": null,
   "id": "ebdd0469",
   "metadata": {},
   "outputs": [],
   "source": [
    "plt.plot(rmse_out_list)"
   ]
  },
  {
   "cell_type": "code",
   "execution_count": null,
   "id": "10c25ede",
   "metadata": {},
   "outputs": [],
   "source": [
    "plt.plot(smape_out_list)"
   ]
  },
  {
   "cell_type": "code",
   "execution_count": null,
   "id": "d507c8f5",
   "metadata": {},
   "outputs": [],
   "source": []
  }
 ],
 "metadata": {
  "kernelspec": {
   "display_name": "sj_virtual",
   "language": "python",
   "name": "myvenv"
  },
  "language_info": {
   "codemirror_mode": {
    "name": "ipython",
    "version": 3
   },
   "file_extension": ".py",
   "mimetype": "text/x-python",
   "name": "python",
   "nbconvert_exporter": "python",
   "pygments_lexer": "ipython3",
   "version": "3.8.10"
  },
  "varInspector": {
   "cols": {
    "lenName": 16,
    "lenType": 16,
    "lenVar": 40
   },
   "kernels_config": {
    "python": {
     "delete_cmd_postfix": "",
     "delete_cmd_prefix": "del ",
     "library": "var_list.py",
     "varRefreshCmd": "print(var_dic_list())"
    },
    "r": {
     "delete_cmd_postfix": ") ",
     "delete_cmd_prefix": "rm(",
     "library": "var_list.r",
     "varRefreshCmd": "cat(var_dic_list()) "
    }
   },
   "types_to_exclude": [
    "module",
    "function",
    "builtin_function_or_method",
    "instance",
    "_Feature"
   ],
   "window_display": false
  }
 },
 "nbformat": 4,
 "nbformat_minor": 5
}
