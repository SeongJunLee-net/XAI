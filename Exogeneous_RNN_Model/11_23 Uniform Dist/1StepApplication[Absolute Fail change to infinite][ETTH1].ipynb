{
 "cells": [
  {
   "cell_type": "code",
   "execution_count": 1,
   "id": "49e7e228",
   "metadata": {},
   "outputs": [
    {
     "name": "stderr",
     "output_type": "stream",
     "text": [
      "/home/sjlee/sj_virtual/lib/python3.8/site-packages/tqdm/auto.py:22: TqdmWarning: IProgress not found. Please update jupyter and ipywidgets. See https://ipywidgets.readthedocs.io/en/stable/user_install.html\n",
      "  from .autonotebook import tqdm as notebook_tqdm\n"
     ]
    }
   ],
   "source": [
    "import pandas as pd\n",
    "import numpy as np\n",
    "import random\n",
    "import copy\n",
    "import torch"
   ]
  },
  {
   "cell_type": "code",
   "execution_count": 2,
   "id": "96fd2e41",
   "metadata": {},
   "outputs": [],
   "source": [
    "seed = 42"
   ]
  },
  {
   "cell_type": "code",
   "execution_count": 3,
   "id": "16a31083",
   "metadata": {
    "scrolled": false
   },
   "outputs": [
    {
     "data": {
      "text/html": [
       "<div>\n",
       "<style scoped>\n",
       "    .dataframe tbody tr th:only-of-type {\n",
       "        vertical-align: middle;\n",
       "    }\n",
       "\n",
       "    .dataframe tbody tr th {\n",
       "        vertical-align: top;\n",
       "    }\n",
       "\n",
       "    .dataframe thead th {\n",
       "        text-align: right;\n",
       "    }\n",
       "</style>\n",
       "<table border=\"1\" class=\"dataframe\">\n",
       "  <thead>\n",
       "    <tr style=\"text-align: right;\">\n",
       "      <th></th>\n",
       "      <th>date</th>\n",
       "      <th>HUFL</th>\n",
       "      <th>HULL</th>\n",
       "      <th>MUFL</th>\n",
       "      <th>MULL</th>\n",
       "      <th>LUFL</th>\n",
       "      <th>LULL</th>\n",
       "      <th>OT</th>\n",
       "    </tr>\n",
       "  </thead>\n",
       "  <tbody>\n",
       "    <tr>\n",
       "      <th>0</th>\n",
       "      <td>2016-07-01 00:00:00</td>\n",
       "      <td>5.827</td>\n",
       "      <td>2.009</td>\n",
       "      <td>1.599</td>\n",
       "      <td>0.462</td>\n",
       "      <td>4.203</td>\n",
       "      <td>1.340</td>\n",
       "      <td>30.531000</td>\n",
       "    </tr>\n",
       "    <tr>\n",
       "      <th>1</th>\n",
       "      <td>2016-07-01 01:00:00</td>\n",
       "      <td>5.693</td>\n",
       "      <td>2.076</td>\n",
       "      <td>1.492</td>\n",
       "      <td>0.426</td>\n",
       "      <td>4.142</td>\n",
       "      <td>1.371</td>\n",
       "      <td>27.787001</td>\n",
       "    </tr>\n",
       "    <tr>\n",
       "      <th>2</th>\n",
       "      <td>2016-07-01 02:00:00</td>\n",
       "      <td>5.157</td>\n",
       "      <td>1.741</td>\n",
       "      <td>1.279</td>\n",
       "      <td>0.355</td>\n",
       "      <td>3.777</td>\n",
       "      <td>1.218</td>\n",
       "      <td>27.787001</td>\n",
       "    </tr>\n",
       "    <tr>\n",
       "      <th>3</th>\n",
       "      <td>2016-07-01 03:00:00</td>\n",
       "      <td>5.090</td>\n",
       "      <td>1.942</td>\n",
       "      <td>1.279</td>\n",
       "      <td>0.391</td>\n",
       "      <td>3.807</td>\n",
       "      <td>1.279</td>\n",
       "      <td>25.044001</td>\n",
       "    </tr>\n",
       "    <tr>\n",
       "      <th>4</th>\n",
       "      <td>2016-07-01 04:00:00</td>\n",
       "      <td>5.358</td>\n",
       "      <td>1.942</td>\n",
       "      <td>1.492</td>\n",
       "      <td>0.462</td>\n",
       "      <td>3.868</td>\n",
       "      <td>1.279</td>\n",
       "      <td>21.948000</td>\n",
       "    </tr>\n",
       "    <tr>\n",
       "      <th>...</th>\n",
       "      <td>...</td>\n",
       "      <td>...</td>\n",
       "      <td>...</td>\n",
       "      <td>...</td>\n",
       "      <td>...</td>\n",
       "      <td>...</td>\n",
       "      <td>...</td>\n",
       "      <td>...</td>\n",
       "    </tr>\n",
       "    <tr>\n",
       "      <th>17415</th>\n",
       "      <td>2018-06-26 15:00:00</td>\n",
       "      <td>-1.674</td>\n",
       "      <td>3.550</td>\n",
       "      <td>-5.615</td>\n",
       "      <td>2.132</td>\n",
       "      <td>3.472</td>\n",
       "      <td>1.523</td>\n",
       "      <td>10.904000</td>\n",
       "    </tr>\n",
       "    <tr>\n",
       "      <th>17416</th>\n",
       "      <td>2018-06-26 16:00:00</td>\n",
       "      <td>-5.492</td>\n",
       "      <td>4.287</td>\n",
       "      <td>-9.132</td>\n",
       "      <td>2.274</td>\n",
       "      <td>3.533</td>\n",
       "      <td>1.675</td>\n",
       "      <td>11.044000</td>\n",
       "    </tr>\n",
       "    <tr>\n",
       "      <th>17417</th>\n",
       "      <td>2018-06-26 17:00:00</td>\n",
       "      <td>2.813</td>\n",
       "      <td>3.818</td>\n",
       "      <td>-0.817</td>\n",
       "      <td>2.097</td>\n",
       "      <td>3.716</td>\n",
       "      <td>1.523</td>\n",
       "      <td>10.271000</td>\n",
       "    </tr>\n",
       "    <tr>\n",
       "      <th>17418</th>\n",
       "      <td>2018-06-26 18:00:00</td>\n",
       "      <td>9.243</td>\n",
       "      <td>3.818</td>\n",
       "      <td>5.472</td>\n",
       "      <td>2.097</td>\n",
       "      <td>3.655</td>\n",
       "      <td>1.432</td>\n",
       "      <td>9.778000</td>\n",
       "    </tr>\n",
       "    <tr>\n",
       "      <th>17419</th>\n",
       "      <td>2018-06-26 19:00:00</td>\n",
       "      <td>10.114</td>\n",
       "      <td>3.550</td>\n",
       "      <td>6.183</td>\n",
       "      <td>1.564</td>\n",
       "      <td>3.716</td>\n",
       "      <td>1.462</td>\n",
       "      <td>9.567000</td>\n",
       "    </tr>\n",
       "  </tbody>\n",
       "</table>\n",
       "<p>17420 rows × 8 columns</p>\n",
       "</div>"
      ],
      "text/plain": [
       "                      date    HUFL   HULL   MUFL   MULL   LUFL   LULL  \\\n",
       "0      2016-07-01 00:00:00   5.827  2.009  1.599  0.462  4.203  1.340   \n",
       "1      2016-07-01 01:00:00   5.693  2.076  1.492  0.426  4.142  1.371   \n",
       "2      2016-07-01 02:00:00   5.157  1.741  1.279  0.355  3.777  1.218   \n",
       "3      2016-07-01 03:00:00   5.090  1.942  1.279  0.391  3.807  1.279   \n",
       "4      2016-07-01 04:00:00   5.358  1.942  1.492  0.462  3.868  1.279   \n",
       "...                    ...     ...    ...    ...    ...    ...    ...   \n",
       "17415  2018-06-26 15:00:00  -1.674  3.550 -5.615  2.132  3.472  1.523   \n",
       "17416  2018-06-26 16:00:00  -5.492  4.287 -9.132  2.274  3.533  1.675   \n",
       "17417  2018-06-26 17:00:00   2.813  3.818 -0.817  2.097  3.716  1.523   \n",
       "17418  2018-06-26 18:00:00   9.243  3.818  5.472  2.097  3.655  1.432   \n",
       "17419  2018-06-26 19:00:00  10.114  3.550  6.183  1.564  3.716  1.462   \n",
       "\n",
       "              OT  \n",
       "0      30.531000  \n",
       "1      27.787001  \n",
       "2      27.787001  \n",
       "3      25.044001  \n",
       "4      21.948000  \n",
       "...          ...  \n",
       "17415  10.904000  \n",
       "17416  11.044000  \n",
       "17417  10.271000  \n",
       "17418   9.778000  \n",
       "17419   9.567000  \n",
       "\n",
       "[17420 rows x 8 columns]"
      ]
     },
     "execution_count": 3,
     "metadata": {},
     "output_type": "execute_result"
    }
   ],
   "source": [
    "data = pd.read_csv('../../GeneralData/ETTh1.csv')\n",
    "data"
   ]
  },
  {
   "cell_type": "code",
   "execution_count": 4,
   "id": "94c0a6f4",
   "metadata": {},
   "outputs": [],
   "source": [
    "import torch.nn as nn"
   ]
  },
  {
   "cell_type": "code",
   "execution_count": 5,
   "id": "c697a81d",
   "metadata": {},
   "outputs": [],
   "source": [
    "feature_size = 7"
   ]
  },
  {
   "cell_type": "code",
   "execution_count": 6,
   "id": "09ac4e1e",
   "metadata": {},
   "outputs": [],
   "source": [
    "# LSTM은 Encoder와 Decoder를 각각 구현해야 한다.\n",
    "class LSTM(nn.Module):\n",
    "    def __init__(self):\n",
    "        super().__init__()\n",
    "        self.hidden_size = 14\n",
    "        self.input_size = feature_size\n",
    "        self.encoder = nn.LSTM(input_size = self.input_size,\n",
    "                       hidden_size = self.hidden_size,\n",
    "                       num_layers = 1,\n",
    "                       batch_first = True).to(device)\n",
    "        # batch_first = True로 인해서 (batch,seq,feature)순으로 입력 받는다.\n",
    "        # 그 당시에 알고 있는 정보가 없으므로 input_size = 0\n",
    "        self.decoder = nn.LSTM(input_size = self.input_size,\n",
    "                       hidden_size = self.hidden_size,\n",
    "                       num_layers = 1,\n",
    "                       batch_first = True).to(device)\n",
    "        \n",
    "        \n",
    "        self.output_layer = nn.Linear(self.hidden_size, 1).to(device)\n",
    "    def forward(self,x):\n",
    "        x = x.to(device)\n",
    "        self.encoder.flatten_parameters()\n",
    "        self.decoder.flatten_parameters()\n",
    "        outputs,(hidden,cell) = self.encoder(x)\n",
    "        \n",
    "        # 현재 prediction_length = 1이기 때문에, 반복문을 돌리지 않아도 됨\n",
    "        # but 길어진다면 반복문을 돌려서 output값을 얻어야 한다.\n",
    "        # 기본적으로 output = hidden state이기에 output을 생성할\n",
    "        # Fully Connected Layer가 필요하게 된다.\n",
    "        # 이때 decoder_output의 사이즈는 (batch,seq,hidden) 이다\n",
    "        # 중간에 seq가 들어오게 되는 이유는 입력 크기 만큼 lstm이 반복되기 때문에\n",
    "        # seq=1 이기 때문에 squeeze를 수행\n",
    "        \n",
    "        hidden = hidden.to(device)\n",
    "        cell = cell.to(device)\n",
    "        decoder_input = torch.zeros([x.size(0),1,x.size(2)]).to(device)\n",
    "        decoder_out,(hidden,cell) = self.decoder(decoder_input,(hidden,cell))\n",
    "        decoder_out = decoder_out.squeeze(1)\n",
    "        \n",
    "        out = self.output_layer(decoder_out)\n",
    "        \n",
    "        return out"
   ]
  },
  {
   "cell_type": "code",
   "execution_count": 7,
   "id": "5148f84a",
   "metadata": {},
   "outputs": [
    {
     "data": {
      "text/plain": [
       "3"
      ]
     },
     "execution_count": 7,
     "metadata": {},
     "output_type": "execute_result"
    }
   ],
   "source": [
    "a = np.array([1,2,3])\n",
    "a.shape[0]"
   ]
  },
  {
   "cell_type": "code",
   "execution_count": 8,
   "id": "35993067",
   "metadata": {},
   "outputs": [
    {
     "data": {
      "text/plain": [
       "tensor([[[ 1.,  0.],\n",
       "         [ 0.,  4.]],\n",
       "\n",
       "        [[ 5.,  0.],\n",
       "         [ 0.,  8.]],\n",
       "\n",
       "        [[ 9.,  0.],\n",
       "         [ 0., 12.]]])"
      ]
     },
     "execution_count": 8,
     "metadata": {},
     "output_type": "execute_result"
    }
   ],
   "source": [
    "lst = [i for i in range(1,13)]\n",
    "A = torch.FloatTensor(lst).view(3,2,2)\n",
    "B = torch.zeros((2,2))\n",
    "B[0,0] = 1\n",
    "B[1,1] = 1\n",
    "A*B # BroadCasting"
   ]
  },
  {
   "cell_type": "code",
   "execution_count": 9,
   "id": "6df00f1d",
   "metadata": {},
   "outputs": [],
   "source": [
    "class Filter(nn.Module):\n",
    "    def __init__(self):\n",
    "        super().__init__()\n",
    "        self.model = LSTM()\n",
    "    def forward(self,x,train_index_matrix=[]):\n",
    "        # 2차원 인덱스 리스트가 들어온다.\n",
    "        # train_index_matrix = 2차원\n",
    "        # 행은 time 열은 Feature를 의미\n",
    "        if len(train_index_matrix)==0:\n",
    "            return self.model(x)\n",
    "        filters = torch.FloatTensor(np.full((x.shape[1],x.shape[2]),-np.inf))\n",
    "        filters = filters.to(device)\n",
    "        for i in range(len(train_index_matrix)):\n",
    "            for train_idx in train_index_matrix[i]:\n",
    "                filters[train_idx,i] = 1\n",
    "        x = x*filters\n",
    "        out = self.model(x)\n",
    "        return out"
   ]
  },
  {
   "cell_type": "code",
   "execution_count": 10,
   "id": "40cabdd4",
   "metadata": {},
   "outputs": [],
   "source": [
    "from torch.utils.data import TensorDataset\n",
    "from torch.utils.data import DataLoader\n",
    "import torch"
   ]
  },
  {
   "cell_type": "code",
   "execution_count": 11,
   "id": "d7ca231d",
   "metadata": {},
   "outputs": [],
   "source": [
    "device = torch.device(\"cuda:0\")"
   ]
  },
  {
   "cell_type": "code",
   "execution_count": 12,
   "id": "2c99b1b4",
   "metadata": {},
   "outputs": [],
   "source": [
    "sequence_length = 168 # 24*7 1주일\n",
    "pred_length = 1 # 1시간\n",
    "split = int(len(data)*0.8)"
   ]
  },
  {
   "cell_type": "code",
   "execution_count": 13,
   "id": "2cdf5edd",
   "metadata": {},
   "outputs": [],
   "source": [
    "def seq_data(x,sequence_length,pred_len):\n",
    "    seq_list = []\n",
    "    target_list = []\n",
    "    device = torch.device(\"cuda:0\")\n",
    "    for i in range(0,len(x)-sequence_length):\n",
    "        # 시간데이터를 제외하고 추출\n",
    "        seq_list.append(x.iloc[i:i+sequence_length,1:].values)\n",
    "        # OT만 추출\n",
    "        target_list.append(x.iloc[i+sequence_length,-1])\n",
    "        \n",
    "    return torch.FloatTensor(seq_list).view(-1,sequence_length,7).to(device), torch.FloatTensor(target_list).view(-1,pred_len,1).to(device)"
   ]
  },
  {
   "cell_type": "code",
   "execution_count": 14,
   "id": "efa8f205",
   "metadata": {
    "scrolled": false
   },
   "outputs": [
    {
     "name": "stderr",
     "output_type": "stream",
     "text": [
      "/tmp/ipykernel_1368970/2507691695.py:11: UserWarning: Creating a tensor from a list of numpy.ndarrays is extremely slow. Please consider converting the list to a single numpy.ndarray with numpy.array() before converting to a tensor. (Triggered internally at ../torch/csrc/utils/tensor_new.cpp:230.)\n",
      "  return torch.FloatTensor(seq_list).view(-1,sequence_length,7).to(device), torch.FloatTensor(target_list).view(-1,pred_len,1).to(device)\n"
     ]
    }
   ],
   "source": [
    "train = data.iloc[:split]\n",
    "val = data.iloc[split:]\n",
    "\n",
    "X_train, y_train = seq_data(train,sequence_length,pred_length)\n",
    "X_val, y_val = seq_data(val,sequence_length,pred_length)\n",
    "\n",
    "tr_dataset = TensorDataset(X_train, y_train)\n",
    "val_dataset = TensorDataset(X_val,y_val)\n",
    "\n",
    "training =  DataLoader(tr_dataset,batch_size = 64)\n",
    "validation = DataLoader(val_dataset,batch_size = 64)"
   ]
  },
  {
   "cell_type": "code",
   "execution_count": 15,
   "id": "72d7da90",
   "metadata": {},
   "outputs": [
    {
     "data": {
      "text/plain": [
       "True"
      ]
     },
     "execution_count": 15,
     "metadata": {},
     "output_type": "execute_result"
    }
   ],
   "source": [
    "torch.cuda.is_available()"
   ]
  },
  {
   "cell_type": "code",
   "execution_count": 16,
   "id": "65b333ef",
   "metadata": {},
   "outputs": [
    {
     "data": {
      "text/plain": [
       "torch.Size([13768, 168, 7])"
      ]
     },
     "execution_count": 16,
     "metadata": {},
     "output_type": "execute_result"
    }
   ],
   "source": [
    "X_train.size() # 168개의 sequence_length 7개의 Feature"
   ]
  },
  {
   "cell_type": "markdown",
   "id": "33adcbfd",
   "metadata": {},
   "source": [
    "* 잘 데이터가 구성된 걸 확인 가능"
   ]
  },
  {
   "cell_type": "code",
   "execution_count": 17,
   "id": "e85b07c9",
   "metadata": {
    "scrolled": true
   },
   "outputs": [
    {
     "data": {
      "text/html": [
       "<div>\n",
       "<style scoped>\n",
       "    .dataframe tbody tr th:only-of-type {\n",
       "        vertical-align: middle;\n",
       "    }\n",
       "\n",
       "    .dataframe tbody tr th {\n",
       "        vertical-align: top;\n",
       "    }\n",
       "\n",
       "    .dataframe thead th {\n",
       "        text-align: right;\n",
       "    }\n",
       "</style>\n",
       "<table border=\"1\" class=\"dataframe\">\n",
       "  <thead>\n",
       "    <tr style=\"text-align: right;\">\n",
       "      <th></th>\n",
       "      <th>date</th>\n",
       "      <th>HUFL</th>\n",
       "      <th>HULL</th>\n",
       "      <th>MUFL</th>\n",
       "      <th>MULL</th>\n",
       "      <th>LUFL</th>\n",
       "      <th>LULL</th>\n",
       "      <th>OT</th>\n",
       "    </tr>\n",
       "  </thead>\n",
       "  <tbody>\n",
       "    <tr>\n",
       "      <th>0</th>\n",
       "      <td>2016-07-01 00:00:00</td>\n",
       "      <td>5.827</td>\n",
       "      <td>2.009</td>\n",
       "      <td>1.599</td>\n",
       "      <td>0.462</td>\n",
       "      <td>4.203</td>\n",
       "      <td>1.340</td>\n",
       "      <td>30.531000</td>\n",
       "    </tr>\n",
       "    <tr>\n",
       "      <th>1</th>\n",
       "      <td>2016-07-01 01:00:00</td>\n",
       "      <td>5.693</td>\n",
       "      <td>2.076</td>\n",
       "      <td>1.492</td>\n",
       "      <td>0.426</td>\n",
       "      <td>4.142</td>\n",
       "      <td>1.371</td>\n",
       "      <td>27.787001</td>\n",
       "    </tr>\n",
       "    <tr>\n",
       "      <th>2</th>\n",
       "      <td>2016-07-01 02:00:00</td>\n",
       "      <td>5.157</td>\n",
       "      <td>1.741</td>\n",
       "      <td>1.279</td>\n",
       "      <td>0.355</td>\n",
       "      <td>3.777</td>\n",
       "      <td>1.218</td>\n",
       "      <td>27.787001</td>\n",
       "    </tr>\n",
       "    <tr>\n",
       "      <th>3</th>\n",
       "      <td>2016-07-01 03:00:00</td>\n",
       "      <td>5.090</td>\n",
       "      <td>1.942</td>\n",
       "      <td>1.279</td>\n",
       "      <td>0.391</td>\n",
       "      <td>3.807</td>\n",
       "      <td>1.279</td>\n",
       "      <td>25.044001</td>\n",
       "    </tr>\n",
       "    <tr>\n",
       "      <th>4</th>\n",
       "      <td>2016-07-01 04:00:00</td>\n",
       "      <td>5.358</td>\n",
       "      <td>1.942</td>\n",
       "      <td>1.492</td>\n",
       "      <td>0.462</td>\n",
       "      <td>3.868</td>\n",
       "      <td>1.279</td>\n",
       "      <td>21.948000</td>\n",
       "    </tr>\n",
       "    <tr>\n",
       "      <th>...</th>\n",
       "      <td>...</td>\n",
       "      <td>...</td>\n",
       "      <td>...</td>\n",
       "      <td>...</td>\n",
       "      <td>...</td>\n",
       "      <td>...</td>\n",
       "      <td>...</td>\n",
       "      <td>...</td>\n",
       "    </tr>\n",
       "    <tr>\n",
       "      <th>164</th>\n",
       "      <td>2016-07-07 20:00:00</td>\n",
       "      <td>11.119</td>\n",
       "      <td>4.153</td>\n",
       "      <td>7.427</td>\n",
       "      <td>1.919</td>\n",
       "      <td>3.746</td>\n",
       "      <td>1.675</td>\n",
       "      <td>32.922001</td>\n",
       "    </tr>\n",
       "    <tr>\n",
       "      <th>165</th>\n",
       "      <td>2016-07-07 21:00:00</td>\n",
       "      <td>10.449</td>\n",
       "      <td>3.282</td>\n",
       "      <td>7.107</td>\n",
       "      <td>1.279</td>\n",
       "      <td>3.594</td>\n",
       "      <td>1.706</td>\n",
       "      <td>33.625999</td>\n",
       "    </tr>\n",
       "    <tr>\n",
       "      <th>166</th>\n",
       "      <td>2016-07-07 22:00:00</td>\n",
       "      <td>10.516</td>\n",
       "      <td>3.885</td>\n",
       "      <td>7.356</td>\n",
       "      <td>1.599</td>\n",
       "      <td>3.168</td>\n",
       "      <td>1.675</td>\n",
       "      <td>32.640999</td>\n",
       "    </tr>\n",
       "    <tr>\n",
       "      <th>167</th>\n",
       "      <td>2016-07-07 23:00:00</td>\n",
       "      <td>11.855</td>\n",
       "      <td>5.358</td>\n",
       "      <td>8.884</td>\n",
       "      <td>3.198</td>\n",
       "      <td>3.076</td>\n",
       "      <td>1.553</td>\n",
       "      <td>31.586000</td>\n",
       "    </tr>\n",
       "    <tr>\n",
       "      <th>168</th>\n",
       "      <td>2016-07-08 00:00:00</td>\n",
       "      <td>11.855</td>\n",
       "      <td>4.756</td>\n",
       "      <td>8.884</td>\n",
       "      <td>2.985</td>\n",
       "      <td>2.955</td>\n",
       "      <td>1.523</td>\n",
       "      <td>31.093000</td>\n",
       "    </tr>\n",
       "  </tbody>\n",
       "</table>\n",
       "<p>169 rows × 8 columns</p>\n",
       "</div>"
      ],
      "text/plain": [
       "                    date    HUFL   HULL   MUFL   MULL   LUFL   LULL         OT\n",
       "0    2016-07-01 00:00:00   5.827  2.009  1.599  0.462  4.203  1.340  30.531000\n",
       "1    2016-07-01 01:00:00   5.693  2.076  1.492  0.426  4.142  1.371  27.787001\n",
       "2    2016-07-01 02:00:00   5.157  1.741  1.279  0.355  3.777  1.218  27.787001\n",
       "3    2016-07-01 03:00:00   5.090  1.942  1.279  0.391  3.807  1.279  25.044001\n",
       "4    2016-07-01 04:00:00   5.358  1.942  1.492  0.462  3.868  1.279  21.948000\n",
       "..                   ...     ...    ...    ...    ...    ...    ...        ...\n",
       "164  2016-07-07 20:00:00  11.119  4.153  7.427  1.919  3.746  1.675  32.922001\n",
       "165  2016-07-07 21:00:00  10.449  3.282  7.107  1.279  3.594  1.706  33.625999\n",
       "166  2016-07-07 22:00:00  10.516  3.885  7.356  1.599  3.168  1.675  32.640999\n",
       "167  2016-07-07 23:00:00  11.855  5.358  8.884  3.198  3.076  1.553  31.586000\n",
       "168  2016-07-08 00:00:00  11.855  4.756  8.884  2.985  2.955  1.523  31.093000\n",
       "\n",
       "[169 rows x 8 columns]"
      ]
     },
     "execution_count": 17,
     "metadata": {},
     "output_type": "execute_result"
    }
   ],
   "source": [
    "train.iloc[:169]"
   ]
  },
  {
   "cell_type": "code",
   "execution_count": 18,
   "id": "61d18200",
   "metadata": {
    "scrolled": true
   },
   "outputs": [
    {
     "data": {
      "text/plain": [
       "tensor([[[  5.8270,   2.0090,   1.5990,  ...,   4.2030,   1.3400,  30.5310],\n",
       "         [  5.6930,   2.0760,   1.4920,  ...,   4.1420,   1.3710,  27.7870],\n",
       "         [  5.1570,   1.7410,   1.2790,  ...,   3.7770,   1.2180,  27.7870],\n",
       "         ...,\n",
       "         [ 10.4490,   3.2820,   7.1070,  ...,   3.5940,   1.7060,  33.6260],\n",
       "         [ 10.5160,   3.8850,   7.3560,  ...,   3.1680,   1.6750,  32.6410],\n",
       "         [ 11.8550,   5.3580,   8.8840,  ...,   3.0760,   1.5530,  31.5860]],\n",
       "\n",
       "        [[  5.6930,   2.0760,   1.4920,  ...,   4.1420,   1.3710,  27.7870],\n",
       "         [  5.1570,   1.7410,   1.2790,  ...,   3.7770,   1.2180,  27.7870],\n",
       "         [  5.0900,   1.9420,   1.2790,  ...,   3.8070,   1.2790,  25.0440],\n",
       "         ...,\n",
       "         [ 10.5160,   3.8850,   7.3560,  ...,   3.1680,   1.6750,  32.6410],\n",
       "         [ 11.8550,   5.3580,   8.8840,  ...,   3.0760,   1.5530,  31.5860],\n",
       "         [ 11.8550,   4.7560,   8.8840,  ...,   2.9550,   1.5230,  31.0930]],\n",
       "\n",
       "        [[  5.1570,   1.7410,   1.2790,  ...,   3.7770,   1.2180,  27.7870],\n",
       "         [  5.0900,   1.9420,   1.2790,  ...,   3.8070,   1.2790,  25.0440],\n",
       "         [  5.3580,   1.9420,   1.4920,  ...,   3.8680,   1.2790,  21.9480],\n",
       "         ...,\n",
       "         [ 11.8550,   5.3580,   8.8840,  ...,   3.0760,   1.5530,  31.5860],\n",
       "         [ 11.8550,   4.7560,   8.8840,  ...,   2.9550,   1.5230,  31.0930],\n",
       "         [ 10.3820,   4.7560,   7.9950,  ...,   2.4980,   1.3400,  30.7420]],\n",
       "\n",
       "        ...,\n",
       "\n",
       "        [[ 15.4720,   3.1480,  10.2700,  ...,   4.6300,   0.8220,  -3.0250],\n",
       "         [ 14.8030,   2.9470,  10.3410,  ...,   4.6600,   0.8830,  -2.4620],\n",
       "         [ 15.3380,   3.3490,  10.6610,  ...,   4.7820,   1.0360,  -3.0950],\n",
       "         ...,\n",
       "         [ -2.3440,   2.8130,  -6.0410,  ...,   3.5940,   0.9140,   3.7990],\n",
       "         [  5.2910,   2.5450,   1.0310,  ...,   4.3250,   0.9140,   4.7130],\n",
       "         [ -9.3770,   3.0810, -13.3260,  ...,   3.6250,   0.9140,   4.2910]],\n",
       "\n",
       "        [[ 14.8030,   2.9470,  10.3410,  ...,   4.6600,   0.8830,  -2.4620],\n",
       "         [ 15.3380,   3.3490,  10.6610,  ...,   4.7820,   1.0360,  -3.0950],\n",
       "         [ 16.1420,   3.6170,  11.0870,  ...,   5.0260,   0.9750,  -2.8840],\n",
       "         ...,\n",
       "         [  5.2910,   2.5450,   1.0310,  ...,   4.3250,   0.9140,   4.7130],\n",
       "         [ -9.3770,   3.0810, -13.3260,  ...,   3.6250,   0.9140,   4.2910],\n",
       "         [  1.6080,   2.7460,  -2.3100,  ...,   4.1120,   1.1570,   4.2910]],\n",
       "\n",
       "        [[ 15.3380,   3.3490,  10.6610,  ...,   4.7820,   1.0360,  -3.0950],\n",
       "         [ 16.1420,   3.6170,  11.0870,  ...,   5.0260,   0.9750,  -2.8840],\n",
       "         [ 16.6780,   3.5500,  11.1580,  ...,   5.4220,   0.9440,  -2.3920],\n",
       "         ...,\n",
       "         [ -9.3770,   3.0810, -13.3260,  ...,   3.6250,   0.9140,   4.2910],\n",
       "         [  1.6080,   2.7460,  -2.3100,  ...,   4.1120,   1.1570,   4.2910],\n",
       "         [ -7.5020,   3.0810, -11.3360,  ...,   3.5940,   1.1880,   6.2610]]],\n",
       "       device='cuda:0')"
      ]
     },
     "execution_count": 18,
     "metadata": {},
     "output_type": "execute_result"
    }
   ],
   "source": [
    "X_train"
   ]
  },
  {
   "cell_type": "code",
   "execution_count": 19,
   "id": "4a6236e1",
   "metadata": {
    "scrolled": true
   },
   "outputs": [
    {
     "data": {
      "text/plain": [
       "tensor([[[31.0930]],\n",
       "\n",
       "        [[30.7420]],\n",
       "\n",
       "        [[29.3350]],\n",
       "\n",
       "        ...,\n",
       "\n",
       "        [[ 4.2910]],\n",
       "\n",
       "        [[ 6.2610]],\n",
       "\n",
       "        [[ 3.9390]]], device='cuda:0')"
      ]
     },
     "execution_count": 19,
     "metadata": {},
     "output_type": "execute_result"
    }
   ],
   "source": [
    "y_train"
   ]
  },
  {
   "cell_type": "code",
   "execution_count": 20,
   "id": "dc60cdc4",
   "metadata": {},
   "outputs": [],
   "source": [
    "from torch.optim import Adam"
   ]
  },
  {
   "cell_type": "code",
   "execution_count": 21,
   "id": "89a1e0ea",
   "metadata": {},
   "outputs": [],
   "source": [
    "random.seed(seed)\n",
    "np.random.seed(seed)\n",
    "torch.manual_seed(seed) # 난수 선언(원래는 cnt선언 위에 있었다)\n",
    "model = Filter().to(device)\n",
    "optimizer = Adam(model.parameters(),lr = 1e-4)\n",
    "num_epochs = 200\n",
    "n = len(training)"
   ]
  },
  {
   "cell_type": "code",
   "execution_count": 22,
   "id": "740a413f",
   "metadata": {},
   "outputs": [],
   "source": [
    "def MSE(pred,target):\n",
    "    return torch.mean((pred-target)**2,dim = 0) # reduction까지 취해줌"
   ]
  },
  {
   "cell_type": "code",
   "execution_count": 23,
   "id": "d0e7352a",
   "metadata": {},
   "outputs": [
    {
     "data": {
      "text/plain": [
       "<bound method Module.named_parameters of Filter(\n",
       "  (model): LSTM(\n",
       "    (encoder): LSTM(7, 14, batch_first=True)\n",
       "    (decoder): LSTM(7, 14, batch_first=True)\n",
       "    (output_layer): Linear(in_features=14, out_features=1, bias=True)\n",
       "  )\n",
       ")>"
      ]
     },
     "execution_count": 23,
     "metadata": {},
     "output_type": "execute_result"
    }
   ],
   "source": [
    "model.named_parameters"
   ]
  },
  {
   "cell_type": "code",
   "execution_count": 24,
   "id": "9e4d7125",
   "metadata": {
    "scrolled": true
   },
   "outputs": [
    {
     "name": "stdout",
     "output_type": "stream",
     "text": [
      "Epoch [1]/[200] running accumulative loss across all batches: 299.998\n",
      "changed\n",
      "Epoch [2]/[200] running accumulative loss across all batches: 293.345\n",
      "changed\n",
      "Epoch [3]/[200] running accumulative loss across all batches: 283.591\n",
      "changed\n",
      "Epoch [4]/[200] running accumulative loss across all batches: 271.459\n",
      "changed\n",
      "Epoch [5]/[200] running accumulative loss across all batches: 258.352\n",
      "changed\n",
      "Epoch [6]/[200] running accumulative loss across all batches: 245.469\n",
      "changed\n",
      "Epoch [7]/[200] running accumulative loss across all batches: 234.679\n",
      "changed\n",
      "Epoch [8]/[200] running accumulative loss across all batches: 225.510\n",
      "changed\n",
      "Epoch [9]/[200] running accumulative loss across all batches: 217.436\n",
      "changed\n",
      "Epoch [10]/[200] running accumulative loss across all batches: 210.248\n",
      "changed\n",
      "Epoch [11]/[200] running accumulative loss across all batches: 203.722\n",
      "changed\n",
      "Epoch [12]/[200] running accumulative loss across all batches: 197.630\n",
      "changed\n",
      "Epoch [13]/[200] running accumulative loss across all batches: 191.812\n",
      "changed\n",
      "Epoch [14]/[200] running accumulative loss across all batches: 186.142\n",
      "changed\n",
      "Epoch [15]/[200] running accumulative loss across all batches: 180.545\n",
      "changed\n",
      "Epoch [16]/[200] running accumulative loss across all batches: 174.994\n",
      "changed\n",
      "Epoch [17]/[200] running accumulative loss across all batches: 169.545\n",
      "changed\n",
      "Epoch [18]/[200] running accumulative loss across all batches: 164.289\n",
      "changed\n",
      "Epoch [19]/[200] running accumulative loss across all batches: 159.282\n",
      "changed\n",
      "Epoch [20]/[200] running accumulative loss across all batches: 154.547\n",
      "changed\n",
      "Epoch [21]/[200] running accumulative loss across all batches: 150.060\n",
      "changed\n",
      "Epoch [22]/[200] running accumulative loss across all batches: 145.792\n",
      "changed\n",
      "Epoch [23]/[200] running accumulative loss across all batches: 141.723\n",
      "changed\n",
      "Epoch [24]/[200] running accumulative loss across all batches: 137.835\n",
      "changed\n",
      "Epoch [25]/[200] running accumulative loss across all batches: 134.100\n",
      "changed\n",
      "Epoch [26]/[200] running accumulative loss across all batches: 130.515\n",
      "changed\n",
      "Epoch [27]/[200] running accumulative loss across all batches: 127.068\n",
      "changed\n",
      "Epoch [28]/[200] running accumulative loss across all batches: 123.747\n",
      "changed\n",
      "Epoch [29]/[200] running accumulative loss across all batches: 120.544\n",
      "changed\n",
      "Epoch [30]/[200] running accumulative loss across all batches: 117.448\n",
      "changed\n",
      "Epoch [31]/[200] running accumulative loss across all batches: 114.450\n",
      "changed\n",
      "Epoch [32]/[200] running accumulative loss across all batches: 111.546\n",
      "changed\n",
      "Epoch [33]/[200] running accumulative loss across all batches: 108.729\n",
      "changed\n",
      "Epoch [34]/[200] running accumulative loss across all batches: 105.999\n",
      "changed\n",
      "Epoch [35]/[200] running accumulative loss across all batches: 103.351\n",
      "changed\n",
      "Epoch [36]/[200] running accumulative loss across all batches: 100.782\n",
      "changed\n",
      "Epoch [37]/[200] running accumulative loss across all batches: 98.289\n",
      "changed\n",
      "Epoch [38]/[200] running accumulative loss across all batches: 95.869\n",
      "changed\n",
      "Epoch [39]/[200] running accumulative loss across all batches: 93.520\n",
      "changed\n",
      "Epoch [40]/[200] running accumulative loss across all batches: 91.240\n",
      "changed\n",
      "Epoch [41]/[200] running accumulative loss across all batches: 89.025\n",
      "changed\n",
      "Epoch [42]/[200] running accumulative loss across all batches: 86.873\n",
      "changed\n",
      "Epoch [43]/[200] running accumulative loss across all batches: 84.783\n",
      "changed\n",
      "Epoch [44]/[200] running accumulative loss across all batches: 82.753\n",
      "changed\n",
      "Epoch [45]/[200] running accumulative loss across all batches: 80.779\n",
      "changed\n",
      "Epoch [46]/[200] running accumulative loss across all batches: 78.860\n",
      "changed\n",
      "Epoch [47]/[200] running accumulative loss across all batches: 76.995\n",
      "changed\n",
      "Epoch [48]/[200] running accumulative loss across all batches: 75.183\n",
      "changed\n",
      "Epoch [49]/[200] running accumulative loss across all batches: 73.421\n",
      "changed\n",
      "Epoch [50]/[200] running accumulative loss across all batches: 71.708\n",
      "changed\n",
      "Epoch [51]/[200] running accumulative loss across all batches: 70.043\n",
      "changed\n",
      "Epoch [52]/[200] running accumulative loss across all batches: 68.425\n",
      "changed\n",
      "Epoch [53]/[200] running accumulative loss across all batches: 66.851\n",
      "changed\n",
      "Epoch [54]/[200] running accumulative loss across all batches: 65.320\n",
      "changed\n",
      "Epoch [55]/[200] running accumulative loss across all batches: 63.832\n",
      "changed\n",
      "Epoch [56]/[200] running accumulative loss across all batches: 62.385\n",
      "changed\n",
      "Epoch [57]/[200] running accumulative loss across all batches: 60.977\n",
      "changed\n",
      "Epoch [58]/[200] running accumulative loss across all batches: 59.609\n",
      "changed\n",
      "Epoch [59]/[200] running accumulative loss across all batches: 58.278\n",
      "changed\n",
      "Epoch [60]/[200] running accumulative loss across all batches: 56.984\n",
      "changed\n",
      "Epoch [61]/[200] running accumulative loss across all batches: 55.726\n",
      "changed\n",
      "Epoch [62]/[200] running accumulative loss across all batches: 54.502\n",
      "changed\n",
      "Epoch [63]/[200] running accumulative loss across all batches: 53.313\n",
      "changed\n",
      "Epoch [64]/[200] running accumulative loss across all batches: 52.157\n",
      "changed\n",
      "Epoch [65]/[200] running accumulative loss across all batches: 51.032\n",
      "changed\n",
      "Epoch [66]/[200] running accumulative loss across all batches: 49.938\n",
      "changed\n",
      "Epoch [67]/[200] running accumulative loss across all batches: 48.875\n",
      "changed\n",
      "Epoch [68]/[200] running accumulative loss across all batches: 47.841\n",
      "changed\n",
      "Epoch [69]/[200] running accumulative loss across all batches: 46.835\n",
      "changed\n",
      "Epoch [70]/[200] running accumulative loss across all batches: 45.857\n",
      "changed\n",
      "Epoch [71]/[200] running accumulative loss across all batches: 44.905\n",
      "changed\n",
      "Epoch [72]/[200] running accumulative loss across all batches: 43.980\n",
      "changed\n",
      "Epoch [73]/[200] running accumulative loss across all batches: 43.080\n",
      "changed\n",
      "Epoch [74]/[200] running accumulative loss across all batches: 42.204\n",
      "changed\n",
      "Epoch [75]/[200] running accumulative loss across all batches: 41.353\n",
      "changed\n",
      "Epoch [76]/[200] running accumulative loss across all batches: 40.524\n",
      "changed\n",
      "Epoch [77]/[200] running accumulative loss across all batches: 39.718\n",
      "changed\n",
      "Epoch [78]/[200] running accumulative loss across all batches: 38.933\n",
      "changed\n",
      "Epoch [79]/[200] running accumulative loss across all batches: 38.170\n",
      "changed\n",
      "Epoch [80]/[200] running accumulative loss across all batches: 37.426\n",
      "changed\n",
      "Epoch [81]/[200] running accumulative loss across all batches: 36.703\n",
      "changed\n",
      "Epoch [82]/[200] running accumulative loss across all batches: 35.998\n",
      "changed\n",
      "Epoch [83]/[200] running accumulative loss across all batches: 35.313\n",
      "changed\n",
      "Epoch [84]/[200] running accumulative loss across all batches: 34.644\n",
      "changed\n",
      "Epoch [85]/[200] running accumulative loss across all batches: 33.994\n",
      "changed\n",
      "Epoch [86]/[200] running accumulative loss across all batches: 33.360\n",
      "changed\n",
      "Epoch [87]/[200] running accumulative loss across all batches: 32.742\n",
      "changed\n",
      "Epoch [88]/[200] running accumulative loss across all batches: 32.139\n",
      "changed\n",
      "Epoch [89]/[200] running accumulative loss across all batches: 31.552\n",
      "changed\n",
      "Epoch [90]/[200] running accumulative loss across all batches: 30.978\n",
      "changed\n",
      "Epoch [91]/[200] running accumulative loss across all batches: 30.419\n",
      "changed\n",
      "Epoch [92]/[200] running accumulative loss across all batches: 29.873\n",
      "changed\n",
      "Epoch [93]/[200] running accumulative loss across all batches: 29.341\n",
      "changed\n",
      "Epoch [94]/[200] running accumulative loss across all batches: 28.820\n",
      "changed\n",
      "Epoch [95]/[200] running accumulative loss across all batches: 28.312\n",
      "changed\n",
      "Epoch [96]/[200] running accumulative loss across all batches: 27.815\n",
      "changed\n",
      "Epoch [97]/[200] running accumulative loss across all batches: 27.330\n",
      "changed\n",
      "Epoch [98]/[200] running accumulative loss across all batches: 26.857\n",
      "changed\n",
      "Epoch [99]/[200] running accumulative loss across all batches: 26.394\n",
      "changed\n",
      "Epoch [100]/[200] running accumulative loss across all batches: 25.941\n",
      "changed\n",
      "Epoch [101]/[200] running accumulative loss across all batches: 25.500\n",
      "changed\n",
      "Epoch [102]/[200] running accumulative loss across all batches: 25.068\n",
      "changed\n",
      "Epoch [103]/[200] running accumulative loss across all batches: 24.645\n",
      "changed\n",
      "Epoch [104]/[200] running accumulative loss across all batches: 24.233\n",
      "changed\n",
      "Epoch [105]/[200] running accumulative loss across all batches: 23.829\n",
      "changed\n"
     ]
    },
    {
     "name": "stdout",
     "output_type": "stream",
     "text": [
      "Epoch [106]/[200] running accumulative loss across all batches: 23.435\n",
      "changed\n",
      "Epoch [107]/[200] running accumulative loss across all batches: 23.049\n",
      "changed\n",
      "Epoch [108]/[200] running accumulative loss across all batches: 22.671\n",
      "changed\n",
      "Epoch [109]/[200] running accumulative loss across all batches: 22.301\n",
      "changed\n",
      "Epoch [110]/[200] running accumulative loss across all batches: 21.940\n",
      "changed\n",
      "Epoch [111]/[200] running accumulative loss across all batches: 21.586\n",
      "changed\n",
      "Epoch [112]/[200] running accumulative loss across all batches: 21.239\n",
      "changed\n",
      "Epoch [113]/[200] running accumulative loss across all batches: 20.900\n",
      "changed\n",
      "Epoch [114]/[200] running accumulative loss across all batches: 20.567\n",
      "changed\n",
      "Epoch [115]/[200] running accumulative loss across all batches: 20.242\n",
      "changed\n",
      "Epoch [116]/[200] running accumulative loss across all batches: 19.922\n",
      "changed\n",
      "Epoch [117]/[200] running accumulative loss across all batches: 19.610\n",
      "changed\n",
      "Epoch [118]/[200] running accumulative loss across all batches: 19.303\n",
      "changed\n",
      "Epoch [119]/[200] running accumulative loss across all batches: 19.002\n",
      "changed\n",
      "Epoch [120]/[200] running accumulative loss across all batches: 18.707\n",
      "changed\n",
      "Epoch [121]/[200] running accumulative loss across all batches: 18.418\n",
      "changed\n",
      "Epoch [122]/[200] running accumulative loss across all batches: 18.134\n",
      "changed\n",
      "Epoch [123]/[200] running accumulative loss across all batches: 17.856\n",
      "changed\n",
      "Epoch [124]/[200] running accumulative loss across all batches: 17.583\n",
      "changed\n",
      "Epoch [125]/[200] running accumulative loss across all batches: 17.315\n",
      "changed\n",
      "Epoch [126]/[200] running accumulative loss across all batches: 17.052\n",
      "changed\n",
      "Epoch [127]/[200] running accumulative loss across all batches: 16.794\n",
      "changed\n",
      "Epoch [128]/[200] running accumulative loss across all batches: 16.540\n",
      "changed\n",
      "Epoch [129]/[200] running accumulative loss across all batches: 16.291\n",
      "changed\n",
      "Epoch [130]/[200] running accumulative loss across all batches: 16.047\n",
      "changed\n",
      "Epoch [131]/[200] running accumulative loss across all batches: 15.807\n",
      "changed\n",
      "Epoch [132]/[200] running accumulative loss across all batches: 15.571\n",
      "changed\n",
      "Epoch [133]/[200] running accumulative loss across all batches: 15.339\n",
      "changed\n",
      "Epoch [134]/[200] running accumulative loss across all batches: 15.111\n",
      "changed\n",
      "Epoch [135]/[200] running accumulative loss across all batches: 14.887\n",
      "changed\n",
      "Epoch [136]/[200] running accumulative loss across all batches: 14.667\n",
      "changed\n",
      "Epoch [137]/[200] running accumulative loss across all batches: 14.450\n",
      "changed\n",
      "Epoch [138]/[200] running accumulative loss across all batches: 14.237\n",
      "changed\n",
      "Epoch [139]/[200] running accumulative loss across all batches: 14.028\n",
      "changed\n",
      "Epoch [140]/[200] running accumulative loss across all batches: 13.821\n",
      "changed\n",
      "Epoch [141]/[200] running accumulative loss across all batches: 13.619\n",
      "changed\n",
      "Epoch [142]/[200] running accumulative loss across all batches: 13.419\n",
      "changed\n",
      "Epoch [143]/[200] running accumulative loss across all batches: 13.223\n",
      "changed\n",
      "Epoch [144]/[200] running accumulative loss across all batches: 13.030\n",
      "changed\n",
      "Epoch [145]/[200] running accumulative loss across all batches: 12.839\n",
      "changed\n",
      "Epoch [146]/[200] running accumulative loss across all batches: 12.652\n",
      "changed\n",
      "Epoch [147]/[200] running accumulative loss across all batches: 12.468\n",
      "changed\n",
      "Epoch [148]/[200] running accumulative loss across all batches: 12.286\n",
      "changed\n",
      "Epoch [149]/[200] running accumulative loss across all batches: 12.108\n",
      "changed\n",
      "Epoch [150]/[200] running accumulative loss across all batches: 11.932\n",
      "changed\n",
      "Epoch [151]/[200] running accumulative loss across all batches: 11.758\n",
      "changed\n",
      "Epoch [152]/[200] running accumulative loss across all batches: 11.587\n",
      "changed\n",
      "Epoch [153]/[200] running accumulative loss across all batches: 11.419\n",
      "changed\n",
      "Epoch [154]/[200] running accumulative loss across all batches: 11.253\n",
      "changed\n",
      "Epoch [155]/[200] running accumulative loss across all batches: 11.090\n",
      "changed\n",
      "Epoch [156]/[200] running accumulative loss across all batches: 10.929\n",
      "changed\n",
      "Epoch [157]/[200] running accumulative loss across all batches: 10.770\n",
      "changed\n",
      "Epoch [158]/[200] running accumulative loss across all batches: 10.614\n",
      "changed\n",
      "Epoch [159]/[200] running accumulative loss across all batches: 10.460\n",
      "changed\n",
      "Epoch [160]/[200] running accumulative loss across all batches: 10.308\n",
      "changed\n",
      "Epoch [161]/[200] running accumulative loss across all batches: 10.159\n",
      "changed\n",
      "Epoch [162]/[200] running accumulative loss across all batches: 10.011\n",
      "changed\n",
      "Epoch [163]/[200] running accumulative loss across all batches: 9.866\n",
      "changed\n",
      "Epoch [164]/[200] running accumulative loss across all batches: 9.723\n",
      "changed\n",
      "Epoch [165]/[200] running accumulative loss across all batches: 9.582\n",
      "changed\n",
      "Epoch [166]/[200] running accumulative loss across all batches: 9.443\n",
      "changed\n",
      "Epoch [167]/[200] running accumulative loss across all batches: 9.305\n",
      "changed\n",
      "Epoch [168]/[200] running accumulative loss across all batches: 9.170\n",
      "changed\n",
      "Epoch [169]/[200] running accumulative loss across all batches: 9.037\n",
      "changed\n",
      "Epoch [170]/[200] running accumulative loss across all batches: 8.906\n",
      "changed\n",
      "Epoch [171]/[200] running accumulative loss across all batches: 8.776\n",
      "changed\n",
      "Epoch [172]/[200] running accumulative loss across all batches: 8.649\n",
      "changed\n",
      "Epoch [173]/[200] running accumulative loss across all batches: 8.523\n",
      "changed\n",
      "Epoch [174]/[200] running accumulative loss across all batches: 8.399\n",
      "changed\n",
      "Epoch [175]/[200] running accumulative loss across all batches: 8.277\n",
      "changed\n",
      "Epoch [176]/[200] running accumulative loss across all batches: 8.156\n",
      "changed\n",
      "Epoch [177]/[200] running accumulative loss across all batches: 8.037\n",
      "changed\n",
      "Epoch [178]/[200] running accumulative loss across all batches: 7.920\n",
      "changed\n",
      "Epoch [179]/[200] running accumulative loss across all batches: 7.805\n",
      "changed\n",
      "Epoch [180]/[200] running accumulative loss across all batches: 7.691\n",
      "changed\n",
      "Epoch [181]/[200] running accumulative loss across all batches: 7.579\n",
      "changed\n",
      "Epoch [182]/[200] running accumulative loss across all batches: 7.468\n",
      "changed\n",
      "Epoch [183]/[200] running accumulative loss across all batches: 7.359\n",
      "changed\n",
      "Epoch [184]/[200] running accumulative loss across all batches: 7.252\n",
      "changed\n",
      "Epoch [185]/[200] running accumulative loss across all batches: 7.146\n",
      "changed\n",
      "Epoch [186]/[200] running accumulative loss across all batches: 7.042\n",
      "changed\n",
      "Epoch [187]/[200] running accumulative loss across all batches: 6.939\n",
      "changed\n",
      "Epoch [188]/[200] running accumulative loss across all batches: 6.838\n",
      "changed\n",
      "Epoch [189]/[200] running accumulative loss across all batches: 6.738\n",
      "changed\n",
      "Epoch [190]/[200] running accumulative loss across all batches: 6.640\n",
      "changed\n",
      "Epoch [191]/[200] running accumulative loss across all batches: 6.543\n",
      "changed\n",
      "Epoch [192]/[200] running accumulative loss across all batches: 6.448\n",
      "changed\n",
      "Epoch [193]/[200] running accumulative loss across all batches: 6.354\n",
      "changed\n",
      "Epoch [194]/[200] running accumulative loss across all batches: 6.261\n",
      "changed\n",
      "Epoch [195]/[200] running accumulative loss across all batches: 6.170\n",
      "changed\n",
      "Epoch [196]/[200] running accumulative loss across all batches: 6.080\n",
      "changed\n",
      "Epoch [197]/[200] running accumulative loss across all batches: 5.992\n",
      "changed\n",
      "Epoch [198]/[200] running accumulative loss across all batches: 5.905\n",
      "changed\n",
      "Epoch [199]/[200] running accumulative loss across all batches: 5.819\n",
      "changed\n",
      "Epoch [200]/[200] running accumulative loss across all batches: 5.734\n",
      "changed\n"
     ]
    }
   ],
   "source": [
    "random.seed(seed)\n",
    "np.random.seed(seed)\n",
    "torch.manual_seed(seed)\n",
    "minimal_loss=np.inf\n",
    "for epoch in range(num_epochs):  # loop over the dataset multiple times\n",
    "    running_loss = 0.0\n",
    "    for inputs, labels in training:\n",
    "        # forward pass\n",
    "        inputs = inputs\n",
    "        outputs = model(inputs)\n",
    "#         print(outputs.size())\n",
    "        outputs = outputs.view(-1,1)    \n",
    "        labels = labels.view(-1,1)\n",
    "        \n",
    "        # defining loss\n",
    "        loss = MSE(outputs, labels)\n",
    "        # zero the parameter gradients\n",
    "        optimizer.zero_grad()\n",
    "        # computing gradients\n",
    "        loss.backward()\n",
    "        # accumulating running loss\n",
    "        running_loss += loss.item()\n",
    "        # updated weights based on computed gradients\n",
    "        optimizer.step()\n",
    "    print('Epoch [%d]/[%d] running accumulative loss across all batches: %.3f' %(epoch + 1, num_epochs, (running_loss/n)))\n",
    "    if (running_loss/n)*100<minimal_loss:\n",
    "        best_model = copy.deepcopy(model)\n",
    "        minimal_loss = (running_loss/n)*100\n",
    "        print(\"changed\")\n",
    "\n",
    "model = best_model"
   ]
  },
  {
   "cell_type": "code",
   "execution_count": 25,
   "id": "16fabeb0",
   "metadata": {},
   "outputs": [],
   "source": [
    "from captum.attr import IntegratedGradients,NoiseTunnel"
   ]
  },
  {
   "cell_type": "code",
   "execution_count": 26,
   "id": "90bc847c",
   "metadata": {
    "scrolled": true
   },
   "outputs": [
    {
     "name": "stdout",
     "output_type": "stream",
     "text": [
      "torch.Size([64, 168, 7])\n",
      "torch.Size([64, 168, 7])\n",
      "torch.Size([64, 168, 7])\n",
      "torch.Size([64, 168, 7])\n",
      "torch.Size([64, 168, 7])\n",
      "torch.Size([64, 168, 7])\n",
      "torch.Size([64, 168, 7])\n",
      "torch.Size([64, 168, 7])\n",
      "torch.Size([64, 168, 7])\n",
      "torch.Size([64, 168, 7])\n",
      "torch.Size([64, 168, 7])\n",
      "torch.Size([64, 168, 7])\n",
      "torch.Size([64, 168, 7])\n",
      "torch.Size([64, 168, 7])\n",
      "torch.Size([64, 168, 7])\n",
      "torch.Size([64, 168, 7])\n",
      "torch.Size([64, 168, 7])\n",
      "torch.Size([64, 168, 7])\n",
      "torch.Size([64, 168, 7])\n",
      "torch.Size([64, 168, 7])\n",
      "torch.Size([64, 168, 7])\n",
      "torch.Size([64, 168, 7])\n",
      "torch.Size([64, 168, 7])\n",
      "torch.Size([64, 168, 7])\n",
      "torch.Size([64, 168, 7])\n",
      "torch.Size([64, 168, 7])\n",
      "torch.Size([64, 168, 7])\n",
      "torch.Size([64, 168, 7])\n",
      "torch.Size([64, 168, 7])\n",
      "torch.Size([64, 168, 7])\n",
      "torch.Size([64, 168, 7])\n",
      "torch.Size([64, 168, 7])\n",
      "torch.Size([64, 168, 7])\n",
      "torch.Size([64, 168, 7])\n",
      "torch.Size([64, 168, 7])\n",
      "torch.Size([64, 168, 7])\n",
      "torch.Size([64, 168, 7])\n",
      "torch.Size([64, 168, 7])\n",
      "torch.Size([64, 168, 7])\n",
      "torch.Size([64, 168, 7])\n",
      "torch.Size([64, 168, 7])\n",
      "torch.Size([64, 168, 7])\n",
      "torch.Size([64, 168, 7])\n",
      "torch.Size([64, 168, 7])\n",
      "torch.Size([64, 168, 7])\n",
      "torch.Size([64, 168, 7])\n",
      "torch.Size([64, 168, 7])\n",
      "torch.Size([64, 168, 7])\n",
      "torch.Size([64, 168, 7])\n",
      "torch.Size([64, 168, 7])\n",
      "torch.Size([64, 168, 7])\n",
      "torch.Size([52, 168, 7])\n"
     ]
    }
   ],
   "source": [
    "for val in validation:\n",
    "    print(val[0].size())"
   ]
  },
  {
   "cell_type": "code",
   "execution_count": 27,
   "id": "168ef6c4",
   "metadata": {},
   "outputs": [
    {
     "data": {
      "text/plain": [
       "torch.Size([1, 168, 7])"
      ]
     },
     "execution_count": 27,
     "metadata": {},
     "output_type": "execute_result"
    }
   ],
   "source": [
    "test = next(iter(validation))[0][0] # 하나의 sample에 대해서 진행\n",
    "test = test.unsqueeze(0)\n",
    "test.size()"
   ]
  },
  {
   "cell_type": "code",
   "execution_count": 28,
   "id": "ee29805d",
   "metadata": {},
   "outputs": [
    {
     "data": {
      "text/plain": [
       "(tensor([[[ 7.2795e-06,  6.1833e-06,  1.0780e-07,  ..., -8.7178e-06,\n",
       "            5.8044e-06, -1.7340e-05],\n",
       "          [ 5.9985e-06,  4.8340e-06,  6.0547e-06,  ..., -1.2217e-05,\n",
       "            1.6179e-06, -1.0400e-05],\n",
       "          [ 3.3266e-06,  3.7779e-06,  7.9729e-06,  ..., -1.2421e-05,\n",
       "            1.5212e-06, -9.2704e-06],\n",
       "          ...,\n",
       "          [-1.5672e-01, -5.6650e-02,  8.3364e-01,  ..., -3.1919e-01,\n",
       "           -3.0626e-02,  3.0587e-02],\n",
       "          [ 5.0480e-02, -2.3200e-01,  1.0255e+00,  ..., -1.4223e-01,\n",
       "           -1.1559e-02,  3.4585e-01],\n",
       "          [ 7.5000e-01, -2.4765e-01, -1.1786e+00,  ...,  4.9105e-01,\n",
       "           -9.7863e-02,  3.5517e+00]]], device='cuda:0', dtype=torch.float64),\n",
       " tensor([-4.2184e-07], device='cuda:0', dtype=torch.float64))"
      ]
     },
     "execution_count": 28,
     "metadata": {},
     "output_type": "execute_result"
    }
   ],
   "source": [
    "ig = IntegratedGradients(model)\n",
    "attr_score = ig.attribute(test,return_convergence_delta=True)\n",
    "attr_score"
   ]
  },
  {
   "cell_type": "code",
   "execution_count": 29,
   "id": "aabf0606",
   "metadata": {},
   "outputs": [
    {
     "data": {
      "text/plain": [
       "torch.Size([1, 168, 7])"
      ]
     },
     "execution_count": 29,
     "metadata": {},
     "output_type": "execute_result"
    }
   ],
   "source": [
    "attr_score[0].size()"
   ]
  },
  {
   "cell_type": "code",
   "execution_count": 30,
   "id": "594485bd",
   "metadata": {},
   "outputs": [],
   "source": [
    "delta = attr_score[1]"
   ]
  },
  {
   "cell_type": "code",
   "execution_count": 31,
   "id": "8f8cbba6",
   "metadata": {},
   "outputs": [],
   "source": [
    "attr_score = attr_score[0]"
   ]
  },
  {
   "cell_type": "code",
   "execution_count": 32,
   "id": "deba0ab8",
   "metadata": {},
   "outputs": [
    {
     "data": {
      "text/plain": [
       "tensor([[[ 7.2795e-06,  6.1833e-06,  1.0780e-07,  ..., -8.7178e-06,\n",
       "           5.8044e-06, -1.7340e-05],\n",
       "         [ 5.9985e-06,  4.8340e-06,  6.0547e-06,  ..., -1.2217e-05,\n",
       "           1.6179e-06, -1.0400e-05],\n",
       "         [ 3.3266e-06,  3.7779e-06,  7.9729e-06,  ..., -1.2421e-05,\n",
       "           1.5212e-06, -9.2704e-06],\n",
       "         ...,\n",
       "         [-1.5672e-01, -5.6650e-02,  8.3364e-01,  ..., -3.1919e-01,\n",
       "          -3.0626e-02,  3.0587e-02],\n",
       "         [ 5.0480e-02, -2.3200e-01,  1.0255e+00,  ..., -1.4223e-01,\n",
       "          -1.1559e-02,  3.4585e-01],\n",
       "         [ 7.5000e-01, -2.4765e-01, -1.1786e+00,  ...,  4.9105e-01,\n",
       "          -9.7863e-02,  3.5517e+00]]], dtype=torch.float64)"
      ]
     },
     "execution_count": 32,
     "metadata": {},
     "output_type": "execute_result"
    }
   ],
   "source": [
    "attr_score.to(\"cpu\")"
   ]
  },
  {
   "cell_type": "code",
   "execution_count": 33,
   "id": "d868c396",
   "metadata": {
    "scrolled": false
   },
   "outputs": [
    {
     "data": {
      "text/plain": [
       "array([[[ 7.27946294e-06,  6.18329540e-06,  1.07804897e-07, ...,\n",
       "         -8.71778966e-06,  5.80435712e-06, -1.73397251e-05],\n",
       "        [ 5.99845781e-06,  4.83401888e-06,  6.05473321e-06, ...,\n",
       "         -1.22168449e-05,  1.61786184e-06, -1.04004627e-05],\n",
       "        [ 3.32659169e-06,  3.77789859e-06,  7.97285480e-06, ...,\n",
       "         -1.24206807e-05,  1.52124493e-06, -9.27041976e-06],\n",
       "        ...,\n",
       "        [-1.56718455e-01, -5.66504632e-02,  8.33642792e-01, ...,\n",
       "         -3.19186644e-01, -3.06264542e-02,  3.05872281e-02],\n",
       "        [ 5.04803877e-02, -2.32004522e-01,  1.02546276e+00, ...,\n",
       "         -1.42230756e-01, -1.15590152e-02,  3.45846561e-01],\n",
       "        [ 7.50001424e-01, -2.47650251e-01, -1.17862638e+00, ...,\n",
       "          4.91045561e-01, -9.78628999e-02,  3.55169980e+00]]])"
      ]
     },
     "execution_count": 33,
     "metadata": {},
     "output_type": "execute_result"
    }
   ],
   "source": [
    "plot_attribution = attr_score.to(\"cpu\").detach().numpy()\n",
    "plot_attribution"
   ]
  },
  {
   "cell_type": "code",
   "execution_count": 34,
   "id": "31926d2f",
   "metadata": {},
   "outputs": [],
   "source": [
    "plot_attribution = plot_attribution.reshape(-1,7)"
   ]
  },
  {
   "cell_type": "code",
   "execution_count": 35,
   "id": "15782df1",
   "metadata": {},
   "outputs": [
    {
     "data": {
      "text/plain": [
       "Index(['HUFL', 'HULL', 'MUFL', 'MULL', 'LUFL', 'LULL', 'OT'], dtype='object')"
      ]
     },
     "execution_count": 35,
     "metadata": {},
     "output_type": "execute_result"
    }
   ],
   "source": [
    "column = data.columns[1:]\n",
    "column"
   ]
  },
  {
   "cell_type": "code",
   "execution_count": 36,
   "id": "ac23ea50",
   "metadata": {},
   "outputs": [],
   "source": [
    "attr_df = pd.DataFrame(plot_attribution,columns=column)"
   ]
  },
  {
   "cell_type": "code",
   "execution_count": 37,
   "id": "c2b8ff9d",
   "metadata": {},
   "outputs": [
    {
     "data": {
      "text/html": [
       "<div>\n",
       "<style scoped>\n",
       "    .dataframe tbody tr th:only-of-type {\n",
       "        vertical-align: middle;\n",
       "    }\n",
       "\n",
       "    .dataframe tbody tr th {\n",
       "        vertical-align: top;\n",
       "    }\n",
       "\n",
       "    .dataframe thead th {\n",
       "        text-align: right;\n",
       "    }\n",
       "</style>\n",
       "<table border=\"1\" class=\"dataframe\">\n",
       "  <thead>\n",
       "    <tr style=\"text-align: right;\">\n",
       "      <th></th>\n",
       "      <th>HUFL</th>\n",
       "      <th>HULL</th>\n",
       "      <th>MUFL</th>\n",
       "      <th>MULL</th>\n",
       "      <th>LUFL</th>\n",
       "      <th>LULL</th>\n",
       "      <th>OT</th>\n",
       "    </tr>\n",
       "  </thead>\n",
       "  <tbody>\n",
       "    <tr>\n",
       "      <th>0</th>\n",
       "      <td>7.279463e-06</td>\n",
       "      <td>0.000006</td>\n",
       "      <td>1.078049e-07</td>\n",
       "      <td>0.000009</td>\n",
       "      <td>-0.000009</td>\n",
       "      <td>5.804357e-06</td>\n",
       "      <td>-0.000017</td>\n",
       "    </tr>\n",
       "    <tr>\n",
       "      <th>1</th>\n",
       "      <td>5.998458e-06</td>\n",
       "      <td>0.000005</td>\n",
       "      <td>6.054733e-06</td>\n",
       "      <td>0.000004</td>\n",
       "      <td>-0.000012</td>\n",
       "      <td>1.617862e-06</td>\n",
       "      <td>-0.000010</td>\n",
       "    </tr>\n",
       "    <tr>\n",
       "      <th>2</th>\n",
       "      <td>3.326592e-06</td>\n",
       "      <td>0.000004</td>\n",
       "      <td>7.972855e-06</td>\n",
       "      <td>0.000003</td>\n",
       "      <td>-0.000012</td>\n",
       "      <td>1.521245e-06</td>\n",
       "      <td>-0.000009</td>\n",
       "    </tr>\n",
       "    <tr>\n",
       "      <th>3</th>\n",
       "      <td>-2.944322e-06</td>\n",
       "      <td>0.000003</td>\n",
       "      <td>9.133870e-06</td>\n",
       "      <td>0.000002</td>\n",
       "      <td>-0.000010</td>\n",
       "      <td>-3.350724e-08</td>\n",
       "      <td>-0.000005</td>\n",
       "    </tr>\n",
       "    <tr>\n",
       "      <th>4</th>\n",
       "      <td>2.695831e-07</td>\n",
       "      <td>0.000004</td>\n",
       "      <td>7.546096e-06</td>\n",
       "      <td>0.000001</td>\n",
       "      <td>-0.000011</td>\n",
       "      <td>-1.448393e-07</td>\n",
       "      <td>-0.000004</td>\n",
       "    </tr>\n",
       "    <tr>\n",
       "      <th>...</th>\n",
       "      <td>...</td>\n",
       "      <td>...</td>\n",
       "      <td>...</td>\n",
       "      <td>...</td>\n",
       "      <td>...</td>\n",
       "      <td>...</td>\n",
       "      <td>...</td>\n",
       "    </tr>\n",
       "    <tr>\n",
       "      <th>163</th>\n",
       "      <td>-1.679156e-01</td>\n",
       "      <td>0.001354</td>\n",
       "      <td>6.702499e-01</td>\n",
       "      <td>-0.031586</td>\n",
       "      <td>-0.361791</td>\n",
       "      <td>-3.993744e-02</td>\n",
       "      <td>-0.066121</td>\n",
       "    </tr>\n",
       "    <tr>\n",
       "      <th>164</th>\n",
       "      <td>-2.417698e-01</td>\n",
       "      <td>-0.011250</td>\n",
       "      <td>8.250063e-01</td>\n",
       "      <td>-0.036049</td>\n",
       "      <td>-0.332986</td>\n",
       "      <td>-3.084385e-02</td>\n",
       "      <td>-0.047876</td>\n",
       "    </tr>\n",
       "    <tr>\n",
       "      <th>165</th>\n",
       "      <td>-1.567185e-01</td>\n",
       "      <td>-0.056650</td>\n",
       "      <td>8.336428e-01</td>\n",
       "      <td>-0.038598</td>\n",
       "      <td>-0.319187</td>\n",
       "      <td>-3.062645e-02</td>\n",
       "      <td>0.030587</td>\n",
       "    </tr>\n",
       "    <tr>\n",
       "      <th>166</th>\n",
       "      <td>5.048039e-02</td>\n",
       "      <td>-0.232005</td>\n",
       "      <td>1.025463e+00</td>\n",
       "      <td>-0.037175</td>\n",
       "      <td>-0.142231</td>\n",
       "      <td>-1.155902e-02</td>\n",
       "      <td>0.345847</td>\n",
       "    </tr>\n",
       "    <tr>\n",
       "      <th>167</th>\n",
       "      <td>7.500014e-01</td>\n",
       "      <td>-0.247650</td>\n",
       "      <td>-1.178626e+00</td>\n",
       "      <td>0.069017</td>\n",
       "      <td>0.491046</td>\n",
       "      <td>-9.786290e-02</td>\n",
       "      <td>3.551700</td>\n",
       "    </tr>\n",
       "  </tbody>\n",
       "</table>\n",
       "<p>168 rows × 7 columns</p>\n",
       "</div>"
      ],
      "text/plain": [
       "             HUFL      HULL          MUFL      MULL      LUFL          LULL  \\\n",
       "0    7.279463e-06  0.000006  1.078049e-07  0.000009 -0.000009  5.804357e-06   \n",
       "1    5.998458e-06  0.000005  6.054733e-06  0.000004 -0.000012  1.617862e-06   \n",
       "2    3.326592e-06  0.000004  7.972855e-06  0.000003 -0.000012  1.521245e-06   \n",
       "3   -2.944322e-06  0.000003  9.133870e-06  0.000002 -0.000010 -3.350724e-08   \n",
       "4    2.695831e-07  0.000004  7.546096e-06  0.000001 -0.000011 -1.448393e-07   \n",
       "..            ...       ...           ...       ...       ...           ...   \n",
       "163 -1.679156e-01  0.001354  6.702499e-01 -0.031586 -0.361791 -3.993744e-02   \n",
       "164 -2.417698e-01 -0.011250  8.250063e-01 -0.036049 -0.332986 -3.084385e-02   \n",
       "165 -1.567185e-01 -0.056650  8.336428e-01 -0.038598 -0.319187 -3.062645e-02   \n",
       "166  5.048039e-02 -0.232005  1.025463e+00 -0.037175 -0.142231 -1.155902e-02   \n",
       "167  7.500014e-01 -0.247650 -1.178626e+00  0.069017  0.491046 -9.786290e-02   \n",
       "\n",
       "           OT  \n",
       "0   -0.000017  \n",
       "1   -0.000010  \n",
       "2   -0.000009  \n",
       "3   -0.000005  \n",
       "4   -0.000004  \n",
       "..        ...  \n",
       "163 -0.066121  \n",
       "164 -0.047876  \n",
       "165  0.030587  \n",
       "166  0.345847  \n",
       "167  3.551700  \n",
       "\n",
       "[168 rows x 7 columns]"
      ]
     },
     "execution_count": 37,
     "metadata": {},
     "output_type": "execute_result"
    }
   ],
   "source": [
    "attr_df"
   ]
  },
  {
   "cell_type": "markdown",
   "id": "31d55f91",
   "metadata": {},
   "source": [
    "# 특징 관찰\n",
    "\n",
    "### our goal -> 특정 시간대를 추출해내는 방법을 고안"
   ]
  },
  {
   "cell_type": "code",
   "execution_count": 38,
   "id": "81b09007",
   "metadata": {},
   "outputs": [
    {
     "data": {
      "text/plain": [
       "tensor([[3.4470]], device='cuda:0')"
      ]
     },
     "execution_count": 38,
     "metadata": {},
     "output_type": "execute_result"
    }
   ],
   "source": [
    "next(iter(validation))[1][0]"
   ]
  },
  {
   "cell_type": "markdown",
   "id": "f501eed2",
   "metadata": {},
   "source": [
    "* 전체 Attribution DataFrame이 예측값을 나눈것으로 보임\n",
    "    * 현재 하나의 Sample Batch의 첫번째 Sample에 대해서 Attribution을 구했는데\n",
    "    하나의 DataFrame이 나왔음"
   ]
  },
  {
   "cell_type": "code",
   "execution_count": 39,
   "id": "9a060f7e",
   "metadata": {},
   "outputs": [
    {
     "data": {
      "text/plain": [
       "3.5755725456904917"
      ]
     },
     "execution_count": 39,
     "metadata": {},
     "output_type": "execute_result"
    }
   ],
   "source": [
    "attr_df.sum(axis=0).sum()"
   ]
  },
  {
   "cell_type": "markdown",
   "id": "b77f4e46",
   "metadata": {},
   "source": [
    "1. delta가 attribution 유의미하게 작은지 확인\n",
    "2. baseline vector 넣었을떄 0인지"
   ]
  },
  {
   "cell_type": "markdown",
   "id": "5bf19dd9",
   "metadata": {},
   "source": [
    "### 1의 답"
   ]
  },
  {
   "cell_type": "code",
   "execution_count": 40,
   "id": "f9512a03",
   "metadata": {},
   "outputs": [
    {
     "data": {
      "text/plain": [
       "tensor([-4.2184e-07], device='cuda:0', dtype=torch.float64)"
      ]
     },
     "execution_count": 40,
     "metadata": {},
     "output_type": "execute_result"
    }
   ],
   "source": [
    "delta"
   ]
  },
  {
   "cell_type": "code",
   "execution_count": 41,
   "id": "9fcc3025",
   "metadata": {},
   "outputs": [
    {
     "data": {
      "text/plain": [
       "tensor([[-0.4740]], device='cuda:0', grad_fn=<AddmmBackward0>)"
      ]
     },
     "execution_count": 41,
     "metadata": {},
     "output_type": "execute_result"
    }
   ],
   "source": [
    "test_baseline = torch.FloatTensor(np.zeros((1,sequence_length,7)))\n",
    "base_pred = model(test_baseline)\n",
    "base_pred"
   ]
  },
  {
   "cell_type": "markdown",
   "id": "7983b830",
   "metadata": {},
   "source": [
    "### 2의 답"
   ]
  },
  {
   "attachments": {
    "image-2.png": {
     "image/png": "[encoded data removed]"
    },
    "image.png": {
     "image/png": "[encoded data removed]"
    }
   },
   "cell_type": "markdown",
   "id": "a51d3917",
   "metadata": {},
   "source": [
    "![image-2.png](attachment:image-2.png)\n",
    "![image.png](attachment:image.png)\n",
    "\n",
    "<font color = blue><font size = 5> what is CuDNN Compatibility?</font></font>"
   ]
  },
  {
   "cell_type": "markdown",
   "id": "c72c8d96",
   "metadata": {},
   "source": [
    "https://pytorch.org/docs/stable/_modules/torch/nn/modules/rnn.html"
   ]
  },
  {
   "attachments": {
    "image.png": {
     "image/png": "[encoded data removed]"
    }
   },
   "cell_type": "markdown",
   "id": "11f2d453",
   "metadata": {},
   "source": [
    "![image.png](attachment:image.png)"
   ]
  },
  {
   "cell_type": "markdown",
   "id": "b74dfdf1",
   "metadata": {},
   "source": [
    "* **LSTM의 bias는 4개가 존재하고 따라서 4*hiddensize만큼의 bias element갯수가 존재한다.**"
   ]
  },
  {
   "cell_type": "code",
   "execution_count": 42,
   "id": "f692b098",
   "metadata": {},
   "outputs": [
    {
     "data": {
      "text/plain": [
       "Parameter containing:\n",
       "tensor([ 0.1710,  0.0439,  0.3144, -0.0021, -0.0252,  0.1300, -0.0585,  0.3216,\n",
       "        -0.0514,  0.2664,  0.2211,  0.0895,  0.0987, -0.0208, -0.3302, -0.0123,\n",
       "        -0.0796,  0.0348,  0.0932, -0.2107, -0.0843,  0.0701,  0.0333,  0.0098,\n",
       "         0.0101,  0.0396, -0.0135, -0.2678, -0.1596,  0.2393, -0.1882, -0.2287,\n",
       "         0.2262,  0.2909,  0.0064,  0.1542, -0.0166, -0.5002,  0.1158,  0.2509,\n",
       "         0.0273,  0.0863, -0.0974,  0.4300,  0.3866,  0.1752,  0.4716,  0.2127,\n",
       "         0.0010,  0.1220,  0.1059,  0.1752, -0.2231,  0.3103,  0.2604, -0.2521],\n",
       "       device='cuda:0', requires_grad=True)"
      ]
     },
     "execution_count": 42,
     "metadata": {},
     "output_type": "execute_result"
    }
   ],
   "source": [
    "bias1 = model.model.encoder.bias_hh_l0\n",
    "bias1"
   ]
  },
  {
   "cell_type": "code",
   "execution_count": 43,
   "id": "1a55adb8",
   "metadata": {},
   "outputs": [
    {
     "data": {
      "text/plain": [
       "tensor(3.1737, device='cuda:0', grad_fn=<SumBackward1>)"
      ]
     },
     "execution_count": 43,
     "metadata": {},
     "output_type": "execute_result"
    }
   ],
   "source": [
    "bias1.sum(axis=0)"
   ]
  },
  {
   "cell_type": "code",
   "execution_count": 44,
   "id": "5c4197df",
   "metadata": {},
   "outputs": [
    {
     "data": {
      "text/plain": [
       "torch.Size([56])"
      ]
     },
     "execution_count": 44,
     "metadata": {},
     "output_type": "execute_result"
    }
   ],
   "source": [
    "model.model.encoder.bias_hh_l0.size()"
   ]
  },
  {
   "cell_type": "code",
   "execution_count": 45,
   "id": "d7a22446",
   "metadata": {},
   "outputs": [
    {
     "data": {
      "text/plain": [
       "Parameter containing:\n",
       "tensor([ 0.2479,  0.0631,  0.3179,  0.1004,  0.0562,  0.1122, -0.3207, -0.1092,\n",
       "         0.1218,  0.1716,  0.1662,  0.0992, -0.0419,  0.1239, -0.1718,  0.2307,\n",
       "         0.2527, -0.1963, -0.0821, -0.1618, -0.1821, -0.0083,  0.0920, -0.3007,\n",
       "        -0.0666, -0.2170, -0.1764,  0.2200, -0.3214, -0.1735,  0.0977, -0.0714,\n",
       "         0.1692,  0.2431,  0.4011, -0.2023,  0.1894, -0.0124, -0.0363,  0.4103,\n",
       "         0.3078, -0.0037,  0.2600,  0.1513, -0.0743,  0.0954,  0.5060, -0.0500,\n",
       "         0.3240, -0.0395,  0.3614,  0.5827,  0.0471, -0.0372,  0.2091,  0.0362],\n",
       "       device='cuda:0', requires_grad=True)"
      ]
     },
     "execution_count": 45,
     "metadata": {},
     "output_type": "execute_result"
    }
   ],
   "source": [
    "bias2 = model.model.encoder.bias_ih_l0\n",
    "bias2"
   ]
  },
  {
   "cell_type": "code",
   "execution_count": 46,
   "id": "86ed59ad",
   "metadata": {
    "scrolled": false
   },
   "outputs": [
    {
     "data": {
      "text/plain": [
       "tensor(3.7101, device='cuda:0', grad_fn=<SumBackward1>)"
      ]
     },
     "execution_count": 46,
     "metadata": {},
     "output_type": "execute_result"
    }
   ],
   "source": [
    "bias2.sum(axis = 0)"
   ]
  },
  {
   "cell_type": "markdown",
   "id": "17530f3d",
   "metadata": {},
   "source": [
    "* 하나의 샘플은 모두 (168,7)의 동일한 크기를 갖는다."
   ]
  },
  {
   "cell_type": "code",
   "execution_count": 47,
   "id": "e454ae01",
   "metadata": {},
   "outputs": [],
   "source": [
    "cnt = 0\n",
    "ig = IntegratedGradients(model)\n",
    "ig_attr_score = np.zeros((sequence_length,feature_size))\n",
    "for val_batch in validation:\n",
    "    temp_n = val_batch[0].size(0)\n",
    "    for val in val_batch[0]: # 하나의 배치에 대해서 for문\n",
    "        val = val.unsqueeze(0)\n",
    "        temp = ig.attribute(val).abs()\n",
    "        # 각 attribution score의 절대값을 합한다.\n",
    "        # 이로써 각 시간별로 영향도를 구함\n",
    "        # 이 부분이 abs를 씌우는게 절대적인 영향을 반영하는데에 맞는 것 같다.\n",
    "        # 이전까진 씌우지 않았음\n",
    "        temp = temp.squeeze(0)\n",
    "        temp = temp.to(\"cpu\").detach().numpy()   \n",
    "        ig_attr_score = ig_attr_score+temp\n",
    "    cnt = cnt + temp_n\n",
    "ig_attr_score = ig_attr_score/cnt"
   ]
  },
  {
   "cell_type": "code",
   "execution_count": 48,
   "id": "f4f88843",
   "metadata": {},
   "outputs": [
    {
     "data": {
      "text/plain": [
       "Index(['HUFL', 'HULL', 'MUFL', 'MULL', 'LUFL', 'LULL', 'OT'], dtype='object')"
      ]
     },
     "execution_count": 48,
     "metadata": {},
     "output_type": "execute_result"
    }
   ],
   "source": [
    "data.columns[1:]"
   ]
  },
  {
   "cell_type": "code",
   "execution_count": 49,
   "id": "7bf4143f",
   "metadata": {
    "scrolled": true
   },
   "outputs": [
    {
     "data": {
      "text/plain": [
       "array([4.76296472e-06, 4.37227424e-06, 3.67684168e-06, 3.38948752e-06,\n",
       "       3.31873047e-06, 3.16661574e-06, 3.01978065e-06, 2.92214858e-06,\n",
       "       2.83846943e-06, 2.82128122e-06, 2.77979167e-06, 2.81113889e-06,\n",
       "       2.85657559e-06, 2.92224209e-06, 3.06139821e-06, 3.16193015e-06,\n",
       "       3.28450455e-06, 3.49521119e-06, 3.57089870e-06, 3.57349198e-06,\n",
       "       3.58837946e-06, 3.64961783e-06, 3.75352306e-06, 3.72908750e-06,\n",
       "       3.99175870e-06, 4.13159338e-06, 4.18131613e-06, 4.32523508e-06,\n",
       "       4.27395780e-06, 4.29421763e-06, 4.40313688e-06, 4.43830342e-06,\n",
       "       4.64844755e-06, 4.80629759e-06, 4.85356039e-06, 4.96139416e-06,\n",
       "       4.92141384e-06, 4.94690549e-06, 5.04725060e-06, 5.19269045e-06,\n",
       "       5.44623325e-06, 5.77012450e-06, 6.18729283e-06, 6.65483595e-06,\n",
       "       7.05783540e-06, 7.52285504e-06, 7.91089454e-06, 8.12949648e-06,\n",
       "       8.47820603e-06, 8.89718949e-06, 8.92877616e-06, 9.01225848e-06,\n",
       "       9.22729847e-06, 9.38297712e-06, 9.50469522e-06, 9.82229882e-06,\n",
       "       1.01349288e-05, 1.03861833e-05, 1.07958874e-05, 1.11470042e-05,\n",
       "       1.15739666e-05, 1.17867739e-05, 1.22789901e-05, 1.28784850e-05,\n",
       "       1.31825876e-05, 1.41340928e-05, 1.49393197e-05, 1.55066964e-05,\n",
       "       1.68976073e-05, 1.74108679e-05, 1.89573392e-05, 1.97480540e-05,\n",
       "       2.23557636e-05, 2.35910584e-05, 2.49645056e-05, 2.48245889e-05,\n",
       "       2.46848114e-05, 2.53718122e-05, 2.56017771e-05, 2.45601618e-05,\n",
       "       2.47140770e-05, 2.38557503e-05, 2.37744619e-05, 2.44655651e-05,\n",
       "       2.49198428e-05, 2.63735943e-05, 2.77047162e-05, 3.15926129e-05,\n",
       "       3.40097948e-05, 3.66141984e-05, 4.07086251e-05, 4.54759683e-05,\n",
       "       5.01028145e-05, 5.37808603e-05, 5.71837134e-05, 5.91093214e-05,\n",
       "       5.99123739e-05, 6.11687283e-05, 6.10194818e-05, 5.94672958e-05,\n",
       "       5.86642317e-05, 5.93980631e-05, 6.25640271e-05, 6.51628785e-05,\n",
       "       6.85263059e-05, 7.48458837e-05, 8.23654825e-05, 9.01685560e-05,\n",
       "       9.63421983e-05, 1.01971356e-04, 1.06384383e-04, 1.13525699e-04,\n",
       "       1.23314718e-04, 1.30799538e-04, 1.39712718e-04, 1.50963731e-04,\n",
       "       1.59773077e-04, 1.67522845e-04, 1.75174886e-04, 1.83122323e-04,\n",
       "       1.93554264e-04, 2.08553536e-04, 2.28291865e-04, 2.46016930e-04,\n",
       "       2.71581650e-04, 3.00335102e-04, 3.27812074e-04, 3.56936306e-04,\n",
       "       3.90627425e-04, 4.31787736e-04, 4.77010287e-04, 5.25772567e-04,\n",
       "       5.79846623e-04, 6.31251272e-04, 6.95943540e-04, 7.83697824e-04,\n",
       "       8.84113252e-04, 1.00655425e-03, 1.14409022e-03, 1.30805842e-03,\n",
       "       1.50122586e-03, 1.72543014e-03, 1.99292479e-03, 2.34154050e-03,\n",
       "       2.80215333e-03, 3.40101029e-03, 4.14384087e-03, 5.07280920e-03,\n",
       "       6.21851985e-03, 7.64126031e-03, 9.34892602e-03, 1.13745362e-02,\n",
       "       1.37556277e-02, 1.66611561e-02, 2.00915763e-02, 2.40531355e-02,\n",
       "       2.85936237e-02, 3.36564216e-02, 3.95868778e-02, 4.67167970e-02,\n",
       "       5.44173029e-02, 6.24066198e-02, 7.02868223e-02, 7.64235627e-02,\n",
       "       8.78462830e-02, 1.03335913e-01, 2.71093098e-01, 9.99779855e-01])"
      ]
     },
     "execution_count": 49,
     "metadata": {},
     "output_type": "execute_result"
    }
   ],
   "source": [
    "ig_attr_score[:,0]"
   ]
  },
  {
   "cell_type": "code",
   "execution_count": 50,
   "id": "e03ffa4c",
   "metadata": {},
   "outputs": [
    {
     "data": {
      "text/plain": [
       "<module 'numpy' from '/home/sjlee/sj_virtual/lib/python3.8/site-packages/numpy/__init__.py'>"
      ]
     },
     "execution_count": 50,
     "metadata": {},
     "output_type": "execute_result"
    }
   ],
   "source": [
    "np"
   ]
  },
  {
   "cell_type": "code",
   "execution_count": 51,
   "id": "96e1d6c6",
   "metadata": {
    "scrolled": true
   },
   "outputs": [
    {
     "data": {
      "text/plain": [
       "[         HUFL\n",
       " 0    0.000005\n",
       " 1    0.000004\n",
       " 2    0.000004\n",
       " 3    0.000003\n",
       " 4    0.000003\n",
       " ..        ...\n",
       " 163  0.076424\n",
       " 164  0.087846\n",
       " 165  0.103336\n",
       " 166  0.271093\n",
       " 167  0.999780\n",
       " \n",
       " [168 rows x 1 columns],\n",
       "          HULL\n",
       " 0    0.000005\n",
       " 1    0.000004\n",
       " 2    0.000004\n",
       " 3    0.000003\n",
       " 4    0.000003\n",
       " ..        ...\n",
       " 163  0.076424\n",
       " 164  0.087846\n",
       " 165  0.103336\n",
       " 166  0.271093\n",
       " 167  0.999780\n",
       " \n",
       " [168 rows x 1 columns],\n",
       "          MUFL\n",
       " 0    0.000005\n",
       " 1    0.000004\n",
       " 2    0.000004\n",
       " 3    0.000003\n",
       " 4    0.000003\n",
       " ..        ...\n",
       " 163  0.076424\n",
       " 164  0.087846\n",
       " 165  0.103336\n",
       " 166  0.271093\n",
       " 167  0.999780\n",
       " \n",
       " [168 rows x 1 columns],\n",
       "          MULL\n",
       " 0    0.000005\n",
       " 1    0.000004\n",
       " 2    0.000004\n",
       " 3    0.000003\n",
       " 4    0.000003\n",
       " ..        ...\n",
       " 163  0.076424\n",
       " 164  0.087846\n",
       " 165  0.103336\n",
       " 166  0.271093\n",
       " 167  0.999780\n",
       " \n",
       " [168 rows x 1 columns],\n",
       "          LUFL\n",
       " 0    0.000005\n",
       " 1    0.000004\n",
       " 2    0.000004\n",
       " 3    0.000003\n",
       " 4    0.000003\n",
       " ..        ...\n",
       " 163  0.076424\n",
       " 164  0.087846\n",
       " 165  0.103336\n",
       " 166  0.271093\n",
       " 167  0.999780\n",
       " \n",
       " [168 rows x 1 columns],\n",
       "          LULL\n",
       " 0    0.000005\n",
       " 1    0.000004\n",
       " 2    0.000004\n",
       " 3    0.000003\n",
       " 4    0.000003\n",
       " ..        ...\n",
       " 163  0.076424\n",
       " 164  0.087846\n",
       " 165  0.103336\n",
       " 166  0.271093\n",
       " 167  0.999780\n",
       " \n",
       " [168 rows x 1 columns],\n",
       "            OT\n",
       " 0    0.000005\n",
       " 1    0.000004\n",
       " 2    0.000004\n",
       " 3    0.000003\n",
       " 4    0.000003\n",
       " ..        ...\n",
       " 163  0.076424\n",
       " 164  0.087846\n",
       " 165  0.103336\n",
       " 166  0.271093\n",
       " 167  0.999780\n",
       " \n",
       " [168 rows x 1 columns]]"
      ]
     },
     "execution_count": 51,
     "metadata": {},
     "output_type": "execute_result"
    }
   ],
   "source": [
    "sub_attr_df = []\n",
    "for cnt,column in enumerate(list(data.columns[1:])):\n",
    "    attr_df = pd.DataFrame(ig_attr_score[:,0],columns = [column])\n",
    "    sub_attr_df.append(attr_df)\n",
    "sub_attr_df"
   ]
  },
  {
   "cell_type": "code",
   "execution_count": 52,
   "id": "072098d7",
   "metadata": {
    "scrolled": true
   },
   "outputs": [
    {
     "data": {
      "text/plain": [
       "[         HUFL\n",
       " 0    0.000005\n",
       " 1    0.000004\n",
       " 2    0.000004\n",
       " 3    0.000003\n",
       " 4    0.000003\n",
       " ..        ...\n",
       " 130  0.000477\n",
       " 131  0.000526\n",
       " 132  0.000580\n",
       " 133  0.000631\n",
       " 134  0.000696\n",
       " \n",
       " [135 rows x 1 columns],\n",
       "          HULL\n",
       " 0    0.000005\n",
       " 1    0.000004\n",
       " 2    0.000004\n",
       " 3    0.000003\n",
       " 4    0.000003\n",
       " ..        ...\n",
       " 130  0.000477\n",
       " 131  0.000526\n",
       " 132  0.000580\n",
       " 133  0.000631\n",
       " 134  0.000696\n",
       " \n",
       " [135 rows x 1 columns],\n",
       "          MUFL\n",
       " 0    0.000005\n",
       " 1    0.000004\n",
       " 2    0.000004\n",
       " 3    0.000003\n",
       " 4    0.000003\n",
       " ..        ...\n",
       " 130  0.000477\n",
       " 131  0.000526\n",
       " 132  0.000580\n",
       " 133  0.000631\n",
       " 134  0.000696\n",
       " \n",
       " [135 rows x 1 columns],\n",
       "          MULL\n",
       " 0    0.000005\n",
       " 1    0.000004\n",
       " 2    0.000004\n",
       " 3    0.000003\n",
       " 4    0.000003\n",
       " ..        ...\n",
       " 130  0.000477\n",
       " 131  0.000526\n",
       " 132  0.000580\n",
       " 133  0.000631\n",
       " 134  0.000696\n",
       " \n",
       " [135 rows x 1 columns],\n",
       "          LUFL\n",
       " 0    0.000005\n",
       " 1    0.000004\n",
       " 2    0.000004\n",
       " 3    0.000003\n",
       " 4    0.000003\n",
       " ..        ...\n",
       " 130  0.000477\n",
       " 131  0.000526\n",
       " 132  0.000580\n",
       " 133  0.000631\n",
       " 134  0.000696\n",
       " \n",
       " [135 rows x 1 columns],\n",
       "          LULL\n",
       " 0    0.000005\n",
       " 1    0.000004\n",
       " 2    0.000004\n",
       " 3    0.000003\n",
       " 4    0.000003\n",
       " ..        ...\n",
       " 130  0.000477\n",
       " 131  0.000526\n",
       " 132  0.000580\n",
       " 133  0.000631\n",
       " 134  0.000696\n",
       " \n",
       " [135 rows x 1 columns],\n",
       "            OT\n",
       " 0    0.000005\n",
       " 1    0.000004\n",
       " 2    0.000004\n",
       " 3    0.000003\n",
       " 4    0.000003\n",
       " ..        ...\n",
       " 130  0.000477\n",
       " 131  0.000526\n",
       " 132  0.000580\n",
       " 133  0.000631\n",
       " 134  0.000696\n",
       " \n",
       " [135 rows x 1 columns]]"
      ]
     },
     "execution_count": 52,
     "metadata": {},
     "output_type": "execute_result"
    }
   ],
   "source": [
    "candidate_sub_attr_df = []\n",
    "for attr_df in sub_attr_df:\n",
    "    IQR = 1.5*(attr_df.quantile(0.75)-attr_df.quantile(0.25))\n",
    "    outlier_max = attr_df.quantile(0.75)+IQR\n",
    "    outlier_min = attr_df.quantile(0.25)-IQR\n",
    "    candidate_attr = attr_df[(attr_df>=outlier_min) & (attr_df<=outlier_max)]\n",
    "    candidate_attr = candidate_attr.dropna()\n",
    "    candidate_sub_attr_df.append(candidate_attr)\n",
    "candidate_sub_attr_df"
   ]
  },
  {
   "cell_type": "code",
   "execution_count": 53,
   "id": "f99d7320",
   "metadata": {},
   "outputs": [],
   "source": [
    "import matplotlib.pyplot as plt"
   ]
  },
  {
   "cell_type": "code",
   "execution_count": 54,
   "id": "4937bfd4",
   "metadata": {},
   "outputs": [
    {
     "data": {
      "text/plain": [
       "[         attr\n",
       " 0    0.002861\n",
       " 1    0.002297\n",
       " 2    0.001294\n",
       " 3    0.000880\n",
       " 4    0.000778\n",
       " ..        ...\n",
       " 130  0.684154\n",
       " 131  0.754501\n",
       " 132  0.832512\n",
       " 133  0.906671\n",
       " 134  1.000000\n",
       " \n",
       " [135 rows x 1 columns],\n",
       "          attr\n",
       " 0    0.002861\n",
       " 1    0.002297\n",
       " 2    0.001294\n",
       " 3    0.000880\n",
       " 4    0.000778\n",
       " ..        ...\n",
       " 130  0.684154\n",
       " 131  0.754501\n",
       " 132  0.832512\n",
       " 133  0.906671\n",
       " 134  1.000000\n",
       " \n",
       " [135 rows x 1 columns],\n",
       "          attr\n",
       " 0    0.002861\n",
       " 1    0.002297\n",
       " 2    0.001294\n",
       " 3    0.000880\n",
       " 4    0.000778\n",
       " ..        ...\n",
       " 130  0.684154\n",
       " 131  0.754501\n",
       " 132  0.832512\n",
       " 133  0.906671\n",
       " 134  1.000000\n",
       " \n",
       " [135 rows x 1 columns],\n",
       "          attr\n",
       " 0    0.002861\n",
       " 1    0.002297\n",
       " 2    0.001294\n",
       " 3    0.000880\n",
       " 4    0.000778\n",
       " ..        ...\n",
       " 130  0.684154\n",
       " 131  0.754501\n",
       " 132  0.832512\n",
       " 133  0.906671\n",
       " 134  1.000000\n",
       " \n",
       " [135 rows x 1 columns],\n",
       "          attr\n",
       " 0    0.002861\n",
       " 1    0.002297\n",
       " 2    0.001294\n",
       " 3    0.000880\n",
       " 4    0.000778\n",
       " ..        ...\n",
       " 130  0.684154\n",
       " 131  0.754501\n",
       " 132  0.832512\n",
       " 133  0.906671\n",
       " 134  1.000000\n",
       " \n",
       " [135 rows x 1 columns],\n",
       "          attr\n",
       " 0    0.002861\n",
       " 1    0.002297\n",
       " 2    0.001294\n",
       " 3    0.000880\n",
       " 4    0.000778\n",
       " ..        ...\n",
       " 130  0.684154\n",
       " 131  0.754501\n",
       " 132  0.832512\n",
       " 133  0.906671\n",
       " 134  1.000000\n",
       " \n",
       " [135 rows x 1 columns],\n",
       "          attr\n",
       " 0    0.002861\n",
       " 1    0.002297\n",
       " 2    0.001294\n",
       " 3    0.000880\n",
       " 4    0.000778\n",
       " ..        ...\n",
       " 130  0.684154\n",
       " 131  0.754501\n",
       " 132  0.832512\n",
       " 133  0.906671\n",
       " 134  1.000000\n",
       " \n",
       " [135 rows x 1 columns]]"
      ]
     },
     "execution_count": 54,
     "metadata": {},
     "output_type": "execute_result"
    },
    {
     "data": {
      "image/png": "[encoded data removed]",
      "text/plain": [
       "<Figure size 1000x2000 with 7 Axes>"
      ]
     },
     "metadata": {},
     "output_type": "display_data"
    }
   ],
   "source": [
    "from sklearn.preprocessing import MinMaxScaler,StandardScaler\n",
    "filtering_attr_list = [] # scaling한 attribution dataframe을 저장\n",
    "fig,ax = plt.subplots(7,1,figsize = (10,20))\n",
    "for cnt,candidate_attr in enumerate(candidate_sub_attr_df):\n",
    "    scaler = MinMaxScaler()\n",
    "    scaler.fit(candidate_attr.values)\n",
    "    m_attr_df = scaler.transform(candidate_attr.values)\n",
    "    m_attr_df = pd.DataFrame({\"attr\":m_attr_df.reshape(-1)})\n",
    "    filtering_attr_list.append(m_attr_df)\n",
    "    ax[cnt].plot(m_attr_df)\n",
    "    ax[cnt].set_title(candidate_attr.columns.item())\n",
    "filtering_attr_list"
   ]
  },
  {
   "cell_type": "code",
   "execution_count": 55,
   "id": "c68674c5",
   "metadata": {},
   "outputs": [
    {
     "data": {
      "text/plain": [
       "100"
      ]
     },
     "execution_count": 55,
     "metadata": {},
     "output_type": "execute_result"
    }
   ],
   "source": [
    "total_index_list = [] # train할 index를 저장해두는 리스트이다.\n",
    "for hyper_para in np.arange(0.00,1.00,0.01):\n",
    "    index_list = []\n",
    "    # filtering index를 만든다.\n",
    "    for m_attr_df in filtering_attr_list:\n",
    "        append_idx = list(m_attr_df[(m_attr_df['attr']>=hyper_para)].index)\n",
    "        index_list.append(append_idx)\n",
    "    total_index_list.append(index_list)\n",
    "len(total_index_list) "
   ]
  },
  {
   "cell_type": "code",
   "execution_count": 56,
   "id": "fee90310",
   "metadata": {},
   "outputs": [],
   "source": [
    "from pytorch_forecasting.metrics import SMAPE,MAE,RMSE"
   ]
  },
  {
   "cell_type": "code",
   "execution_count": null,
   "id": "c8751993",
   "metadata": {
    "scrolled": true
   },
   "outputs": [],
   "source": [
    "### 원래 난수가 선언된 위치\n",
    "m = len(validation)\n",
    "n = len(training)\n",
    "cnt = 0\n",
    "num_epochs = 100\n",
    "mse_out_list = []\n",
    "mae_out_list = []\n",
    "smape_out_list = []\n",
    "rmse_out_list = []\n",
    "for sub_index_list in total_index_list: #0.01~1.00 100개의 index에 대해서 수행\n",
    "    random.seed(seed)\n",
    "    np.random.seed(seed)\n",
    "    torch.manual_seed(seed) # 난수 선언(원래는 cnt선언 위에 있었다)\n",
    "    train_idx = sub_index_list\n",
    "    minimal_loss=np.inf\n",
    "    model = Filter().to(device) # 모델 초기화\n",
    "    optimizer = torch.optim.Adam(model.parameters(), lr=1e-4) # optimizer 초기화\n",
    "    result = 0\n",
    "    for epoch in range(num_epochs):  # loop over the dataset multiple times\n",
    "        running_loss = 0.0\n",
    "        for inputs, labels in training:\n",
    "            # forward pass\n",
    "            inputs = inputs\n",
    "            \n",
    "            outputs = model(inputs,train_idx)\n",
    "            outputs = outputs.view(-1,1)\n",
    "            labels = labels.view(-1,1)            \n",
    "            # defining loss\n",
    "            loss = MSE(outputs, labels)\n",
    "            # zero the parameter gradients\n",
    "            optimizer.zero_grad()\n",
    "            # computing gradients\n",
    "            loss.backward()\n",
    "            # accumulating running loss\n",
    "            running_loss += loss.item()\n",
    "            # updated weights based on computed gradients\n",
    "            optimizer.step()\n",
    "        if epoch == 99:    \n",
    "            print(f'{cnt}번째 모델 Training 완료 마지막 Epoch loss:{(running_loss/n)*100}')\n",
    "        \n",
    "        if (running_loss/n)*100<minimal_loss:\n",
    "            best_model = copy.deepcopy(model)\n",
    "            minimal_loss = (running_loss/n)*100\n",
    "            print(\"changed\")\n",
    "\n",
    "    model = best_model\n",
    "    cnt+=1\n",
    "    # 모델 Fully-Training 완료\n",
    "    \n",
    "    pred = torch.FloatTensor().to(device)\n",
    "    val_target = torch.FloatTensor().to(device)\n",
    "    for val_x,val_y in validation:\n",
    "        tmp_pred = model(val_x)\n",
    "        pred = torch.concat([pred,tmp_pred], dim=0)\n",
    "        val_target = torch.concat([val_target,val_y],dim = 0)\n",
    "    pred = pred.view(-1,1)\n",
    "    val_target = val_target.view(-1,1)\n",
    "    result = MSE(pred,val_target).item()\n",
    "    mse_out_list.append(result)\n",
    "    mae_out_list.append(MAE()(pred,val_target).item())\n",
    "    rmse_out_list.append(RMSE()(pred,val_target).item())\n",
    "    smape_out_list.append(SMAPE()(pred,val_target).item()*100)"
   ]
  },
  {
   "cell_type": "code",
   "execution_count": 63,
   "id": "d0e4becf",
   "metadata": {},
   "outputs": [
    {
     "data": {
      "text/plain": [
       "100"
      ]
     },
     "execution_count": 63,
     "metadata": {},
     "output_type": "execute_result"
    }
   ],
   "source": [
    "len(mse_out_list)"
   ]
  },
  {
   "cell_type": "code",
   "execution_count": 64,
   "id": "40d2ab28",
   "metadata": {},
   "outputs": [
    {
     "data": {
      "text/plain": [
       "[<matplotlib.lines.Line2D at 0x7efa87362700>]"
      ]
     },
     "execution_count": 64,
     "metadata": {},
     "output_type": "execute_result"
    },
    {
     "data": {
      "image/png": "[encoded data removed]",
      "text/plain": [
       "<Figure size 640x480 with 1 Axes>"
      ]
     },
     "metadata": {},
     "output_type": "display_data"
    }
   ],
   "source": [
    "plt.plot(mse_out_list)"
   ]
  },
  {
   "cell_type": "code",
   "execution_count": 65,
   "id": "8afdc3f8",
   "metadata": {},
   "outputs": [
    {
     "data": {
      "text/plain": [
       "[<matplotlib.lines.Line2D at 0x7efa7d1cf520>]"
      ]
     },
     "execution_count": 65,
     "metadata": {},
     "output_type": "execute_result"
    },
    {
     "data": {
      "image/png": "[encoded data removed]",
      "text/plain": [
       "<Figure size 640x480 with 1 Axes>"
      ]
     },
     "metadata": {},
     "output_type": "display_data"
    }
   ],
   "source": [
    "plt.plot(mae_out_list)"
   ]
  },
  {
   "cell_type": "code",
   "execution_count": 66,
   "id": "e86b62c9",
   "metadata": {
    "scrolled": false
   },
   "outputs": [
    {
     "data": {
      "text/plain": [
       "[<matplotlib.lines.Line2D at 0x7efa7d25ca90>]"
      ]
     },
     "execution_count": 66,
     "metadata": {},
     "output_type": "execute_result"
    },
    {
     "data": {
      "image/png": "[encoded data removed]",
      "text/plain": [
       "<Figure size 640x480 with 1 Axes>"
      ]
     },
     "metadata": {},
     "output_type": "display_data"
    }
   ],
   "source": [
    "plt.plot(rmse_out_list)"
   ]
  },
  {
   "cell_type": "code",
   "execution_count": 67,
   "id": "7b29a3bc",
   "metadata": {
    "scrolled": false
   },
   "outputs": [
    {
     "data": {
      "text/plain": [
       "[<matplotlib.lines.Line2D at 0x7efa7d1a4eb0>]"
      ]
     },
     "execution_count": 67,
     "metadata": {},
     "output_type": "execute_result"
    },
    {
     "data": {
      "image/png": "[encoded data removed]",
      "text/plain": [
       "<Figure size 640x480 with 1 Axes>"
      ]
     },
     "metadata": {},
     "output_type": "display_data"
    }
   ],
   "source": [
    "plt.plot(smape_out_list)"
   ]
  },
  {
   "cell_type": "code",
   "execution_count": null,
   "id": "1df54eba",
   "metadata": {},
   "outputs": [],
   "source": []
  },
  {
   "cell_type": "code",
   "execution_count": null,
   "id": "834c0137",
   "metadata": {},
   "outputs": [],
   "source": []
  }
 ],
 "metadata": {
  "kernelspec": {
   "display_name": "sj_virtual",
   "language": "python",
   "name": "myvenv"
  },
  "language_info": {
   "codemirror_mode": {
    "name": "ipython",
    "version": 3
   },
   "file_extension": ".py",
   "mimetype": "text/x-python",
   "name": "python",
   "nbconvert_exporter": "python",
   "pygments_lexer": "ipython3",
   "version": "3.8.10"
  },
  "varInspector": {
   "cols": {
    "lenName": 16,
    "lenType": 16,
    "lenVar": 40
   },
   "kernels_config": {
    "python": {
     "delete_cmd_postfix": "",
     "delete_cmd_prefix": "del ",
     "library": "var_list.py",
     "varRefreshCmd": "print(var_dic_list())"
    },
    "r": {
     "delete_cmd_postfix": ") ",
     "delete_cmd_prefix": "rm(",
     "library": "var_list.r",
     "varRefreshCmd": "cat(var_dic_list()) "
    }
   },
   "types_to_exclude": [
    "module",
    "function",
    "builtin_function_or_method",
    "instance",
    "_Feature"
   ],
   "window_display": false
  }
 },
 "nbformat": 4,
 "nbformat_minor": 5
}
