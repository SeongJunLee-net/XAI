{
 "cells": [
  {
   "cell_type": "code",
   "execution_count": 1,
   "id": "49e7e228",
   "metadata": {},
   "outputs": [],
   "source": [
    "import pandas as pd\n",
    "import numpy as np\n",
    "import random\n",
    "import copy"
   ]
  },
  {
   "cell_type": "code",
   "execution_count": 2,
   "id": "96fd2e41",
   "metadata": {},
   "outputs": [],
   "source": [
    "seed = 42"
   ]
  },
  {
   "cell_type": "code",
   "execution_count": 3,
   "id": "16a31083",
   "metadata": {
    "scrolled": true
   },
   "outputs": [
    {
     "data": {
      "text/html": [
       "<div>\n",
       "<style scoped>\n",
       "    .dataframe tbody tr th:only-of-type {\n",
       "        vertical-align: middle;\n",
       "    }\n",
       "\n",
       "    .dataframe tbody tr th {\n",
       "        vertical-align: top;\n",
       "    }\n",
       "\n",
       "    .dataframe thead th {\n",
       "        text-align: right;\n",
       "    }\n",
       "</style>\n",
       "<table border=\"1\" class=\"dataframe\">\n",
       "  <thead>\n",
       "    <tr style=\"text-align: right;\">\n",
       "      <th></th>\n",
       "      <th>date</th>\n",
       "      <th>HUFL</th>\n",
       "      <th>HULL</th>\n",
       "      <th>MUFL</th>\n",
       "      <th>MULL</th>\n",
       "      <th>LUFL</th>\n",
       "      <th>LULL</th>\n",
       "      <th>OT</th>\n",
       "    </tr>\n",
       "  </thead>\n",
       "  <tbody>\n",
       "    <tr>\n",
       "      <th>0</th>\n",
       "      <td>2016-07-01 00:00:00</td>\n",
       "      <td>5.827</td>\n",
       "      <td>2.009</td>\n",
       "      <td>1.599</td>\n",
       "      <td>0.462</td>\n",
       "      <td>4.203</td>\n",
       "      <td>1.340</td>\n",
       "      <td>30.531000</td>\n",
       "    </tr>\n",
       "    <tr>\n",
       "      <th>1</th>\n",
       "      <td>2016-07-01 01:00:00</td>\n",
       "      <td>5.693</td>\n",
       "      <td>2.076</td>\n",
       "      <td>1.492</td>\n",
       "      <td>0.426</td>\n",
       "      <td>4.142</td>\n",
       "      <td>1.371</td>\n",
       "      <td>27.787001</td>\n",
       "    </tr>\n",
       "    <tr>\n",
       "      <th>2</th>\n",
       "      <td>2016-07-01 02:00:00</td>\n",
       "      <td>5.157</td>\n",
       "      <td>1.741</td>\n",
       "      <td>1.279</td>\n",
       "      <td>0.355</td>\n",
       "      <td>3.777</td>\n",
       "      <td>1.218</td>\n",
       "      <td>27.787001</td>\n",
       "    </tr>\n",
       "    <tr>\n",
       "      <th>3</th>\n",
       "      <td>2016-07-01 03:00:00</td>\n",
       "      <td>5.090</td>\n",
       "      <td>1.942</td>\n",
       "      <td>1.279</td>\n",
       "      <td>0.391</td>\n",
       "      <td>3.807</td>\n",
       "      <td>1.279</td>\n",
       "      <td>25.044001</td>\n",
       "    </tr>\n",
       "    <tr>\n",
       "      <th>4</th>\n",
       "      <td>2016-07-01 04:00:00</td>\n",
       "      <td>5.358</td>\n",
       "      <td>1.942</td>\n",
       "      <td>1.492</td>\n",
       "      <td>0.462</td>\n",
       "      <td>3.868</td>\n",
       "      <td>1.279</td>\n",
       "      <td>21.948000</td>\n",
       "    </tr>\n",
       "    <tr>\n",
       "      <th>...</th>\n",
       "      <td>...</td>\n",
       "      <td>...</td>\n",
       "      <td>...</td>\n",
       "      <td>...</td>\n",
       "      <td>...</td>\n",
       "      <td>...</td>\n",
       "      <td>...</td>\n",
       "      <td>...</td>\n",
       "    </tr>\n",
       "    <tr>\n",
       "      <th>17415</th>\n",
       "      <td>2018-06-26 15:00:00</td>\n",
       "      <td>-1.674</td>\n",
       "      <td>3.550</td>\n",
       "      <td>-5.615</td>\n",
       "      <td>2.132</td>\n",
       "      <td>3.472</td>\n",
       "      <td>1.523</td>\n",
       "      <td>10.904000</td>\n",
       "    </tr>\n",
       "    <tr>\n",
       "      <th>17416</th>\n",
       "      <td>2018-06-26 16:00:00</td>\n",
       "      <td>-5.492</td>\n",
       "      <td>4.287</td>\n",
       "      <td>-9.132</td>\n",
       "      <td>2.274</td>\n",
       "      <td>3.533</td>\n",
       "      <td>1.675</td>\n",
       "      <td>11.044000</td>\n",
       "    </tr>\n",
       "    <tr>\n",
       "      <th>17417</th>\n",
       "      <td>2018-06-26 17:00:00</td>\n",
       "      <td>2.813</td>\n",
       "      <td>3.818</td>\n",
       "      <td>-0.817</td>\n",
       "      <td>2.097</td>\n",
       "      <td>3.716</td>\n",
       "      <td>1.523</td>\n",
       "      <td>10.271000</td>\n",
       "    </tr>\n",
       "    <tr>\n",
       "      <th>17418</th>\n",
       "      <td>2018-06-26 18:00:00</td>\n",
       "      <td>9.243</td>\n",
       "      <td>3.818</td>\n",
       "      <td>5.472</td>\n",
       "      <td>2.097</td>\n",
       "      <td>3.655</td>\n",
       "      <td>1.432</td>\n",
       "      <td>9.778000</td>\n",
       "    </tr>\n",
       "    <tr>\n",
       "      <th>17419</th>\n",
       "      <td>2018-06-26 19:00:00</td>\n",
       "      <td>10.114</td>\n",
       "      <td>3.550</td>\n",
       "      <td>6.183</td>\n",
       "      <td>1.564</td>\n",
       "      <td>3.716</td>\n",
       "      <td>1.462</td>\n",
       "      <td>9.567000</td>\n",
       "    </tr>\n",
       "  </tbody>\n",
       "</table>\n",
       "<p>17420 rows × 8 columns</p>\n",
       "</div>"
      ],
      "text/plain": [
       "                      date    HUFL   HULL   MUFL   MULL   LUFL   LULL  \\\n",
       "0      2016-07-01 00:00:00   5.827  2.009  1.599  0.462  4.203  1.340   \n",
       "1      2016-07-01 01:00:00   5.693  2.076  1.492  0.426  4.142  1.371   \n",
       "2      2016-07-01 02:00:00   5.157  1.741  1.279  0.355  3.777  1.218   \n",
       "3      2016-07-01 03:00:00   5.090  1.942  1.279  0.391  3.807  1.279   \n",
       "4      2016-07-01 04:00:00   5.358  1.942  1.492  0.462  3.868  1.279   \n",
       "...                    ...     ...    ...    ...    ...    ...    ...   \n",
       "17415  2018-06-26 15:00:00  -1.674  3.550 -5.615  2.132  3.472  1.523   \n",
       "17416  2018-06-26 16:00:00  -5.492  4.287 -9.132  2.274  3.533  1.675   \n",
       "17417  2018-06-26 17:00:00   2.813  3.818 -0.817  2.097  3.716  1.523   \n",
       "17418  2018-06-26 18:00:00   9.243  3.818  5.472  2.097  3.655  1.432   \n",
       "17419  2018-06-26 19:00:00  10.114  3.550  6.183  1.564  3.716  1.462   \n",
       "\n",
       "              OT  \n",
       "0      30.531000  \n",
       "1      27.787001  \n",
       "2      27.787001  \n",
       "3      25.044001  \n",
       "4      21.948000  \n",
       "...          ...  \n",
       "17415  10.904000  \n",
       "17416  11.044000  \n",
       "17417  10.271000  \n",
       "17418   9.778000  \n",
       "17419   9.567000  \n",
       "\n",
       "[17420 rows x 8 columns]"
      ]
     },
     "execution_count": 3,
     "metadata": {},
     "output_type": "execute_result"
    }
   ],
   "source": [
    "data = pd.read_csv('../GeneralData/ETTh1.csv')\n",
    "data"
   ]
  },
  {
   "cell_type": "code",
   "execution_count": 4,
   "id": "94c0a6f4",
   "metadata": {},
   "outputs": [
    {
     "name": "stderr",
     "output_type": "stream",
     "text": [
      "/home/sjlee/sj_virtual/lib/python3.8/site-packages/tqdm/auto.py:22: TqdmWarning: IProgress not found. Please update jupyter and ipywidgets. See https://ipywidgets.readthedocs.io/en/stable/user_install.html\n",
      "  from .autonotebook import tqdm as notebook_tqdm\n"
     ]
    }
   ],
   "source": [
    "import torch.nn as nn"
   ]
  },
  {
   "cell_type": "code",
   "execution_count": 5,
   "id": "c697a81d",
   "metadata": {},
   "outputs": [],
   "source": [
    "feature_size = 7"
   ]
  },
  {
   "cell_type": "code",
   "execution_count": 6,
   "id": "09ac4e1e",
   "metadata": {},
   "outputs": [],
   "source": [
    "# LSTM은 Encoder와 Decoder를 각각 구현해야 한다.\n",
    "class LSTM(nn.Module):\n",
    "    def __init__(self):\n",
    "        super().__init__()\n",
    "        self.hidden_size = 14\n",
    "        self.input_size = feature_size\n",
    "        self.encoder = nn.LSTM(input_size = self.input_size,\n",
    "                       hidden_size = self.hidden_size,\n",
    "                       num_layers = 1,\n",
    "                       batch_first = True).to(device)\n",
    "        # batch_first = True로 인해서 (batch,seq,feature)순으로 입력 받는다.\n",
    "        # 그 당시에 알고 있는 정보가 없으므로 input_size = 0\n",
    "        self.decoder = nn.LSTM(input_size = self.input_size,\n",
    "                       hidden_size = self.hidden_size,\n",
    "                       num_layers = 1,\n",
    "                       batch_first = True).to(device)\n",
    "        \n",
    "        \n",
    "        self.output_layer = nn.Linear(self.hidden_size, 1).to(device)\n",
    "    def forward(self,x):\n",
    "        x = x.to(device)\n",
    "        self.encoder.flatten_parameters()\n",
    "        self.decoder.flatten_parameters()\n",
    "        outputs,(hidden,cell) = self.encoder(x)\n",
    "        \n",
    "        # 현재 prediction_length = 1이기 때문에, 반복문을 돌리지 않아도 됨\n",
    "        # but 길어진다면 반복문을 돌려서 output값을 얻어야 한다.\n",
    "        # 기본적으로 output = hidden state이기에 output을 생성할\n",
    "        # Fully Connected Layer가 필요하게 된다.\n",
    "        # 이때 decoder_output의 사이즈는 (batch,seq,hidden) 이다\n",
    "        # 중간에 seq가 들어오게 되는 이유는 입력 크기 만큼 lstm이 반복되기 때문에\n",
    "        # seq=1 이기 때문에 squeeze를 수행\n",
    "        \n",
    "        hidden = hidden.to(device)\n",
    "        cell = cell.to(device)\n",
    "        decoder_input = torch.zeros([x.size(0),1,x.size(2)]).to(device)\n",
    "        decoder_out,(hidden,cell) = self.decoder(decoder_input,(hidden,cell))\n",
    "        decoder_out = decoder_out.squeeze(1)\n",
    "        \n",
    "        out = self.output_layer(decoder_out)\n",
    "        \n",
    "        return out"
   ]
  },
  {
   "cell_type": "code",
   "execution_count": 7,
   "id": "40cabdd4",
   "metadata": {},
   "outputs": [],
   "source": [
    "from torch.utils.data import TensorDataset\n",
    "from torch.utils.data import DataLoader\n",
    "import torch"
   ]
  },
  {
   "cell_type": "code",
   "execution_count": 8,
   "id": "d7ca231d",
   "metadata": {},
   "outputs": [],
   "source": [
    "device = torch.device(\"cuda:0\")"
   ]
  },
  {
   "cell_type": "code",
   "execution_count": 9,
   "id": "2c99b1b4",
   "metadata": {},
   "outputs": [],
   "source": [
    "sequence_length = 24 # 1일\n",
    "pred_length = 1 # 1시간\n",
    "split = int(len(data)*0.8)"
   ]
  },
  {
   "cell_type": "code",
   "execution_count": 10,
   "id": "2cdf5edd",
   "metadata": {},
   "outputs": [],
   "source": [
    "def seq_data(x,sequence_length,pred_len):\n",
    "    seq_list = []\n",
    "    target_list = []\n",
    "    device = torch.device(\"cuda:0\")\n",
    "    for i in range(0,len(x)-sequence_length):\n",
    "        # 시간데이터를 제외하고 추출\n",
    "        seq_list.append(x.iloc[i:i+sequence_length,1:].values)\n",
    "        # OT만 추출\n",
    "        target_list.append(x.iloc[i+sequence_length,-1])\n",
    "        \n",
    "    return torch.FloatTensor(seq_list).view(-1,sequence_length,7).to(device), torch.FloatTensor(target_list).view(-1,pred_len,1).to(device)"
   ]
  },
  {
   "cell_type": "code",
   "execution_count": 11,
   "id": "efa8f205",
   "metadata": {
    "scrolled": false
   },
   "outputs": [
    {
     "name": "stderr",
     "output_type": "stream",
     "text": [
      "/tmp/ipykernel_1130898/2507691695.py:11: UserWarning: Creating a tensor from a list of numpy.ndarrays is extremely slow. Please consider converting the list to a single numpy.ndarray with numpy.array() before converting to a tensor. (Triggered internally at ../torch/csrc/utils/tensor_new.cpp:230.)\n",
      "  return torch.FloatTensor(seq_list).view(-1,sequence_length,7).to(device), torch.FloatTensor(target_list).view(-1,pred_len,1).to(device)\n"
     ]
    }
   ],
   "source": [
    "train = data.iloc[:split]\n",
    "val = data.iloc[split:]\n",
    "\n",
    "X_train, y_train = seq_data(train,sequence_length,pred_length)\n",
    "X_val, y_val = seq_data(val,sequence_length,pred_length)\n",
    "\n",
    "tr_dataset = TensorDataset(X_train, y_train)\n",
    "val_dataset = TensorDataset(X_val,y_val)\n",
    "\n",
    "training =  DataLoader(tr_dataset,batch_size = 64)\n",
    "validation = DataLoader(val_dataset,batch_size = 64)"
   ]
  },
  {
   "cell_type": "code",
   "execution_count": 12,
   "id": "72d7da90",
   "metadata": {},
   "outputs": [
    {
     "data": {
      "text/plain": [
       "True"
      ]
     },
     "execution_count": 12,
     "metadata": {},
     "output_type": "execute_result"
    }
   ],
   "source": [
    "torch.cuda.is_available()"
   ]
  },
  {
   "cell_type": "code",
   "execution_count": 13,
   "id": "65b333ef",
   "metadata": {},
   "outputs": [
    {
     "data": {
      "text/plain": [
       "torch.Size([13912, 24, 7])"
      ]
     },
     "execution_count": 13,
     "metadata": {},
     "output_type": "execute_result"
    }
   ],
   "source": [
    "X_train.size() # 168개의 sequence_length 7개의 Feature"
   ]
  },
  {
   "cell_type": "markdown",
   "id": "33adcbfd",
   "metadata": {},
   "source": [
    "* 잘 데이터가 구성된 걸 확인 가능"
   ]
  },
  {
   "cell_type": "code",
   "execution_count": 14,
   "id": "e85b07c9",
   "metadata": {},
   "outputs": [
    {
     "data": {
      "text/html": [
       "<div>\n",
       "<style scoped>\n",
       "    .dataframe tbody tr th:only-of-type {\n",
       "        vertical-align: middle;\n",
       "    }\n",
       "\n",
       "    .dataframe tbody tr th {\n",
       "        vertical-align: top;\n",
       "    }\n",
       "\n",
       "    .dataframe thead th {\n",
       "        text-align: right;\n",
       "    }\n",
       "</style>\n",
       "<table border=\"1\" class=\"dataframe\">\n",
       "  <thead>\n",
       "    <tr style=\"text-align: right;\">\n",
       "      <th></th>\n",
       "      <th>date</th>\n",
       "      <th>HUFL</th>\n",
       "      <th>HULL</th>\n",
       "      <th>MUFL</th>\n",
       "      <th>MULL</th>\n",
       "      <th>LUFL</th>\n",
       "      <th>LULL</th>\n",
       "      <th>OT</th>\n",
       "    </tr>\n",
       "  </thead>\n",
       "  <tbody>\n",
       "    <tr>\n",
       "      <th>0</th>\n",
       "      <td>2016-07-01 00:00:00</td>\n",
       "      <td>5.827</td>\n",
       "      <td>2.009</td>\n",
       "      <td>1.599</td>\n",
       "      <td>0.462</td>\n",
       "      <td>4.203</td>\n",
       "      <td>1.340</td>\n",
       "      <td>30.531000</td>\n",
       "    </tr>\n",
       "    <tr>\n",
       "      <th>1</th>\n",
       "      <td>2016-07-01 01:00:00</td>\n",
       "      <td>5.693</td>\n",
       "      <td>2.076</td>\n",
       "      <td>1.492</td>\n",
       "      <td>0.426</td>\n",
       "      <td>4.142</td>\n",
       "      <td>1.371</td>\n",
       "      <td>27.787001</td>\n",
       "    </tr>\n",
       "    <tr>\n",
       "      <th>2</th>\n",
       "      <td>2016-07-01 02:00:00</td>\n",
       "      <td>5.157</td>\n",
       "      <td>1.741</td>\n",
       "      <td>1.279</td>\n",
       "      <td>0.355</td>\n",
       "      <td>3.777</td>\n",
       "      <td>1.218</td>\n",
       "      <td>27.787001</td>\n",
       "    </tr>\n",
       "    <tr>\n",
       "      <th>3</th>\n",
       "      <td>2016-07-01 03:00:00</td>\n",
       "      <td>5.090</td>\n",
       "      <td>1.942</td>\n",
       "      <td>1.279</td>\n",
       "      <td>0.391</td>\n",
       "      <td>3.807</td>\n",
       "      <td>1.279</td>\n",
       "      <td>25.044001</td>\n",
       "    </tr>\n",
       "    <tr>\n",
       "      <th>4</th>\n",
       "      <td>2016-07-01 04:00:00</td>\n",
       "      <td>5.358</td>\n",
       "      <td>1.942</td>\n",
       "      <td>1.492</td>\n",
       "      <td>0.462</td>\n",
       "      <td>3.868</td>\n",
       "      <td>1.279</td>\n",
       "      <td>21.948000</td>\n",
       "    </tr>\n",
       "    <tr>\n",
       "      <th>...</th>\n",
       "      <td>...</td>\n",
       "      <td>...</td>\n",
       "      <td>...</td>\n",
       "      <td>...</td>\n",
       "      <td>...</td>\n",
       "      <td>...</td>\n",
       "      <td>...</td>\n",
       "      <td>...</td>\n",
       "    </tr>\n",
       "    <tr>\n",
       "      <th>164</th>\n",
       "      <td>2016-07-07 20:00:00</td>\n",
       "      <td>11.119</td>\n",
       "      <td>4.153</td>\n",
       "      <td>7.427</td>\n",
       "      <td>1.919</td>\n",
       "      <td>3.746</td>\n",
       "      <td>1.675</td>\n",
       "      <td>32.922001</td>\n",
       "    </tr>\n",
       "    <tr>\n",
       "      <th>165</th>\n",
       "      <td>2016-07-07 21:00:00</td>\n",
       "      <td>10.449</td>\n",
       "      <td>3.282</td>\n",
       "      <td>7.107</td>\n",
       "      <td>1.279</td>\n",
       "      <td>3.594</td>\n",
       "      <td>1.706</td>\n",
       "      <td>33.625999</td>\n",
       "    </tr>\n",
       "    <tr>\n",
       "      <th>166</th>\n",
       "      <td>2016-07-07 22:00:00</td>\n",
       "      <td>10.516</td>\n",
       "      <td>3.885</td>\n",
       "      <td>7.356</td>\n",
       "      <td>1.599</td>\n",
       "      <td>3.168</td>\n",
       "      <td>1.675</td>\n",
       "      <td>32.640999</td>\n",
       "    </tr>\n",
       "    <tr>\n",
       "      <th>167</th>\n",
       "      <td>2016-07-07 23:00:00</td>\n",
       "      <td>11.855</td>\n",
       "      <td>5.358</td>\n",
       "      <td>8.884</td>\n",
       "      <td>3.198</td>\n",
       "      <td>3.076</td>\n",
       "      <td>1.553</td>\n",
       "      <td>31.586000</td>\n",
       "    </tr>\n",
       "    <tr>\n",
       "      <th>168</th>\n",
       "      <td>2016-07-08 00:00:00</td>\n",
       "      <td>11.855</td>\n",
       "      <td>4.756</td>\n",
       "      <td>8.884</td>\n",
       "      <td>2.985</td>\n",
       "      <td>2.955</td>\n",
       "      <td>1.523</td>\n",
       "      <td>31.093000</td>\n",
       "    </tr>\n",
       "  </tbody>\n",
       "</table>\n",
       "<p>169 rows × 8 columns</p>\n",
       "</div>"
      ],
      "text/plain": [
       "                    date    HUFL   HULL   MUFL   MULL   LUFL   LULL         OT\n",
       "0    2016-07-01 00:00:00   5.827  2.009  1.599  0.462  4.203  1.340  30.531000\n",
       "1    2016-07-01 01:00:00   5.693  2.076  1.492  0.426  4.142  1.371  27.787001\n",
       "2    2016-07-01 02:00:00   5.157  1.741  1.279  0.355  3.777  1.218  27.787001\n",
       "3    2016-07-01 03:00:00   5.090  1.942  1.279  0.391  3.807  1.279  25.044001\n",
       "4    2016-07-01 04:00:00   5.358  1.942  1.492  0.462  3.868  1.279  21.948000\n",
       "..                   ...     ...    ...    ...    ...    ...    ...        ...\n",
       "164  2016-07-07 20:00:00  11.119  4.153  7.427  1.919  3.746  1.675  32.922001\n",
       "165  2016-07-07 21:00:00  10.449  3.282  7.107  1.279  3.594  1.706  33.625999\n",
       "166  2016-07-07 22:00:00  10.516  3.885  7.356  1.599  3.168  1.675  32.640999\n",
       "167  2016-07-07 23:00:00  11.855  5.358  8.884  3.198  3.076  1.553  31.586000\n",
       "168  2016-07-08 00:00:00  11.855  4.756  8.884  2.985  2.955  1.523  31.093000\n",
       "\n",
       "[169 rows x 8 columns]"
      ]
     },
     "execution_count": 14,
     "metadata": {},
     "output_type": "execute_result"
    }
   ],
   "source": [
    "train.iloc[:169]"
   ]
  },
  {
   "cell_type": "code",
   "execution_count": 15,
   "id": "61d18200",
   "metadata": {
    "scrolled": true
   },
   "outputs": [
    {
     "data": {
      "text/plain": [
       "tensor([[[  5.8270,   2.0090,   1.5990,  ...,   4.2030,   1.3400,  30.5310],\n",
       "         [  5.6930,   2.0760,   1.4920,  ...,   4.1420,   1.3710,  27.7870],\n",
       "         [  5.1570,   1.7410,   1.2790,  ...,   3.7770,   1.2180,  27.7870],\n",
       "         ...,\n",
       "         [  5.0900,   2.9470,   2.3810,  ...,   2.6800,   1.5230,  18.0090],\n",
       "         [  4.8230,   2.9470,   2.2030,  ...,   2.6190,   1.5230,  18.0090],\n",
       "         [  4.6220,   2.8800,   2.1320,  ...,   2.4670,   1.4920,  19.7680]],\n",
       "\n",
       "        [[  5.6930,   2.0760,   1.4920,  ...,   4.1420,   1.3710,  27.7870],\n",
       "         [  5.1570,   1.7410,   1.2790,  ...,   3.7770,   1.2180,  27.7870],\n",
       "         [  5.0900,   1.9420,   1.2790,  ...,   3.8070,   1.2790,  25.0440],\n",
       "         ...,\n",
       "         [  4.8230,   2.9470,   2.2030,  ...,   2.6190,   1.5230,  18.0090],\n",
       "         [  4.6220,   2.8800,   2.1320,  ...,   2.4670,   1.4920,  19.7680],\n",
       "         [  5.2240,   3.0810,   2.7010,  ...,   2.4370,   1.5230,  21.1040]],\n",
       "\n",
       "        [[  5.1570,   1.7410,   1.2790,  ...,   3.7770,   1.2180,  27.7870],\n",
       "         [  5.0900,   1.9420,   1.2790,  ...,   3.8070,   1.2790,  25.0440],\n",
       "         [  5.3580,   1.9420,   1.4920,  ...,   3.8680,   1.2790,  21.9480],\n",
       "         ...,\n",
       "         [  4.6220,   2.8800,   2.1320,  ...,   2.4670,   1.4920,  19.7680],\n",
       "         [  5.2240,   3.0810,   2.7010,  ...,   2.4370,   1.5230,  21.1040],\n",
       "         [  5.1570,   3.0140,   2.8780,  ...,   2.3450,   1.4320,  19.6970]],\n",
       "\n",
       "        ...,\n",
       "\n",
       "        [[ 15.1370,   3.9520,  11.9400,  ...,   3.0460,   0.4570,   1.7590],\n",
       "         [ 15.1370,   3.9520,  11.9400,  ...,   3.0460,   0.4570,   1.7590],\n",
       "         [ 15.1370,   3.9520,  11.9400,  ...,   3.0460,   0.4570,   1.7590],\n",
       "         ...,\n",
       "         [ -2.3440,   2.8130,  -6.0410,  ...,   3.5940,   0.9140,   3.7990],\n",
       "         [  5.2910,   2.5450,   1.0310,  ...,   4.3250,   0.9140,   4.7130],\n",
       "         [ -9.3770,   3.0810, -13.3260,  ...,   3.6250,   0.9140,   4.2910]],\n",
       "\n",
       "        [[ 15.1370,   3.9520,  11.9400,  ...,   3.0460,   0.4570,   1.7590],\n",
       "         [ 15.1370,   3.9520,  11.9400,  ...,   3.0460,   0.4570,   1.7590],\n",
       "         [ 15.1370,   3.9520,  11.9400,  ...,   3.0460,   0.4570,   1.7590],\n",
       "         ...,\n",
       "         [  5.2910,   2.5450,   1.0310,  ...,   4.3250,   0.9140,   4.7130],\n",
       "         [ -9.3770,   3.0810, -13.3260,  ...,   3.6250,   0.9140,   4.2910],\n",
       "         [  1.6080,   2.7460,  -2.3100,  ...,   4.1120,   1.1570,   4.2910]],\n",
       "\n",
       "        [[ 15.1370,   3.9520,  11.9400,  ...,   3.0460,   0.4570,   1.7590],\n",
       "         [ 15.1370,   3.9520,  11.9400,  ...,   3.0460,   0.4570,   1.7590],\n",
       "         [ 15.1370,   3.9520,  11.9400,  ...,   3.0460,   0.4570,   1.7590],\n",
       "         ...,\n",
       "         [ -9.3770,   3.0810, -13.3260,  ...,   3.6250,   0.9140,   4.2910],\n",
       "         [  1.6080,   2.7460,  -2.3100,  ...,   4.1120,   1.1570,   4.2910],\n",
       "         [ -7.5020,   3.0810, -11.3360,  ...,   3.5940,   1.1880,   6.2610]]],\n",
       "       device='cuda:0')"
      ]
     },
     "execution_count": 15,
     "metadata": {},
     "output_type": "execute_result"
    }
   ],
   "source": [
    "X_train"
   ]
  },
  {
   "cell_type": "code",
   "execution_count": 16,
   "id": "4a6236e1",
   "metadata": {
    "scrolled": true
   },
   "outputs": [
    {
     "data": {
      "text/plain": [
       "tensor([[[21.1040]],\n",
       "\n",
       "        [[19.6970]],\n",
       "\n",
       "        [[20.0490]],\n",
       "\n",
       "        ...,\n",
       "\n",
       "        [[ 4.2910]],\n",
       "\n",
       "        [[ 6.2610]],\n",
       "\n",
       "        [[ 3.9390]]], device='cuda:0')"
      ]
     },
     "execution_count": 16,
     "metadata": {},
     "output_type": "execute_result"
    }
   ],
   "source": [
    "y_train"
   ]
  },
  {
   "cell_type": "code",
   "execution_count": 17,
   "id": "dc60cdc4",
   "metadata": {},
   "outputs": [],
   "source": [
    "from torch.optim import Adam"
   ]
  },
  {
   "cell_type": "code",
   "execution_count": 18,
   "id": "89a1e0ea",
   "metadata": {},
   "outputs": [],
   "source": [
    "random.seed(seed)\n",
    "np.random.seed(seed)\n",
    "torch.manual_seed(seed) # 난수 선언(원래는 cnt선언 위에 있었다)\n",
    "model = LSTM().to(device)\n",
    "optimizer = Adam(model.parameters(),lr = 1e-4)\n",
    "num_epochs = 200\n",
    "n = len(training)"
   ]
  },
  {
   "cell_type": "code",
   "execution_count": 19,
   "id": "740a413f",
   "metadata": {},
   "outputs": [],
   "source": [
    "def MSE(pred,target):\n",
    "    return torch.mean((pred-target)**2,dim = 0) # reduction까지 취해줌"
   ]
  },
  {
   "cell_type": "code",
   "execution_count": 20,
   "id": "9e4d7125",
   "metadata": {
    "scrolled": true
   },
   "outputs": [
    {
     "name": "stdout",
     "output_type": "stream",
     "text": [
      "Epoch [1]/[200] running accumulative loss across all batches: 305.561\n",
      "changed\n",
      "Epoch [2]/[200] running accumulative loss across all batches: 298.734\n",
      "changed\n",
      "Epoch [3]/[200] running accumulative loss across all batches: 288.643\n",
      "changed\n",
      "Epoch [4]/[200] running accumulative loss across all batches: 276.056\n",
      "changed\n",
      "Epoch [5]/[200] running accumulative loss across all batches: 262.479\n",
      "changed\n",
      "Epoch [6]/[200] running accumulative loss across all batches: 249.488\n",
      "changed\n",
      "Epoch [7]/[200] running accumulative loss across all batches: 238.562\n",
      "changed\n",
      "Epoch [8]/[200] running accumulative loss across all batches: 229.283\n",
      "changed\n",
      "Epoch [9]/[200] running accumulative loss across all batches: 221.108\n",
      "changed\n",
      "Epoch [10]/[200] running accumulative loss across all batches: 213.794\n",
      "changed\n",
      "Epoch [11]/[200] running accumulative loss across all batches: 207.141\n",
      "changed\n",
      "Epoch [12]/[200] running accumulative loss across all batches: 200.915\n",
      "changed\n",
      "Epoch [13]/[200] running accumulative loss across all batches: 194.950\n",
      "changed\n",
      "Epoch [14]/[200] running accumulative loss across all batches: 189.140\n",
      "changed\n",
      "Epoch [15]/[200] running accumulative loss across all batches: 183.443\n",
      "changed\n",
      "Epoch [16]/[200] running accumulative loss across all batches: 177.842\n",
      "changed\n",
      "Epoch [17]/[200] running accumulative loss across all batches: 172.352\n",
      "changed\n",
      "Epoch [18]/[200] running accumulative loss across all batches: 167.035\n",
      "changed\n",
      "Epoch [19]/[200] running accumulative loss across all batches: 161.948\n",
      "changed\n",
      "Epoch [20]/[200] running accumulative loss across all batches: 157.119\n",
      "changed\n",
      "Epoch [21]/[200] running accumulative loss across all batches: 152.542\n",
      "changed\n",
      "Epoch [22]/[200] running accumulative loss across all batches: 148.192\n",
      "changed\n",
      "Epoch [23]/[200] running accumulative loss across all batches: 144.046\n",
      "changed\n",
      "Epoch [24]/[200] running accumulative loss across all batches: 140.082\n",
      "changed\n",
      "Epoch [25]/[200] running accumulative loss across all batches: 136.284\n",
      "changed\n",
      "Epoch [26]/[200] running accumulative loss across all batches: 132.637\n",
      "changed\n",
      "Epoch [27]/[200] running accumulative loss across all batches: 129.126\n",
      "changed\n",
      "Epoch [28]/[200] running accumulative loss across all batches: 125.739\n",
      "changed\n",
      "Epoch [29]/[200] running accumulative loss across all batches: 122.469\n",
      "changed\n",
      "Epoch [30]/[200] running accumulative loss across all batches: 119.306\n",
      "changed\n",
      "Epoch [31]/[200] running accumulative loss across all batches: 116.243\n",
      "changed\n",
      "Epoch [32]/[200] running accumulative loss across all batches: 113.274\n",
      "changed\n",
      "Epoch [33]/[200] running accumulative loss across all batches: 110.397\n",
      "changed\n",
      "Epoch [34]/[200] running accumulative loss across all batches: 107.608\n",
      "changed\n",
      "Epoch [35]/[200] running accumulative loss across all batches: 104.904\n",
      "changed\n",
      "Epoch [36]/[200] running accumulative loss across all batches: 102.281\n",
      "changed\n",
      "Epoch [37]/[200] running accumulative loss across all batches: 99.736\n",
      "changed\n",
      "Epoch [38]/[200] running accumulative loss across all batches: 97.266\n",
      "changed\n",
      "Epoch [39]/[200] running accumulative loss across all batches: 94.869\n",
      "changed\n",
      "Epoch [40]/[200] running accumulative loss across all batches: 92.540\n",
      "changed\n",
      "Epoch [41]/[200] running accumulative loss across all batches: 90.279\n",
      "changed\n",
      "Epoch [42]/[200] running accumulative loss across all batches: 88.082\n",
      "changed\n",
      "Epoch [43]/[200] running accumulative loss across all batches: 85.947\n",
      "changed\n",
      "Epoch [44]/[200] running accumulative loss across all batches: 83.873\n",
      "changed\n",
      "Epoch [45]/[200] running accumulative loss across all batches: 81.858\n",
      "changed\n",
      "Epoch [46]/[200] running accumulative loss across all batches: 79.899\n",
      "changed\n",
      "Epoch [47]/[200] running accumulative loss across all batches: 77.996\n",
      "changed\n",
      "Epoch [48]/[200] running accumulative loss across all batches: 76.146\n",
      "changed\n",
      "Epoch [49]/[200] running accumulative loss across all batches: 74.347\n",
      "changed\n",
      "Epoch [50]/[200] running accumulative loss across all batches: 72.599\n",
      "changed\n",
      "Epoch [51]/[200] running accumulative loss across all batches: 70.899\n",
      "changed\n",
      "Epoch [52]/[200] running accumulative loss across all batches: 69.246\n",
      "changed\n",
      "Epoch [53]/[200] running accumulative loss across all batches: 67.639\n",
      "changed\n",
      "Epoch [54]/[200] running accumulative loss across all batches: 66.077\n",
      "changed\n",
      "Epoch [55]/[200] running accumulative loss across all batches: 64.557\n",
      "changed\n",
      "Epoch [56]/[200] running accumulative loss across all batches: 63.080\n",
      "changed\n",
      "Epoch [57]/[200] running accumulative loss across all batches: 61.643\n",
      "changed\n",
      "Epoch [58]/[200] running accumulative loss across all batches: 60.246\n",
      "changed\n",
      "Epoch [59]/[200] running accumulative loss across all batches: 58.888\n",
      "changed\n",
      "Epoch [60]/[200] running accumulative loss across all batches: 57.567\n",
      "changed\n",
      "Epoch [61]/[200] running accumulative loss across all batches: 56.283\n",
      "changed\n",
      "Epoch [62]/[200] running accumulative loss across all batches: 55.035\n",
      "changed\n",
      "Epoch [63]/[200] running accumulative loss across all batches: 53.822\n",
      "changed\n",
      "Epoch [64]/[200] running accumulative loss across all batches: 52.642\n",
      "changed\n",
      "Epoch [65]/[200] running accumulative loss across all batches: 51.495\n",
      "changed\n",
      "Epoch [66]/[200] running accumulative loss across all batches: 50.379\n",
      "changed\n",
      "Epoch [67]/[200] running accumulative loss across all batches: 49.295\n",
      "changed\n",
      "Epoch [68]/[200] running accumulative loss across all batches: 48.239\n",
      "changed\n",
      "Epoch [69]/[200] running accumulative loss across all batches: 47.212\n",
      "changed\n",
      "Epoch [70]/[200] running accumulative loss across all batches: 46.214\n",
      "changed\n",
      "Epoch [71]/[200] running accumulative loss across all batches: 45.241\n",
      "changed\n",
      "Epoch [72]/[200] running accumulative loss across all batches: 44.297\n",
      "changed\n",
      "Epoch [73]/[200] running accumulative loss across all batches: 43.376\n",
      "changed\n",
      "Epoch [74]/[200] running accumulative loss across all batches: 42.482\n",
      "changed\n",
      "Epoch [75]/[200] running accumulative loss across all batches: 41.612\n",
      "changed\n",
      "Epoch [76]/[200] running accumulative loss across all batches: 40.763\n",
      "changed\n",
      "Epoch [77]/[200] running accumulative loss across all batches: 39.939\n",
      "changed\n",
      "Epoch [78]/[200] running accumulative loss across all batches: 39.136\n",
      "changed\n",
      "Epoch [79]/[200] running accumulative loss across all batches: 38.355\n",
      "changed\n",
      "Epoch [80]/[200] running accumulative loss across all batches: 37.594\n",
      "changed\n",
      "Epoch [81]/[200] running accumulative loss across all batches: 36.855\n",
      "changed\n",
      "Epoch [82]/[200] running accumulative loss across all batches: 36.132\n",
      "changed\n",
      "Epoch [83]/[200] running accumulative loss across all batches: 35.430\n",
      "changed\n",
      "Epoch [84]/[200] running accumulative loss across all batches: 34.747\n",
      "changed\n",
      "Epoch [85]/[200] running accumulative loss across all batches: 34.080\n",
      "changed\n",
      "Epoch [86]/[200] running accumulative loss across all batches: 33.431\n",
      "changed\n",
      "Epoch [87]/[200] running accumulative loss across all batches: 32.798\n",
      "changed\n",
      "Epoch [88]/[200] running accumulative loss across all batches: 32.181\n",
      "changed\n",
      "Epoch [89]/[200] running accumulative loss across all batches: 31.579\n",
      "changed\n",
      "Epoch [90]/[200] running accumulative loss across all batches: 30.992\n",
      "changed\n",
      "Epoch [91]/[200] running accumulative loss across all batches: 30.419\n",
      "changed\n",
      "Epoch [92]/[200] running accumulative loss across all batches: 29.861\n",
      "changed\n",
      "Epoch [93]/[200] running accumulative loss across all batches: 29.315\n",
      "changed\n",
      "Epoch [94]/[200] running accumulative loss across all batches: 28.783\n",
      "changed\n",
      "Epoch [95]/[200] running accumulative loss across all batches: 28.264\n",
      "changed\n",
      "Epoch [96]/[200] running accumulative loss across all batches: 27.757\n",
      "changed\n",
      "Epoch [97]/[200] running accumulative loss across all batches: 27.261\n",
      "changed\n",
      "Epoch [98]/[200] running accumulative loss across all batches: 26.778\n",
      "changed\n",
      "Epoch [99]/[200] running accumulative loss across all batches: 26.305\n",
      "changed\n",
      "Epoch [100]/[200] running accumulative loss across all batches: 25.844\n",
      "changed\n",
      "Epoch [101]/[200] running accumulative loss across all batches: 25.393\n",
      "changed\n",
      "Epoch [102]/[200] running accumulative loss across all batches: 24.953\n",
      "changed\n",
      "Epoch [103]/[200] running accumulative loss across all batches: 24.522\n",
      "changed\n",
      "Epoch [104]/[200] running accumulative loss across all batches: 24.101\n",
      "changed\n",
      "Epoch [105]/[200] running accumulative loss across all batches: 23.689\n",
      "changed\n"
     ]
    },
    {
     "name": "stdout",
     "output_type": "stream",
     "text": [
      "Epoch [106]/[200] running accumulative loss across all batches: 23.286\n",
      "changed\n",
      "Epoch [107]/[200] running accumulative loss across all batches: 22.891\n",
      "changed\n",
      "Epoch [108]/[200] running accumulative loss across all batches: 22.507\n",
      "changed\n",
      "Epoch [109]/[200] running accumulative loss across all batches: 22.128\n",
      "changed\n",
      "Epoch [110]/[200] running accumulative loss across all batches: 21.759\n",
      "changed\n",
      "Epoch [111]/[200] running accumulative loss across all batches: 21.396\n",
      "changed\n",
      "Epoch [112]/[200] running accumulative loss across all batches: 21.041\n",
      "changed\n",
      "Epoch [113]/[200] running accumulative loss across all batches: 20.693\n",
      "changed\n",
      "Epoch [114]/[200] running accumulative loss across all batches: 20.353\n",
      "changed\n",
      "Epoch [115]/[200] running accumulative loss across all batches: 20.020\n",
      "changed\n",
      "Epoch [116]/[200] running accumulative loss across all batches: 19.693\n",
      "changed\n",
      "Epoch [117]/[200] running accumulative loss across all batches: 19.373\n",
      "changed\n",
      "Epoch [118]/[200] running accumulative loss across all batches: 19.059\n",
      "changed\n",
      "Epoch [119]/[200] running accumulative loss across all batches: 18.751\n",
      "changed\n",
      "Epoch [120]/[200] running accumulative loss across all batches: 18.450\n",
      "changed\n",
      "Epoch [121]/[200] running accumulative loss across all batches: 18.154\n",
      "changed\n",
      "Epoch [122]/[200] running accumulative loss across all batches: 17.864\n",
      "changed\n",
      "Epoch [123]/[200] running accumulative loss across all batches: 17.580\n",
      "changed\n",
      "Epoch [124]/[200] running accumulative loss across all batches: 17.300\n",
      "changed\n",
      "Epoch [125]/[200] running accumulative loss across all batches: 17.027\n",
      "changed\n",
      "Epoch [126]/[200] running accumulative loss across all batches: 16.758\n",
      "changed\n",
      "Epoch [127]/[200] running accumulative loss across all batches: 16.494\n",
      "changed\n",
      "Epoch [128]/[200] running accumulative loss across all batches: 16.235\n",
      "changed\n",
      "Epoch [129]/[200] running accumulative loss across all batches: 15.980\n",
      "changed\n",
      "Epoch [130]/[200] running accumulative loss across all batches: 15.731\n",
      "changed\n",
      "Epoch [131]/[200] running accumulative loss across all batches: 15.485\n",
      "changed\n",
      "Epoch [132]/[200] running accumulative loss across all batches: 15.244\n",
      "changed\n",
      "Epoch [133]/[200] running accumulative loss across all batches: 15.007\n",
      "changed\n",
      "Epoch [134]/[200] running accumulative loss across all batches: 14.775\n",
      "changed\n",
      "Epoch [135]/[200] running accumulative loss across all batches: 14.546\n",
      "changed\n",
      "Epoch [136]/[200] running accumulative loss across all batches: 14.321\n",
      "changed\n",
      "Epoch [137]/[200] running accumulative loss across all batches: 14.100\n",
      "changed\n",
      "Epoch [138]/[200] running accumulative loss across all batches: 13.883\n",
      "changed\n",
      "Epoch [139]/[200] running accumulative loss across all batches: 13.669\n",
      "changed\n",
      "Epoch [140]/[200] running accumulative loss across all batches: 13.459\n",
      "changed\n",
      "Epoch [141]/[200] running accumulative loss across all batches: 13.252\n",
      "changed\n",
      "Epoch [142]/[200] running accumulative loss across all batches: 13.049\n",
      "changed\n",
      "Epoch [143]/[200] running accumulative loss across all batches: 12.849\n",
      "changed\n",
      "Epoch [144]/[200] running accumulative loss across all batches: 12.653\n",
      "changed\n",
      "Epoch [145]/[200] running accumulative loss across all batches: 12.459\n",
      "changed\n",
      "Epoch [146]/[200] running accumulative loss across all batches: 12.269\n",
      "changed\n",
      "Epoch [147]/[200] running accumulative loss across all batches: 12.082\n",
      "changed\n",
      "Epoch [148]/[200] running accumulative loss across all batches: 11.898\n",
      "changed\n",
      "Epoch [149]/[200] running accumulative loss across all batches: 11.716\n",
      "changed\n",
      "Epoch [150]/[200] running accumulative loss across all batches: 11.538\n",
      "changed\n",
      "Epoch [151]/[200] running accumulative loss across all batches: 11.362\n",
      "changed\n",
      "Epoch [152]/[200] running accumulative loss across all batches: 11.189\n",
      "changed\n",
      "Epoch [153]/[200] running accumulative loss across all batches: 11.018\n",
      "changed\n",
      "Epoch [154]/[200] running accumulative loss across all batches: 10.850\n",
      "changed\n",
      "Epoch [155]/[200] running accumulative loss across all batches: 10.685\n",
      "changed\n",
      "Epoch [156]/[200] running accumulative loss across all batches: 10.522\n",
      "changed\n",
      "Epoch [157]/[200] running accumulative loss across all batches: 10.362\n",
      "changed\n",
      "Epoch [158]/[200] running accumulative loss across all batches: 10.204\n",
      "changed\n",
      "Epoch [159]/[200] running accumulative loss across all batches: 10.049\n",
      "changed\n",
      "Epoch [160]/[200] running accumulative loss across all batches: 9.895\n",
      "changed\n",
      "Epoch [161]/[200] running accumulative loss across all batches: 9.744\n",
      "changed\n",
      "Epoch [162]/[200] running accumulative loss across all batches: 9.595\n",
      "changed\n",
      "Epoch [163]/[200] running accumulative loss across all batches: 9.449\n",
      "changed\n",
      "Epoch [164]/[200] running accumulative loss across all batches: 9.304\n",
      "changed\n",
      "Epoch [165]/[200] running accumulative loss across all batches: 9.162\n",
      "changed\n",
      "Epoch [166]/[200] running accumulative loss across all batches: 9.023\n",
      "changed\n",
      "Epoch [167]/[200] running accumulative loss across all batches: 8.885\n",
      "changed\n",
      "Epoch [168]/[200] running accumulative loss across all batches: 8.749\n",
      "changed\n",
      "Epoch [169]/[200] running accumulative loss across all batches: 8.616\n",
      "changed\n",
      "Epoch [170]/[200] running accumulative loss across all batches: 8.484\n",
      "changed\n",
      "Epoch [171]/[200] running accumulative loss across all batches: 8.355\n",
      "changed\n",
      "Epoch [172]/[200] running accumulative loss across all batches: 8.227\n",
      "changed\n",
      "Epoch [173]/[200] running accumulative loss across all batches: 8.102\n",
      "changed\n",
      "Epoch [174]/[200] running accumulative loss across all batches: 7.978\n",
      "changed\n",
      "Epoch [175]/[200] running accumulative loss across all batches: 7.856\n",
      "changed\n",
      "Epoch [176]/[200] running accumulative loss across all batches: 7.736\n",
      "changed\n",
      "Epoch [177]/[200] running accumulative loss across all batches: 7.618\n",
      "changed\n",
      "Epoch [178]/[200] running accumulative loss across all batches: 7.502\n",
      "changed\n",
      "Epoch [179]/[200] running accumulative loss across all batches: 7.387\n",
      "changed\n",
      "Epoch [180]/[200] running accumulative loss across all batches: 7.275\n",
      "changed\n",
      "Epoch [181]/[200] running accumulative loss across all batches: 7.164\n",
      "changed\n",
      "Epoch [182]/[200] running accumulative loss across all batches: 7.055\n",
      "changed\n",
      "Epoch [183]/[200] running accumulative loss across all batches: 6.947\n",
      "changed\n",
      "Epoch [184]/[200] running accumulative loss across all batches: 6.841\n",
      "changed\n",
      "Epoch [185]/[200] running accumulative loss across all batches: 6.737\n",
      "changed\n",
      "Epoch [186]/[200] running accumulative loss across all batches: 6.635\n",
      "changed\n",
      "Epoch [187]/[200] running accumulative loss across all batches: 6.534\n",
      "changed\n",
      "Epoch [188]/[200] running accumulative loss across all batches: 6.434\n",
      "changed\n",
      "Epoch [189]/[200] running accumulative loss across all batches: 6.337\n",
      "changed\n",
      "Epoch [190]/[200] running accumulative loss across all batches: 6.240\n",
      "changed\n",
      "Epoch [191]/[200] running accumulative loss across all batches: 6.146\n",
      "changed\n",
      "Epoch [192]/[200] running accumulative loss across all batches: 6.052\n",
      "changed\n",
      "Epoch [193]/[200] running accumulative loss across all batches: 5.961\n",
      "changed\n",
      "Epoch [194]/[200] running accumulative loss across all batches: 5.871\n",
      "changed\n",
      "Epoch [195]/[200] running accumulative loss across all batches: 5.782\n",
      "changed\n",
      "Epoch [196]/[200] running accumulative loss across all batches: 5.695\n",
      "changed\n",
      "Epoch [197]/[200] running accumulative loss across all batches: 5.609\n",
      "changed\n",
      "Epoch [198]/[200] running accumulative loss across all batches: 5.524\n",
      "changed\n",
      "Epoch [199]/[200] running accumulative loss across all batches: 5.441\n",
      "changed\n",
      "Epoch [200]/[200] running accumulative loss across all batches: 5.359\n",
      "changed\n"
     ]
    }
   ],
   "source": [
    "random.seed(seed)\n",
    "np.random.seed(seed)\n",
    "torch.manual_seed(seed)\n",
    "minimal_loss=np.inf\n",
    "for epoch in range(num_epochs):  # loop over the dataset multiple times\n",
    "    running_loss = 0.0\n",
    "    for inputs, labels in training:\n",
    "        # forward pass\n",
    "        inputs = inputs\n",
    "        outputs = model(inputs)\n",
    "#         print(outputs.size())\n",
    "        outputs = outputs.view(-1,1)    \n",
    "        labels = labels.view(-1,1)\n",
    "        \n",
    "        # defining loss\n",
    "        loss = MSE(outputs, labels)\n",
    "        # zero the parameter gradients\n",
    "        optimizer.zero_grad()\n",
    "        # computing gradients\n",
    "        loss.backward()\n",
    "        # accumulating running loss\n",
    "        running_loss += loss.item()\n",
    "        # updated weights based on computed gradients\n",
    "        optimizer.step()\n",
    "    print('Epoch [%d]/[%d] running accumulative loss across all batches: %.3f' %(epoch + 1, num_epochs, (running_loss/n)))\n",
    "    if (running_loss/n)*100<minimal_loss:\n",
    "        best_model = copy.deepcopy(model)\n",
    "        minimal_loss = (running_loss/n)*100\n",
    "        print(\"changed\")\n",
    "\n",
    "model = best_model"
   ]
  },
  {
   "cell_type": "code",
   "execution_count": 21,
   "id": "16fabeb0",
   "metadata": {},
   "outputs": [],
   "source": [
    "from captum.attr import IntegratedGradients,NoiseTunnel"
   ]
  },
  {
   "cell_type": "code",
   "execution_count": 22,
   "id": "90bc847c",
   "metadata": {
    "scrolled": true
   },
   "outputs": [
    {
     "name": "stdout",
     "output_type": "stream",
     "text": [
      "torch.Size([64, 24, 7])\n",
      "torch.Size([64, 24, 7])\n",
      "torch.Size([64, 24, 7])\n",
      "torch.Size([64, 24, 7])\n",
      "torch.Size([64, 24, 7])\n",
      "torch.Size([64, 24, 7])\n",
      "torch.Size([64, 24, 7])\n",
      "torch.Size([64, 24, 7])\n",
      "torch.Size([64, 24, 7])\n",
      "torch.Size([64, 24, 7])\n",
      "torch.Size([64, 24, 7])\n",
      "torch.Size([64, 24, 7])\n",
      "torch.Size([64, 24, 7])\n",
      "torch.Size([64, 24, 7])\n",
      "torch.Size([64, 24, 7])\n",
      "torch.Size([64, 24, 7])\n",
      "torch.Size([64, 24, 7])\n",
      "torch.Size([64, 24, 7])\n",
      "torch.Size([64, 24, 7])\n",
      "torch.Size([64, 24, 7])\n",
      "torch.Size([64, 24, 7])\n",
      "torch.Size([64, 24, 7])\n",
      "torch.Size([64, 24, 7])\n",
      "torch.Size([64, 24, 7])\n",
      "torch.Size([64, 24, 7])\n",
      "torch.Size([64, 24, 7])\n",
      "torch.Size([64, 24, 7])\n",
      "torch.Size([64, 24, 7])\n",
      "torch.Size([64, 24, 7])\n",
      "torch.Size([64, 24, 7])\n",
      "torch.Size([64, 24, 7])\n",
      "torch.Size([64, 24, 7])\n",
      "torch.Size([64, 24, 7])\n",
      "torch.Size([64, 24, 7])\n",
      "torch.Size([64, 24, 7])\n",
      "torch.Size([64, 24, 7])\n",
      "torch.Size([64, 24, 7])\n",
      "torch.Size([64, 24, 7])\n",
      "torch.Size([64, 24, 7])\n",
      "torch.Size([64, 24, 7])\n",
      "torch.Size([64, 24, 7])\n",
      "torch.Size([64, 24, 7])\n",
      "torch.Size([64, 24, 7])\n",
      "torch.Size([64, 24, 7])\n",
      "torch.Size([64, 24, 7])\n",
      "torch.Size([64, 24, 7])\n",
      "torch.Size([64, 24, 7])\n",
      "torch.Size([64, 24, 7])\n",
      "torch.Size([64, 24, 7])\n",
      "torch.Size([64, 24, 7])\n",
      "torch.Size([64, 24, 7])\n",
      "torch.Size([64, 24, 7])\n",
      "torch.Size([64, 24, 7])\n",
      "torch.Size([64, 24, 7])\n",
      "torch.Size([4, 24, 7])\n"
     ]
    }
   ],
   "source": [
    "for val in validation:\n",
    "    print(val[0].size())"
   ]
  },
  {
   "cell_type": "code",
   "execution_count": 23,
   "id": "168ef6c4",
   "metadata": {},
   "outputs": [
    {
     "data": {
      "text/plain": [
       "torch.Size([1, 24, 7])"
      ]
     },
     "execution_count": 23,
     "metadata": {},
     "output_type": "execute_result"
    }
   ],
   "source": [
    "test = next(iter(validation))[0][0] # 하나의 sample에 대해서 진행\n",
    "test = test.unsqueeze(0)\n",
    "test.size()"
   ]
  },
  {
   "cell_type": "code",
   "execution_count": 24,
   "id": "ee29805d",
   "metadata": {
    "scrolled": true
   },
   "outputs": [
    {
     "data": {
      "text/plain": [
       "tensor([[[ 6.9378e-05, -1.6521e-04, -2.0848e-05, -1.2849e-04,  2.1574e-04,\n",
       "          -6.2713e-06, -4.5260e-05],\n",
       "         [ 6.3689e-04, -1.0354e-04, -1.8933e-04, -1.8875e-04,  1.2672e-04,\n",
       "          -2.0883e-05, -3.2158e-04],\n",
       "         [ 1.0039e-03,  3.9087e-05, -3.6686e-04, -8.5763e-05, -1.9005e-04,\n",
       "          -1.6543e-05, -1.8430e-04],\n",
       "         [ 1.9780e-03,  2.1498e-04, -8.6781e-04, -4.4082e-04, -5.0452e-04,\n",
       "          -3.6249e-05, -4.1650e-05],\n",
       "         [ 3.1466e-03,  5.1307e-04, -2.0021e-03, -2.3057e-04, -9.0609e-04,\n",
       "          -2.7951e-04, -6.0087e-04],\n",
       "         [ 5.1103e-03,  4.4476e-04, -2.9323e-03, -1.7064e-04, -1.9027e-03,\n",
       "          -1.9514e-04, -9.7162e-04],\n",
       "         [ 7.6119e-03,  1.1085e-03, -4.9240e-03, -8.9371e-05, -2.3737e-03,\n",
       "          -1.0398e-04, -1.0151e-03],\n",
       "         [ 9.4508e-03,  1.8695e-03, -6.4506e-03, -5.2429e-04, -3.8701e-03,\n",
       "          -7.3050e-04, -1.4218e-03],\n",
       "         [ 9.2748e-03,  2.5247e-03, -7.0785e-03, -8.2931e-04, -5.1245e-03,\n",
       "           1.4015e-04, -3.9236e-04],\n",
       "         [ 1.3073e-02,  2.9038e-03, -1.0300e-02, -1.0225e-03, -4.4509e-03,\n",
       "          -1.2884e-03, -8.4905e-04],\n",
       "         [ 1.2209e-02,  3.0924e-03, -1.1637e-02, -1.8493e-03, -8.2990e-03,\n",
       "          -1.6369e-03, -3.1104e-04],\n",
       "         [ 2.0850e-02,  5.1193e-03, -2.0118e-02, -4.2283e-03, -9.4609e-03,\n",
       "          -1.3041e-03,  1.3897e-03],\n",
       "         [ 2.5040e-02,  6.6737e-03, -2.5506e-02, -3.0891e-03, -1.5272e-02,\n",
       "          -2.1982e-03,  1.2055e-03],\n",
       "         [ 3.1721e-02,  6.8709e-03, -3.2299e-02, -4.3211e-03, -2.2622e-02,\n",
       "          -2.1803e-03,  2.8897e-03],\n",
       "         [ 3.8008e-02,  8.3944e-03, -3.7285e-02, -5.1150e-03, -3.2220e-02,\n",
       "          -1.1766e-02,  3.4464e-03],\n",
       "         [ 6.6725e-02,  9.6229e-03, -6.9609e-02, -7.3654e-03, -4.2346e-02,\n",
       "          -1.4610e-02,  1.0032e-02],\n",
       "         [ 6.3601e-02,  1.6502e-02, -4.8578e-02, -9.5769e-03, -5.8884e-02,\n",
       "          -2.6124e-02,  1.3212e-02],\n",
       "         [ 2.2092e-02,  1.1304e-02,  1.2347e-02,  8.0423e-03, -1.0346e-01,\n",
       "          -1.0390e-02, -5.6661e-04],\n",
       "         [-9.8575e-03,  5.9219e-03,  6.8853e-02, -1.8701e-03, -8.7393e-02,\n",
       "          -2.0422e-02, -1.0285e-02],\n",
       "         [ 8.4230e-03,  8.8891e-03,  9.5381e-02, -1.6035e-02, -1.5594e-01,\n",
       "          -7.4178e-03, -1.3691e-02],\n",
       "         [ 2.4102e-02,  1.5958e-03,  1.5256e-01, -1.3511e-02, -1.3557e-01,\n",
       "          -7.6295e-04,  1.2206e-02],\n",
       "         [ 1.0688e-02, -2.2996e-02,  1.3616e-01, -2.6986e-02, -2.2200e-01,\n",
       "           5.6715e-03,  7.7989e-02],\n",
       "         [ 9.7744e-02, -6.6178e-02, -8.7274e-02, -1.3301e-02,  1.7475e-01,\n",
       "           1.6841e-02,  1.3724e-01],\n",
       "         [-1.5648e-02, -2.4689e-01, -3.3192e-01,  3.0870e-01,  3.7842e-01,\n",
       "           1.5411e-02,  4.2969e+00]]], device='cuda:0', dtype=torch.float64)"
      ]
     },
     "execution_count": 24,
     "metadata": {},
     "output_type": "execute_result"
    }
   ],
   "source": [
    "ig = IntegratedGradients(model)\n",
    "nt_ig = NoiseTunnel(ig)\n",
    "attr_score = nt_ig.attribute(test)\n",
    "attr_score"
   ]
  },
  {
   "cell_type": "code",
   "execution_count": 25,
   "id": "aabf0606",
   "metadata": {},
   "outputs": [
    {
     "data": {
      "text/plain": [
       "torch.Size([1, 24, 7])"
      ]
     },
     "execution_count": 25,
     "metadata": {},
     "output_type": "execute_result"
    }
   ],
   "source": [
    "attr_score.size()"
   ]
  },
  {
   "cell_type": "code",
   "execution_count": 26,
   "id": "deba0ab8",
   "metadata": {
    "scrolled": true
   },
   "outputs": [
    {
     "data": {
      "text/plain": [
       "tensor([[[ 6.9378e-05, -1.6521e-04, -2.0848e-05, -1.2849e-04,  2.1574e-04,\n",
       "          -6.2713e-06, -4.5260e-05],\n",
       "         [ 6.3689e-04, -1.0354e-04, -1.8933e-04, -1.8875e-04,  1.2672e-04,\n",
       "          -2.0883e-05, -3.2158e-04],\n",
       "         [ 1.0039e-03,  3.9087e-05, -3.6686e-04, -8.5763e-05, -1.9005e-04,\n",
       "          -1.6543e-05, -1.8430e-04],\n",
       "         [ 1.9780e-03,  2.1498e-04, -8.6781e-04, -4.4082e-04, -5.0452e-04,\n",
       "          -3.6249e-05, -4.1650e-05],\n",
       "         [ 3.1466e-03,  5.1307e-04, -2.0021e-03, -2.3057e-04, -9.0609e-04,\n",
       "          -2.7951e-04, -6.0087e-04],\n",
       "         [ 5.1103e-03,  4.4476e-04, -2.9323e-03, -1.7064e-04, -1.9027e-03,\n",
       "          -1.9514e-04, -9.7162e-04],\n",
       "         [ 7.6119e-03,  1.1085e-03, -4.9240e-03, -8.9371e-05, -2.3737e-03,\n",
       "          -1.0398e-04, -1.0151e-03],\n",
       "         [ 9.4508e-03,  1.8695e-03, -6.4506e-03, -5.2429e-04, -3.8701e-03,\n",
       "          -7.3050e-04, -1.4218e-03],\n",
       "         [ 9.2748e-03,  2.5247e-03, -7.0785e-03, -8.2931e-04, -5.1245e-03,\n",
       "           1.4015e-04, -3.9236e-04],\n",
       "         [ 1.3073e-02,  2.9038e-03, -1.0300e-02, -1.0225e-03, -4.4509e-03,\n",
       "          -1.2884e-03, -8.4905e-04],\n",
       "         [ 1.2209e-02,  3.0924e-03, -1.1637e-02, -1.8493e-03, -8.2990e-03,\n",
       "          -1.6369e-03, -3.1104e-04],\n",
       "         [ 2.0850e-02,  5.1193e-03, -2.0118e-02, -4.2283e-03, -9.4609e-03,\n",
       "          -1.3041e-03,  1.3897e-03],\n",
       "         [ 2.5040e-02,  6.6737e-03, -2.5506e-02, -3.0891e-03, -1.5272e-02,\n",
       "          -2.1982e-03,  1.2055e-03],\n",
       "         [ 3.1721e-02,  6.8709e-03, -3.2299e-02, -4.3211e-03, -2.2622e-02,\n",
       "          -2.1803e-03,  2.8897e-03],\n",
       "         [ 3.8008e-02,  8.3944e-03, -3.7285e-02, -5.1150e-03, -3.2220e-02,\n",
       "          -1.1766e-02,  3.4464e-03],\n",
       "         [ 6.6725e-02,  9.6229e-03, -6.9609e-02, -7.3654e-03, -4.2346e-02,\n",
       "          -1.4610e-02,  1.0032e-02],\n",
       "         [ 6.3601e-02,  1.6502e-02, -4.8578e-02, -9.5769e-03, -5.8884e-02,\n",
       "          -2.6124e-02,  1.3212e-02],\n",
       "         [ 2.2092e-02,  1.1304e-02,  1.2347e-02,  8.0423e-03, -1.0346e-01,\n",
       "          -1.0390e-02, -5.6661e-04],\n",
       "         [-9.8575e-03,  5.9219e-03,  6.8853e-02, -1.8701e-03, -8.7393e-02,\n",
       "          -2.0422e-02, -1.0285e-02],\n",
       "         [ 8.4230e-03,  8.8891e-03,  9.5381e-02, -1.6035e-02, -1.5594e-01,\n",
       "          -7.4178e-03, -1.3691e-02],\n",
       "         [ 2.4102e-02,  1.5958e-03,  1.5256e-01, -1.3511e-02, -1.3557e-01,\n",
       "          -7.6295e-04,  1.2206e-02],\n",
       "         [ 1.0688e-02, -2.2996e-02,  1.3616e-01, -2.6986e-02, -2.2200e-01,\n",
       "           5.6715e-03,  7.7989e-02],\n",
       "         [ 9.7744e-02, -6.6178e-02, -8.7274e-02, -1.3301e-02,  1.7475e-01,\n",
       "           1.6841e-02,  1.3724e-01],\n",
       "         [-1.5648e-02, -2.4689e-01, -3.3192e-01,  3.0870e-01,  3.7842e-01,\n",
       "           1.5411e-02,  4.2969e+00]]], dtype=torch.float64)"
      ]
     },
     "execution_count": 26,
     "metadata": {},
     "output_type": "execute_result"
    }
   ],
   "source": [
    "attr_score.to(\"cpu\")"
   ]
  },
  {
   "cell_type": "code",
   "execution_count": 27,
   "id": "d868c396",
   "metadata": {
    "scrolled": true
   },
   "outputs": [
    {
     "data": {
      "text/plain": [
       "array([[[ 6.93783001e-05, -1.65212275e-04, -2.08484715e-05,\n",
       "         -1.28493447e-04,  2.15740208e-04, -6.27127449e-06,\n",
       "         -4.52597895e-05],\n",
       "        [ 6.36888226e-04, -1.03544685e-04, -1.89329886e-04,\n",
       "         -1.88746256e-04,  1.26716182e-04, -2.08832133e-05,\n",
       "         -3.21575223e-04],\n",
       "        [ 1.00388846e-03,  3.90868016e-05, -3.66863677e-04,\n",
       "         -8.57633341e-05, -1.90053303e-04, -1.65425911e-05,\n",
       "         -1.84301554e-04],\n",
       "        [ 1.97800723e-03,  2.14976425e-04, -8.67807946e-04,\n",
       "         -4.40823940e-04, -5.04517668e-04, -3.62488592e-05,\n",
       "         -4.16495242e-05],\n",
       "        [ 3.14663642e-03,  5.13074300e-04, -2.00209507e-03,\n",
       "         -2.30565873e-04, -9.06086066e-04, -2.79509191e-04,\n",
       "         -6.00872258e-04],\n",
       "        [ 5.11032896e-03,  4.44755921e-04, -2.93226440e-03,\n",
       "         -1.70639470e-04, -1.90273110e-03, -1.95142221e-04,\n",
       "         -9.71618366e-04],\n",
       "        [ 7.61188007e-03,  1.10852779e-03, -4.92403379e-03,\n",
       "         -8.93714512e-05, -2.37371532e-03, -1.03983393e-04,\n",
       "         -1.01508709e-03],\n",
       "        [ 9.45075124e-03,  1.86954667e-03, -6.45055149e-03,\n",
       "         -5.24294121e-04, -3.87010410e-03, -7.30499418e-04,\n",
       "         -1.42175297e-03],\n",
       "        [ 9.27475803e-03,  2.52471052e-03, -7.07849415e-03,\n",
       "         -8.29312265e-04, -5.12448012e-03,  1.40147972e-04,\n",
       "         -3.92362617e-04],\n",
       "        [ 1.30729337e-02,  2.90379788e-03, -1.03004890e-02,\n",
       "         -1.02250820e-03, -4.45091188e-03, -1.28838378e-03,\n",
       "         -8.49050871e-04],\n",
       "        [ 1.22094840e-02,  3.09240782e-03, -1.16368168e-02,\n",
       "         -1.84931847e-03, -8.29901315e-03, -1.63693750e-03,\n",
       "         -3.11041831e-04],\n",
       "        [ 2.08496275e-02,  5.11930044e-03, -2.01176394e-02,\n",
       "         -4.22831716e-03, -9.46092869e-03, -1.30405834e-03,\n",
       "          1.38972198e-03],\n",
       "        [ 2.50396027e-02,  6.67365695e-03, -2.55059186e-02,\n",
       "         -3.08906196e-03, -1.52720705e-02, -2.19819127e-03,\n",
       "          1.20546109e-03],\n",
       "        [ 3.17209309e-02,  6.87094157e-03, -3.22987952e-02,\n",
       "         -4.32111100e-03, -2.26220871e-02, -2.18028184e-03,\n",
       "          2.88970392e-03],\n",
       "        [ 3.80079570e-02,  8.39441485e-03, -3.72849305e-02,\n",
       "         -5.11498684e-03, -3.22202237e-02, -1.17661895e-02,\n",
       "          3.44637727e-03],\n",
       "        [ 6.67253944e-02,  9.62288721e-03, -6.96093297e-02,\n",
       "         -7.36536410e-03, -4.23464655e-02, -1.46099583e-02,\n",
       "          1.00322517e-02],\n",
       "        [ 6.36012154e-02,  1.65015647e-02, -4.85778953e-02,\n",
       "         -9.57686085e-03, -5.88842571e-02, -2.61238895e-02,\n",
       "          1.32124394e-02],\n",
       "        [ 2.20915898e-02,  1.13037524e-02,  1.23467728e-02,\n",
       "          8.04228689e-03, -1.03460579e-01, -1.03901017e-02,\n",
       "         -5.66610029e-04],\n",
       "        [-9.85746358e-03,  5.92188705e-03,  6.88532920e-02,\n",
       "         -1.87010813e-03, -8.73934104e-02, -2.04222825e-02,\n",
       "         -1.02848948e-02],\n",
       "        [ 8.42298371e-03,  8.88906687e-03,  9.53813176e-02,\n",
       "         -1.60353164e-02, -1.55944902e-01, -7.41784043e-03,\n",
       "         -1.36913524e-02],\n",
       "        [ 2.41021389e-02,  1.59584455e-03,  1.52559371e-01,\n",
       "         -1.35111225e-02, -1.35569956e-01, -7.62954342e-04,\n",
       "          1.22062773e-02],\n",
       "        [ 1.06883951e-02, -2.29958980e-02,  1.36155280e-01,\n",
       "         -2.69856703e-02, -2.22004033e-01,  5.67153201e-03,\n",
       "          7.79888729e-02],\n",
       "        [ 9.77443827e-02, -6.61780526e-02, -8.72744716e-02,\n",
       "         -1.33007923e-02,  1.74748644e-01,  1.68414401e-02,\n",
       "          1.37235522e-01],\n",
       "        [-1.56475785e-02, -2.46892407e-01, -3.31917865e-01,\n",
       "          3.08695649e-01,  3.78416726e-01,  1.54109332e-02,\n",
       "          4.29685916e+00]]])"
      ]
     },
     "execution_count": 27,
     "metadata": {},
     "output_type": "execute_result"
    }
   ],
   "source": [
    "plot_attribution = attr_score.to(\"cpu\").detach().numpy()\n",
    "plot_attribution"
   ]
  },
  {
   "cell_type": "code",
   "execution_count": 28,
   "id": "31926d2f",
   "metadata": {},
   "outputs": [],
   "source": [
    "plot_attribution = plot_attribution.reshape(-1,7)"
   ]
  },
  {
   "cell_type": "code",
   "execution_count": 29,
   "id": "15782df1",
   "metadata": {},
   "outputs": [
    {
     "data": {
      "text/plain": [
       "Index(['HUFL', 'HULL', 'MUFL', 'MULL', 'LUFL', 'LULL', 'OT'], dtype='object')"
      ]
     },
     "execution_count": 29,
     "metadata": {},
     "output_type": "execute_result"
    }
   ],
   "source": [
    "column = data.columns[1:]\n",
    "column"
   ]
  },
  {
   "cell_type": "code",
   "execution_count": 30,
   "id": "ac23ea50",
   "metadata": {},
   "outputs": [],
   "source": [
    "attr_df = pd.DataFrame(plot_attribution,columns=column)"
   ]
  },
  {
   "cell_type": "code",
   "execution_count": 31,
   "id": "c2b8ff9d",
   "metadata": {},
   "outputs": [
    {
     "data": {
      "text/html": [
       "<div>\n",
       "<style scoped>\n",
       "    .dataframe tbody tr th:only-of-type {\n",
       "        vertical-align: middle;\n",
       "    }\n",
       "\n",
       "    .dataframe tbody tr th {\n",
       "        vertical-align: top;\n",
       "    }\n",
       "\n",
       "    .dataframe thead th {\n",
       "        text-align: right;\n",
       "    }\n",
       "</style>\n",
       "<table border=\"1\" class=\"dataframe\">\n",
       "  <thead>\n",
       "    <tr style=\"text-align: right;\">\n",
       "      <th></th>\n",
       "      <th>HUFL</th>\n",
       "      <th>HULL</th>\n",
       "      <th>MUFL</th>\n",
       "      <th>MULL</th>\n",
       "      <th>LUFL</th>\n",
       "      <th>LULL</th>\n",
       "      <th>OT</th>\n",
       "    </tr>\n",
       "  </thead>\n",
       "  <tbody>\n",
       "    <tr>\n",
       "      <th>0</th>\n",
       "      <td>0.000069</td>\n",
       "      <td>-0.000165</td>\n",
       "      <td>-0.000021</td>\n",
       "      <td>-0.000128</td>\n",
       "      <td>0.000216</td>\n",
       "      <td>-0.000006</td>\n",
       "      <td>-0.000045</td>\n",
       "    </tr>\n",
       "    <tr>\n",
       "      <th>1</th>\n",
       "      <td>0.000637</td>\n",
       "      <td>-0.000104</td>\n",
       "      <td>-0.000189</td>\n",
       "      <td>-0.000189</td>\n",
       "      <td>0.000127</td>\n",
       "      <td>-0.000021</td>\n",
       "      <td>-0.000322</td>\n",
       "    </tr>\n",
       "    <tr>\n",
       "      <th>2</th>\n",
       "      <td>0.001004</td>\n",
       "      <td>0.000039</td>\n",
       "      <td>-0.000367</td>\n",
       "      <td>-0.000086</td>\n",
       "      <td>-0.000190</td>\n",
       "      <td>-0.000017</td>\n",
       "      <td>-0.000184</td>\n",
       "    </tr>\n",
       "    <tr>\n",
       "      <th>3</th>\n",
       "      <td>0.001978</td>\n",
       "      <td>0.000215</td>\n",
       "      <td>-0.000868</td>\n",
       "      <td>-0.000441</td>\n",
       "      <td>-0.000505</td>\n",
       "      <td>-0.000036</td>\n",
       "      <td>-0.000042</td>\n",
       "    </tr>\n",
       "    <tr>\n",
       "      <th>4</th>\n",
       "      <td>0.003147</td>\n",
       "      <td>0.000513</td>\n",
       "      <td>-0.002002</td>\n",
       "      <td>-0.000231</td>\n",
       "      <td>-0.000906</td>\n",
       "      <td>-0.000280</td>\n",
       "      <td>-0.000601</td>\n",
       "    </tr>\n",
       "    <tr>\n",
       "      <th>5</th>\n",
       "      <td>0.005110</td>\n",
       "      <td>0.000445</td>\n",
       "      <td>-0.002932</td>\n",
       "      <td>-0.000171</td>\n",
       "      <td>-0.001903</td>\n",
       "      <td>-0.000195</td>\n",
       "      <td>-0.000972</td>\n",
       "    </tr>\n",
       "    <tr>\n",
       "      <th>6</th>\n",
       "      <td>0.007612</td>\n",
       "      <td>0.001109</td>\n",
       "      <td>-0.004924</td>\n",
       "      <td>-0.000089</td>\n",
       "      <td>-0.002374</td>\n",
       "      <td>-0.000104</td>\n",
       "      <td>-0.001015</td>\n",
       "    </tr>\n",
       "    <tr>\n",
       "      <th>7</th>\n",
       "      <td>0.009451</td>\n",
       "      <td>0.001870</td>\n",
       "      <td>-0.006451</td>\n",
       "      <td>-0.000524</td>\n",
       "      <td>-0.003870</td>\n",
       "      <td>-0.000730</td>\n",
       "      <td>-0.001422</td>\n",
       "    </tr>\n",
       "    <tr>\n",
       "      <th>8</th>\n",
       "      <td>0.009275</td>\n",
       "      <td>0.002525</td>\n",
       "      <td>-0.007078</td>\n",
       "      <td>-0.000829</td>\n",
       "      <td>-0.005124</td>\n",
       "      <td>0.000140</td>\n",
       "      <td>-0.000392</td>\n",
       "    </tr>\n",
       "    <tr>\n",
       "      <th>9</th>\n",
       "      <td>0.013073</td>\n",
       "      <td>0.002904</td>\n",
       "      <td>-0.010300</td>\n",
       "      <td>-0.001023</td>\n",
       "      <td>-0.004451</td>\n",
       "      <td>-0.001288</td>\n",
       "      <td>-0.000849</td>\n",
       "    </tr>\n",
       "    <tr>\n",
       "      <th>10</th>\n",
       "      <td>0.012209</td>\n",
       "      <td>0.003092</td>\n",
       "      <td>-0.011637</td>\n",
       "      <td>-0.001849</td>\n",
       "      <td>-0.008299</td>\n",
       "      <td>-0.001637</td>\n",
       "      <td>-0.000311</td>\n",
       "    </tr>\n",
       "    <tr>\n",
       "      <th>11</th>\n",
       "      <td>0.020850</td>\n",
       "      <td>0.005119</td>\n",
       "      <td>-0.020118</td>\n",
       "      <td>-0.004228</td>\n",
       "      <td>-0.009461</td>\n",
       "      <td>-0.001304</td>\n",
       "      <td>0.001390</td>\n",
       "    </tr>\n",
       "    <tr>\n",
       "      <th>12</th>\n",
       "      <td>0.025040</td>\n",
       "      <td>0.006674</td>\n",
       "      <td>-0.025506</td>\n",
       "      <td>-0.003089</td>\n",
       "      <td>-0.015272</td>\n",
       "      <td>-0.002198</td>\n",
       "      <td>0.001205</td>\n",
       "    </tr>\n",
       "    <tr>\n",
       "      <th>13</th>\n",
       "      <td>0.031721</td>\n",
       "      <td>0.006871</td>\n",
       "      <td>-0.032299</td>\n",
       "      <td>-0.004321</td>\n",
       "      <td>-0.022622</td>\n",
       "      <td>-0.002180</td>\n",
       "      <td>0.002890</td>\n",
       "    </tr>\n",
       "    <tr>\n",
       "      <th>14</th>\n",
       "      <td>0.038008</td>\n",
       "      <td>0.008394</td>\n",
       "      <td>-0.037285</td>\n",
       "      <td>-0.005115</td>\n",
       "      <td>-0.032220</td>\n",
       "      <td>-0.011766</td>\n",
       "      <td>0.003446</td>\n",
       "    </tr>\n",
       "    <tr>\n",
       "      <th>15</th>\n",
       "      <td>0.066725</td>\n",
       "      <td>0.009623</td>\n",
       "      <td>-0.069609</td>\n",
       "      <td>-0.007365</td>\n",
       "      <td>-0.042346</td>\n",
       "      <td>-0.014610</td>\n",
       "      <td>0.010032</td>\n",
       "    </tr>\n",
       "    <tr>\n",
       "      <th>16</th>\n",
       "      <td>0.063601</td>\n",
       "      <td>0.016502</td>\n",
       "      <td>-0.048578</td>\n",
       "      <td>-0.009577</td>\n",
       "      <td>-0.058884</td>\n",
       "      <td>-0.026124</td>\n",
       "      <td>0.013212</td>\n",
       "    </tr>\n",
       "    <tr>\n",
       "      <th>17</th>\n",
       "      <td>0.022092</td>\n",
       "      <td>0.011304</td>\n",
       "      <td>0.012347</td>\n",
       "      <td>0.008042</td>\n",
       "      <td>-0.103461</td>\n",
       "      <td>-0.010390</td>\n",
       "      <td>-0.000567</td>\n",
       "    </tr>\n",
       "    <tr>\n",
       "      <th>18</th>\n",
       "      <td>-0.009857</td>\n",
       "      <td>0.005922</td>\n",
       "      <td>0.068853</td>\n",
       "      <td>-0.001870</td>\n",
       "      <td>-0.087393</td>\n",
       "      <td>-0.020422</td>\n",
       "      <td>-0.010285</td>\n",
       "    </tr>\n",
       "    <tr>\n",
       "      <th>19</th>\n",
       "      <td>0.008423</td>\n",
       "      <td>0.008889</td>\n",
       "      <td>0.095381</td>\n",
       "      <td>-0.016035</td>\n",
       "      <td>-0.155945</td>\n",
       "      <td>-0.007418</td>\n",
       "      <td>-0.013691</td>\n",
       "    </tr>\n",
       "    <tr>\n",
       "      <th>20</th>\n",
       "      <td>0.024102</td>\n",
       "      <td>0.001596</td>\n",
       "      <td>0.152559</td>\n",
       "      <td>-0.013511</td>\n",
       "      <td>-0.135570</td>\n",
       "      <td>-0.000763</td>\n",
       "      <td>0.012206</td>\n",
       "    </tr>\n",
       "    <tr>\n",
       "      <th>21</th>\n",
       "      <td>0.010688</td>\n",
       "      <td>-0.022996</td>\n",
       "      <td>0.136155</td>\n",
       "      <td>-0.026986</td>\n",
       "      <td>-0.222004</td>\n",
       "      <td>0.005672</td>\n",
       "      <td>0.077989</td>\n",
       "    </tr>\n",
       "    <tr>\n",
       "      <th>22</th>\n",
       "      <td>0.097744</td>\n",
       "      <td>-0.066178</td>\n",
       "      <td>-0.087274</td>\n",
       "      <td>-0.013301</td>\n",
       "      <td>0.174749</td>\n",
       "      <td>0.016841</td>\n",
       "      <td>0.137236</td>\n",
       "    </tr>\n",
       "    <tr>\n",
       "      <th>23</th>\n",
       "      <td>-0.015648</td>\n",
       "      <td>-0.246892</td>\n",
       "      <td>-0.331918</td>\n",
       "      <td>0.308696</td>\n",
       "      <td>0.378417</td>\n",
       "      <td>0.015411</td>\n",
       "      <td>4.296859</td>\n",
       "    </tr>\n",
       "  </tbody>\n",
       "</table>\n",
       "</div>"
      ],
      "text/plain": [
       "        HUFL      HULL      MUFL      MULL      LUFL      LULL        OT\n",
       "0   0.000069 -0.000165 -0.000021 -0.000128  0.000216 -0.000006 -0.000045\n",
       "1   0.000637 -0.000104 -0.000189 -0.000189  0.000127 -0.000021 -0.000322\n",
       "2   0.001004  0.000039 -0.000367 -0.000086 -0.000190 -0.000017 -0.000184\n",
       "3   0.001978  0.000215 -0.000868 -0.000441 -0.000505 -0.000036 -0.000042\n",
       "4   0.003147  0.000513 -0.002002 -0.000231 -0.000906 -0.000280 -0.000601\n",
       "5   0.005110  0.000445 -0.002932 -0.000171 -0.001903 -0.000195 -0.000972\n",
       "6   0.007612  0.001109 -0.004924 -0.000089 -0.002374 -0.000104 -0.001015\n",
       "7   0.009451  0.001870 -0.006451 -0.000524 -0.003870 -0.000730 -0.001422\n",
       "8   0.009275  0.002525 -0.007078 -0.000829 -0.005124  0.000140 -0.000392\n",
       "9   0.013073  0.002904 -0.010300 -0.001023 -0.004451 -0.001288 -0.000849\n",
       "10  0.012209  0.003092 -0.011637 -0.001849 -0.008299 -0.001637 -0.000311\n",
       "11  0.020850  0.005119 -0.020118 -0.004228 -0.009461 -0.001304  0.001390\n",
       "12  0.025040  0.006674 -0.025506 -0.003089 -0.015272 -0.002198  0.001205\n",
       "13  0.031721  0.006871 -0.032299 -0.004321 -0.022622 -0.002180  0.002890\n",
       "14  0.038008  0.008394 -0.037285 -0.005115 -0.032220 -0.011766  0.003446\n",
       "15  0.066725  0.009623 -0.069609 -0.007365 -0.042346 -0.014610  0.010032\n",
       "16  0.063601  0.016502 -0.048578 -0.009577 -0.058884 -0.026124  0.013212\n",
       "17  0.022092  0.011304  0.012347  0.008042 -0.103461 -0.010390 -0.000567\n",
       "18 -0.009857  0.005922  0.068853 -0.001870 -0.087393 -0.020422 -0.010285\n",
       "19  0.008423  0.008889  0.095381 -0.016035 -0.155945 -0.007418 -0.013691\n",
       "20  0.024102  0.001596  0.152559 -0.013511 -0.135570 -0.000763  0.012206\n",
       "21  0.010688 -0.022996  0.136155 -0.026986 -0.222004  0.005672  0.077989\n",
       "22  0.097744 -0.066178 -0.087274 -0.013301  0.174749  0.016841  0.137236\n",
       "23 -0.015648 -0.246892 -0.331918  0.308696  0.378417  0.015411  4.296859"
      ]
     },
     "execution_count": 31,
     "metadata": {},
     "output_type": "execute_result"
    }
   ],
   "source": [
    "attr_df"
   ]
  },
  {
   "cell_type": "markdown",
   "id": "31d55f91",
   "metadata": {},
   "source": [
    "# 특징 관찰\n",
    "\n",
    "### our goal -> 특정 시간대를 추출해내는 방법을 고안"
   ]
  },
  {
   "cell_type": "code",
   "execution_count": 32,
   "id": "81b09007",
   "metadata": {},
   "outputs": [
    {
     "data": {
      "text/plain": [
       "tensor([[3.3060]], device='cuda:0')"
      ]
     },
     "execution_count": 32,
     "metadata": {},
     "output_type": "execute_result"
    }
   ],
   "source": [
    "next(iter(validation))[1][0]"
   ]
  },
  {
   "cell_type": "markdown",
   "id": "f501eed2",
   "metadata": {},
   "source": [
    "* 전체 Attribution DataFrame이 예측값을 나눈것으로 보임\n",
    "    * 현재 하나의 Sample Batch의 첫번째 Sample에 대해서 Attribution을 구했는데\n",
    "    하나의 DataFrame이 나왔음"
   ]
  },
  {
   "cell_type": "code",
   "execution_count": 33,
   "id": "9a060f7e",
   "metadata": {},
   "outputs": [
    {
     "data": {
      "text/plain": [
       "4.279091741669246"
      ]
     },
     "execution_count": 33,
     "metadata": {},
     "output_type": "execute_result"
    }
   ],
   "source": [
    "attr_df.sum(axis=0).sum()"
   ]
  },
  {
   "cell_type": "markdown",
   "id": "401e58f1",
   "metadata": {},
   "source": [
    "## 전체 피쳐의 평균 영향\n",
    "* 각 피쳐가 미치는 영향도를 구할 수 있음"
   ]
  },
  {
   "cell_type": "code",
   "execution_count": 34,
   "id": "a1a4829d",
   "metadata": {
    "scrolled": false
   },
   "outputs": [
    {
     "data": {
      "text/plain": [
       "<AxesSubplot: >"
      ]
     },
     "execution_count": 34,
     "metadata": {},
     "output_type": "execute_result"
    },
    {
     "data": {
      "image/png": "[encoded data removed]",
      "text/plain": [
       "<Figure size 640x480 with 1 Axes>"
      ]
     },
     "metadata": {},
     "output_type": "display_data"
    }
   ],
   "source": [
    "attr_df.abs().mean(axis=0).plot()"
   ]
  },
  {
   "cell_type": "markdown",
   "id": "e3219921",
   "metadata": {},
   "source": [
    "## 각 시간 별 영향 추이\n",
    "* 각 시간별로 중요한 정도를 계산할 수 있음"
   ]
  },
  {
   "cell_type": "code",
   "execution_count": 35,
   "id": "d5685dfd",
   "metadata": {
    "scrolled": true
   },
   "outputs": [
    {
     "data": {
      "text/plain": [
       "<AxesSubplot: >"
      ]
     },
     "execution_count": 35,
     "metadata": {},
     "output_type": "execute_result"
    },
    {
     "data": {
      "image/png": "[encoded data removed]",
      "text/plain": [
       "<Figure size 640x480 with 1 Axes>"
      ]
     },
     "metadata": {},
     "output_type": "display_data"
    }
   ],
   "source": [
    "attr_df.abs().mean(axis = 1).plot()"
   ]
  },
  {
   "cell_type": "markdown",
   "id": "10da23f2",
   "metadata": {},
   "source": [
    "## 각 피쳐별로 시간에 따른 영향 추이"
   ]
  },
  {
   "cell_type": "code",
   "execution_count": 36,
   "id": "c514e305",
   "metadata": {},
   "outputs": [
    {
     "data": {
      "text/plain": [
       "<AxesSubplot: >"
      ]
     },
     "execution_count": 36,
     "metadata": {},
     "output_type": "execute_result"
    },
    {
     "data": {
      "image/png": "[encoded data removed]",
      "text/plain": [
       "<Figure size 640x480 with 1 Axes>"
      ]
     },
     "metadata": {},
     "output_type": "display_data"
    }
   ],
   "source": [
    "attr_df['HUFL'].abs().plot()"
   ]
  },
  {
   "cell_type": "code",
   "execution_count": 37,
   "id": "4397171c",
   "metadata": {},
   "outputs": [
    {
     "data": {
      "text/plain": [
       "<AxesSubplot: >"
      ]
     },
     "execution_count": 37,
     "metadata": {},
     "output_type": "execute_result"
    },
    {
     "data": {
      "image/png": "[encoded data removed]",
      "text/plain": [
       "<Figure size 640x480 with 1 Axes>"
      ]
     },
     "metadata": {},
     "output_type": "display_data"
    }
   ],
   "source": [
    "attr_df['HULL'].abs().plot()"
   ]
  },
  {
   "cell_type": "code",
   "execution_count": 38,
   "id": "a5750508",
   "metadata": {},
   "outputs": [
    {
     "data": {
      "text/plain": [
       "<AxesSubplot: >"
      ]
     },
     "execution_count": 38,
     "metadata": {},
     "output_type": "execute_result"
    },
    {
     "data": {
      "image/png": "[encoded data removed]",
      "text/plain": [
       "<Figure size 640x480 with 1 Axes>"
      ]
     },
     "metadata": {},
     "output_type": "display_data"
    }
   ],
   "source": [
    "attr_df['MUFL'].abs().plot()"
   ]
  },
  {
   "cell_type": "code",
   "execution_count": 39,
   "id": "c688b56b",
   "metadata": {},
   "outputs": [
    {
     "data": {
      "text/plain": [
       "<AxesSubplot: >"
      ]
     },
     "execution_count": 39,
     "metadata": {},
     "output_type": "execute_result"
    },
    {
     "data": {
      "image/png": "[encoded data removed]",
      "text/plain": [
       "<Figure size 640x480 with 1 Axes>"
      ]
     },
     "metadata": {},
     "output_type": "display_data"
    }
   ],
   "source": [
    "attr_df['MULL'].abs().plot()"
   ]
  },
  {
   "cell_type": "code",
   "execution_count": 40,
   "id": "5d8fcfb0",
   "metadata": {},
   "outputs": [
    {
     "data": {
      "text/plain": [
       "<AxesSubplot: >"
      ]
     },
     "execution_count": 40,
     "metadata": {},
     "output_type": "execute_result"
    },
    {
     "data": {
      "image/png": "[encoded data removed]",
      "text/plain": [
       "<Figure size 640x480 with 1 Axes>"
      ]
     },
     "metadata": {},
     "output_type": "display_data"
    }
   ],
   "source": [
    "attr_df['LUFL'].abs().plot()"
   ]
  },
  {
   "cell_type": "code",
   "execution_count": 41,
   "id": "6b11f9b5",
   "metadata": {},
   "outputs": [
    {
     "data": {
      "text/plain": [
       "<AxesSubplot: >"
      ]
     },
     "execution_count": 41,
     "metadata": {},
     "output_type": "execute_result"
    },
    {
     "data": {
      "image/png": "[encoded data removed]",
      "text/plain": [
       "<Figure size 640x480 with 1 Axes>"
      ]
     },
     "metadata": {},
     "output_type": "display_data"
    }
   ],
   "source": [
    "attr_df['LULL'].abs().plot()"
   ]
  },
  {
   "cell_type": "code",
   "execution_count": 42,
   "id": "0acde1d7",
   "metadata": {},
   "outputs": [
    {
     "data": {
      "text/plain": [
       "<AxesSubplot: >"
      ]
     },
     "execution_count": 42,
     "metadata": {},
     "output_type": "execute_result"
    },
    {
     "data": {
      "image/png": "[encoded data removed]",
      "text/plain": [
       "<Figure size 640x480 with 1 Axes>"
      ]
     },
     "metadata": {},
     "output_type": "display_data"
    }
   ],
   "source": [
    "attr_df['OT'].abs().plot()"
   ]
  },
  {
   "attachments": {
    "image.png": {
     "image/png": "[encoded data removed]"
    }
   },
   "cell_type": "markdown",
   "id": "aa47809a",
   "metadata": {},
   "source": [
    "![image.png](attachment:image.png)"
   ]
  },
  {
   "cell_type": "code",
   "execution_count": 43,
   "id": "361477a0",
   "metadata": {},
   "outputs": [
    {
     "data": {
      "text/plain": [
       "24"
      ]
     },
     "execution_count": 43,
     "metadata": {},
     "output_type": "execute_result"
    }
   ],
   "source": [
    "sequence_length"
   ]
  },
  {
   "cell_type": "code",
   "execution_count": null,
   "id": "8c1f4b9f",
   "metadata": {},
   "outputs": [],
   "source": []
  },
  {
   "cell_type": "code",
   "execution_count": 44,
   "id": "e454ae01",
   "metadata": {},
   "outputs": [],
   "source": [
    "cnt = 0\n",
    "ig = IntegratedGradients(model)\n",
    "nt_ig = NoiseTunnel(ig)\n",
    "nt_ig_attr_score = np.zeros((1,sequence_length))\n",
    "for val_batch in validation:\n",
    "    temp_n = val_batch[0].size(0)\n",
    "    for val in val_batch[0]: # 하나의 배치에 대해서 for문\n",
    "        val = val.unsqueeze(0)\n",
    "        temp = nt_ig.attribute(val).abs()\n",
    "        # 각 attribution score의 절대값을 합한다.\n",
    "        # 이로써 각 시간별로 영향도를 구함\n",
    "        # 이 부분이 abs를 씌우는게 절대적인 영향을 반영하는데에 맞는 것 같다.\n",
    "        # 이전까진 씌우지 않았음\n",
    "        temp = temp.to(\"cpu\").detach().numpy().reshape(-1,feature_size)\n",
    "        temp = temp.sum(axis=1) \n",
    "        nt_ig_attr_score = nt_ig_attr_score+temp\n",
    "    cnt = cnt + temp_n\n",
    "nt_ig_attr_score = nt_ig_attr_score/cnt"
   ]
  },
  {
   "cell_type": "code",
   "execution_count": 45,
   "id": "2f2454ca",
   "metadata": {
    "scrolled": true
   },
   "outputs": [
    {
     "data": {
      "text/plain": [
       "array([2.71980058e-03, 3.27005856e-03, 4.01799693e-03, 5.14853737e-03,\n",
       "       6.75736091e-03, 8.95064528e-03, 1.17695068e-02, 1.52995278e-02,\n",
       "       1.97971822e-02, 2.51821696e-02, 3.20829631e-02, 4.08490911e-02,\n",
       "       5.21172519e-02, 6.61415382e-02, 8.44212056e-02, 1.07787246e-01,\n",
       "       1.36832960e-01, 1.73278767e-01, 2.19116859e-01, 2.76837270e-01,\n",
       "       3.50203650e-01, 5.63912114e-01, 1.28368066e+00, 8.44180220e+00])"
      ]
     },
     "execution_count": 45,
     "metadata": {},
     "output_type": "execute_result"
    }
   ],
   "source": [
    "nt_ig_attr_score.reshape(-1)"
   ]
  },
  {
   "cell_type": "code",
   "execution_count": 46,
   "id": "aa42cc97",
   "metadata": {},
   "outputs": [
    {
     "data": {
      "text/plain": [
       "<AxesSubplot: >"
      ]
     },
     "execution_count": 46,
     "metadata": {},
     "output_type": "execute_result"
    },
    {
     "data": {
      "image/png": "[encoded data removed]",
      "text/plain": [
       "<Figure size 640x480 with 1 Axes>"
      ]
     },
     "metadata": {},
     "output_type": "display_data"
    }
   ],
   "source": [
    "total_mean_attr_df = pd.DataFrame({\"attr\":nt_ig_attr_score.reshape(-1)})\n",
    "total_mean_attr_df.plot()"
   ]
  },
  {
   "cell_type": "code",
   "execution_count": null,
   "id": "817bccc5",
   "metadata": {},
   "outputs": [],
   "source": [
    "for val_batch in validation:\n",
    "    print(val_batch[0])\n",
    "    for val in val_batch[0]:\n",
    "        print(val)"
   ]
  },
  {
   "cell_type": "code",
   "execution_count": null,
   "id": "6ec61c62",
   "metadata": {},
   "outputs": [],
   "source": []
  }
 ],
 "metadata": {
  "kernelspec": {
   "display_name": "sj_virtual",
   "language": "python",
   "name": "myvenv"
  },
  "language_info": {
   "codemirror_mode": {
    "name": "ipython",
    "version": 3
   },
   "file_extension": ".py",
   "mimetype": "text/x-python",
   "name": "python",
   "nbconvert_exporter": "python",
   "pygments_lexer": "ipython3",
   "version": "3.8.10"
  },
  "varInspector": {
   "cols": {
    "lenName": 16,
    "lenType": 16,
    "lenVar": 40
   },
   "kernels_config": {
    "python": {
     "delete_cmd_postfix": "",
     "delete_cmd_prefix": "del ",
     "library": "var_list.py",
     "varRefreshCmd": "print(var_dic_list())"
    },
    "r": {
     "delete_cmd_postfix": ") ",
     "delete_cmd_prefix": "rm(",
     "library": "var_list.r",
     "varRefreshCmd": "cat(var_dic_list()) "
    }
   },
   "types_to_exclude": [
    "module",
    "function",
    "builtin_function_or_method",
    "instance",
    "_Feature"
   ],
   "window_display": false
  }
 },
 "nbformat": 4,
 "nbformat_minor": 5
}
