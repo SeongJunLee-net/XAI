{
 "cells": [
  {
   "cell_type": "code",
   "execution_count": 1,
   "id": "49e7e228",
   "metadata": {},
   "outputs": [
    {
     "name": "stderr",
     "output_type": "stream",
     "text": [
      "/home/sjlee/sj_virtual/lib/python3.8/site-packages/tqdm/auto.py:22: TqdmWarning: IProgress not found. Please update jupyter and ipywidgets. See https://ipywidgets.readthedocs.io/en/stable/user_install.html\n",
      "  from .autonotebook import tqdm as notebook_tqdm\n"
     ]
    }
   ],
   "source": [
    "import pandas as pd\n",
    "import numpy as np\n",
    "import random\n",
    "import copy\n",
    "import torch"
   ]
  },
  {
   "cell_type": "code",
   "execution_count": 2,
   "id": "96fd2e41",
   "metadata": {},
   "outputs": [],
   "source": [
    "seed = 42"
   ]
  },
  {
   "cell_type": "code",
   "execution_count": 3,
   "id": "16a31083",
   "metadata": {
    "scrolled": true
   },
   "outputs": [
    {
     "data": {
      "text/html": [
       "<div>\n",
       "<style scoped>\n",
       "    .dataframe tbody tr th:only-of-type {\n",
       "        vertical-align: middle;\n",
       "    }\n",
       "\n",
       "    .dataframe tbody tr th {\n",
       "        vertical-align: top;\n",
       "    }\n",
       "\n",
       "    .dataframe thead th {\n",
       "        text-align: right;\n",
       "    }\n",
       "</style>\n",
       "<table border=\"1\" class=\"dataframe\">\n",
       "  <thead>\n",
       "    <tr style=\"text-align: right;\">\n",
       "      <th></th>\n",
       "      <th>date</th>\n",
       "      <th>HUFL</th>\n",
       "      <th>HULL</th>\n",
       "      <th>MUFL</th>\n",
       "      <th>MULL</th>\n",
       "      <th>LUFL</th>\n",
       "      <th>LULL</th>\n",
       "      <th>OT</th>\n",
       "    </tr>\n",
       "  </thead>\n",
       "  <tbody>\n",
       "    <tr>\n",
       "      <th>0</th>\n",
       "      <td>2016-07-01 00:00:00</td>\n",
       "      <td>41.130001</td>\n",
       "      <td>12.481</td>\n",
       "      <td>36.535999</td>\n",
       "      <td>9.355</td>\n",
       "      <td>4.424</td>\n",
       "      <td>1.311</td>\n",
       "      <td>38.661999</td>\n",
       "    </tr>\n",
       "    <tr>\n",
       "      <th>1</th>\n",
       "      <td>2016-07-01 01:00:00</td>\n",
       "      <td>37.528000</td>\n",
       "      <td>10.136</td>\n",
       "      <td>33.936001</td>\n",
       "      <td>7.532</td>\n",
       "      <td>4.435</td>\n",
       "      <td>1.215</td>\n",
       "      <td>37.124001</td>\n",
       "    </tr>\n",
       "    <tr>\n",
       "      <th>2</th>\n",
       "      <td>2016-07-01 02:00:00</td>\n",
       "      <td>37.946999</td>\n",
       "      <td>11.309</td>\n",
       "      <td>35.330002</td>\n",
       "      <td>9.007</td>\n",
       "      <td>2.100</td>\n",
       "      <td>0.000</td>\n",
       "      <td>36.465000</td>\n",
       "    </tr>\n",
       "    <tr>\n",
       "      <th>3</th>\n",
       "      <td>2016-07-01 03:00:00</td>\n",
       "      <td>38.952000</td>\n",
       "      <td>11.895</td>\n",
       "      <td>35.543999</td>\n",
       "      <td>9.436</td>\n",
       "      <td>3.380</td>\n",
       "      <td>1.215</td>\n",
       "      <td>33.608501</td>\n",
       "    </tr>\n",
       "    <tr>\n",
       "      <th>4</th>\n",
       "      <td>2016-07-01 04:00:00</td>\n",
       "      <td>38.113998</td>\n",
       "      <td>11.476</td>\n",
       "      <td>35.410000</td>\n",
       "      <td>9.623</td>\n",
       "      <td>2.036</td>\n",
       "      <td>0.000</td>\n",
       "      <td>31.850500</td>\n",
       "    </tr>\n",
       "    <tr>\n",
       "      <th>...</th>\n",
       "      <td>...</td>\n",
       "      <td>...</td>\n",
       "      <td>...</td>\n",
       "      <td>...</td>\n",
       "      <td>...</td>\n",
       "      <td>...</td>\n",
       "      <td>...</td>\n",
       "      <td>...</td>\n",
       "    </tr>\n",
       "    <tr>\n",
       "      <th>17415</th>\n",
       "      <td>2018-06-26 15:00:00</td>\n",
       "      <td>39.202999</td>\n",
       "      <td>11.392</td>\n",
       "      <td>49.644001</td>\n",
       "      <td>11.929</td>\n",
       "      <td>-10.331</td>\n",
       "      <td>-1.258</td>\n",
       "      <td>47.084999</td>\n",
       "    </tr>\n",
       "    <tr>\n",
       "      <th>17416</th>\n",
       "      <td>2018-06-26 16:00:00</td>\n",
       "      <td>38.113998</td>\n",
       "      <td>10.974</td>\n",
       "      <td>48.759998</td>\n",
       "      <td>11.366</td>\n",
       "      <td>-10.331</td>\n",
       "      <td>-1.290</td>\n",
       "      <td>48.183498</td>\n",
       "    </tr>\n",
       "    <tr>\n",
       "      <th>17417</th>\n",
       "      <td>2018-06-26 17:00:00</td>\n",
       "      <td>39.622002</td>\n",
       "      <td>10.974</td>\n",
       "      <td>50.609001</td>\n",
       "      <td>11.661</td>\n",
       "      <td>-11.557</td>\n",
       "      <td>-1.418</td>\n",
       "      <td>48.183498</td>\n",
       "    </tr>\n",
       "    <tr>\n",
       "      <th>17418</th>\n",
       "      <td>2018-06-26 18:00:00</td>\n",
       "      <td>43.643002</td>\n",
       "      <td>13.403</td>\n",
       "      <td>54.737000</td>\n",
       "      <td>13.778</td>\n",
       "      <td>-10.299</td>\n",
       "      <td>-1.418</td>\n",
       "      <td>46.865501</td>\n",
       "    </tr>\n",
       "    <tr>\n",
       "      <th>17419</th>\n",
       "      <td>2018-06-26 19:00:00</td>\n",
       "      <td>38.868000</td>\n",
       "      <td>10.052</td>\n",
       "      <td>49.859001</td>\n",
       "      <td>10.669</td>\n",
       "      <td>-11.525</td>\n",
       "      <td>-1.418</td>\n",
       "      <td>45.986500</td>\n",
       "    </tr>\n",
       "  </tbody>\n",
       "</table>\n",
       "<p>17420 rows × 8 columns</p>\n",
       "</div>"
      ],
      "text/plain": [
       "                      date       HUFL    HULL       MUFL    MULL    LUFL  \\\n",
       "0      2016-07-01 00:00:00  41.130001  12.481  36.535999   9.355   4.424   \n",
       "1      2016-07-01 01:00:00  37.528000  10.136  33.936001   7.532   4.435   \n",
       "2      2016-07-01 02:00:00  37.946999  11.309  35.330002   9.007   2.100   \n",
       "3      2016-07-01 03:00:00  38.952000  11.895  35.543999   9.436   3.380   \n",
       "4      2016-07-01 04:00:00  38.113998  11.476  35.410000   9.623   2.036   \n",
       "...                    ...        ...     ...        ...     ...     ...   \n",
       "17415  2018-06-26 15:00:00  39.202999  11.392  49.644001  11.929 -10.331   \n",
       "17416  2018-06-26 16:00:00  38.113998  10.974  48.759998  11.366 -10.331   \n",
       "17417  2018-06-26 17:00:00  39.622002  10.974  50.609001  11.661 -11.557   \n",
       "17418  2018-06-26 18:00:00  43.643002  13.403  54.737000  13.778 -10.299   \n",
       "17419  2018-06-26 19:00:00  38.868000  10.052  49.859001  10.669 -11.525   \n",
       "\n",
       "        LULL         OT  \n",
       "0      1.311  38.661999  \n",
       "1      1.215  37.124001  \n",
       "2      0.000  36.465000  \n",
       "3      1.215  33.608501  \n",
       "4      0.000  31.850500  \n",
       "...      ...        ...  \n",
       "17415 -1.258  47.084999  \n",
       "17416 -1.290  48.183498  \n",
       "17417 -1.418  48.183498  \n",
       "17418 -1.418  46.865501  \n",
       "17419 -1.418  45.986500  \n",
       "\n",
       "[17420 rows x 8 columns]"
      ]
     },
     "execution_count": 3,
     "metadata": {},
     "output_type": "execute_result"
    }
   ],
   "source": [
    "data = pd.read_csv('../../GeneralData/ETTh2.csv')\n",
    "data"
   ]
  },
  {
   "cell_type": "code",
   "execution_count": 4,
   "id": "94c0a6f4",
   "metadata": {},
   "outputs": [],
   "source": [
    "import torch.nn as nn"
   ]
  },
  {
   "cell_type": "code",
   "execution_count": 5,
   "id": "c697a81d",
   "metadata": {},
   "outputs": [],
   "source": [
    "feature_size = 7"
   ]
  },
  {
   "cell_type": "code",
   "execution_count": 6,
   "id": "09ac4e1e",
   "metadata": {},
   "outputs": [],
   "source": [
    "# LSTM은 Encoder와 Decoder를 각각 구현해야 한다.\n",
    "class LSTM(nn.Module):\n",
    "    def __init__(self):\n",
    "        super().__init__()\n",
    "        self.hidden_size = 14\n",
    "        self.input_size = feature_size\n",
    "        self.encoder = nn.LSTM(input_size = self.input_size,\n",
    "                       hidden_size = self.hidden_size,\n",
    "                       num_layers = 1,\n",
    "                       batch_first = True).to(device)\n",
    "        # batch_first = True로 인해서 (batch,seq,feature)순으로 입력 받는다.\n",
    "        # 그 당시에 알고 있는 정보가 없으므로 input_size = 0\n",
    "        self.decoder = nn.LSTM(input_size = self.input_size,\n",
    "                       hidden_size = self.hidden_size,\n",
    "                       num_layers = 1,\n",
    "                       batch_first = True).to(device)\n",
    "        \n",
    "        \n",
    "        self.output_layer = nn.Linear(self.hidden_size, 1).to(device)\n",
    "    def forward(self,x):\n",
    "        x = x.to(device)\n",
    "        self.encoder.flatten_parameters()\n",
    "        self.decoder.flatten_parameters()\n",
    "        outputs,(hidden,cell) = self.encoder(x)\n",
    "        \n",
    "        # 현재 prediction_length = 1이기 때문에, 반복문을 돌리지 않아도 됨\n",
    "        # but 길어진다면 반복문을 돌려서 output값을 얻어야 한다.\n",
    "        # 기본적으로 output = hidden state이기에 output을 생성할\n",
    "        # Fully Connected Layer가 필요하게 된다.\n",
    "        # 이때 decoder_output의 사이즈는 (batch,seq,hidden) 이다\n",
    "        # 중간에 seq가 들어오게 되는 이유는 입력 크기 만큼 lstm이 반복되기 때문에\n",
    "        # seq=1 이기 때문에 squeeze를 수행\n",
    "        \n",
    "        hidden = hidden.to(device)\n",
    "        cell = cell.to(device)\n",
    "        decoder_input = torch.zeros([x.size(0),1,x.size(2)]).to(device)\n",
    "        decoder_out,(hidden,cell) = self.decoder(decoder_input,(hidden,cell))\n",
    "        decoder_out = decoder_out.squeeze(1)\n",
    "        \n",
    "        out = self.output_layer(decoder_out)\n",
    "        \n",
    "        return out"
   ]
  },
  {
   "cell_type": "code",
   "execution_count": 7,
   "id": "d63ecc9a",
   "metadata": {},
   "outputs": [
    {
     "data": {
      "text/plain": [
       "3"
      ]
     },
     "execution_count": 7,
     "metadata": {},
     "output_type": "execute_result"
    }
   ],
   "source": [
    "a = np.array([1,2,3])\n",
    "a.shape[0]"
   ]
  },
  {
   "cell_type": "code",
   "execution_count": 8,
   "id": "112c6db4",
   "metadata": {},
   "outputs": [
    {
     "data": {
      "text/plain": [
       "tensor([[[ 1.,  0.],\n",
       "         [ 0.,  4.]],\n",
       "\n",
       "        [[ 5.,  0.],\n",
       "         [ 0.,  8.]],\n",
       "\n",
       "        [[ 9.,  0.],\n",
       "         [ 0., 12.]]])"
      ]
     },
     "execution_count": 8,
     "metadata": {},
     "output_type": "execute_result"
    }
   ],
   "source": [
    "lst = [i for i in range(1,13)]\n",
    "A = torch.FloatTensor(lst).view(3,2,2)\n",
    "B = torch.zeros((2,2))\n",
    "B[0,0] = 1\n",
    "B[1,1] = 1\n",
    "A*B # BroadCasting"
   ]
  },
  {
   "cell_type": "code",
   "execution_count": 9,
   "id": "e80807a1",
   "metadata": {},
   "outputs": [],
   "source": [
    "class Filter(nn.Module):\n",
    "    def __init__(self):\n",
    "        super().__init__()\n",
    "        self.model = LSTM()\n",
    "    def forward(self,x,train_index_matrix=[]):\n",
    "        # 2차원 인덱스 리스트가 들어온다.\n",
    "        # train_index_matrix = 2차원\n",
    "        # 행은 time 열은 Feature를 의미\n",
    "        if len(train_index_matrix)==0:\n",
    "            return self.model(x)\n",
    "        filters = torch.FloatTensor(np.full((x.shape[1],x.shape[2]),-np.inf))\n",
    "        filters = filters.to(device)\n",
    "        for i in range(len(train_index_matrix)):\n",
    "            for train_idx in train_index_matrix[i]:\n",
    "                filters[train_idx,i] = 1\n",
    "        x = x*filters\n",
    "        out = self.model(x)\n",
    "        return out"
   ]
  },
  {
   "cell_type": "code",
   "execution_count": 10,
   "id": "40cabdd4",
   "metadata": {},
   "outputs": [],
   "source": [
    "from torch.utils.data import TensorDataset\n",
    "from torch.utils.data import DataLoader\n",
    "import torch"
   ]
  },
  {
   "cell_type": "code",
   "execution_count": 11,
   "id": "d7ca231d",
   "metadata": {},
   "outputs": [],
   "source": [
    "device = torch.device(\"cuda:0\")"
   ]
  },
  {
   "cell_type": "code",
   "execution_count": 12,
   "id": "2c99b1b4",
   "metadata": {},
   "outputs": [],
   "source": [
    "sequence_length = 168 # 24*7 1주일\n",
    "pred_length = 1 # 1시간\n",
    "split = int(len(data)*0.8)"
   ]
  },
  {
   "cell_type": "code",
   "execution_count": 13,
   "id": "2cdf5edd",
   "metadata": {},
   "outputs": [],
   "source": [
    "def seq_data(x,sequence_length,pred_len):\n",
    "    seq_list = []\n",
    "    target_list = []\n",
    "    device = torch.device(\"cuda:0\")\n",
    "    for i in range(0,len(x)-sequence_length):\n",
    "        # 시간데이터를 제외하고 추출\n",
    "        seq_list.append(x.iloc[i:i+sequence_length,1:].values)\n",
    "        # OT만 추출\n",
    "        target_list.append(x.iloc[i+sequence_length,-1])\n",
    "        \n",
    "    return torch.FloatTensor(seq_list).view(-1,sequence_length,7).to(device), torch.FloatTensor(target_list).view(-1,pred_len,1).to(device)"
   ]
  },
  {
   "cell_type": "code",
   "execution_count": 14,
   "id": "efa8f205",
   "metadata": {
    "scrolled": false
   },
   "outputs": [
    {
     "name": "stderr",
     "output_type": "stream",
     "text": [
      "/tmp/ipykernel_1369049/2507691695.py:11: UserWarning: Creating a tensor from a list of numpy.ndarrays is extremely slow. Please consider converting the list to a single numpy.ndarray with numpy.array() before converting to a tensor. (Triggered internally at ../torch/csrc/utils/tensor_new.cpp:230.)\n",
      "  return torch.FloatTensor(seq_list).view(-1,sequence_length,7).to(device), torch.FloatTensor(target_list).view(-1,pred_len,1).to(device)\n"
     ]
    }
   ],
   "source": [
    "train = data.iloc[:split]\n",
    "val = data.iloc[split:]\n",
    "\n",
    "X_train, y_train = seq_data(train,sequence_length,pred_length)\n",
    "X_val, y_val = seq_data(val,sequence_length,pred_length)\n",
    "\n",
    "tr_dataset = TensorDataset(X_train, y_train)\n",
    "val_dataset = TensorDataset(X_val,y_val)\n",
    "\n",
    "training =  DataLoader(tr_dataset,batch_size = 64)\n",
    "validation = DataLoader(val_dataset,batch_size = 64)"
   ]
  },
  {
   "cell_type": "code",
   "execution_count": 15,
   "id": "72d7da90",
   "metadata": {},
   "outputs": [
    {
     "data": {
      "text/plain": [
       "True"
      ]
     },
     "execution_count": 15,
     "metadata": {},
     "output_type": "execute_result"
    }
   ],
   "source": [
    "torch.cuda.is_available()"
   ]
  },
  {
   "cell_type": "code",
   "execution_count": 16,
   "id": "65b333ef",
   "metadata": {},
   "outputs": [
    {
     "data": {
      "text/plain": [
       "torch.Size([13768, 168, 7])"
      ]
     },
     "execution_count": 16,
     "metadata": {},
     "output_type": "execute_result"
    }
   ],
   "source": [
    "X_train.size() # 168개의 sequence_length 7개의 Feature"
   ]
  },
  {
   "cell_type": "markdown",
   "id": "33adcbfd",
   "metadata": {},
   "source": [
    "* 잘 데이터가 구성된 걸 확인 가능"
   ]
  },
  {
   "cell_type": "code",
   "execution_count": 17,
   "id": "e85b07c9",
   "metadata": {
    "scrolled": true
   },
   "outputs": [
    {
     "data": {
      "text/html": [
       "<div>\n",
       "<style scoped>\n",
       "    .dataframe tbody tr th:only-of-type {\n",
       "        vertical-align: middle;\n",
       "    }\n",
       "\n",
       "    .dataframe tbody tr th {\n",
       "        vertical-align: top;\n",
       "    }\n",
       "\n",
       "    .dataframe thead th {\n",
       "        text-align: right;\n",
       "    }\n",
       "</style>\n",
       "<table border=\"1\" class=\"dataframe\">\n",
       "  <thead>\n",
       "    <tr style=\"text-align: right;\">\n",
       "      <th></th>\n",
       "      <th>date</th>\n",
       "      <th>HUFL</th>\n",
       "      <th>HULL</th>\n",
       "      <th>MUFL</th>\n",
       "      <th>MULL</th>\n",
       "      <th>LUFL</th>\n",
       "      <th>LULL</th>\n",
       "      <th>OT</th>\n",
       "    </tr>\n",
       "  </thead>\n",
       "  <tbody>\n",
       "    <tr>\n",
       "      <th>0</th>\n",
       "      <td>2016-07-01 00:00:00</td>\n",
       "      <td>41.130001</td>\n",
       "      <td>12.481</td>\n",
       "      <td>36.535999</td>\n",
       "      <td>9.355</td>\n",
       "      <td>4.424</td>\n",
       "      <td>1.311</td>\n",
       "      <td>38.661999</td>\n",
       "    </tr>\n",
       "    <tr>\n",
       "      <th>1</th>\n",
       "      <td>2016-07-01 01:00:00</td>\n",
       "      <td>37.528000</td>\n",
       "      <td>10.136</td>\n",
       "      <td>33.936001</td>\n",
       "      <td>7.532</td>\n",
       "      <td>4.435</td>\n",
       "      <td>1.215</td>\n",
       "      <td>37.124001</td>\n",
       "    </tr>\n",
       "    <tr>\n",
       "      <th>2</th>\n",
       "      <td>2016-07-01 02:00:00</td>\n",
       "      <td>37.946999</td>\n",
       "      <td>11.309</td>\n",
       "      <td>35.330002</td>\n",
       "      <td>9.007</td>\n",
       "      <td>2.100</td>\n",
       "      <td>0.000</td>\n",
       "      <td>36.465000</td>\n",
       "    </tr>\n",
       "    <tr>\n",
       "      <th>3</th>\n",
       "      <td>2016-07-01 03:00:00</td>\n",
       "      <td>38.952000</td>\n",
       "      <td>11.895</td>\n",
       "      <td>35.543999</td>\n",
       "      <td>9.436</td>\n",
       "      <td>3.380</td>\n",
       "      <td>1.215</td>\n",
       "      <td>33.608501</td>\n",
       "    </tr>\n",
       "    <tr>\n",
       "      <th>4</th>\n",
       "      <td>2016-07-01 04:00:00</td>\n",
       "      <td>38.113998</td>\n",
       "      <td>11.476</td>\n",
       "      <td>35.410000</td>\n",
       "      <td>9.623</td>\n",
       "      <td>2.036</td>\n",
       "      <td>0.000</td>\n",
       "      <td>31.850500</td>\n",
       "    </tr>\n",
       "    <tr>\n",
       "      <th>...</th>\n",
       "      <td>...</td>\n",
       "      <td>...</td>\n",
       "      <td>...</td>\n",
       "      <td>...</td>\n",
       "      <td>...</td>\n",
       "      <td>...</td>\n",
       "      <td>...</td>\n",
       "      <td>...</td>\n",
       "    </tr>\n",
       "    <tr>\n",
       "      <th>164</th>\n",
       "      <td>2016-07-07 20:00:00</td>\n",
       "      <td>46.155998</td>\n",
       "      <td>12.900</td>\n",
       "      <td>42.112000</td>\n",
       "      <td>10.079</td>\n",
       "      <td>3.497</td>\n",
       "      <td>0.000</td>\n",
       "      <td>41.299000</td>\n",
       "    </tr>\n",
       "    <tr>\n",
       "      <th>165</th>\n",
       "      <td>2016-07-07 21:00:00</td>\n",
       "      <td>50.008999</td>\n",
       "      <td>14.659</td>\n",
       "      <td>45.865002</td>\n",
       "      <td>11.205</td>\n",
       "      <td>3.753</td>\n",
       "      <td>1.237</td>\n",
       "      <td>40.200500</td>\n",
       "    </tr>\n",
       "    <tr>\n",
       "      <th>166</th>\n",
       "      <td>2016-07-07 22:00:00</td>\n",
       "      <td>46.826000</td>\n",
       "      <td>14.743</td>\n",
       "      <td>44.417000</td>\n",
       "      <td>12.223</td>\n",
       "      <td>2.580</td>\n",
       "      <td>0.000</td>\n",
       "      <td>39.321499</td>\n",
       "    </tr>\n",
       "    <tr>\n",
       "      <th>167</th>\n",
       "      <td>2016-07-07 23:00:00</td>\n",
       "      <td>45.235001</td>\n",
       "      <td>13.905</td>\n",
       "      <td>43.022999</td>\n",
       "      <td>11.714</td>\n",
       "      <td>2.665</td>\n",
       "      <td>0.000</td>\n",
       "      <td>38.881500</td>\n",
       "    </tr>\n",
       "    <tr>\n",
       "      <th>168</th>\n",
       "      <td>2016-07-08 00:00:00</td>\n",
       "      <td>44.731998</td>\n",
       "      <td>13.905</td>\n",
       "      <td>42.433998</td>\n",
       "      <td>11.741</td>\n",
       "      <td>1.311</td>\n",
       "      <td>0.000</td>\n",
       "      <td>38.223000</td>\n",
       "    </tr>\n",
       "  </tbody>\n",
       "</table>\n",
       "<p>169 rows × 8 columns</p>\n",
       "</div>"
      ],
      "text/plain": [
       "                    date       HUFL    HULL       MUFL    MULL   LUFL   LULL  \\\n",
       "0    2016-07-01 00:00:00  41.130001  12.481  36.535999   9.355  4.424  1.311   \n",
       "1    2016-07-01 01:00:00  37.528000  10.136  33.936001   7.532  4.435  1.215   \n",
       "2    2016-07-01 02:00:00  37.946999  11.309  35.330002   9.007  2.100  0.000   \n",
       "3    2016-07-01 03:00:00  38.952000  11.895  35.543999   9.436  3.380  1.215   \n",
       "4    2016-07-01 04:00:00  38.113998  11.476  35.410000   9.623  2.036  0.000   \n",
       "..                   ...        ...     ...        ...     ...    ...    ...   \n",
       "164  2016-07-07 20:00:00  46.155998  12.900  42.112000  10.079  3.497  0.000   \n",
       "165  2016-07-07 21:00:00  50.008999  14.659  45.865002  11.205  3.753  1.237   \n",
       "166  2016-07-07 22:00:00  46.826000  14.743  44.417000  12.223  2.580  0.000   \n",
       "167  2016-07-07 23:00:00  45.235001  13.905  43.022999  11.714  2.665  0.000   \n",
       "168  2016-07-08 00:00:00  44.731998  13.905  42.433998  11.741  1.311  0.000   \n",
       "\n",
       "            OT  \n",
       "0    38.661999  \n",
       "1    37.124001  \n",
       "2    36.465000  \n",
       "3    33.608501  \n",
       "4    31.850500  \n",
       "..         ...  \n",
       "164  41.299000  \n",
       "165  40.200500  \n",
       "166  39.321499  \n",
       "167  38.881500  \n",
       "168  38.223000  \n",
       "\n",
       "[169 rows x 8 columns]"
      ]
     },
     "execution_count": 17,
     "metadata": {},
     "output_type": "execute_result"
    }
   ],
   "source": [
    "train.iloc[:169]"
   ]
  },
  {
   "cell_type": "code",
   "execution_count": 18,
   "id": "61d18200",
   "metadata": {
    "scrolled": true
   },
   "outputs": [
    {
     "data": {
      "text/plain": [
       "tensor([[[41.1300, 12.4810, 36.5360,  ...,  4.4240,  1.3110, 38.6620],\n",
       "         [37.5280, 10.1360, 33.9360,  ...,  4.4350,  1.2150, 37.1240],\n",
       "         [37.9470, 11.3090, 35.3300,  ...,  2.1000,  0.0000, 36.4650],\n",
       "         ...,\n",
       "         [50.0090, 14.6590, 45.8650,  ...,  3.7530,  1.2370, 40.2005],\n",
       "         [46.8260, 14.7430, 44.4170,  ...,  2.5800,  0.0000, 39.3215],\n",
       "         [45.2350, 13.9050, 43.0230,  ...,  2.6650,  0.0000, 38.8815]],\n",
       "\n",
       "        [[37.5280, 10.1360, 33.9360,  ...,  4.4350,  1.2150, 37.1240],\n",
       "         [37.9470, 11.3090, 35.3300,  ...,  2.1000,  0.0000, 36.4650],\n",
       "         [38.9520, 11.8950, 35.5440,  ...,  3.3800,  1.2150, 33.6085],\n",
       "         ...,\n",
       "         [46.8260, 14.7430, 44.4170,  ...,  2.5800,  0.0000, 39.3215],\n",
       "         [45.2350, 13.9050, 43.0230,  ...,  2.6650,  0.0000, 38.8815],\n",
       "         [44.7320, 13.9050, 42.4340,  ...,  1.3110,  0.0000, 38.2230]],\n",
       "\n",
       "        [[37.9470, 11.3090, 35.3300,  ...,  2.1000,  0.0000, 36.4650],\n",
       "         [38.9520, 11.8950, 35.5440,  ...,  3.3800,  1.2150, 33.6085],\n",
       "         [38.1140, 11.4760, 35.4100,  ...,  2.0360,  0.0000, 31.8505],\n",
       "         ...,\n",
       "         [45.2350, 13.9050, 43.0230,  ...,  2.6650,  0.0000, 38.8815],\n",
       "         [44.7320, 13.9050, 42.4340,  ...,  1.3110,  0.0000, 38.2230],\n",
       "         [41.8000, 12.5650, 40.8520,  ...,  0.0000,  0.0000, 38.0030]],\n",
       "\n",
       "        ...,\n",
       "\n",
       "        [[44.9000,  0.0000, 48.5180,  ..., -4.1900,  0.0000,  1.7485],\n",
       "         [47.2450,  0.0000, 50.9310,  ..., -3.0070,  0.0000,  1.7485],\n",
       "         [53.9470,  5.4450, 56.4800,  ..., -2.8680,  0.0000,  1.7485],\n",
       "         ...,\n",
       "         [45.8210,  0.0000, 49.6440,  ..., -2.9640, -1.2150,  5.0440],\n",
       "         [48.6690,  0.0000, 52.6200,  ..., -3.8380, -1.2690,  9.8780],\n",
       "         [44.6480,  0.0000, 48.8400,  ..., -3.8380, -1.2470, 13.8330]],\n",
       "\n",
       "        [[47.2450,  0.0000, 50.9310,  ..., -3.0070,  0.0000,  1.7485],\n",
       "         [53.9470,  5.4450, 56.4800,  ..., -2.8680,  0.0000,  1.7485],\n",
       "         [48.0830,  0.0000, 50.4220,  ..., -1.5890,  0.0000,  2.1875],\n",
       "         ...,\n",
       "         [48.6690,  0.0000, 52.6200,  ..., -3.8380, -1.2690,  9.8780],\n",
       "         [44.6480,  0.0000, 48.8400,  ..., -3.8380, -1.2470, 13.8330],\n",
       "         [47.6640,  5.2770, 51.4940,  ..., -3.8380, -1.2470, 15.5910]],\n",
       "\n",
       "        [[53.9470,  5.4450, 56.4800,  ..., -2.8680,  0.0000,  1.7485],\n",
       "         [48.0830,  0.0000, 50.4220,  ..., -1.5890,  0.0000,  2.1875],\n",
       "         [47.4960,  0.0000, 49.9930,  ..., -2.9640,  0.0000,  2.1875],\n",
       "         ...,\n",
       "         [44.6480,  0.0000, 48.8400,  ..., -3.8380, -1.2470, 13.8330],\n",
       "         [47.6640,  5.2770, 51.4940,  ..., -3.8380, -1.2470, 15.5910],\n",
       "         [47.7480,  5.4450, 51.8690,  ..., -3.9870, -1.2470, 15.8105]]],\n",
       "       device='cuda:0')"
      ]
     },
     "execution_count": 18,
     "metadata": {},
     "output_type": "execute_result"
    }
   ],
   "source": [
    "X_train"
   ]
  },
  {
   "cell_type": "code",
   "execution_count": 19,
   "id": "4a6236e1",
   "metadata": {
    "scrolled": true
   },
   "outputs": [
    {
     "data": {
      "text/plain": [
       "tensor([[[38.2230]],\n",
       "\n",
       "        [[38.0030]],\n",
       "\n",
       "        [[37.5635]],\n",
       "\n",
       "        ...,\n",
       "\n",
       "        [[15.5910]],\n",
       "\n",
       "        [[15.8105]],\n",
       "\n",
       "        [[15.1515]]], device='cuda:0')"
      ]
     },
     "execution_count": 19,
     "metadata": {},
     "output_type": "execute_result"
    }
   ],
   "source": [
    "y_train"
   ]
  },
  {
   "cell_type": "code",
   "execution_count": 20,
   "id": "dc60cdc4",
   "metadata": {},
   "outputs": [],
   "source": [
    "from torch.optim import Adam"
   ]
  },
  {
   "cell_type": "code",
   "execution_count": 21,
   "id": "89a1e0ea",
   "metadata": {},
   "outputs": [],
   "source": [
    "random.seed(seed)\n",
    "np.random.seed(seed)\n",
    "torch.manual_seed(seed) # 난수 선언(원래는 cnt선언 위에 있었다)\n",
    "model = Filter().to(device)\n",
    "optimizer = Adam(model.parameters(),lr = 1e-4)\n",
    "num_epochs = 200\n",
    "n = len(training)"
   ]
  },
  {
   "cell_type": "code",
   "execution_count": 22,
   "id": "740a413f",
   "metadata": {},
   "outputs": [],
   "source": [
    "def MSE(pred,target):\n",
    "    return torch.mean((pred-target)**2,dim = 0) # reduction까지 취해줌"
   ]
  },
  {
   "cell_type": "code",
   "execution_count": 23,
   "id": "55798ba9",
   "metadata": {},
   "outputs": [
    {
     "data": {
      "text/plain": [
       "<bound method Module.named_parameters of Filter(\n",
       "  (model): LSTM(\n",
       "    (encoder): LSTM(7, 14, batch_first=True)\n",
       "    (decoder): LSTM(7, 14, batch_first=True)\n",
       "    (output_layer): Linear(in_features=14, out_features=1, bias=True)\n",
       "  )\n",
       ")>"
      ]
     },
     "execution_count": 23,
     "metadata": {},
     "output_type": "execute_result"
    }
   ],
   "source": [
    "model.named_parameters"
   ]
  },
  {
   "cell_type": "code",
   "execution_count": 24,
   "id": "9e4d7125",
   "metadata": {
    "scrolled": true
   },
   "outputs": [
    {
     "name": "stdout",
     "output_type": "stream",
     "text": [
      "Epoch [1]/[200] running accumulative loss across all batches: 869.021\n",
      "changed\n",
      "Epoch [2]/[200] running accumulative loss across all batches: 859.793\n",
      "changed\n",
      "Epoch [3]/[200] running accumulative loss across all batches: 846.626\n",
      "changed\n",
      "Epoch [4]/[200] running accumulative loss across all batches: 829.433\n",
      "changed\n",
      "Epoch [5]/[200] running accumulative loss across all batches: 809.352\n",
      "changed\n",
      "Epoch [6]/[200] running accumulative loss across all batches: 783.139\n",
      "changed\n",
      "Epoch [7]/[200] running accumulative loss across all batches: 761.134\n",
      "changed\n",
      "Epoch [8]/[200] running accumulative loss across all batches: 740.211\n",
      "changed\n",
      "Epoch [9]/[200] running accumulative loss across all batches: 720.916\n",
      "changed\n",
      "Epoch [10]/[200] running accumulative loss across all batches: 704.162\n",
      "changed\n",
      "Epoch [11]/[200] running accumulative loss across all batches: 688.206\n",
      "changed\n",
      "Epoch [12]/[200] running accumulative loss across all batches: 671.672\n",
      "changed\n",
      "Epoch [13]/[200] running accumulative loss across all batches: 655.089\n",
      "changed\n",
      "Epoch [14]/[200] running accumulative loss across all batches: 639.260\n",
      "changed\n",
      "Epoch [15]/[200] running accumulative loss across all batches: 622.143\n",
      "changed\n",
      "Epoch [16]/[200] running accumulative loss across all batches: 606.223\n",
      "changed\n",
      "Epoch [17]/[200] running accumulative loss across all batches: 593.547\n",
      "changed\n",
      "Epoch [18]/[200] running accumulative loss across all batches: 581.465\n",
      "changed\n",
      "Epoch [19]/[200] running accumulative loss across all batches: 569.906\n",
      "changed\n",
      "Epoch [20]/[200] running accumulative loss across all batches: 558.827\n",
      "changed\n",
      "Epoch [21]/[200] running accumulative loss across all batches: 548.078\n",
      "changed\n",
      "Epoch [22]/[200] running accumulative loss across all batches: 537.612\n",
      "changed\n",
      "Epoch [23]/[200] running accumulative loss across all batches: 527.453\n",
      "changed\n",
      "Epoch [24]/[200] running accumulative loss across all batches: 517.546\n",
      "changed\n",
      "Epoch [25]/[200] running accumulative loss across all batches: 507.855\n",
      "changed\n",
      "Epoch [26]/[200] running accumulative loss across all batches: 498.346\n",
      "changed\n",
      "Epoch [27]/[200] running accumulative loss across all batches: 489.048\n",
      "changed\n",
      "Epoch [28]/[200] running accumulative loss across all batches: 479.979\n",
      "changed\n",
      "Epoch [29]/[200] running accumulative loss across all batches: 471.111\n",
      "changed\n",
      "Epoch [30]/[200] running accumulative loss across all batches: 462.418\n",
      "changed\n",
      "Epoch [31]/[200] running accumulative loss across all batches: 453.779\n",
      "changed\n",
      "Epoch [32]/[200] running accumulative loss across all batches: 445.379\n",
      "changed\n",
      "Epoch [33]/[200] running accumulative loss across all batches: 437.093\n",
      "changed\n",
      "Epoch [34]/[200] running accumulative loss across all batches: 428.866\n",
      "changed\n",
      "Epoch [35]/[200] running accumulative loss across all batches: 420.567\n",
      "changed\n",
      "Epoch [36]/[200] running accumulative loss across all batches: 411.980\n",
      "changed\n",
      "Epoch [37]/[200] running accumulative loss across all batches: 403.092\n",
      "changed\n",
      "Epoch [38]/[200] running accumulative loss across all batches: 394.190\n",
      "changed\n",
      "Epoch [39]/[200] running accumulative loss across all batches: 385.518\n",
      "changed\n",
      "Epoch [40]/[200] running accumulative loss across all batches: 377.215\n",
      "changed\n",
      "Epoch [41]/[200] running accumulative loss across all batches: 369.190\n",
      "changed\n",
      "Epoch [42]/[200] running accumulative loss across all batches: 361.124\n",
      "changed\n",
      "Epoch [43]/[200] running accumulative loss across all batches: 353.606\n",
      "changed\n",
      "Epoch [44]/[200] running accumulative loss across all batches: 346.256\n",
      "changed\n",
      "Epoch [45]/[200] running accumulative loss across all batches: 339.149\n",
      "changed\n",
      "Epoch [46]/[200] running accumulative loss across all batches: 332.228\n",
      "changed\n",
      "Epoch [47]/[200] running accumulative loss across all batches: 325.500\n",
      "changed\n",
      "Epoch [48]/[200] running accumulative loss across all batches: 318.936\n",
      "changed\n",
      "Epoch [49]/[200] running accumulative loss across all batches: 312.490\n",
      "changed\n",
      "Epoch [50]/[200] running accumulative loss across all batches: 306.434\n",
      "changed\n",
      "Epoch [51]/[200] running accumulative loss across all batches: 300.102\n",
      "changed\n",
      "Epoch [52]/[200] running accumulative loss across all batches: 294.075\n",
      "changed\n",
      "Epoch [53]/[200] running accumulative loss across all batches: 288.156\n",
      "changed\n",
      "Epoch [54]/[200] running accumulative loss across all batches: 282.343\n",
      "changed\n",
      "Epoch [55]/[200] running accumulative loss across all batches: 276.755\n",
      "changed\n",
      "Epoch [56]/[200] running accumulative loss across all batches: 271.042\n",
      "changed\n",
      "Epoch [57]/[200] running accumulative loss across all batches: 265.503\n",
      "changed\n",
      "Epoch [58]/[200] running accumulative loss across all batches: 260.090\n",
      "changed\n",
      "Epoch [59]/[200] running accumulative loss across all batches: 254.881\n",
      "changed\n",
      "Epoch [60]/[200] running accumulative loss across all batches: 249.607\n",
      "changed\n",
      "Epoch [61]/[200] running accumulative loss across all batches: 244.494\n",
      "changed\n",
      "Epoch [62]/[200] running accumulative loss across all batches: 239.462\n",
      "changed\n",
      "Epoch [63]/[200] running accumulative loss across all batches: 234.485\n",
      "changed\n",
      "Epoch [64]/[200] running accumulative loss across all batches: 229.556\n",
      "changed\n",
      "Epoch [65]/[200] running accumulative loss across all batches: 224.709\n",
      "changed\n",
      "Epoch [66]/[200] running accumulative loss across all batches: 220.018\n",
      "changed\n",
      "Epoch [67]/[200] running accumulative loss across all batches: 215.340\n",
      "changed\n",
      "Epoch [68]/[200] running accumulative loss across all batches: 210.783\n",
      "changed\n",
      "Epoch [69]/[200] running accumulative loss across all batches: 206.319\n",
      "changed\n",
      "Epoch [70]/[200] running accumulative loss across all batches: 201.942\n",
      "changed\n",
      "Epoch [71]/[200] running accumulative loss across all batches: 197.643\n",
      "changed\n",
      "Epoch [72]/[200] running accumulative loss across all batches: 193.420\n",
      "changed\n",
      "Epoch [73]/[200] running accumulative loss across all batches: 189.262\n",
      "changed\n",
      "Epoch [74]/[200] running accumulative loss across all batches: 185.178\n",
      "changed\n",
      "Epoch [75]/[200] running accumulative loss across all batches: 181.181\n",
      "changed\n",
      "Epoch [76]/[200] running accumulative loss across all batches: 177.275\n",
      "changed\n",
      "Epoch [77]/[200] running accumulative loss across all batches: 173.489\n",
      "changed\n",
      "Epoch [78]/[200] running accumulative loss across all batches: 169.720\n",
      "changed\n",
      "Epoch [79]/[200] running accumulative loss across all batches: 166.038\n",
      "changed\n",
      "Epoch [80]/[200] running accumulative loss across all batches: 162.429\n",
      "changed\n",
      "Epoch [81]/[200] running accumulative loss across all batches: 158.893\n",
      "changed\n",
      "Epoch [82]/[200] running accumulative loss across all batches: 155.426\n",
      "changed\n",
      "Epoch [83]/[200] running accumulative loss across all batches: 152.025\n",
      "changed\n",
      "Epoch [84]/[200] running accumulative loss across all batches: 148.740\n",
      "changed\n",
      "Epoch [85]/[200] running accumulative loss across all batches: 145.402\n",
      "changed\n",
      "Epoch [86]/[200] running accumulative loss across all batches: 142.178\n",
      "changed\n",
      "Epoch [87]/[200] running accumulative loss across all batches: 139.005\n",
      "changed\n",
      "Epoch [88]/[200] running accumulative loss across all batches: 135.911\n",
      "changed\n",
      "Epoch [89]/[200] running accumulative loss across all batches: 132.878\n",
      "changed\n",
      "Epoch [90]/[200] running accumulative loss across all batches: 129.902\n",
      "changed\n",
      "Epoch [91]/[200] running accumulative loss across all batches: 126.986\n",
      "changed\n",
      "Epoch [92]/[200] running accumulative loss across all batches: 124.130\n",
      "changed\n",
      "Epoch [93]/[200] running accumulative loss across all batches: 121.334\n",
      "changed\n",
      "Epoch [94]/[200] running accumulative loss across all batches: 118.597\n",
      "changed\n",
      "Epoch [95]/[200] running accumulative loss across all batches: 115.917\n",
      "changed\n",
      "Epoch [96]/[200] running accumulative loss across all batches: 113.292\n",
      "changed\n",
      "Epoch [97]/[200] running accumulative loss across all batches: 110.719\n",
      "changed\n",
      "Epoch [98]/[200] running accumulative loss across all batches: 108.200\n",
      "changed\n",
      "Epoch [99]/[200] running accumulative loss across all batches: 105.732\n",
      "changed\n",
      "Epoch [100]/[200] running accumulative loss across all batches: 103.316\n",
      "changed\n",
      "Epoch [101]/[200] running accumulative loss across all batches: 100.951\n",
      "changed\n",
      "Epoch [102]/[200] running accumulative loss across all batches: 98.635\n",
      "changed\n",
      "Epoch [103]/[200] running accumulative loss across all batches: 96.367\n",
      "changed\n",
      "Epoch [104]/[200] running accumulative loss across all batches: 94.147\n",
      "changed\n"
     ]
    },
    {
     "name": "stdout",
     "output_type": "stream",
     "text": [
      "Epoch [105]/[200] running accumulative loss across all batches: 91.972\n",
      "changed\n",
      "Epoch [106]/[200] running accumulative loss across all batches: 89.842\n",
      "changed\n",
      "Epoch [107]/[200] running accumulative loss across all batches: 87.755\n",
      "changed\n",
      "Epoch [108]/[200] running accumulative loss across all batches: 85.712\n",
      "changed\n",
      "Epoch [109]/[200] running accumulative loss across all batches: 83.709\n",
      "changed\n",
      "Epoch [110]/[200] running accumulative loss across all batches: 81.746\n",
      "changed\n",
      "Epoch [111]/[200] running accumulative loss across all batches: 79.820\n",
      "changed\n",
      "Epoch [112]/[200] running accumulative loss across all batches: 77.936\n",
      "changed\n",
      "Epoch [113]/[200] running accumulative loss across all batches: 76.092\n",
      "changed\n",
      "Epoch [114]/[200] running accumulative loss across all batches: 74.291\n",
      "changed\n",
      "Epoch [115]/[200] running accumulative loss across all batches: 72.519\n",
      "changed\n",
      "Epoch [116]/[200] running accumulative loss across all batches: 70.785\n",
      "changed\n",
      "Epoch [117]/[200] running accumulative loss across all batches: 69.087\n",
      "changed\n",
      "Epoch [118]/[200] running accumulative loss across all batches: 67.430\n",
      "changed\n",
      "Epoch [119]/[200] running accumulative loss across all batches: 65.814\n",
      "changed\n",
      "Epoch [120]/[200] running accumulative loss across all batches: 64.241\n",
      "changed\n",
      "Epoch [121]/[200] running accumulative loss across all batches: 62.708\n",
      "changed\n",
      "Epoch [122]/[200] running accumulative loss across all batches: 61.212\n",
      "changed\n",
      "Epoch [123]/[200] running accumulative loss across all batches: 59.753\n",
      "changed\n",
      "Epoch [124]/[200] running accumulative loss across all batches: 58.326\n",
      "changed\n",
      "Epoch [125]/[200] running accumulative loss across all batches: 56.928\n",
      "changed\n",
      "Epoch [126]/[200] running accumulative loss across all batches: 55.557\n",
      "changed\n",
      "Epoch [127]/[200] running accumulative loss across all batches: 54.211\n",
      "changed\n",
      "Epoch [128]/[200] running accumulative loss across all batches: 52.891\n",
      "changed\n",
      "Epoch [129]/[200] running accumulative loss across all batches: 51.597\n",
      "changed\n",
      "Epoch [130]/[200] running accumulative loss across all batches: 50.332\n",
      "changed\n",
      "Epoch [131]/[200] running accumulative loss across all batches: 49.098\n",
      "changed\n",
      "Epoch [132]/[200] running accumulative loss across all batches: 47.895\n",
      "changed\n",
      "Epoch [133]/[200] running accumulative loss across all batches: 46.723\n",
      "changed\n",
      "Epoch [134]/[200] running accumulative loss across all batches: 45.580\n",
      "changed\n",
      "Epoch [135]/[200] running accumulative loss across all batches: 44.466\n",
      "changed\n",
      "Epoch [136]/[200] running accumulative loss across all batches: 43.381\n",
      "changed\n",
      "Epoch [137]/[200] running accumulative loss across all batches: 42.323\n",
      "changed\n",
      "Epoch [138]/[200] running accumulative loss across all batches: 41.292\n",
      "changed\n",
      "Epoch [139]/[200] running accumulative loss across all batches: 40.288\n",
      "changed\n",
      "Epoch [140]/[200] running accumulative loss across all batches: 39.309\n",
      "changed\n",
      "Epoch [141]/[200] running accumulative loss across all batches: 38.355\n",
      "changed\n",
      "Epoch [142]/[200] running accumulative loss across all batches: 37.426\n",
      "changed\n",
      "Epoch [143]/[200] running accumulative loss across all batches: 36.521\n",
      "changed\n",
      "Epoch [144]/[200] running accumulative loss across all batches: 35.639\n",
      "changed\n",
      "Epoch [145]/[200] running accumulative loss across all batches: 34.779\n",
      "changed\n",
      "Epoch [146]/[200] running accumulative loss across all batches: 33.942\n",
      "changed\n",
      "Epoch [147]/[200] running accumulative loss across all batches: 33.125\n",
      "changed\n",
      "Epoch [148]/[200] running accumulative loss across all batches: 32.329\n",
      "changed\n",
      "Epoch [149]/[200] running accumulative loss across all batches: 31.552\n",
      "changed\n",
      "Epoch [150]/[200] running accumulative loss across all batches: 30.796\n",
      "changed\n",
      "Epoch [151]/[200] running accumulative loss across all batches: 30.057\n",
      "changed\n",
      "Epoch [152]/[200] running accumulative loss across all batches: 29.338\n",
      "changed\n",
      "Epoch [153]/[200] running accumulative loss across all batches: 28.634\n",
      "changed\n",
      "Epoch [154]/[200] running accumulative loss across all batches: 27.949\n",
      "changed\n",
      "Epoch [155]/[200] running accumulative loss across all batches: 27.277\n",
      "changed\n",
      "Epoch [156]/[200] running accumulative loss across all batches: 26.622\n",
      "changed\n",
      "Epoch [157]/[200] running accumulative loss across all batches: 25.981\n",
      "changed\n",
      "Epoch [158]/[200] running accumulative loss across all batches: 25.355\n",
      "changed\n",
      "Epoch [159]/[200] running accumulative loss across all batches: 24.745\n",
      "changed\n",
      "Epoch [160]/[200] running accumulative loss across all batches: 24.151\n",
      "changed\n",
      "Epoch [161]/[200] running accumulative loss across all batches: 23.573\n",
      "changed\n",
      "Epoch [162]/[200] running accumulative loss across all batches: 23.011\n",
      "changed\n",
      "Epoch [163]/[200] running accumulative loss across all batches: 22.464\n",
      "changed\n",
      "Epoch [164]/[200] running accumulative loss across all batches: 21.932\n",
      "changed\n",
      "Epoch [165]/[200] running accumulative loss across all batches: 21.413\n",
      "changed\n",
      "Epoch [166]/[200] running accumulative loss across all batches: 20.909\n",
      "changed\n",
      "Epoch [167]/[200] running accumulative loss across all batches: 20.418\n",
      "changed\n",
      "Epoch [168]/[200] running accumulative loss across all batches: 19.940\n",
      "changed\n",
      "Epoch [169]/[200] running accumulative loss across all batches: 19.473\n",
      "changed\n",
      "Epoch [170]/[200] running accumulative loss across all batches: 19.030\n",
      "changed\n",
      "Epoch [171]/[200] running accumulative loss across all batches: 18.584\n",
      "changed\n",
      "Epoch [172]/[200] running accumulative loss across all batches: 18.144\n",
      "changed\n",
      "Epoch [173]/[200] running accumulative loss across all batches: 17.722\n",
      "changed\n",
      "Epoch [174]/[200] running accumulative loss across all batches: 17.314\n",
      "changed\n",
      "Epoch [175]/[200] running accumulative loss across all batches: 16.916\n",
      "changed\n",
      "Epoch [176]/[200] running accumulative loss across all batches: 16.528\n",
      "changed\n",
      "Epoch [177]/[200] running accumulative loss across all batches: 16.151\n",
      "changed\n",
      "Epoch [178]/[200] running accumulative loss across all batches: 15.783\n",
      "changed\n",
      "Epoch [179]/[200] running accumulative loss across all batches: 15.424\n",
      "changed\n",
      "Epoch [180]/[200] running accumulative loss across all batches: 15.074\n",
      "changed\n",
      "Epoch [181]/[200] running accumulative loss across all batches: 14.733\n",
      "changed\n",
      "Epoch [182]/[200] running accumulative loss across all batches: 14.400\n",
      "changed\n",
      "Epoch [183]/[200] running accumulative loss across all batches: 14.075\n",
      "changed\n",
      "Epoch [184]/[200] running accumulative loss across all batches: 13.758\n",
      "changed\n",
      "Epoch [185]/[200] running accumulative loss across all batches: 13.449\n",
      "changed\n",
      "Epoch [186]/[200] running accumulative loss across all batches: 13.147\n",
      "changed\n",
      "Epoch [187]/[200] running accumulative loss across all batches: 12.859\n",
      "changed\n",
      "Epoch [188]/[200] running accumulative loss across all batches: 12.594\n",
      "changed\n",
      "Epoch [189]/[200] running accumulative loss across all batches: 12.302\n",
      "changed\n",
      "Epoch [190]/[200] running accumulative loss across all batches: 12.012\n",
      "changed\n",
      "Epoch [191]/[200] running accumulative loss across all batches: 11.744\n",
      "changed\n",
      "Epoch [192]/[200] running accumulative loss across all batches: 11.483\n",
      "changed\n",
      "Epoch [193]/[200] running accumulative loss across all batches: 11.232\n",
      "changed\n",
      "Epoch [194]/[200] running accumulative loss across all batches: 10.984\n",
      "changed\n",
      "Epoch [195]/[200] running accumulative loss across all batches: 10.744\n",
      "changed\n",
      "Epoch [196]/[200] running accumulative loss across all batches: 10.507\n",
      "changed\n",
      "Epoch [197]/[200] running accumulative loss across all batches: 10.278\n",
      "changed\n",
      "Epoch [198]/[200] running accumulative loss across all batches: 10.052\n",
      "changed\n",
      "Epoch [199]/[200] running accumulative loss across all batches: 9.834\n",
      "changed\n",
      "Epoch [200]/[200] running accumulative loss across all batches: 9.618\n",
      "changed\n"
     ]
    }
   ],
   "source": [
    "random.seed(seed)\n",
    "np.random.seed(seed)\n",
    "torch.manual_seed(seed)\n",
    "minimal_loss=np.inf\n",
    "for epoch in range(num_epochs):  # loop over the dataset multiple times\n",
    "    running_loss = 0.0\n",
    "    for inputs, labels in training:\n",
    "        # forward pass\n",
    "        inputs = inputs\n",
    "        outputs = model(inputs)\n",
    "#         print(outputs.size())\n",
    "        outputs = outputs.view(-1,1)    \n",
    "        labels = labels.view(-1,1)\n",
    "        \n",
    "        # defining loss\n",
    "        loss = MSE(outputs, labels)\n",
    "        # zero the parameter gradients\n",
    "        optimizer.zero_grad()\n",
    "        # computing gradients\n",
    "        loss.backward()\n",
    "        # accumulating running loss\n",
    "        running_loss += loss.item()\n",
    "        # updated weights based on computed gradients\n",
    "        optimizer.step()\n",
    "    print('Epoch [%d]/[%d] running accumulative loss across all batches: %.3f' %(epoch + 1, num_epochs, (running_loss/n)))\n",
    "    if (running_loss/n)*100<minimal_loss:\n",
    "        best_model = copy.deepcopy(model)\n",
    "        minimal_loss = (running_loss/n)*100\n",
    "        print(\"changed\")\n",
    "\n",
    "model = best_model"
   ]
  },
  {
   "cell_type": "code",
   "execution_count": 25,
   "id": "16fabeb0",
   "metadata": {},
   "outputs": [],
   "source": [
    "from captum.attr import IntegratedGradients,NoiseTunnel"
   ]
  },
  {
   "cell_type": "code",
   "execution_count": 26,
   "id": "90bc847c",
   "metadata": {
    "scrolled": true
   },
   "outputs": [
    {
     "name": "stdout",
     "output_type": "stream",
     "text": [
      "torch.Size([64, 168, 7])\n",
      "torch.Size([64, 168, 7])\n",
      "torch.Size([64, 168, 7])\n",
      "torch.Size([64, 168, 7])\n",
      "torch.Size([64, 168, 7])\n",
      "torch.Size([64, 168, 7])\n",
      "torch.Size([64, 168, 7])\n",
      "torch.Size([64, 168, 7])\n",
      "torch.Size([64, 168, 7])\n",
      "torch.Size([64, 168, 7])\n",
      "torch.Size([64, 168, 7])\n",
      "torch.Size([64, 168, 7])\n",
      "torch.Size([64, 168, 7])\n",
      "torch.Size([64, 168, 7])\n",
      "torch.Size([64, 168, 7])\n",
      "torch.Size([64, 168, 7])\n",
      "torch.Size([64, 168, 7])\n",
      "torch.Size([64, 168, 7])\n",
      "torch.Size([64, 168, 7])\n",
      "torch.Size([64, 168, 7])\n",
      "torch.Size([64, 168, 7])\n",
      "torch.Size([64, 168, 7])\n",
      "torch.Size([64, 168, 7])\n",
      "torch.Size([64, 168, 7])\n",
      "torch.Size([64, 168, 7])\n",
      "torch.Size([64, 168, 7])\n",
      "torch.Size([64, 168, 7])\n",
      "torch.Size([64, 168, 7])\n",
      "torch.Size([64, 168, 7])\n",
      "torch.Size([64, 168, 7])\n",
      "torch.Size([64, 168, 7])\n",
      "torch.Size([64, 168, 7])\n",
      "torch.Size([64, 168, 7])\n",
      "torch.Size([64, 168, 7])\n",
      "torch.Size([64, 168, 7])\n",
      "torch.Size([64, 168, 7])\n",
      "torch.Size([64, 168, 7])\n",
      "torch.Size([64, 168, 7])\n",
      "torch.Size([64, 168, 7])\n",
      "torch.Size([64, 168, 7])\n",
      "torch.Size([64, 168, 7])\n",
      "torch.Size([64, 168, 7])\n",
      "torch.Size([64, 168, 7])\n",
      "torch.Size([64, 168, 7])\n",
      "torch.Size([64, 168, 7])\n",
      "torch.Size([64, 168, 7])\n",
      "torch.Size([64, 168, 7])\n",
      "torch.Size([64, 168, 7])\n",
      "torch.Size([64, 168, 7])\n",
      "torch.Size([64, 168, 7])\n",
      "torch.Size([64, 168, 7])\n",
      "torch.Size([52, 168, 7])\n"
     ]
    }
   ],
   "source": [
    "for val in validation:\n",
    "    print(val[0].size())"
   ]
  },
  {
   "cell_type": "code",
   "execution_count": 27,
   "id": "168ef6c4",
   "metadata": {},
   "outputs": [
    {
     "data": {
      "text/plain": [
       "torch.Size([1, 168, 7])"
      ]
     },
     "execution_count": 27,
     "metadata": {},
     "output_type": "execute_result"
    }
   ],
   "source": [
    "test = next(iter(validation))[0][0] # 하나의 sample에 대해서 진행\n",
    "test = test.unsqueeze(0)\n",
    "test.size()"
   ]
  },
  {
   "cell_type": "code",
   "execution_count": 28,
   "id": "ee29805d",
   "metadata": {},
   "outputs": [
    {
     "data": {
      "text/plain": [
       "(tensor([[[-5.9376e-07, -3.7675e-07,  8.0071e-06,  ...,  1.2761e-07,\n",
       "            9.6813e-08,  1.6448e-07],\n",
       "          [-7.4945e-06,  0.0000e+00, -1.1281e-05,  ...,  1.1797e-06,\n",
       "            1.0376e-07,  6.3016e-06],\n",
       "          [-4.2601e-06,  0.0000e+00, -1.8901e-05,  ...,  1.2249e-06,\n",
       "            3.4152e-07,  5.9723e-06],\n",
       "          ...,\n",
       "          [ 1.5233e+00, -1.6451e-01,  1.4713e-01,  ...,  6.5818e-01,\n",
       "            3.0750e-01, -4.4704e+00],\n",
       "          [-3.8615e-01,  1.4236e+00,  1.8733e+00,  ..., -9.9529e-01,\n",
       "           -2.7344e-01, -2.3982e+00],\n",
       "          [-5.6711e+00,  3.6636e-02,  5.2496e-01,  ..., -1.1558e+00,\n",
       "           -6.3748e-01,  2.6021e+01]]], device='cuda:0', dtype=torch.float64),\n",
       " tensor([-3.9857e-06], device='cuda:0', dtype=torch.float64))"
      ]
     },
     "execution_count": 28,
     "metadata": {},
     "output_type": "execute_result"
    }
   ],
   "source": [
    "ig = IntegratedGradients(model)\n",
    "attr_score = ig.attribute(test,return_convergence_delta=True)\n",
    "attr_score"
   ]
  },
  {
   "cell_type": "code",
   "execution_count": 29,
   "id": "aabf0606",
   "metadata": {},
   "outputs": [
    {
     "data": {
      "text/plain": [
       "torch.Size([1, 168, 7])"
      ]
     },
     "execution_count": 29,
     "metadata": {},
     "output_type": "execute_result"
    }
   ],
   "source": [
    "attr_score[0].size()"
   ]
  },
  {
   "cell_type": "code",
   "execution_count": 30,
   "id": "594485bd",
   "metadata": {},
   "outputs": [],
   "source": [
    "delta = attr_score[1]"
   ]
  },
  {
   "cell_type": "code",
   "execution_count": 31,
   "id": "8f8cbba6",
   "metadata": {},
   "outputs": [],
   "source": [
    "attr_score = attr_score[0]"
   ]
  },
  {
   "cell_type": "code",
   "execution_count": 32,
   "id": "deba0ab8",
   "metadata": {},
   "outputs": [
    {
     "data": {
      "text/plain": [
       "tensor([[[-5.9376e-07, -3.7675e-07,  8.0071e-06,  ...,  1.2761e-07,\n",
       "           9.6813e-08,  1.6448e-07],\n",
       "         [-7.4945e-06,  0.0000e+00, -1.1281e-05,  ...,  1.1797e-06,\n",
       "           1.0376e-07,  6.3016e-06],\n",
       "         [-4.2601e-06,  0.0000e+00, -1.8901e-05,  ...,  1.2249e-06,\n",
       "           3.4152e-07,  5.9723e-06],\n",
       "         ...,\n",
       "         [ 1.5233e+00, -1.6451e-01,  1.4713e-01,  ...,  6.5818e-01,\n",
       "           3.0750e-01, -4.4704e+00],\n",
       "         [-3.8615e-01,  1.4236e+00,  1.8733e+00,  ..., -9.9529e-01,\n",
       "          -2.7344e-01, -2.3982e+00],\n",
       "         [-5.6711e+00,  3.6636e-02,  5.2496e-01,  ..., -1.1558e+00,\n",
       "          -6.3748e-01,  2.6021e+01]]], dtype=torch.float64)"
      ]
     },
     "execution_count": 32,
     "metadata": {},
     "output_type": "execute_result"
    }
   ],
   "source": [
    "attr_score.to(\"cpu\")"
   ]
  },
  {
   "cell_type": "code",
   "execution_count": 33,
   "id": "d868c396",
   "metadata": {
    "scrolled": false
   },
   "outputs": [
    {
     "data": {
      "text/plain": [
       "array([[[-5.93761354e-07, -3.76745438e-07,  8.00714640e-06, ...,\n",
       "          1.27606839e-07,  9.68127471e-08,  1.64477127e-07],\n",
       "        [-7.49452183e-06,  0.00000000e+00, -1.12811741e-05, ...,\n",
       "          1.17965311e-06,  1.03760385e-07,  6.30161868e-06],\n",
       "        [-4.26008245e-06,  0.00000000e+00, -1.89006913e-05, ...,\n",
       "          1.22486993e-06,  3.41517109e-07,  5.97233259e-06],\n",
       "        ...,\n",
       "        [ 1.52325544e+00, -1.64511184e-01,  1.47128679e-01, ...,\n",
       "          6.58180277e-01,  3.07498897e-01, -4.47035561e+00],\n",
       "        [-3.86150722e-01,  1.42360606e+00,  1.87333183e+00, ...,\n",
       "         -9.95289292e-01, -2.73444132e-01, -2.39815310e+00],\n",
       "        [-5.67106171e+00,  3.66356746e-02,  5.24960906e-01, ...,\n",
       "         -1.15581566e+00, -6.37483571e-01,  2.60209572e+01]]])"
      ]
     },
     "execution_count": 33,
     "metadata": {},
     "output_type": "execute_result"
    }
   ],
   "source": [
    "plot_attribution = attr_score.to(\"cpu\").detach().numpy()\n",
    "plot_attribution"
   ]
  },
  {
   "cell_type": "code",
   "execution_count": 34,
   "id": "31926d2f",
   "metadata": {},
   "outputs": [],
   "source": [
    "plot_attribution = plot_attribution.reshape(-1,7)"
   ]
  },
  {
   "cell_type": "code",
   "execution_count": 35,
   "id": "15782df1",
   "metadata": {},
   "outputs": [
    {
     "data": {
      "text/plain": [
       "Index(['HUFL', 'HULL', 'MUFL', 'MULL', 'LUFL', 'LULL', 'OT'], dtype='object')"
      ]
     },
     "execution_count": 35,
     "metadata": {},
     "output_type": "execute_result"
    }
   ],
   "source": [
    "column = data.columns[1:]\n",
    "column"
   ]
  },
  {
   "cell_type": "code",
   "execution_count": 36,
   "id": "ac23ea50",
   "metadata": {},
   "outputs": [],
   "source": [
    "attr_df = pd.DataFrame(plot_attribution,columns=column)"
   ]
  },
  {
   "cell_type": "code",
   "execution_count": 37,
   "id": "c2b8ff9d",
   "metadata": {},
   "outputs": [
    {
     "data": {
      "text/html": [
       "<div>\n",
       "<style scoped>\n",
       "    .dataframe tbody tr th:only-of-type {\n",
       "        vertical-align: middle;\n",
       "    }\n",
       "\n",
       "    .dataframe tbody tr th {\n",
       "        vertical-align: top;\n",
       "    }\n",
       "\n",
       "    .dataframe thead th {\n",
       "        text-align: right;\n",
       "    }\n",
       "</style>\n",
       "<table border=\"1\" class=\"dataframe\">\n",
       "  <thead>\n",
       "    <tr style=\"text-align: right;\">\n",
       "      <th></th>\n",
       "      <th>HUFL</th>\n",
       "      <th>HULL</th>\n",
       "      <th>MUFL</th>\n",
       "      <th>MULL</th>\n",
       "      <th>LUFL</th>\n",
       "      <th>LULL</th>\n",
       "      <th>OT</th>\n",
       "    </tr>\n",
       "  </thead>\n",
       "  <tbody>\n",
       "    <tr>\n",
       "      <th>0</th>\n",
       "      <td>-5.937614e-07</td>\n",
       "      <td>-3.767454e-07</td>\n",
       "      <td>0.000008</td>\n",
       "      <td>-4.720117e-07</td>\n",
       "      <td>1.276068e-07</td>\n",
       "      <td>9.681275e-08</td>\n",
       "      <td>1.644771e-07</td>\n",
       "    </tr>\n",
       "    <tr>\n",
       "      <th>1</th>\n",
       "      <td>-7.494522e-06</td>\n",
       "      <td>0.000000e+00</td>\n",
       "      <td>-0.000011</td>\n",
       "      <td>-2.548996e-07</td>\n",
       "      <td>1.179653e-06</td>\n",
       "      <td>1.037604e-07</td>\n",
       "      <td>6.301619e-06</td>\n",
       "    </tr>\n",
       "    <tr>\n",
       "      <th>2</th>\n",
       "      <td>-4.260082e-06</td>\n",
       "      <td>0.000000e+00</td>\n",
       "      <td>-0.000019</td>\n",
       "      <td>-4.238541e-07</td>\n",
       "      <td>1.224870e-06</td>\n",
       "      <td>3.415171e-07</td>\n",
       "      <td>5.972333e-06</td>\n",
       "    </tr>\n",
       "    <tr>\n",
       "      <th>3</th>\n",
       "      <td>-1.352139e-06</td>\n",
       "      <td>0.000000e+00</td>\n",
       "      <td>-0.000017</td>\n",
       "      <td>-6.349034e-07</td>\n",
       "      <td>1.292195e-06</td>\n",
       "      <td>4.391364e-07</td>\n",
       "      <td>3.521359e-06</td>\n",
       "    </tr>\n",
       "    <tr>\n",
       "      <th>4</th>\n",
       "      <td>6.639321e-07</td>\n",
       "      <td>0.000000e+00</td>\n",
       "      <td>-0.000011</td>\n",
       "      <td>-9.172286e-07</td>\n",
       "      <td>5.994110e-07</td>\n",
       "      <td>-0.000000e+00</td>\n",
       "      <td>2.196285e-06</td>\n",
       "    </tr>\n",
       "    <tr>\n",
       "      <th>...</th>\n",
       "      <td>...</td>\n",
       "      <td>...</td>\n",
       "      <td>...</td>\n",
       "      <td>...</td>\n",
       "      <td>...</td>\n",
       "      <td>...</td>\n",
       "      <td>...</td>\n",
       "    </tr>\n",
       "    <tr>\n",
       "      <th>163</th>\n",
       "      <td>7.698017e-02</td>\n",
       "      <td>-9.615090e-03</td>\n",
       "      <td>0.616925</td>\n",
       "      <td>-9.428118e-02</td>\n",
       "      <td>1.119212e-01</td>\n",
       "      <td>-2.352201e-02</td>\n",
       "      <td>3.458251e-01</td>\n",
       "    </tr>\n",
       "    <tr>\n",
       "      <th>164</th>\n",
       "      <td>3.991378e-01</td>\n",
       "      <td>-3.675092e-01</td>\n",
       "      <td>0.395621</td>\n",
       "      <td>-2.010101e-01</td>\n",
       "      <td>3.596672e-01</td>\n",
       "      <td>6.845013e-02</td>\n",
       "      <td>4.057561e-01</td>\n",
       "    </tr>\n",
       "    <tr>\n",
       "      <th>165</th>\n",
       "      <td>1.523255e+00</td>\n",
       "      <td>-1.645112e-01</td>\n",
       "      <td>0.147129</td>\n",
       "      <td>3.332237e-01</td>\n",
       "      <td>6.581803e-01</td>\n",
       "      <td>3.074989e-01</td>\n",
       "      <td>-4.470356e+00</td>\n",
       "    </tr>\n",
       "    <tr>\n",
       "      <th>166</th>\n",
       "      <td>-3.861507e-01</td>\n",
       "      <td>1.423606e+00</td>\n",
       "      <td>1.873332</td>\n",
       "      <td>3.373219e-01</td>\n",
       "      <td>-9.952893e-01</td>\n",
       "      <td>-2.734441e-01</td>\n",
       "      <td>-2.398153e+00</td>\n",
       "    </tr>\n",
       "    <tr>\n",
       "      <th>167</th>\n",
       "      <td>-5.671062e+00</td>\n",
       "      <td>3.663567e-02</td>\n",
       "      <td>0.524961</td>\n",
       "      <td>-2.148995e+00</td>\n",
       "      <td>-1.155816e+00</td>\n",
       "      <td>-6.374836e-01</td>\n",
       "      <td>2.602096e+01</td>\n",
       "    </tr>\n",
       "  </tbody>\n",
       "</table>\n",
       "<p>168 rows × 7 columns</p>\n",
       "</div>"
      ],
      "text/plain": [
       "             HUFL          HULL      MUFL          MULL          LUFL  \\\n",
       "0   -5.937614e-07 -3.767454e-07  0.000008 -4.720117e-07  1.276068e-07   \n",
       "1   -7.494522e-06  0.000000e+00 -0.000011 -2.548996e-07  1.179653e-06   \n",
       "2   -4.260082e-06  0.000000e+00 -0.000019 -4.238541e-07  1.224870e-06   \n",
       "3   -1.352139e-06  0.000000e+00 -0.000017 -6.349034e-07  1.292195e-06   \n",
       "4    6.639321e-07  0.000000e+00 -0.000011 -9.172286e-07  5.994110e-07   \n",
       "..            ...           ...       ...           ...           ...   \n",
       "163  7.698017e-02 -9.615090e-03  0.616925 -9.428118e-02  1.119212e-01   \n",
       "164  3.991378e-01 -3.675092e-01  0.395621 -2.010101e-01  3.596672e-01   \n",
       "165  1.523255e+00 -1.645112e-01  0.147129  3.332237e-01  6.581803e-01   \n",
       "166 -3.861507e-01  1.423606e+00  1.873332  3.373219e-01 -9.952893e-01   \n",
       "167 -5.671062e+00  3.663567e-02  0.524961 -2.148995e+00 -1.155816e+00   \n",
       "\n",
       "             LULL            OT  \n",
       "0    9.681275e-08  1.644771e-07  \n",
       "1    1.037604e-07  6.301619e-06  \n",
       "2    3.415171e-07  5.972333e-06  \n",
       "3    4.391364e-07  3.521359e-06  \n",
       "4   -0.000000e+00  2.196285e-06  \n",
       "..            ...           ...  \n",
       "163 -2.352201e-02  3.458251e-01  \n",
       "164  6.845013e-02  4.057561e-01  \n",
       "165  3.074989e-01 -4.470356e+00  \n",
       "166 -2.734441e-01 -2.398153e+00  \n",
       "167 -6.374836e-01  2.602096e+01  \n",
       "\n",
       "[168 rows x 7 columns]"
      ]
     },
     "execution_count": 37,
     "metadata": {},
     "output_type": "execute_result"
    }
   ],
   "source": [
    "attr_df"
   ]
  },
  {
   "cell_type": "markdown",
   "id": "31d55f91",
   "metadata": {},
   "source": [
    "# 특징 관찰\n",
    "\n",
    "### our goal -> 특정 시간대를 추출해내는 방법을 고안"
   ]
  },
  {
   "cell_type": "code",
   "execution_count": 38,
   "id": "81b09007",
   "metadata": {},
   "outputs": [
    {
     "data": {
      "text/plain": [
       "tensor([[18.0080]], device='cuda:0')"
      ]
     },
     "execution_count": 38,
     "metadata": {},
     "output_type": "execute_result"
    }
   ],
   "source": [
    "next(iter(validation))[1][0]"
   ]
  },
  {
   "cell_type": "markdown",
   "id": "f501eed2",
   "metadata": {},
   "source": [
    "* 전체 Attribution DataFrame이 예측값을 나눈것으로 보임\n",
    "    * 현재 하나의 Sample Batch의 첫번째 Sample에 대해서 Attribution을 구했는데\n",
    "    하나의 DataFrame이 나왔음"
   ]
  },
  {
   "cell_type": "code",
   "execution_count": 39,
   "id": "9a060f7e",
   "metadata": {},
   "outputs": [
    {
     "data": {
      "text/plain": [
       "20.353023358000325"
      ]
     },
     "execution_count": 39,
     "metadata": {},
     "output_type": "execute_result"
    }
   ],
   "source": [
    "attr_df.sum(axis=0).sum()"
   ]
  },
  {
   "cell_type": "markdown",
   "id": "b77f4e46",
   "metadata": {},
   "source": [
    "1. delta가 attribution 유의미하게 작은지 확인\n",
    "2. baseline vector 넣었을떄 0인지"
   ]
  },
  {
   "cell_type": "markdown",
   "id": "5bf19dd9",
   "metadata": {},
   "source": [
    "### 1의 답"
   ]
  },
  {
   "cell_type": "code",
   "execution_count": 40,
   "id": "f9512a03",
   "metadata": {},
   "outputs": [
    {
     "data": {
      "text/plain": [
       "tensor([-3.9857e-06], device='cuda:0', dtype=torch.float64)"
      ]
     },
     "execution_count": 40,
     "metadata": {},
     "output_type": "execute_result"
    }
   ],
   "source": [
    "delta"
   ]
  },
  {
   "cell_type": "code",
   "execution_count": 41,
   "id": "9fcc3025",
   "metadata": {},
   "outputs": [
    {
     "data": {
      "text/plain": [
       "tensor([[-1.1632]], device='cuda:0', grad_fn=<AddmmBackward0>)"
      ]
     },
     "execution_count": 41,
     "metadata": {},
     "output_type": "execute_result"
    }
   ],
   "source": [
    "test_baseline = torch.FloatTensor(np.zeros((1,sequence_length,7)))\n",
    "base_pred = model(test_baseline)\n",
    "base_pred"
   ]
  },
  {
   "cell_type": "markdown",
   "id": "7983b830",
   "metadata": {},
   "source": [
    "### 2의 답"
   ]
  },
  {
   "attachments": {
    "image-2.png": {
     "image/png": "[encoded data removed]"
    },
    "image.png": {
     "image/png": "[encoded data removed]"
    }
   },
   "cell_type": "markdown",
   "id": "a51d3917",
   "metadata": {},
   "source": [
    "![image-2.png](attachment:image-2.png)\n",
    "![image.png](attachment:image.png)\n",
    "\n",
    "<font color = blue><font size = 5> what is CuDNN Compatibility?</font></font>"
   ]
  },
  {
   "cell_type": "markdown",
   "id": "c72c8d96",
   "metadata": {},
   "source": [
    "https://pytorch.org/docs/stable/_modules/torch/nn/modules/rnn.html"
   ]
  },
  {
   "attachments": {
    "image.png": {
     "image/png": "[encoded data removed]"
    }
   },
   "cell_type": "markdown",
   "id": "11f2d453",
   "metadata": {},
   "source": [
    "![image.png](attachment:image.png)"
   ]
  },
  {
   "cell_type": "markdown",
   "id": "b74dfdf1",
   "metadata": {},
   "source": [
    "* **LSTM의 bias는 4개가 존재하고 따라서 4*hiddensize만큼의 bias element갯수가 존재한다.**"
   ]
  },
  {
   "cell_type": "code",
   "execution_count": 42,
   "id": "f692b098",
   "metadata": {},
   "outputs": [
    {
     "data": {
      "text/plain": [
       "Parameter containing:\n",
       "tensor([ 1.2425e-01,  1.7119e-01,  1.4981e-01, -3.0981e-02, -9.8803e-02,\n",
       "         3.3065e-04, -4.4783e-02,  3.0091e-01, -2.4299e-01, -6.0651e-02,\n",
       "         5.2567e-02, -1.8909e-01,  2.0321e-01,  1.5763e-02, -2.0488e-01,\n",
       "         1.5315e-01,  1.2949e-03,  6.1289e-02,  4.9839e-02, -2.1649e-01,\n",
       "        -7.1373e-02,  1.6620e-01, -1.5907e-01,  1.6151e-01,  7.3871e-02,\n",
       "         9.6761e-02,  1.5812e-01, -3.0812e-01, -1.7868e-01,  1.5573e-01,\n",
       "        -1.8798e-01, -1.1819e-01,  3.6475e-01,  2.0230e-01, -2.0360e-01,\n",
       "         6.5346e-02, -3.5945e-02, -3.9119e-01, -4.7118e-02,  3.0285e-01,\n",
       "        -1.6907e-01,  2.1432e-01, -2.1799e-02,  3.3050e-02,  8.0844e-02,\n",
       "         3.0982e-01, -3.4484e-02, -2.2945e-02, -3.8639e-02,  3.9797e-02,\n",
       "        -7.2267e-02,  8.0096e-02, -5.4109e-01,  2.6342e-01,  3.2703e-01,\n",
       "        -2.7348e-02], device='cuda:0', requires_grad=True)"
      ]
     },
     "execution_count": 42,
     "metadata": {},
     "output_type": "execute_result"
    }
   ],
   "source": [
    "bias1 = model.model.encoder.bias_hh_l0\n",
    "bias1"
   ]
  },
  {
   "cell_type": "code",
   "execution_count": 43,
   "id": "1a55adb8",
   "metadata": {},
   "outputs": [
    {
     "data": {
      "text/plain": [
       "tensor(0.6618, device='cuda:0', grad_fn=<SumBackward1>)"
      ]
     },
     "execution_count": 43,
     "metadata": {},
     "output_type": "execute_result"
    }
   ],
   "source": [
    "bias1.sum(axis=0)"
   ]
  },
  {
   "cell_type": "code",
   "execution_count": 44,
   "id": "5c4197df",
   "metadata": {},
   "outputs": [
    {
     "data": {
      "text/plain": [
       "torch.Size([56])"
      ]
     },
     "execution_count": 44,
     "metadata": {},
     "output_type": "execute_result"
    }
   ],
   "source": [
    "model.model.encoder.bias_hh_l0.size()"
   ]
  },
  {
   "cell_type": "code",
   "execution_count": 45,
   "id": "d7a22446",
   "metadata": {},
   "outputs": [
    {
     "data": {
      "text/plain": [
       "Parameter containing:\n",
       "tensor([ 2.0111e-01,  1.9032e-01,  1.5324e-01,  7.1564e-02, -1.7432e-02,\n",
       "        -1.7550e-02, -3.0698e-01, -1.2989e-01, -6.9852e-02, -1.5548e-01,\n",
       "        -2.2704e-03, -1.7943e-01,  6.2616e-02,  1.6042e-01, -4.6507e-02,\n",
       "         3.9614e-01,  3.3352e-01, -1.6980e-01, -1.2549e-01, -1.6762e-01,\n",
       "        -1.6914e-01,  8.7762e-02, -1.0038e-01, -1.4904e-01, -2.8438e-03,\n",
       "        -1.5984e-01, -4.7602e-03,  1.7968e-01, -3.4054e-01, -2.5712e-01,\n",
       "         9.7936e-02,  3.9124e-02,  3.0775e-01,  1.5455e-01,  1.9105e-01,\n",
       "        -2.9120e-01,  1.7006e-01,  9.6616e-02, -1.9918e-01,  4.6217e-01,\n",
       "         1.1146e-01,  1.2427e-01,  3.3559e-01, -2.4561e-01, -3.8011e-01,\n",
       "         2.3000e-01, -1.0511e-04, -2.8564e-01,  2.8435e-01, -1.2172e-01,\n",
       "         1.8326e-01,  4.8763e-01, -2.7092e-01, -8.4024e-02,  2.7573e-01,\n",
       "         2.6092e-01], device='cuda:0', requires_grad=True)"
      ]
     },
     "execution_count": 45,
     "metadata": {},
     "output_type": "execute_result"
    }
   ],
   "source": [
    "bias2 = model.model.encoder.bias_ih_l0\n",
    "bias2"
   ]
  },
  {
   "cell_type": "code",
   "execution_count": 46,
   "id": "86ed59ad",
   "metadata": {
    "scrolled": false
   },
   "outputs": [
    {
     "data": {
      "text/plain": [
       "tensor(1.1983, device='cuda:0', grad_fn=<SumBackward1>)"
      ]
     },
     "execution_count": 46,
     "metadata": {},
     "output_type": "execute_result"
    }
   ],
   "source": [
    "bias2.sum(axis = 0)"
   ]
  },
  {
   "cell_type": "markdown",
   "id": "fb47e4c1",
   "metadata": {},
   "source": [
    "* 하나의 샘플은 모두 (168,7)의 동일한 크기를 갖는다."
   ]
  },
  {
   "cell_type": "code",
   "execution_count": 47,
   "id": "e454ae01",
   "metadata": {},
   "outputs": [],
   "source": [
    "cnt = 0\n",
    "ig = IntegratedGradients(model)\n",
    "ig_attr_score = np.zeros((sequence_length,feature_size))\n",
    "for val_batch in validation:\n",
    "    temp_n = val_batch[0].size(0)\n",
    "    for val in val_batch[0]: # 하나의 배치에 대해서 for문\n",
    "        val = val.unsqueeze(0)\n",
    "        temp = ig.attribute(val).abs()\n",
    "        # 각 attribution score의 절대값을 합한다.\n",
    "        # 이로써 각 시간별로 영향도를 구함\n",
    "        # 이 부분이 abs를 씌우는게 절대적인 영향을 반영하는데에 맞는 것 같다.\n",
    "        # 이전까진 씌우지 않았음\n",
    "        temp = temp.squeeze(0)\n",
    "        temp = temp.to(\"cpu\").detach().numpy()   \n",
    "        ig_attr_score = ig_attr_score+temp\n",
    "    cnt = cnt + temp_n\n",
    "ig_attr_score = ig_attr_score/cnt"
   ]
  },
  {
   "cell_type": "code",
   "execution_count": 48,
   "id": "52415fc1",
   "metadata": {},
   "outputs": [
    {
     "data": {
      "text/plain": [
       "Index(['HUFL', 'HULL', 'MUFL', 'MULL', 'LUFL', 'LULL', 'OT'], dtype='object')"
      ]
     },
     "execution_count": 48,
     "metadata": {},
     "output_type": "execute_result"
    }
   ],
   "source": [
    "data.columns[1:]"
   ]
  },
  {
   "cell_type": "code",
   "execution_count": 49,
   "id": "115f7690",
   "metadata": {
    "scrolled": true
   },
   "outputs": [
    {
     "data": {
      "text/plain": [
       "array([2.59856345e-05, 1.65490564e-05, 1.72952217e-05, 1.87023958e-05,\n",
       "       1.94142445e-05, 2.01590827e-05, 2.08769183e-05, 2.15473323e-05,\n",
       "       2.22396215e-05, 2.30522405e-05, 2.38752708e-05, 2.47624382e-05,\n",
       "       2.56773020e-05, 2.67186627e-05, 2.78485390e-05, 2.89876680e-05,\n",
       "       3.01967823e-05, 3.13748079e-05, 3.26185486e-05, 3.39375554e-05,\n",
       "       3.53695975e-05, 3.68214059e-05, 3.83135698e-05, 3.98833560e-05,\n",
       "       4.13093601e-05, 4.24050002e-05, 4.32409367e-05, 4.39491717e-05,\n",
       "       4.45828156e-05, 4.52628410e-05, 4.60041313e-05, 4.67455497e-05,\n",
       "       4.76274796e-05, 4.87324065e-05, 5.01010051e-05, 5.16983260e-05,\n",
       "       5.36617373e-05, 5.59341331e-05, 5.84096126e-05, 6.09557144e-05,\n",
       "       6.35484185e-05, 6.62135253e-05, 6.89774132e-05, 7.23263077e-05,\n",
       "       7.56442621e-05, 7.88339637e-05, 8.18668055e-05, 8.43979751e-05,\n",
       "       8.62795323e-05, 8.75582581e-05, 8.85992993e-05, 8.95315477e-05,\n",
       "       9.03006480e-05, 9.11518917e-05, 9.22296873e-05, 9.39853423e-05,\n",
       "       9.64180632e-05, 9.91442215e-05, 1.02474232e-04, 1.06548826e-04,\n",
       "       1.10852211e-04, 1.15844668e-04, 1.20742999e-04, 1.26660511e-04,\n",
       "       1.31767273e-04, 1.37763556e-04, 1.44503931e-04, 1.54033565e-04,\n",
       "       1.62499831e-04, 1.70757888e-04, 1.82626258e-04, 1.94308895e-04,\n",
       "       2.02581898e-04, 2.06586246e-04, 2.08766211e-04, 2.10414606e-04,\n",
       "       2.12426381e-04, 2.14717953e-04, 2.17326327e-04, 2.21277587e-04,\n",
       "       2.26972676e-04, 2.34256459e-04, 2.43129239e-04, 2.53733309e-04,\n",
       "       2.65544626e-04, 2.78590480e-04, 2.91692653e-04, 3.04370772e-04,\n",
       "       3.16609744e-04, 3.30400255e-04, 3.45957599e-04, 3.64126171e-04,\n",
       "       3.84839866e-04, 4.05934631e-04, 4.27186477e-04, 4.47129231e-04,\n",
       "       4.64222132e-04, 4.79537373e-04, 4.93326883e-04, 5.05806477e-04,\n",
       "       5.19269370e-04, 5.32664806e-04, 5.46732263e-04, 5.62228880e-04,\n",
       "       5.80214665e-04, 6.01466205e-04, 6.24596087e-04, 6.52783136e-04,\n",
       "       6.82884965e-04, 7.15038169e-04, 7.49303135e-04, 7.84930734e-04,\n",
       "       8.20897372e-04, 8.57809197e-04, 8.98586405e-04, 9.45963911e-04,\n",
       "       9.97567500e-04, 1.04844096e-03, 1.10197301e-03, 1.15631878e-03,\n",
       "       1.20632904e-03, 1.25674788e-03, 1.30744673e-03, 1.36405856e-03,\n",
       "       1.42603647e-03, 1.48635513e-03, 1.55471056e-03, 1.63649661e-03,\n",
       "       1.73249369e-03, 1.83666101e-03, 1.95207302e-03, 2.07931024e-03,\n",
       "       2.21634490e-03, 2.36629422e-03, 2.53007840e-03, 2.70713413e-03,\n",
       "       2.90556316e-03, 3.11000508e-03, 3.34080128e-03, 3.60862728e-03,\n",
       "       3.91165621e-03, 4.25384470e-03, 4.62182810e-03, 5.01573744e-03,\n",
       "       5.42380982e-03, 5.87335700e-03, 6.34858364e-03, 6.86318231e-03,\n",
       "       7.44110567e-03, 8.11486315e-03, 8.92568083e-03, 9.88491919e-03,\n",
       "       1.10090689e-02, 1.23291797e-02, 1.38617098e-02, 1.55990136e-02,\n",
       "       1.74595859e-02, 1.91558529e-02, 2.04695729e-02, 2.11774594e-02,\n",
       "       2.17198695e-02, 2.33071439e-02, 3.62615077e-02, 9.66139553e-02,\n",
       "       3.08161408e-01, 9.59244573e-01, 1.95463407e+00, 8.19932906e+00])"
      ]
     },
     "execution_count": 49,
     "metadata": {},
     "output_type": "execute_result"
    }
   ],
   "source": [
    "ig_attr_score[:,0]"
   ]
  },
  {
   "cell_type": "code",
   "execution_count": 50,
   "id": "da8d1643",
   "metadata": {},
   "outputs": [
    {
     "data": {
      "text/plain": [
       "<module 'numpy' from '/home/sjlee/sj_virtual/lib/python3.8/site-packages/numpy/__init__.py'>"
      ]
     },
     "execution_count": 50,
     "metadata": {},
     "output_type": "execute_result"
    }
   ],
   "source": [
    "np"
   ]
  },
  {
   "cell_type": "code",
   "execution_count": 51,
   "id": "d44b4f1d",
   "metadata": {
    "scrolled": true
   },
   "outputs": [
    {
     "data": {
      "text/plain": [
       "[         HUFL\n",
       " 0    0.000026\n",
       " 1    0.000017\n",
       " 2    0.000017\n",
       " 3    0.000019\n",
       " 4    0.000019\n",
       " ..        ...\n",
       " 163  0.096614\n",
       " 164  0.308161\n",
       " 165  0.959245\n",
       " 166  1.954634\n",
       " 167  8.199329\n",
       " \n",
       " [168 rows x 1 columns],\n",
       "          HULL\n",
       " 0    0.000026\n",
       " 1    0.000017\n",
       " 2    0.000017\n",
       " 3    0.000019\n",
       " 4    0.000019\n",
       " ..        ...\n",
       " 163  0.096614\n",
       " 164  0.308161\n",
       " 165  0.959245\n",
       " 166  1.954634\n",
       " 167  8.199329\n",
       " \n",
       " [168 rows x 1 columns],\n",
       "          MUFL\n",
       " 0    0.000026\n",
       " 1    0.000017\n",
       " 2    0.000017\n",
       " 3    0.000019\n",
       " 4    0.000019\n",
       " ..        ...\n",
       " 163  0.096614\n",
       " 164  0.308161\n",
       " 165  0.959245\n",
       " 166  1.954634\n",
       " 167  8.199329\n",
       " \n",
       " [168 rows x 1 columns],\n",
       "          MULL\n",
       " 0    0.000026\n",
       " 1    0.000017\n",
       " 2    0.000017\n",
       " 3    0.000019\n",
       " 4    0.000019\n",
       " ..        ...\n",
       " 163  0.096614\n",
       " 164  0.308161\n",
       " 165  0.959245\n",
       " 166  1.954634\n",
       " 167  8.199329\n",
       " \n",
       " [168 rows x 1 columns],\n",
       "          LUFL\n",
       " 0    0.000026\n",
       " 1    0.000017\n",
       " 2    0.000017\n",
       " 3    0.000019\n",
       " 4    0.000019\n",
       " ..        ...\n",
       " 163  0.096614\n",
       " 164  0.308161\n",
       " 165  0.959245\n",
       " 166  1.954634\n",
       " 167  8.199329\n",
       " \n",
       " [168 rows x 1 columns],\n",
       "          LULL\n",
       " 0    0.000026\n",
       " 1    0.000017\n",
       " 2    0.000017\n",
       " 3    0.000019\n",
       " 4    0.000019\n",
       " ..        ...\n",
       " 163  0.096614\n",
       " 164  0.308161\n",
       " 165  0.959245\n",
       " 166  1.954634\n",
       " 167  8.199329\n",
       " \n",
       " [168 rows x 1 columns],\n",
       "            OT\n",
       " 0    0.000026\n",
       " 1    0.000017\n",
       " 2    0.000017\n",
       " 3    0.000019\n",
       " 4    0.000019\n",
       " ..        ...\n",
       " 163  0.096614\n",
       " 164  0.308161\n",
       " 165  0.959245\n",
       " 166  1.954634\n",
       " 167  8.199329\n",
       " \n",
       " [168 rows x 1 columns]]"
      ]
     },
     "execution_count": 51,
     "metadata": {},
     "output_type": "execute_result"
    }
   ],
   "source": [
    "sub_attr_df = []\n",
    "for cnt,column in enumerate(list(data.columns[1:])):\n",
    "    attr_df = pd.DataFrame(ig_attr_score[:,0],columns = [column])\n",
    "    sub_attr_df.append(attr_df)\n",
    "sub_attr_df"
   ]
  },
  {
   "cell_type": "code",
   "execution_count": 52,
   "id": "3b349261",
   "metadata": {
    "scrolled": true
   },
   "outputs": [
    {
     "data": {
      "text/plain": [
       "[         HUFL\n",
       " 0    0.000026\n",
       " 1    0.000017\n",
       " 2    0.000017\n",
       " 3    0.000019\n",
       " 4    0.000019\n",
       " ..        ...\n",
       " 135  0.002707\n",
       " 136  0.002906\n",
       " 137  0.003110\n",
       " 138  0.003341\n",
       " 139  0.003609\n",
       " \n",
       " [140 rows x 1 columns],\n",
       "          HULL\n",
       " 0    0.000026\n",
       " 1    0.000017\n",
       " 2    0.000017\n",
       " 3    0.000019\n",
       " 4    0.000019\n",
       " ..        ...\n",
       " 135  0.002707\n",
       " 136  0.002906\n",
       " 137  0.003110\n",
       " 138  0.003341\n",
       " 139  0.003609\n",
       " \n",
       " [140 rows x 1 columns],\n",
       "          MUFL\n",
       " 0    0.000026\n",
       " 1    0.000017\n",
       " 2    0.000017\n",
       " 3    0.000019\n",
       " 4    0.000019\n",
       " ..        ...\n",
       " 135  0.002707\n",
       " 136  0.002906\n",
       " 137  0.003110\n",
       " 138  0.003341\n",
       " 139  0.003609\n",
       " \n",
       " [140 rows x 1 columns],\n",
       "          MULL\n",
       " 0    0.000026\n",
       " 1    0.000017\n",
       " 2    0.000017\n",
       " 3    0.000019\n",
       " 4    0.000019\n",
       " ..        ...\n",
       " 135  0.002707\n",
       " 136  0.002906\n",
       " 137  0.003110\n",
       " 138  0.003341\n",
       " 139  0.003609\n",
       " \n",
       " [140 rows x 1 columns],\n",
       "          LUFL\n",
       " 0    0.000026\n",
       " 1    0.000017\n",
       " 2    0.000017\n",
       " 3    0.000019\n",
       " 4    0.000019\n",
       " ..        ...\n",
       " 135  0.002707\n",
       " 136  0.002906\n",
       " 137  0.003110\n",
       " 138  0.003341\n",
       " 139  0.003609\n",
       " \n",
       " [140 rows x 1 columns],\n",
       "          LULL\n",
       " 0    0.000026\n",
       " 1    0.000017\n",
       " 2    0.000017\n",
       " 3    0.000019\n",
       " 4    0.000019\n",
       " ..        ...\n",
       " 135  0.002707\n",
       " 136  0.002906\n",
       " 137  0.003110\n",
       " 138  0.003341\n",
       " 139  0.003609\n",
       " \n",
       " [140 rows x 1 columns],\n",
       "            OT\n",
       " 0    0.000026\n",
       " 1    0.000017\n",
       " 2    0.000017\n",
       " 3    0.000019\n",
       " 4    0.000019\n",
       " ..        ...\n",
       " 135  0.002707\n",
       " 136  0.002906\n",
       " 137  0.003110\n",
       " 138  0.003341\n",
       " 139  0.003609\n",
       " \n",
       " [140 rows x 1 columns]]"
      ]
     },
     "execution_count": 52,
     "metadata": {},
     "output_type": "execute_result"
    }
   ],
   "source": [
    "candidate_sub_attr_df = []\n",
    "for attr_df in sub_attr_df:\n",
    "    IQR = 1.5*(attr_df.quantile(0.75)-attr_df.quantile(0.25))\n",
    "    outlier_max = attr_df.quantile(0.75)+IQR\n",
    "    outlier_min = attr_df.quantile(0.25)-IQR\n",
    "    candidate_attr = attr_df[(attr_df>=outlier_min) & (attr_df<=outlier_max)]\n",
    "    candidate_attr = candidate_attr.dropna()\n",
    "    candidate_sub_attr_df.append(candidate_attr)\n",
    "candidate_sub_attr_df"
   ]
  },
  {
   "cell_type": "code",
   "execution_count": 53,
   "id": "87ef607a",
   "metadata": {},
   "outputs": [],
   "source": [
    "import matplotlib.pyplot as plt"
   ]
  },
  {
   "cell_type": "code",
   "execution_count": 54,
   "id": "bdcf890c",
   "metadata": {},
   "outputs": [
    {
     "data": {
      "text/plain": [
       "[         attr\n",
       " 0    0.002627\n",
       " 1    0.000000\n",
       " 2    0.000208\n",
       " 3    0.000599\n",
       " 4    0.000798\n",
       " ..        ...\n",
       " 135  0.749033\n",
       " 136  0.804274\n",
       " 137  0.861188\n",
       " 138  0.925440\n",
       " 139  1.000000\n",
       " \n",
       " [140 rows x 1 columns],\n",
       "          attr\n",
       " 0    0.002627\n",
       " 1    0.000000\n",
       " 2    0.000208\n",
       " 3    0.000599\n",
       " 4    0.000798\n",
       " ..        ...\n",
       " 135  0.749033\n",
       " 136  0.804274\n",
       " 137  0.861188\n",
       " 138  0.925440\n",
       " 139  1.000000\n",
       " \n",
       " [140 rows x 1 columns],\n",
       "          attr\n",
       " 0    0.002627\n",
       " 1    0.000000\n",
       " 2    0.000208\n",
       " 3    0.000599\n",
       " 4    0.000798\n",
       " ..        ...\n",
       " 135  0.749033\n",
       " 136  0.804274\n",
       " 137  0.861188\n",
       " 138  0.925440\n",
       " 139  1.000000\n",
       " \n",
       " [140 rows x 1 columns],\n",
       "          attr\n",
       " 0    0.002627\n",
       " 1    0.000000\n",
       " 2    0.000208\n",
       " 3    0.000599\n",
       " 4    0.000798\n",
       " ..        ...\n",
       " 135  0.749033\n",
       " 136  0.804274\n",
       " 137  0.861188\n",
       " 138  0.925440\n",
       " 139  1.000000\n",
       " \n",
       " [140 rows x 1 columns],\n",
       "          attr\n",
       " 0    0.002627\n",
       " 1    0.000000\n",
       " 2    0.000208\n",
       " 3    0.000599\n",
       " 4    0.000798\n",
       " ..        ...\n",
       " 135  0.749033\n",
       " 136  0.804274\n",
       " 137  0.861188\n",
       " 138  0.925440\n",
       " 139  1.000000\n",
       " \n",
       " [140 rows x 1 columns],\n",
       "          attr\n",
       " 0    0.002627\n",
       " 1    0.000000\n",
       " 2    0.000208\n",
       " 3    0.000599\n",
       " 4    0.000798\n",
       " ..        ...\n",
       " 135  0.749033\n",
       " 136  0.804274\n",
       " 137  0.861188\n",
       " 138  0.925440\n",
       " 139  1.000000\n",
       " \n",
       " [140 rows x 1 columns],\n",
       "          attr\n",
       " 0    0.002627\n",
       " 1    0.000000\n",
       " 2    0.000208\n",
       " 3    0.000599\n",
       " 4    0.000798\n",
       " ..        ...\n",
       " 135  0.749033\n",
       " 136  0.804274\n",
       " 137  0.861188\n",
       " 138  0.925440\n",
       " 139  1.000000\n",
       " \n",
       " [140 rows x 1 columns]]"
      ]
     },
     "execution_count": 54,
     "metadata": {},
     "output_type": "execute_result"
    },
    {
     "data": {
      "image/png": "[encoded data removed]",
      "text/plain": [
       "<Figure size 1000x2000 with 7 Axes>"
      ]
     },
     "metadata": {},
     "output_type": "display_data"
    }
   ],
   "source": [
    "from sklearn.preprocessing import MinMaxScaler,StandardScaler\n",
    "filtering_attr_list = [] # scaling한 attribution dataframe을 저장\n",
    "fig,ax = plt.subplots(7,1,figsize = (10,20))\n",
    "for cnt,candidate_attr in enumerate(candidate_sub_attr_df):\n",
    "    scaler = MinMaxScaler()\n",
    "    scaler.fit(candidate_attr.values)\n",
    "    m_attr_df = scaler.transform(candidate_attr.values)\n",
    "    m_attr_df = pd.DataFrame({\"attr\":m_attr_df.reshape(-1)})\n",
    "    filtering_attr_list.append(m_attr_df)\n",
    "    ax[cnt].plot(m_attr_df)\n",
    "    ax[cnt].set_title(candidate_attr.columns.item())\n",
    "filtering_attr_list"
   ]
  },
  {
   "cell_type": "code",
   "execution_count": 55,
   "id": "36a9af2a",
   "metadata": {},
   "outputs": [
    {
     "data": {
      "text/plain": [
       "100"
      ]
     },
     "execution_count": 55,
     "metadata": {},
     "output_type": "execute_result"
    }
   ],
   "source": [
    "total_index_list = [] # train할 index를 저장해두는 리스트이다.\n",
    "for hyper_para in np.arange(0.00,1.00,0.01):\n",
    "    index_list = []\n",
    "    # filtering index를 만든다.\n",
    "    for m_attr_df in filtering_attr_list:\n",
    "        append_idx = list(m_attr_df[(m_attr_df['attr']>=hyper_para)].index)\n",
    "        index_list.append(append_idx)\n",
    "    total_index_list.append(index_list)\n",
    "len(total_index_list) "
   ]
  },
  {
   "cell_type": "code",
   "execution_count": 56,
   "id": "f025d3be",
   "metadata": {},
   "outputs": [],
   "source": [
    "from pytorch_forecasting.metrics import SMAPE,MAE,RMSE"
   ]
  },
  {
   "cell_type": "code",
   "execution_count": null,
   "id": "cfd287d6",
   "metadata": {
    "scrolled": true
   },
   "outputs": [],
   "source": [
    "### 원래 난수가 선언된 위치\n",
    "m = len(validation)\n",
    "n = len(training)\n",
    "cnt = 0\n",
    "num_epochs = 100\n",
    "mse_out_list = []\n",
    "mae_out_list = []\n",
    "smape_out_list = []\n",
    "rmse_out_list = []\n",
    "for sub_index_list in total_index_list: #0.01~1.00 100개의 index에 대해서 수행\n",
    "    random.seed(seed)\n",
    "    np.random.seed(seed)\n",
    "    torch.manual_seed(seed) # 난수 선언(원래는 cnt선언 위에 있었다)\n",
    "    train_idx = sub_index_list\n",
    "    minimal_loss=np.inf\n",
    "    model = Filter().to(device) # 모델 초기화\n",
    "    optimizer = torch.optim.Adam(model.parameters(), lr=1e-4) # optimizer 초기화\n",
    "    result = 0\n",
    "    for epoch in range(num_epochs):  # loop over the dataset multiple times\n",
    "        running_loss = 0.0\n",
    "        for inputs, labels in training:\n",
    "            # forward pass\n",
    "            inputs = inputs\n",
    "            \n",
    "            outputs = model(inputs,train_idx)\n",
    "            outputs = outputs.view(-1,1)\n",
    "            labels = labels.view(-1,1)            \n",
    "            # defining loss\n",
    "            loss = MSE(outputs, labels)\n",
    "            # zero the parameter gradients\n",
    "            optimizer.zero_grad()\n",
    "            # computing gradients\n",
    "            loss.backward()\n",
    "            # accumulating running loss\n",
    "            running_loss += loss.item()\n",
    "            # updated weights based on computed gradients\n",
    "            optimizer.step()\n",
    "        if epoch == 99:    \n",
    "            print(f'{cnt}번째 모델 Training 완료 마지막 Epoch loss:{(running_loss/n)*100}')\n",
    "        \n",
    "        if (running_loss/n)*100<minimal_loss:\n",
    "            best_model = copy.deepcopy(model)\n",
    "            minimal_loss = (running_loss/n)*100\n",
    "            print(\"changed\")\n",
    "\n",
    "    model = best_model\n",
    "    cnt+=1\n",
    "    # 모델 Fully-Training 완료\n",
    "    \n",
    "    pred = torch.FloatTensor().to(device)\n",
    "    val_target = torch.FloatTensor().to(device)\n",
    "    for val_x,val_y in validation:\n",
    "        tmp_pred = model(val_x)\n",
    "        pred = torch.concat([pred,tmp_pred], dim=0)\n",
    "        val_target = torch.concat([val_target,val_y],dim = 0)\n",
    "    pred = pred.view(-1,1)\n",
    "    val_target = val_target.view(-1,1)\n",
    "    result = MSE(pred,val_target).item()\n",
    "    mse_out_list.append(result)\n",
    "    mae_out_list.append(MAE()(pred,val_target).item())\n",
    "    rmse_out_list.append(RMSE()(pred,val_target).item())\n",
    "    smape_out_list.append(SMAPE()(pred,val_target).item()*100)"
   ]
  },
  {
   "cell_type": "code",
   "execution_count": 63,
   "id": "efa0c5cc",
   "metadata": {},
   "outputs": [
    {
     "data": {
      "text/plain": [
       "100"
      ]
     },
     "execution_count": 63,
     "metadata": {},
     "output_type": "execute_result"
    }
   ],
   "source": [
    "len(mse_out_list)"
   ]
  },
  {
   "cell_type": "code",
   "execution_count": 64,
   "id": "e9190690",
   "metadata": {},
   "outputs": [
    {
     "data": {
      "text/plain": [
       "[<matplotlib.lines.Line2D at 0x7f5e478ee820>]"
      ]
     },
     "execution_count": 64,
     "metadata": {},
     "output_type": "execute_result"
    },
    {
     "data": {
      "image/png": "[encoded data removed]",
      "text/plain": [
       "<Figure size 640x480 with 1 Axes>"
      ]
     },
     "metadata": {},
     "output_type": "display_data"
    }
   ],
   "source": [
    "plt.plot(mse_out_list)"
   ]
  },
  {
   "cell_type": "code",
   "execution_count": 65,
   "id": "e962aa43",
   "metadata": {},
   "outputs": [
    {
     "data": {
      "text/plain": [
       "[<matplotlib.lines.Line2D at 0x7f5e4733f7c0>]"
      ]
     },
     "execution_count": 65,
     "metadata": {},
     "output_type": "execute_result"
    },
    {
     "data": {
      "image/png": "[encoded data removed]",
      "text/plain": [
       "<Figure size 640x480 with 1 Axes>"
      ]
     },
     "metadata": {},
     "output_type": "display_data"
    }
   ],
   "source": [
    "plt.plot(mae_out_list)"
   ]
  },
  {
   "cell_type": "code",
   "execution_count": 66,
   "id": "ebdd0469",
   "metadata": {},
   "outputs": [
    {
     "data": {
      "text/plain": [
       "[<matplotlib.lines.Line2D at 0x7f5e470d03d0>]"
      ]
     },
     "execution_count": 66,
     "metadata": {},
     "output_type": "execute_result"
    },
    {
     "data": {
      "image/png": "[encoded data removed]",
      "text/plain": [
       "<Figure size 640x480 with 1 Axes>"
      ]
     },
     "metadata": {},
     "output_type": "display_data"
    }
   ],
   "source": [
    "plt.plot(rmse_out_list)"
   ]
  },
  {
   "cell_type": "code",
   "execution_count": 67,
   "id": "10c25ede",
   "metadata": {},
   "outputs": [
    {
     "data": {
      "text/plain": [
       "[<matplotlib.lines.Line2D at 0x7f5e470081f0>]"
      ]
     },
     "execution_count": 67,
     "metadata": {},
     "output_type": "execute_result"
    },
    {
     "data": {
      "image/png": "[encoded data removed]",
      "text/plain": [
       "<Figure size 640x480 with 1 Axes>"
      ]
     },
     "metadata": {},
     "output_type": "display_data"
    }
   ],
   "source": [
    "plt.plot(smape_out_list)"
   ]
  },
  {
   "cell_type": "code",
   "execution_count": null,
   "id": "d507c8f5",
   "metadata": {},
   "outputs": [],
   "source": []
  }
 ],
 "metadata": {
  "kernelspec": {
   "display_name": "sj_virtual",
   "language": "python",
   "name": "myvenv"
  },
  "language_info": {
   "codemirror_mode": {
    "name": "ipython",
    "version": 3
   },
   "file_extension": ".py",
   "mimetype": "text/x-python",
   "name": "python",
   "nbconvert_exporter": "python",
   "pygments_lexer": "ipython3",
   "version": "3.8.10"
  },
  "varInspector": {
   "cols": {
    "lenName": 16,
    "lenType": 16,
    "lenVar": 40
   },
   "kernels_config": {
    "python": {
     "delete_cmd_postfix": "",
     "delete_cmd_prefix": "del ",
     "library": "var_list.py",
     "varRefreshCmd": "print(var_dic_list())"
    },
    "r": {
     "delete_cmd_postfix": ") ",
     "delete_cmd_prefix": "rm(",
     "library": "var_list.r",
     "varRefreshCmd": "cat(var_dic_list()) "
    }
   },
   "types_to_exclude": [
    "module",
    "function",
    "builtin_function_or_method",
    "instance",
    "_Feature"
   ],
   "window_display": false
  }
 },
 "nbformat": 4,
 "nbformat_minor": 5
}
