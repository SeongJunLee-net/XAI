{
 "cells": [
  {
   "cell_type": "markdown",
   "id": "f8cf1f79",
   "metadata": {},
   "source": [
    "# ETTm1에 대해서 수행"
   ]
  },
  {
   "cell_type": "code",
   "execution_count": 1,
   "id": "441d7404",
   "metadata": {},
   "outputs": [
    {
     "name": "stderr",
     "output_type": "stream",
     "text": [
      "/home/sjlee/sj_virtual/lib/python3.8/site-packages/tqdm/auto.py:22: TqdmWarning: IProgress not found. Please update jupyter and ipywidgets. See https://ipywidgets.readthedocs.io/en/stable/user_install.html\n",
      "  from .autonotebook import tqdm as notebook_tqdm\n"
     ]
    }
   ],
   "source": [
    "import numpy as np\n",
    "import pandas as pd\n",
    "import matplotlib.pyplot as plt\n",
    "import seaborn as sns\n",
    "import torch\n",
    "import torch.nn as nn\n",
    "import random\n",
    "from torch.utils.data import TensorDataset\n",
    "from torch.utils.data import DataLoader\n",
    "from pytorch_forecasting.metrics import SMAPE,MAE,RMSE\n",
    "from captum.attr import IntegratedGradients,NoiseTunnel"
   ]
  },
  {
   "cell_type": "markdown",
   "id": "e3bd78bf",
   "metadata": {},
   "source": [
    "## 1. 모델 구성하기\n",
    "* 이전과 다르게 sequence_length를 `4(15minutes*4)*24(24hours)*30(30days) = 2880` 즉 30일을 바라봄"
   ]
  },
  {
   "cell_type": "code",
   "execution_count": 2,
   "id": "fdd960bd",
   "metadata": {
    "scrolled": false
   },
   "outputs": [
    {
     "data": {
      "text/html": [
       "<div>\n",
       "<style scoped>\n",
       "    .dataframe tbody tr th:only-of-type {\n",
       "        vertical-align: middle;\n",
       "    }\n",
       "\n",
       "    .dataframe tbody tr th {\n",
       "        vertical-align: top;\n",
       "    }\n",
       "\n",
       "    .dataframe thead th {\n",
       "        text-align: right;\n",
       "    }\n",
       "</style>\n",
       "<table border=\"1\" class=\"dataframe\">\n",
       "  <thead>\n",
       "    <tr style=\"text-align: right;\">\n",
       "      <th></th>\n",
       "      <th>date</th>\n",
       "      <th>HUFL</th>\n",
       "      <th>HULL</th>\n",
       "      <th>MUFL</th>\n",
       "      <th>MULL</th>\n",
       "      <th>LUFL</th>\n",
       "      <th>LULL</th>\n",
       "      <th>OT</th>\n",
       "    </tr>\n",
       "  </thead>\n",
       "  <tbody>\n",
       "    <tr>\n",
       "      <th>0</th>\n",
       "      <td>2016-07-01 00:00:00</td>\n",
       "      <td>41.130001</td>\n",
       "      <td>12.481</td>\n",
       "      <td>36.535999</td>\n",
       "      <td>9.355</td>\n",
       "      <td>4.424</td>\n",
       "      <td>1.311</td>\n",
       "      <td>38.661999</td>\n",
       "    </tr>\n",
       "    <tr>\n",
       "      <th>1</th>\n",
       "      <td>2016-07-01 01:00:00</td>\n",
       "      <td>37.528000</td>\n",
       "      <td>10.136</td>\n",
       "      <td>33.936001</td>\n",
       "      <td>7.532</td>\n",
       "      <td>4.435</td>\n",
       "      <td>1.215</td>\n",
       "      <td>37.124001</td>\n",
       "    </tr>\n",
       "    <tr>\n",
       "      <th>2</th>\n",
       "      <td>2016-07-01 02:00:00</td>\n",
       "      <td>37.946999</td>\n",
       "      <td>11.309</td>\n",
       "      <td>35.330002</td>\n",
       "      <td>9.007</td>\n",
       "      <td>2.100</td>\n",
       "      <td>0.000</td>\n",
       "      <td>36.465000</td>\n",
       "    </tr>\n",
       "    <tr>\n",
       "      <th>3</th>\n",
       "      <td>2016-07-01 03:00:00</td>\n",
       "      <td>38.952000</td>\n",
       "      <td>11.895</td>\n",
       "      <td>35.543999</td>\n",
       "      <td>9.436</td>\n",
       "      <td>3.380</td>\n",
       "      <td>1.215</td>\n",
       "      <td>33.608501</td>\n",
       "    </tr>\n",
       "    <tr>\n",
       "      <th>4</th>\n",
       "      <td>2016-07-01 04:00:00</td>\n",
       "      <td>38.113998</td>\n",
       "      <td>11.476</td>\n",
       "      <td>35.410000</td>\n",
       "      <td>9.623</td>\n",
       "      <td>2.036</td>\n",
       "      <td>0.000</td>\n",
       "      <td>31.850500</td>\n",
       "    </tr>\n",
       "    <tr>\n",
       "      <th>...</th>\n",
       "      <td>...</td>\n",
       "      <td>...</td>\n",
       "      <td>...</td>\n",
       "      <td>...</td>\n",
       "      <td>...</td>\n",
       "      <td>...</td>\n",
       "      <td>...</td>\n",
       "      <td>...</td>\n",
       "    </tr>\n",
       "    <tr>\n",
       "      <th>17415</th>\n",
       "      <td>2018-06-26 15:00:00</td>\n",
       "      <td>39.202999</td>\n",
       "      <td>11.392</td>\n",
       "      <td>49.644001</td>\n",
       "      <td>11.929</td>\n",
       "      <td>-10.331</td>\n",
       "      <td>-1.258</td>\n",
       "      <td>47.084999</td>\n",
       "    </tr>\n",
       "    <tr>\n",
       "      <th>17416</th>\n",
       "      <td>2018-06-26 16:00:00</td>\n",
       "      <td>38.113998</td>\n",
       "      <td>10.974</td>\n",
       "      <td>48.759998</td>\n",
       "      <td>11.366</td>\n",
       "      <td>-10.331</td>\n",
       "      <td>-1.290</td>\n",
       "      <td>48.183498</td>\n",
       "    </tr>\n",
       "    <tr>\n",
       "      <th>17417</th>\n",
       "      <td>2018-06-26 17:00:00</td>\n",
       "      <td>39.622002</td>\n",
       "      <td>10.974</td>\n",
       "      <td>50.609001</td>\n",
       "      <td>11.661</td>\n",
       "      <td>-11.557</td>\n",
       "      <td>-1.418</td>\n",
       "      <td>48.183498</td>\n",
       "    </tr>\n",
       "    <tr>\n",
       "      <th>17418</th>\n",
       "      <td>2018-06-26 18:00:00</td>\n",
       "      <td>43.643002</td>\n",
       "      <td>13.403</td>\n",
       "      <td>54.737000</td>\n",
       "      <td>13.778</td>\n",
       "      <td>-10.299</td>\n",
       "      <td>-1.418</td>\n",
       "      <td>46.865501</td>\n",
       "    </tr>\n",
       "    <tr>\n",
       "      <th>17419</th>\n",
       "      <td>2018-06-26 19:00:00</td>\n",
       "      <td>38.868000</td>\n",
       "      <td>10.052</td>\n",
       "      <td>49.859001</td>\n",
       "      <td>10.669</td>\n",
       "      <td>-11.525</td>\n",
       "      <td>-1.418</td>\n",
       "      <td>45.986500</td>\n",
       "    </tr>\n",
       "  </tbody>\n",
       "</table>\n",
       "<p>17420 rows × 8 columns</p>\n",
       "</div>"
      ],
      "text/plain": [
       "                      date       HUFL    HULL       MUFL    MULL    LUFL  \\\n",
       "0      2016-07-01 00:00:00  41.130001  12.481  36.535999   9.355   4.424   \n",
       "1      2016-07-01 01:00:00  37.528000  10.136  33.936001   7.532   4.435   \n",
       "2      2016-07-01 02:00:00  37.946999  11.309  35.330002   9.007   2.100   \n",
       "3      2016-07-01 03:00:00  38.952000  11.895  35.543999   9.436   3.380   \n",
       "4      2016-07-01 04:00:00  38.113998  11.476  35.410000   9.623   2.036   \n",
       "...                    ...        ...     ...        ...     ...     ...   \n",
       "17415  2018-06-26 15:00:00  39.202999  11.392  49.644001  11.929 -10.331   \n",
       "17416  2018-06-26 16:00:00  38.113998  10.974  48.759998  11.366 -10.331   \n",
       "17417  2018-06-26 17:00:00  39.622002  10.974  50.609001  11.661 -11.557   \n",
       "17418  2018-06-26 18:00:00  43.643002  13.403  54.737000  13.778 -10.299   \n",
       "17419  2018-06-26 19:00:00  38.868000  10.052  49.859001  10.669 -11.525   \n",
       "\n",
       "        LULL         OT  \n",
       "0      1.311  38.661999  \n",
       "1      1.215  37.124001  \n",
       "2      0.000  36.465000  \n",
       "3      1.215  33.608501  \n",
       "4      0.000  31.850500  \n",
       "...      ...        ...  \n",
       "17415 -1.258  47.084999  \n",
       "17416 -1.290  48.183498  \n",
       "17417 -1.418  48.183498  \n",
       "17418 -1.418  46.865501  \n",
       "17419 -1.418  45.986500  \n",
       "\n",
       "[17420 rows x 8 columns]"
      ]
     },
     "execution_count": 2,
     "metadata": {},
     "output_type": "execute_result"
    }
   ],
   "source": [
    "hour_data = pd.read_csv('../../GeneralData/ETTh2.csv')\n",
    "hour_data"
   ]
  },
  {
   "cell_type": "markdown",
   "id": "055e3129",
   "metadata": {},
   "source": [
    "* minute data를 hour data와 비교했을때 누적이아닌 단순히 분단위로 추적했을 뿐이다."
   ]
  },
  {
   "cell_type": "code",
   "execution_count": 3,
   "id": "fe3706d0",
   "metadata": {},
   "outputs": [],
   "source": [
    "def MSE(pred,target):\n",
    "    return torch.mean((pred-target)**2,dim = 0) # reduction까지 취해줌"
   ]
  },
  {
   "cell_type": "code",
   "execution_count": 4,
   "id": "3078b5ca",
   "metadata": {},
   "outputs": [],
   "source": [
    "data = pd.read_csv('../../GeneralData/ETTm2.csv')\n",
    "sequence_length = 4*24*30 # 4*24*30 \n",
    "pred_len = 2*24*30  # 1440"
   ]
  },
  {
   "cell_type": "markdown",
   "id": "d8094b74",
   "metadata": {},
   "source": [
    "## 2. Sequence중에 빈 시간이 없나 Check"
   ]
  },
  {
   "cell_type": "code",
   "execution_count": 5,
   "id": "344ddb16",
   "metadata": {},
   "outputs": [],
   "source": [
    "import datetime as dt"
   ]
  },
  {
   "cell_type": "code",
   "execution_count": 6,
   "id": "50562bab",
   "metadata": {},
   "outputs": [],
   "source": [
    "data['date'] = pd.to_datetime(data['date'])\n",
    "for i in range(data.shape[0]-1):\n",
    "    if data['date'].iloc[i]+dt.timedelta(minutes = 15) == data['date'].iloc[i+1]: continue        \n",
    "    else: print(i)"
   ]
  },
  {
   "cell_type": "markdown",
   "id": "087f1657",
   "metadata": {},
   "source": [
    "### &rightarrow; 빈시간 없음"
   ]
  },
  {
   "cell_type": "code",
   "execution_count": 7,
   "id": "7027e222",
   "metadata": {},
   "outputs": [],
   "source": [
    "data = data[['OT']]"
   ]
  },
  {
   "cell_type": "code",
   "execution_count": 8,
   "id": "54f0553e",
   "metadata": {},
   "outputs": [
    {
     "data": {
      "text/html": [
       "<div>\n",
       "<style scoped>\n",
       "    .dataframe tbody tr th:only-of-type {\n",
       "        vertical-align: middle;\n",
       "    }\n",
       "\n",
       "    .dataframe tbody tr th {\n",
       "        vertical-align: top;\n",
       "    }\n",
       "\n",
       "    .dataframe thead th {\n",
       "        text-align: right;\n",
       "    }\n",
       "</style>\n",
       "<table border=\"1\" class=\"dataframe\">\n",
       "  <thead>\n",
       "    <tr style=\"text-align: right;\">\n",
       "      <th></th>\n",
       "      <th>OT</th>\n",
       "    </tr>\n",
       "  </thead>\n",
       "  <tbody>\n",
       "    <tr>\n",
       "      <th>0</th>\n",
       "      <td>38.661999</td>\n",
       "    </tr>\n",
       "    <tr>\n",
       "      <th>1</th>\n",
       "      <td>38.223000</td>\n",
       "    </tr>\n",
       "    <tr>\n",
       "      <th>2</th>\n",
       "      <td>37.344002</td>\n",
       "    </tr>\n",
       "    <tr>\n",
       "      <th>3</th>\n",
       "      <td>37.124001</td>\n",
       "    </tr>\n",
       "    <tr>\n",
       "      <th>4</th>\n",
       "      <td>37.124001</td>\n",
       "    </tr>\n",
       "    <tr>\n",
       "      <th>...</th>\n",
       "      <td>...</td>\n",
       "    </tr>\n",
       "    <tr>\n",
       "      <th>69675</th>\n",
       "      <td>45.986500</td>\n",
       "    </tr>\n",
       "    <tr>\n",
       "      <th>69676</th>\n",
       "      <td>45.986500</td>\n",
       "    </tr>\n",
       "    <tr>\n",
       "      <th>69677</th>\n",
       "      <td>45.546501</td>\n",
       "    </tr>\n",
       "    <tr>\n",
       "      <th>69678</th>\n",
       "      <td>45.546501</td>\n",
       "    </tr>\n",
       "    <tr>\n",
       "      <th>69679</th>\n",
       "      <td>45.327000</td>\n",
       "    </tr>\n",
       "  </tbody>\n",
       "</table>\n",
       "<p>69680 rows × 1 columns</p>\n",
       "</div>"
      ],
      "text/plain": [
       "              OT\n",
       "0      38.661999\n",
       "1      38.223000\n",
       "2      37.344002\n",
       "3      37.124001\n",
       "4      37.124001\n",
       "...          ...\n",
       "69675  45.986500\n",
       "69676  45.986500\n",
       "69677  45.546501\n",
       "69678  45.546501\n",
       "69679  45.327000\n",
       "\n",
       "[69680 rows x 1 columns]"
      ]
     },
     "execution_count": 8,
     "metadata": {},
     "output_type": "execute_result"
    }
   ],
   "source": [
    "data"
   ]
  },
  {
   "cell_type": "code",
   "execution_count": 9,
   "id": "99f3b79f",
   "metadata": {},
   "outputs": [
    {
     "data": {
      "text/plain": [
       "<AxesSubplot: >"
      ]
     },
     "execution_count": 9,
     "metadata": {},
     "output_type": "execute_result"
    },
    {
     "data": {
      "image/png": "[encoded data removed]",
      "text/plain": [
       "<Figure size 640x480 with 1 Axes>"
      ]
     },
     "metadata": {},
     "output_type": "display_data"
    }
   ],
   "source": [
    "data.plot()"
   ]
  },
  {
   "cell_type": "code",
   "execution_count": 10,
   "id": "6feb01fe",
   "metadata": {},
   "outputs": [],
   "source": [
    "from torch import FloatTensor as FloatTensor"
   ]
  },
  {
   "cell_type": "code",
   "execution_count": 11,
   "id": "70efae60",
   "metadata": {},
   "outputs": [],
   "source": [
    "def seq_data(x,sequence_length,pred_len):\n",
    "    seq_list = []\n",
    "    target_list = []\n",
    "    device = torch.device(\"cuda:0\")\n",
    "    for i in range(0,len(x)-sequence_length-pred_len+1):\n",
    "        seq_list.append(x.iloc[i:i+sequence_length].values)\n",
    "        target_list.append(x.iloc[i+sequence_length:i+sequence_length+pred_len].values)\n",
    "        \n",
    "    return FloatTensor(seq_list).view(-1,sequence_length).to(device),FloatTensor(target_list).unsqueeze(1).view(-1,pred_len).to(device)"
   ]
  },
  {
   "cell_type": "code",
   "execution_count": 12,
   "id": "f9d2ebce",
   "metadata": {},
   "outputs": [],
   "source": [
    "split = 24*7 # 24시간 x 7로써 1주일을 테스트셋으로 만듦"
   ]
  },
  {
   "cell_type": "code",
   "execution_count": 13,
   "id": "673cbb2b",
   "metadata": {},
   "outputs": [],
   "source": [
    "seed = 42"
   ]
  },
  {
   "cell_type": "code",
   "execution_count": 14,
   "id": "925912dd",
   "metadata": {},
   "outputs": [],
   "source": [
    "device = torch.device(\"cuda:0\")"
   ]
  },
  {
   "cell_type": "code",
   "execution_count": 15,
   "id": "b9523b65",
   "metadata": {},
   "outputs": [],
   "source": [
    "class Model(nn.Module):\n",
    "    def __init__(self,train_index):\n",
    "        super().__init__()\n",
    "        self.seq_len = len(train_index)\n",
    "        self.pred_len = 2*24*30 # 1440\n",
    "        self.train_index = train_index\n",
    "        \n",
    "        self.first_layer = nn.Linear(self.seq_len,self.seq_len//2)\n",
    "        self.second_layer = nn.Linear(self.seq_len//2,self.pred_len)\n",
    "#         self.third_layer = nn.Linear(self.seq_len//4,self.pred_len)\n",
    "        \n",
    "        self.first_layer.weight = nn.Parameter((1/self.seq_len)*torch.ones([self.seq_len//2,self.seq_len]))\n",
    "        self.second_layer.weight = nn.Parameter((1/self.seq_len)*torch.ones([self.pred_len,self.seq_len//2]))\n",
    "#         self.third_layer.weight = nn.Parameter((1/self.seq_len)*torch.ones([self.pred_len,self.seq_len//4]))\n",
    "    def forward(self,x):\n",
    "        first_result = self.first_layer(x[:,self.train_index]) \n",
    "        final_result = self.second_layer(first_result)\n",
    "#         final_result = self.third_layer(second_result)\n",
    "        return final_result"
   ]
  },
  {
   "cell_type": "markdown",
   "id": "d93ceea8",
   "metadata": {},
   "source": [
    "# 3. Train-Validation set으로 쪼개기"
   ]
  },
  {
   "cell_type": "code",
   "execution_count": 16,
   "id": "0b3ebcc9",
   "metadata": {
    "scrolled": true
   },
   "outputs": [
    {
     "data": {
      "text/html": [
       "<div>\n",
       "<style scoped>\n",
       "    .dataframe tbody tr th:only-of-type {\n",
       "        vertical-align: middle;\n",
       "    }\n",
       "\n",
       "    .dataframe tbody tr th {\n",
       "        vertical-align: top;\n",
       "    }\n",
       "\n",
       "    .dataframe thead th {\n",
       "        text-align: right;\n",
       "    }\n",
       "</style>\n",
       "<table border=\"1\" class=\"dataframe\">\n",
       "  <thead>\n",
       "    <tr style=\"text-align: right;\">\n",
       "      <th></th>\n",
       "      <th>OT</th>\n",
       "    </tr>\n",
       "  </thead>\n",
       "  <tbody>\n",
       "    <tr>\n",
       "      <th>0</th>\n",
       "      <td>38.661999</td>\n",
       "    </tr>\n",
       "    <tr>\n",
       "      <th>1</th>\n",
       "      <td>38.223000</td>\n",
       "    </tr>\n",
       "    <tr>\n",
       "      <th>2</th>\n",
       "      <td>37.344002</td>\n",
       "    </tr>\n",
       "    <tr>\n",
       "      <th>3</th>\n",
       "      <td>37.124001</td>\n",
       "    </tr>\n",
       "    <tr>\n",
       "      <th>4</th>\n",
       "      <td>37.124001</td>\n",
       "    </tr>\n",
       "    <tr>\n",
       "      <th>...</th>\n",
       "      <td>...</td>\n",
       "    </tr>\n",
       "    <tr>\n",
       "      <th>69675</th>\n",
       "      <td>45.986500</td>\n",
       "    </tr>\n",
       "    <tr>\n",
       "      <th>69676</th>\n",
       "      <td>45.986500</td>\n",
       "    </tr>\n",
       "    <tr>\n",
       "      <th>69677</th>\n",
       "      <td>45.546501</td>\n",
       "    </tr>\n",
       "    <tr>\n",
       "      <th>69678</th>\n",
       "      <td>45.546501</td>\n",
       "    </tr>\n",
       "    <tr>\n",
       "      <th>69679</th>\n",
       "      <td>45.327000</td>\n",
       "    </tr>\n",
       "  </tbody>\n",
       "</table>\n",
       "<p>69680 rows × 1 columns</p>\n",
       "</div>"
      ],
      "text/plain": [
       "              OT\n",
       "0      38.661999\n",
       "1      38.223000\n",
       "2      37.344002\n",
       "3      37.124001\n",
       "4      37.124001\n",
       "...          ...\n",
       "69675  45.986500\n",
       "69676  45.986500\n",
       "69677  45.546501\n",
       "69678  45.546501\n",
       "69679  45.327000\n",
       "\n",
       "[69680 rows x 1 columns]"
      ]
     },
     "execution_count": 16,
     "metadata": {},
     "output_type": "execute_result"
    }
   ],
   "source": [
    "data"
   ]
  },
  {
   "cell_type": "markdown",
   "id": "e436db14",
   "metadata": {},
   "source": [
    "* 69680개 중 일주일치 데이터인 672개의 데이터를 Test Set\n",
    "* 69008개 중 0.2의 비율인 13802개는 validation set\n",
    "* 69008개 중 0.8의 비율인 55206개는 train set"
   ]
  },
  {
   "cell_type": "code",
   "execution_count": 17,
   "id": "37344846",
   "metadata": {},
   "outputs": [],
   "source": [
    "val_num = 13802"
   ]
  },
  {
   "cell_type": "code",
   "execution_count": 18,
   "id": "eaea88d8",
   "metadata": {
    "scrolled": true
   },
   "outputs": [
    {
     "name": "stderr",
     "output_type": "stream",
     "text": [
      "/tmp/ipykernel_847212/3825588569.py:9: UserWarning: Creating a tensor from a list of numpy.ndarrays is extremely slow. Please consider converting the list to a single numpy.ndarray with numpy.array() before converting to a tensor. (Triggered internally at ../torch/csrc/utils/tensor_new.cpp:230.)\n",
      "  return FloatTensor(seq_list).view(-1,sequence_length).to(device),FloatTensor(target_list).unsqueeze(1).view(-1,pred_len).to(device)\n"
     ]
    }
   ],
   "source": [
    "train = data.iloc[:-split-val_num]\n",
    "val = data.iloc[-split-val_num:-split]\n",
    "x_train,y_train = seq_data(train, sequence_length = sequence_length, pred_len = pred_len)\n",
    "x_val,y_val = seq_data(val, sequence_length = sequence_length, pred_len = pred_len)\n",
    "train_dataset = TensorDataset(x_train,y_train)\n",
    "val_dataset = TensorDataset(x_val,y_val)\n",
    "training = DataLoader(train_dataset,batch_size=64)\n",
    "validation = DataLoader(val_dataset,batch_size=64)"
   ]
  },
  {
   "cell_type": "code",
   "execution_count": 19,
   "id": "d1eda679",
   "metadata": {},
   "outputs": [
    {
     "data": {
      "text/plain": [
       "torch.Size([64, 2880])"
      ]
     },
     "execution_count": 19,
     "metadata": {},
     "output_type": "execute_result"
    }
   ],
   "source": [
    "next(iter(validation))[0].size()"
   ]
  },
  {
   "cell_type": "markdown",
   "id": "59ad5631",
   "metadata": {},
   "source": [
    "### 위와 같은 방식으로 validation-set에 대해서 기여도를 구하면 될 것이다.\n",
    "-> 모든 batch의 각 sample에 대해서 Ig를 통한 attribution을 구해서 모든 batch에 걸쳐서 더한후 그것을 평균시킨다.<br>\n",
    "-> 결과적으로 모든 validation set에 대한 attribution을 평균한다."
   ]
  },
  {
   "cell_type": "code",
   "execution_count": 20,
   "id": "43d6706b",
   "metadata": {},
   "outputs": [],
   "source": [
    "random.seed(seed)\n",
    "np.random.seed(seed)\n",
    "torch.manual_seed(seed) # 난수 선언(원래는 cnt선언 위에 있었다)\n",
    "train_index = np.arange(sequence_length)\n",
    "model = Model(train_index).to(device)\n",
    "optimizer = torch.optim.Adam(model.parameters(),lr=1e-4)\n",
    "criterion = SMAPE()\n",
    "num_epochs = 100\n",
    "n= len(training)"
   ]
  },
  {
   "cell_type": "markdown",
   "id": "c670768d",
   "metadata": {},
   "source": [
    "### 기본 모델 training"
   ]
  },
  {
   "cell_type": "code",
   "execution_count": 21,
   "id": "e5eebdf6",
   "metadata": {},
   "outputs": [],
   "source": [
    "import copy"
   ]
  },
  {
   "cell_type": "code",
   "execution_count": 22,
   "id": "df365427",
   "metadata": {
    "scrolled": true
   },
   "outputs": [
    {
     "name": "stdout",
     "output_type": "stream",
     "text": [
      "Epoch [1]/[100] running accumulative loss across all batches: 4290.794\n",
      "changed\n",
      "changed\n",
      "changed\n",
      "changed\n",
      "Epoch [21]/[100] running accumulative loss across all batches: 3877.350\n",
      "Epoch [41]/[100] running accumulative loss across all batches: 4518.032\n",
      "Epoch [61]/[100] running accumulative loss across all batches: 3728.064\n",
      "Epoch [81]/[100] running accumulative loss across all batches: 4841.101\n"
     ]
    }
   ],
   "source": [
    "random.seed(seed)\n",
    "np.random.seed(seed)\n",
    "torch.manual_seed(seed)\n",
    "minimal_loss=np.inf\n",
    "for epoch in range(num_epochs):  # loop over the dataset multiple times\n",
    "    running_loss = 0.0\n",
    "    for inputs, labels in training:\n",
    "        # forward pass\n",
    "        inputs = inputs\n",
    "        outputs = model(inputs)\n",
    "        \n",
    "        outputs = outputs.view(-1,1)\n",
    "        labels = labels.view(-1,1)\n",
    "        \n",
    "        # defining loss\n",
    "        loss = MSE(outputs, labels)\n",
    "        # zero the parameter gradients\n",
    "        optimizer.zero_grad()\n",
    "        # computing gradients\n",
    "        loss.backward()\n",
    "        # accumulating running loss\n",
    "        running_loss += loss.item()\n",
    "        # updated weights based on computed gradients\n",
    "        optimizer.step()\n",
    "    if epoch % 20 == 0:    \n",
    "        print('Epoch [%d]/[%d] running accumulative loss across all batches: %.3f' %(epoch + 1, num_epochs, (running_loss/n)*100))\n",
    "    if (running_loss/n)*100<minimal_loss:\n",
    "        best_model = copy.deepcopy(model)\n",
    "        minimal_loss = (running_loss/n)*100\n",
    "        print(\"changed\")\n",
    "\n",
    "model = best_model"
   ]
  },
  {
   "cell_type": "markdown",
   "id": "be847a28",
   "metadata": {},
   "source": [
    "### validation set에 대해서 attribution 구하기"
   ]
  },
  {
   "cell_type": "code",
   "execution_count": 23,
   "id": "f827a4d9",
   "metadata": {},
   "outputs": [
    {
     "data": {
      "text/plain": [
       "149"
      ]
     },
     "execution_count": 23,
     "metadata": {},
     "output_type": "execute_result"
    }
   ],
   "source": [
    "n = len(validation)\n",
    "n"
   ]
  },
  {
   "cell_type": "code",
   "execution_count": 24,
   "id": "48a64cd2",
   "metadata": {},
   "outputs": [
    {
     "ename": "OutOfMemoryError",
     "evalue": "CUDA out of memory. Tried to allocate 88.00 MiB (GPU 0; 7.79 GiB total capacity; 1.73 GiB already allocated; 10.12 MiB free; 1.75 GiB reserved in total by PyTorch) If reserved memory is >> allocated memory try setting max_split_size_mb to avoid fragmentation.  See documentation for Memory Management and PYTORCH_CUDA_ALLOC_CONF",
     "output_type": "error",
     "traceback": [
      "\u001b[0;31m---------------------------------------------------------------------------\u001b[0m",
      "\u001b[0;31mOutOfMemoryError\u001b[0m                          Traceback (most recent call last)",
      "Cell \u001b[0;32mIn[24], line 8\u001b[0m\n\u001b[1;32m      6\u001b[0m temp_n \u001b[38;5;241m=\u001b[39m val[\u001b[38;5;241m0\u001b[39m]\u001b[38;5;241m.\u001b[39msize(\u001b[38;5;241m0\u001b[39m)\n\u001b[1;32m      7\u001b[0m \u001b[38;5;28;01mfor\u001b[39;00m i \u001b[38;5;129;01min\u001b[39;00m \u001b[38;5;28mrange\u001b[39m(pred_len): \u001b[38;5;66;03m# target 0에 대한 영향부터 pred_len에 대한 영향까지 모두 더해서 평균적인 영향도를 측정\u001b[39;00m\n\u001b[0;32m----> 8\u001b[0m     temp \u001b[38;5;241m=\u001b[39m \u001b[43mnt_ig\u001b[49m\u001b[38;5;241;43m.\u001b[39;49m\u001b[43mattribute\u001b[49m\u001b[43m(\u001b[49m\u001b[43mval\u001b[49m\u001b[43m[\u001b[49m\u001b[38;5;241;43m0\u001b[39;49m\u001b[43m]\u001b[49m\u001b[43m,\u001b[49m\u001b[43mtarget\u001b[49m\u001b[38;5;241;43m=\u001b[39;49m\u001b[43m(\u001b[49m\u001b[43mi\u001b[49m\u001b[43m,\u001b[49m\u001b[43m)\u001b[49m\u001b[43m)\u001b[49m\u001b[38;5;241m.\u001b[39msum(axis \u001b[38;5;241m=\u001b[39m \u001b[38;5;241m0\u001b[39m) \u001b[38;5;66;03m# axis=0으로 batch axis를 기준으로 다 더했음 각 feature의 영향도를 계산 위해\u001b[39;00m\n\u001b[1;32m      9\u001b[0m     nt_ig_attr_score[i] \u001b[38;5;241m=\u001b[39m nt_ig_attr_score[i]\u001b[38;5;241m+\u001b[39mtemp\n\u001b[1;32m     10\u001b[0m cnt \u001b[38;5;241m=\u001b[39m cnt \u001b[38;5;241m+\u001b[39m temp_n\n",
      "File \u001b[0;32m~/sj_virtual/lib/python3.8/site-packages/captum/log/__init__.py:42\u001b[0m, in \u001b[0;36mlog_usage.<locals>._log_usage.<locals>.wrapper\u001b[0;34m(*args, **kwargs)\u001b[0m\n\u001b[1;32m     40\u001b[0m \u001b[38;5;129m@wraps\u001b[39m(func)\n\u001b[1;32m     41\u001b[0m \u001b[38;5;28;01mdef\u001b[39;00m \u001b[38;5;21mwrapper\u001b[39m(\u001b[38;5;241m*\u001b[39margs, \u001b[38;5;241m*\u001b[39m\u001b[38;5;241m*\u001b[39mkwargs):\n\u001b[0;32m---> 42\u001b[0m     \u001b[38;5;28;01mreturn\u001b[39;00m \u001b[43mfunc\u001b[49m\u001b[43m(\u001b[49m\u001b[38;5;241;43m*\u001b[39;49m\u001b[43margs\u001b[49m\u001b[43m,\u001b[49m\u001b[43m \u001b[49m\u001b[38;5;241;43m*\u001b[39;49m\u001b[38;5;241;43m*\u001b[39;49m\u001b[43mkwargs\u001b[49m\u001b[43m)\u001b[49m\n",
      "File \u001b[0;32m~/sj_virtual/lib/python3.8/site-packages/captum/attr/_core/noise_tunnel.py:365\u001b[0m, in \u001b[0;36mNoiseTunnel.attribute\u001b[0;34m(self, inputs, nt_type, nt_samples, nt_samples_batch_size, stdevs, draw_baseline_from_distrib, **kwargs)\u001b[0m\n\u001b[1;32m    359\u001b[0m \u001b[38;5;28;01mfor\u001b[39;00m _ \u001b[38;5;129;01min\u001b[39;00m \u001b[38;5;28mrange\u001b[39m(nt_samples_partition):\n\u001b[1;32m    360\u001b[0m     inputs_with_noise \u001b[38;5;241m=\u001b[39m add_noise_to_inputs(nt_samples_batch_size)\n\u001b[1;32m    361\u001b[0m     (\n\u001b[1;32m    362\u001b[0m         attributions_partial,\n\u001b[1;32m    363\u001b[0m         is_attrib_tuple,\n\u001b[1;32m    364\u001b[0m         delta_partial,\n\u001b[0;32m--> 365\u001b[0m     ) \u001b[38;5;241m=\u001b[39m \u001b[43mcompute_partial_attribution\u001b[49m\u001b[43m(\u001b[49m\u001b[43minputs_with_noise\u001b[49m\u001b[43m,\u001b[49m\u001b[43m \u001b[49m\u001b[43mkwargs_copy\u001b[49m\u001b[43m)\u001b[49m\n\u001b[1;32m    367\u001b[0m     \u001b[38;5;28;01mif\u001b[39;00m \u001b[38;5;28mlen\u001b[39m(sum_attributions) \u001b[38;5;241m==\u001b[39m \u001b[38;5;241m0\u001b[39m:\n\u001b[1;32m    368\u001b[0m         sum_attributions \u001b[38;5;241m=\u001b[39m [\u001b[38;5;28;01mNone\u001b[39;00m] \u001b[38;5;241m*\u001b[39m \u001b[38;5;28mlen\u001b[39m(attributions_partial)\n",
      "File \u001b[0;32m~/sj_virtual/lib/python3.8/site-packages/captum/attr/_core/noise_tunnel.py:253\u001b[0m, in \u001b[0;36mNoiseTunnel.attribute.<locals>.compute_partial_attribution\u001b[0;34m(inputs_with_noise_partition, kwargs_partition)\u001b[0m\n\u001b[1;32m    247\u001b[0m \u001b[38;5;28;01mdef\u001b[39;00m \u001b[38;5;21mcompute_partial_attribution\u001b[39m(\n\u001b[1;32m    248\u001b[0m     inputs_with_noise_partition: Tuple[Tensor, \u001b[38;5;241m.\u001b[39m\u001b[38;5;241m.\u001b[39m\u001b[38;5;241m.\u001b[39m], kwargs_partition: Any\n\u001b[1;32m    249\u001b[0m ) \u001b[38;5;241m-\u001b[39m\u001b[38;5;241m>\u001b[39m Tuple[Tuple[Tensor, \u001b[38;5;241m.\u001b[39m\u001b[38;5;241m.\u001b[39m\u001b[38;5;241m.\u001b[39m], \u001b[38;5;28mbool\u001b[39m, Union[\u001b[38;5;28;01mNone\u001b[39;00m, Tensor]]:\n\u001b[1;32m    250\u001b[0m     \u001b[38;5;66;03m# smoothgrad_Attr(x) = 1 / n * sum(Attr(x + N(0, sigma^2))\u001b[39;00m\n\u001b[1;32m    251\u001b[0m     \u001b[38;5;66;03m# NOTE: using __wrapped__ such that it does not log the inner logs\u001b[39;00m\n\u001b[0;32m--> 253\u001b[0m     attributions \u001b[38;5;241m=\u001b[39m \u001b[43mattr_func\u001b[49m\u001b[38;5;241;43m.\u001b[39;49m\u001b[43m__wrapped__\u001b[49m\u001b[43m(\u001b[49m\u001b[43m  \u001b[49m\u001b[38;5;66;43;03m# type: ignore\u001b[39;49;00m\n\u001b[1;32m    254\u001b[0m \u001b[43m        \u001b[49m\u001b[38;5;28;43mself\u001b[39;49m\u001b[38;5;241;43m.\u001b[39;49m\u001b[43mattribution_method\u001b[49m\u001b[43m,\u001b[49m\u001b[43m  \u001b[49m\u001b[38;5;66;43;03m# self\u001b[39;49;00m\n\u001b[1;32m    255\u001b[0m \u001b[43m        \u001b[49m\u001b[43minputs_with_noise_partition\u001b[49m\n\u001b[1;32m    256\u001b[0m \u001b[43m        \u001b[49m\u001b[38;5;28;43;01mif\u001b[39;49;00m\u001b[43m \u001b[49m\u001b[43mis_inputs_tuple\u001b[49m\n\u001b[1;32m    257\u001b[0m \u001b[43m        \u001b[49m\u001b[38;5;28;43;01melse\u001b[39;49;00m\u001b[43m \u001b[49m\u001b[43minputs_with_noise_partition\u001b[49m\u001b[43m[\u001b[49m\u001b[38;5;241;43m0\u001b[39;49m\u001b[43m]\u001b[49m\u001b[43m,\u001b[49m\n\u001b[1;32m    258\u001b[0m \u001b[43m        \u001b[49m\u001b[38;5;241;43m*\u001b[39;49m\u001b[38;5;241;43m*\u001b[39;49m\u001b[43mkwargs_partition\u001b[49m\u001b[43m,\u001b[49m\n\u001b[1;32m    259\u001b[0m \u001b[43m    \u001b[49m\u001b[43m)\u001b[49m\n\u001b[1;32m    260\u001b[0m     delta \u001b[38;5;241m=\u001b[39m \u001b[38;5;28;01mNone\u001b[39;00m\n\u001b[1;32m    262\u001b[0m     \u001b[38;5;28;01mif\u001b[39;00m \u001b[38;5;28mself\u001b[39m\u001b[38;5;241m.\u001b[39mis_delta_supported \u001b[38;5;129;01mand\u001b[39;00m return_convergence_delta:\n",
      "File \u001b[0;32m~/sj_virtual/lib/python3.8/site-packages/captum/attr/_core/integrated_gradients.py:286\u001b[0m, in \u001b[0;36mIntegratedGradients.attribute\u001b[0;34m(self, inputs, baselines, target, additional_forward_args, n_steps, method, internal_batch_size, return_convergence_delta)\u001b[0m\n\u001b[1;32m    274\u001b[0m     attributions \u001b[38;5;241m=\u001b[39m _batch_attribution(\n\u001b[1;32m    275\u001b[0m         \u001b[38;5;28mself\u001b[39m,\n\u001b[1;32m    276\u001b[0m         num_examples,\n\u001b[0;32m   (...)\u001b[0m\n\u001b[1;32m    283\u001b[0m         method\u001b[38;5;241m=\u001b[39mmethod,\n\u001b[1;32m    284\u001b[0m     )\n\u001b[1;32m    285\u001b[0m \u001b[38;5;28;01melse\u001b[39;00m:\n\u001b[0;32m--> 286\u001b[0m     attributions \u001b[38;5;241m=\u001b[39m \u001b[38;5;28;43mself\u001b[39;49m\u001b[38;5;241;43m.\u001b[39;49m\u001b[43m_attribute\u001b[49m\u001b[43m(\u001b[49m\n\u001b[1;32m    287\u001b[0m \u001b[43m        \u001b[49m\u001b[43minputs\u001b[49m\u001b[38;5;241;43m=\u001b[39;49m\u001b[43minputs\u001b[49m\u001b[43m,\u001b[49m\n\u001b[1;32m    288\u001b[0m \u001b[43m        \u001b[49m\u001b[43mbaselines\u001b[49m\u001b[38;5;241;43m=\u001b[39;49m\u001b[43mbaselines\u001b[49m\u001b[43m,\u001b[49m\n\u001b[1;32m    289\u001b[0m \u001b[43m        \u001b[49m\u001b[43mtarget\u001b[49m\u001b[38;5;241;43m=\u001b[39;49m\u001b[43mtarget\u001b[49m\u001b[43m,\u001b[49m\n\u001b[1;32m    290\u001b[0m \u001b[43m        \u001b[49m\u001b[43madditional_forward_args\u001b[49m\u001b[38;5;241;43m=\u001b[39;49m\u001b[43madditional_forward_args\u001b[49m\u001b[43m,\u001b[49m\n\u001b[1;32m    291\u001b[0m \u001b[43m        \u001b[49m\u001b[43mn_steps\u001b[49m\u001b[38;5;241;43m=\u001b[39;49m\u001b[43mn_steps\u001b[49m\u001b[43m,\u001b[49m\n\u001b[1;32m    292\u001b[0m \u001b[43m        \u001b[49m\u001b[43mmethod\u001b[49m\u001b[38;5;241;43m=\u001b[39;49m\u001b[43mmethod\u001b[49m\u001b[43m,\u001b[49m\n\u001b[1;32m    293\u001b[0m \u001b[43m    \u001b[49m\u001b[43m)\u001b[49m\n\u001b[1;32m    295\u001b[0m \u001b[38;5;28;01mif\u001b[39;00m return_convergence_delta:\n\u001b[1;32m    296\u001b[0m     start_point, end_point \u001b[38;5;241m=\u001b[39m baselines, inputs\n",
      "File \u001b[0;32m~/sj_virtual/lib/python3.8/site-packages/captum/attr/_core/integrated_gradients.py:351\u001b[0m, in \u001b[0;36mIntegratedGradients._attribute\u001b[0;34m(self, inputs, baselines, target, additional_forward_args, n_steps, method, step_sizes_and_alphas)\u001b[0m\n\u001b[1;32m    348\u001b[0m expanded_target \u001b[38;5;241m=\u001b[39m _expand_target(target, n_steps)\n\u001b[1;32m    350\u001b[0m \u001b[38;5;66;03m# grads: dim -> (bsz * #steps x inputs[0].shape[1:], ...)\u001b[39;00m\n\u001b[0;32m--> 351\u001b[0m grads \u001b[38;5;241m=\u001b[39m \u001b[38;5;28;43mself\u001b[39;49m\u001b[38;5;241;43m.\u001b[39;49m\u001b[43mgradient_func\u001b[49m\u001b[43m(\u001b[49m\n\u001b[1;32m    352\u001b[0m \u001b[43m    \u001b[49m\u001b[43mforward_fn\u001b[49m\u001b[38;5;241;43m=\u001b[39;49m\u001b[38;5;28;43mself\u001b[39;49m\u001b[38;5;241;43m.\u001b[39;49m\u001b[43mforward_func\u001b[49m\u001b[43m,\u001b[49m\n\u001b[1;32m    353\u001b[0m \u001b[43m    \u001b[49m\u001b[43minputs\u001b[49m\u001b[38;5;241;43m=\u001b[39;49m\u001b[43mscaled_features_tpl\u001b[49m\u001b[43m,\u001b[49m\n\u001b[1;32m    354\u001b[0m \u001b[43m    \u001b[49m\u001b[43mtarget_ind\u001b[49m\u001b[38;5;241;43m=\u001b[39;49m\u001b[43mexpanded_target\u001b[49m\u001b[43m,\u001b[49m\n\u001b[1;32m    355\u001b[0m \u001b[43m    \u001b[49m\u001b[43madditional_forward_args\u001b[49m\u001b[38;5;241;43m=\u001b[39;49m\u001b[43minput_additional_args\u001b[49m\u001b[43m,\u001b[49m\n\u001b[1;32m    356\u001b[0m \u001b[43m\u001b[49m\u001b[43m)\u001b[49m\n\u001b[1;32m    358\u001b[0m \u001b[38;5;66;03m# flattening grads so that we can multilpy it with step-size\u001b[39;00m\n\u001b[1;32m    359\u001b[0m \u001b[38;5;66;03m# calling contiguous to avoid `memory whole` problems\u001b[39;00m\n\u001b[1;32m    360\u001b[0m scaled_grads \u001b[38;5;241m=\u001b[39m [\n\u001b[1;32m    361\u001b[0m     grad\u001b[38;5;241m.\u001b[39mcontiguous()\u001b[38;5;241m.\u001b[39mview(n_steps, \u001b[38;5;241m-\u001b[39m\u001b[38;5;241m1\u001b[39m)\n\u001b[1;32m    362\u001b[0m     \u001b[38;5;241m*\u001b[39m torch\u001b[38;5;241m.\u001b[39mtensor(step_sizes)\u001b[38;5;241m.\u001b[39mview(n_steps, \u001b[38;5;241m1\u001b[39m)\u001b[38;5;241m.\u001b[39mto(grad\u001b[38;5;241m.\u001b[39mdevice)\n\u001b[1;32m    363\u001b[0m     \u001b[38;5;28;01mfor\u001b[39;00m grad \u001b[38;5;129;01min\u001b[39;00m grads\n\u001b[1;32m    364\u001b[0m ]\n",
      "File \u001b[0;32m~/sj_virtual/lib/python3.8/site-packages/captum/_utils/gradient.py:119\u001b[0m, in \u001b[0;36mcompute_gradients\u001b[0;34m(forward_fn, inputs, target_ind, additional_forward_args)\u001b[0m\n\u001b[1;32m    113\u001b[0m     \u001b[38;5;28;01massert\u001b[39;00m outputs[\u001b[38;5;241m0\u001b[39m]\u001b[38;5;241m.\u001b[39mnumel() \u001b[38;5;241m==\u001b[39m \u001b[38;5;241m1\u001b[39m, (\n\u001b[1;32m    114\u001b[0m         \u001b[38;5;124m\"\u001b[39m\u001b[38;5;124mTarget not provided when necessary, cannot\u001b[39m\u001b[38;5;124m\"\u001b[39m\n\u001b[1;32m    115\u001b[0m         \u001b[38;5;124m\"\u001b[39m\u001b[38;5;124m take gradient with respect to multiple outputs.\u001b[39m\u001b[38;5;124m\"\u001b[39m\n\u001b[1;32m    116\u001b[0m     )\n\u001b[1;32m    117\u001b[0m     \u001b[38;5;66;03m# torch.unbind(forward_out) is a list of scalar tensor tuples and\u001b[39;00m\n\u001b[1;32m    118\u001b[0m     \u001b[38;5;66;03m# contains batch_size * #steps elements\u001b[39;00m\n\u001b[0;32m--> 119\u001b[0m     grads \u001b[38;5;241m=\u001b[39m \u001b[43mtorch\u001b[49m\u001b[38;5;241;43m.\u001b[39;49m\u001b[43mautograd\u001b[49m\u001b[38;5;241;43m.\u001b[39;49m\u001b[43mgrad\u001b[49m\u001b[43m(\u001b[49m\u001b[43mtorch\u001b[49m\u001b[38;5;241;43m.\u001b[39;49m\u001b[43munbind\u001b[49m\u001b[43m(\u001b[49m\u001b[43moutputs\u001b[49m\u001b[43m)\u001b[49m\u001b[43m,\u001b[49m\u001b[43m \u001b[49m\u001b[43minputs\u001b[49m\u001b[43m)\u001b[49m\n\u001b[1;32m    120\u001b[0m \u001b[38;5;28;01mreturn\u001b[39;00m grads\n",
      "File \u001b[0;32m~/sj_virtual/lib/python3.8/site-packages/torch/autograd/__init__.py:300\u001b[0m, in \u001b[0;36mgrad\u001b[0;34m(outputs, inputs, grad_outputs, retain_graph, create_graph, only_inputs, allow_unused, is_grads_batched)\u001b[0m\n\u001b[1;32m    298\u001b[0m     \u001b[38;5;28;01mreturn\u001b[39;00m _vmap_internals\u001b[38;5;241m.\u001b[39m_vmap(vjp, \u001b[38;5;241m0\u001b[39m, \u001b[38;5;241m0\u001b[39m, allow_none_pass_through\u001b[38;5;241m=\u001b[39m\u001b[38;5;28;01mTrue\u001b[39;00m)(grad_outputs_)\n\u001b[1;32m    299\u001b[0m \u001b[38;5;28;01melse\u001b[39;00m:\n\u001b[0;32m--> 300\u001b[0m     \u001b[38;5;28;01mreturn\u001b[39;00m \u001b[43mVariable\u001b[49m\u001b[38;5;241;43m.\u001b[39;49m\u001b[43m_execution_engine\u001b[49m\u001b[38;5;241;43m.\u001b[39;49m\u001b[43mrun_backward\u001b[49m\u001b[43m(\u001b[49m\u001b[43m  \u001b[49m\u001b[38;5;66;43;03m# Calls into the C++ engine to run the backward pass\u001b[39;49;00m\n\u001b[1;32m    301\u001b[0m \u001b[43m        \u001b[49m\u001b[43mt_outputs\u001b[49m\u001b[43m,\u001b[49m\u001b[43m \u001b[49m\u001b[43mgrad_outputs_\u001b[49m\u001b[43m,\u001b[49m\u001b[43m \u001b[49m\u001b[43mretain_graph\u001b[49m\u001b[43m,\u001b[49m\u001b[43m \u001b[49m\u001b[43mcreate_graph\u001b[49m\u001b[43m,\u001b[49m\u001b[43m \u001b[49m\u001b[43mt_inputs\u001b[49m\u001b[43m,\u001b[49m\n\u001b[1;32m    302\u001b[0m \u001b[43m        \u001b[49m\u001b[43mallow_unused\u001b[49m\u001b[43m,\u001b[49m\u001b[43m \u001b[49m\u001b[43maccumulate_grad\u001b[49m\u001b[38;5;241;43m=\u001b[39;49m\u001b[38;5;28;43;01mFalse\u001b[39;49;00m\u001b[43m)\u001b[49m\n",
      "\u001b[0;31mOutOfMemoryError\u001b[0m: CUDA out of memory. Tried to allocate 88.00 MiB (GPU 0; 7.79 GiB total capacity; 1.73 GiB already allocated; 10.12 MiB free; 1.75 GiB reserved in total by PyTorch) If reserved memory is >> allocated memory try setting max_split_size_mb to avoid fragmentation.  See documentation for Memory Management and PYTORCH_CUDA_ALLOC_CONF"
     ]
    }
   ],
   "source": [
    "cnt = 0\n",
    "ig = IntegratedGradients(model)\n",
    "nt_ig = NoiseTunnel(ig)\n",
    "nt_ig_attr_score = torch.zeros((pred_len,sequence_length)).to(device)\n",
    "for val in validation: # validation dataloader\n",
    "    temp_n = val[0].size(0)\n",
    "    for i in range(pred_len): # target 0에 대한 영향부터 pred_len에 대한 영향까지 모두 더해서 평균적인 영향도를 측정\n",
    "        temp = nt_ig.attribute(val[0],target=(i,)).sum(axis = 0) # axis=0으로 batch axis를 기준으로 다 더했음 각 feature의 영향도를 계산 위해\n",
    "        nt_ig_attr_score[i] = nt_ig_attr_score[i]+temp\n",
    "    cnt = cnt + temp_n\n",
    "nt_ig_attr_score = nt_ig_attr_score/cnt\n",
    "nt_ig_attr_score = nt_ig_attr_score.mean(axis = 0)\n",
    "nt_ig_attr_score = nt_ig_attr_score.cpu().numpy().reshape(-1)"
   ]
  },
  {
   "cell_type": "code",
   "execution_count": null,
   "id": "18f88a31",
   "metadata": {},
   "outputs": [],
   "source": [
    "len(nt_ig_attr_score)"
   ]
  },
  {
   "cell_type": "code",
   "execution_count": null,
   "id": "75f9c298",
   "metadata": {},
   "outputs": [],
   "source": [
    "attr_df = pd.DataFrame({'attr':nt_ig_attr_score})\n",
    "attr_df.plot()"
   ]
  },
  {
   "cell_type": "code",
   "execution_count": null,
   "id": "633d7975",
   "metadata": {},
   "outputs": [],
   "source": [
    "attr_df = attr_df.abs()\n",
    "attr_df.plot()"
   ]
  },
  {
   "cell_type": "markdown",
   "id": "4c73ea6e",
   "metadata": {},
   "source": [
    "### &rightarrow; 최근데이터가 매우강조 되는것을 확인할 수 있다."
   ]
  },
  {
   "cell_type": "markdown",
   "id": "69f5c368",
   "metadata": {},
   "source": [
    "#### scaling"
   ]
  },
  {
   "cell_type": "code",
   "execution_count": null,
   "id": "d60bcf12",
   "metadata": {},
   "outputs": [],
   "source": [
    "IQR = 1.5*(attr_df.quantile(0.75)-attr_df.quantile(0.25))\n",
    "outlier_max = attr_df.quantile(0.75)+IQR\n",
    "outlier_min = attr_df.quantile(0.25)-IQR\n",
    "candidate_attr = attr_df[(attr_df>=outlier_min) & (attr_df<=outlier_max)]\n",
    "candidate_attr = candidate_attr.dropna()\n",
    "candidate_attr"
   ]
  },
  {
   "cell_type": "code",
   "execution_count": null,
   "id": "67b714d6",
   "metadata": {},
   "outputs": [],
   "source": [
    "from sklearn.preprocessing import MinMaxScaler,StandardScaler\n",
    "scaler = MinMaxScaler()\n",
    "scaler.fit(candidate_attr.values)\n",
    "m_attr_df = scaler.transform(attr_df.values)\n",
    "m_attr_df = pd.DataFrame({\"attr\":m_attr_df.reshape(-1)})\n",
    "# attr_df = attr_df.abs()\n",
    "# attr_std = attr_df.std().item()\n",
    "# attr_min = attr_df.min().item()\n",
    "m_attr_df.plot()"
   ]
  },
  {
   "cell_type": "code",
   "execution_count": null,
   "id": "47a96157",
   "metadata": {},
   "outputs": [],
   "source": [
    "m_attr_df.describe()"
   ]
  },
  {
   "cell_type": "code",
   "execution_count": null,
   "id": "0e0ec147",
   "metadata": {},
   "outputs": [],
   "source": [
    "m_attr_df[(m_attr_df>=0) & (m_attr_df<=1)].dropna().plot()"
   ]
  },
  {
   "cell_type": "code",
   "execution_count": null,
   "id": "c871a728",
   "metadata": {},
   "outputs": [],
   "source": [
    "from sklearn.preprocessing import MinMaxScaler,StandardScaler\n",
    "scaler = MinMaxScaler()\n",
    "attr_df = scaler.fit_transform(attr_df.values)\n",
    "attr_df = pd.DataFrame({\"attr\":attr_df.reshape(-1)})\n",
    "# attr_df = attr_df.abs()\n",
    "# attr_std = attr_df.std().item()\n",
    "# attr_min = attr_df.min().item()\n",
    "attr_df.plot()"
   ]
  },
  {
   "cell_type": "markdown",
   "id": "61f474d1",
   "metadata": {},
   "source": [
    "#### train_index구하기"
   ]
  },
  {
   "cell_type": "code",
   "execution_count": null,
   "id": "ef684525",
   "metadata": {},
   "outputs": [],
   "source": [
    "index_list = []\n",
    "\n",
    "for hyper_para in np.arange(0.00,1.01,0.01):\n",
    "    append_idx = list(m_attr_df[(m_attr_df['attr']>=hyper_para)].index)\n",
    "    index_list.append(append_idx)\n",
    "len(index_list) # train_index의 리스트"
   ]
  },
  {
   "cell_type": "code",
   "execution_count": null,
   "id": "46d807d4",
   "metadata": {},
   "outputs": [],
   "source": [
    "len_list=[]\n",
    "for i in range(100):\n",
    "    len_list.append(len(index_list[i]))\n"
   ]
  },
  {
   "cell_type": "code",
   "execution_count": null,
   "id": "e7200209",
   "metadata": {
    "scrolled": true
   },
   "outputs": [],
   "source": [
    "plt.plot(np.arange(100),len_list) # 포함되는 time_index의 갯수"
   ]
  },
  {
   "cell_type": "code",
   "execution_count": null,
   "id": "a50ca614",
   "metadata": {},
   "outputs": [],
   "source": [
    "for val_x,val_y in validation:\n",
    "    print(val_x,val_y)"
   ]
  },
  {
   "cell_type": "code",
   "execution_count": null,
   "id": "66dee9ea",
   "metadata": {},
   "outputs": [],
   "source": [
    "val_x"
   ]
  },
  {
   "cell_type": "code",
   "execution_count": null,
   "id": "f25cc3cd",
   "metadata": {
    "scrolled": true
   },
   "outputs": [],
   "source": [
    "### 원래 난수가 선언된 위치\n",
    "m = len(validation)\n",
    "n = len(training)\n",
    "cnt = 0\n",
    "num_epochs = 100\n",
    "mse_out_list = []\n",
    "mae_out_list = []\n",
    "smape_out_list = []\n",
    "rmse_out_list = []\n",
    "for idx in index_list: #0.01~1.00 100개의 index에 대해서 수행\n",
    "    random.seed(seed)\n",
    "    np.random.seed(seed)\n",
    "    torch.manual_seed(seed) # 난수 선언(원래는 cnt선언 위에 있었다)\n",
    "    train_idx = idx\n",
    "    minimal_loss=np.inf\n",
    "    model = Model(train_idx).to(device) # 모델 초기화\n",
    "    optimizer = torch.optim.Adam(model.parameters(), lr=1e-4) # optimizer 초기화\n",
    "    result = 0\n",
    "    for epoch in range(num_epochs):  # loop over the dataset multiple times\n",
    "        running_loss = 0.0\n",
    "        for inputs, labels in training:\n",
    "            # forward pass\n",
    "            inputs = inputs\n",
    "            \n",
    "            outputs = model(inputs)\n",
    "            outputs = outputs.view(-1,1)\n",
    "            labels = labels.view(-1,1)            \n",
    "            # defining loss\n",
    "            loss = MSE(outputs, labels)\n",
    "            # zero the parameter gradients\n",
    "            optimizer.zero_grad()\n",
    "            # computing gradients\n",
    "            loss.backward()\n",
    "            # accumulating running loss\n",
    "            running_loss += loss.item()\n",
    "            # updated weights based on computed gradients\n",
    "            optimizer.step()\n",
    "        if epoch == 99:    \n",
    "            print(f'{cnt}번째 모델 Training 완료 마지막 Epoch loss:{(running_loss/n)*100}')\n",
    "        \n",
    "        if (running_loss/n)*100<minimal_loss:\n",
    "            best_model = copy.deepcopy(model)\n",
    "            minimal_loss = (running_loss/n)*100\n",
    "            print(\"changed\")\n",
    "\n",
    "    model = best_model\n",
    "    cnt+=1\n",
    "    # 모델 Fully-Training 완료\n",
    "    \n",
    "    pred = torch.FloatTensor().to(device)\n",
    "    val_target = torch.FloatTensor().to(device)\n",
    "    for val_x,val_y in validation:\n",
    "        tmp_pred = model(val_x)\n",
    "        pred = torch.concat([pred,tmp_pred], dim=0)\n",
    "        val_target = torch.concat([val_target,val_y],dim = 0)\n",
    "    pred = pred.view(-1,1)\n",
    "    val_target = val_target.view(-1,1)\n",
    "    result = MSE(pred,val_target).item()\n",
    "    mse_out_list.append(result)\n",
    "    mae_out_list.append(MAE()(pred,val_target).item())\n",
    "    rmse_out_list.append(RMSE()(pred,val_target).item())\n",
    "    smape_out_list.append(SMAPE()(pred,val_target).item()*100)"
   ]
  },
  {
   "cell_type": "code",
   "execution_count": null,
   "id": "f30b9997",
   "metadata": {
    "scrolled": true
   },
   "outputs": [],
   "source": [
    "val_y # 다음 예측 타겟값"
   ]
  },
  {
   "cell_type": "code",
   "execution_count": null,
   "id": "353df0c9",
   "metadata": {},
   "outputs": [],
   "source": [
    "val_x # 예측 하는 값"
   ]
  },
  {
   "cell_type": "code",
   "execution_count": null,
   "id": "28ce3a01",
   "metadata": {},
   "outputs": [],
   "source": [
    "val_x.size()"
   ]
  },
  {
   "cell_type": "code",
   "execution_count": null,
   "id": "61d6631f",
   "metadata": {},
   "outputs": [],
   "source": [
    "out_df = pd.DataFrame({\"out\":mse_out_list})\n",
    "\n",
    "out_df.plot()\n",
    "\n",
    "print(out_df[out_df['out']==out_df['out'].min()])"
   ]
  },
  {
   "cell_type": "code",
   "execution_count": null,
   "id": "413d50a5",
   "metadata": {},
   "outputs": [],
   "source": [
    "out_df"
   ]
  },
  {
   "cell_type": "code",
   "execution_count": null,
   "id": "e4779556",
   "metadata": {},
   "outputs": [],
   "source": [
    "out_df = pd.DataFrame({\"out\":mae_out_list})\n",
    "\n",
    "out_df.plot()\n",
    "\n",
    "print(out_df[out_df['out']==out_df['out'].min()])"
   ]
  },
  {
   "cell_type": "code",
   "execution_count": null,
   "id": "c03051bd",
   "metadata": {},
   "outputs": [],
   "source": [
    "out_df"
   ]
  },
  {
   "cell_type": "code",
   "execution_count": null,
   "id": "e824f3e8",
   "metadata": {},
   "outputs": [],
   "source": [
    "out_df = pd.DataFrame({\"out\":smape_out_list})\n",
    "\n",
    "out_df.plot()\n",
    "\n",
    "print(out_df[out_df['out']==out_df['out'].min()])"
   ]
  },
  {
   "cell_type": "code",
   "execution_count": null,
   "id": "6871b119",
   "metadata": {},
   "outputs": [],
   "source": [
    "out_df"
   ]
  },
  {
   "cell_type": "code",
   "execution_count": null,
   "id": "f2782b1f",
   "metadata": {},
   "outputs": [],
   "source": [
    "out_df = pd.DataFrame({\"out\":rmse_out_list})\n",
    "\n",
    "out_df.plot()\n",
    "\n",
    "print(out_df[out_df['out']==out_df['out'].min()])"
   ]
  },
  {
   "cell_type": "code",
   "execution_count": null,
   "id": "a44baa06",
   "metadata": {},
   "outputs": [],
   "source": [
    "out_df"
   ]
  },
  {
   "cell_type": "code",
   "execution_count": null,
   "id": "254df4d7",
   "metadata": {},
   "outputs": [],
   "source": [
    "attr_df.describe()"
   ]
  },
  {
   "cell_type": "code",
   "execution_count": null,
   "id": "24861a2f",
   "metadata": {},
   "outputs": [],
   "source": []
  }
 ],
 "metadata": {
  "kernelspec": {
   "display_name": "sj_virtual",
   "language": "python",
   "name": "myvenv"
  },
  "language_info": {
   "codemirror_mode": {
    "name": "ipython",
    "version": 3
   },
   "file_extension": ".py",
   "mimetype": "text/x-python",
   "name": "python",
   "nbconvert_exporter": "python",
   "pygments_lexer": "ipython3",
   "version": "3.8.10"
  },
  "varInspector": {
   "cols": {
    "lenName": 16,
    "lenType": 16,
    "lenVar": 40
   },
   "kernels_config": {
    "python": {
     "delete_cmd_postfix": "",
     "delete_cmd_prefix": "del ",
     "library": "var_list.py",
     "varRefreshCmd": "print(var_dic_list())"
    },
    "r": {
     "delete_cmd_postfix": ") ",
     "delete_cmd_prefix": "rm(",
     "library": "var_list.r",
     "varRefreshCmd": "cat(var_dic_list()) "
    }
   },
   "types_to_exclude": [
    "module",
    "function",
    "builtin_function_or_method",
    "instance",
    "_Feature"
   ],
   "window_display": false
  }
 },
 "nbformat": 4,
 "nbformat_minor": 5
}
